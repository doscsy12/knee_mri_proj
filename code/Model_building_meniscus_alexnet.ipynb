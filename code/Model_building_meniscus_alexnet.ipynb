{
 "cells": [
  {
   "cell_type": "markdown",
   "id": "4c2b325d",
   "metadata": {},
   "source": [
    "# Capstone: Development of an algorithm for automatic detection of meniscus tears in radiographic images of the knee."
   ]
  },
  {
   "cell_type": "markdown",
   "id": "dbc740b2",
   "metadata": {},
   "source": [
    "### Contents:\n",
    "- [Background](#Background)\n",
    "- [Data](#Data)\n",
    "\n"
   ]
  },
  {
   "cell_type": "code",
   "execution_count": 1,
   "id": "63513338",
   "metadata": {},
   "outputs": [],
   "source": [
    "# from google.colab import drive\n",
    "# drive.mount('/content/drive') "
   ]
  },
  {
   "cell_type": "code",
   "execution_count": 2,
   "id": "68e9dab3",
   "metadata": {},
   "outputs": [],
   "source": [
    "# Import libraries here\n",
    "import os\n",
    "import tempfile\n",
    "import numpy as np\n",
    "import pandas as pd\n",
    "import matplotlib.pyplot as plt\n",
    "import seaborn as sns\n",
    "from glob import glob\n",
    "\n",
    "import random as random\n",
    "import imageio\n",
    "import imgaug as ia\n",
    "import tensorflow as tf\n",
    "from tensorflow import keras\n",
    "from tensorflow.keras.preprocessing.image import save_img, load_img, img_to_array\n",
    "from tensorflow.keras.models import Sequential, Model, load_model\n",
    "from tensorflow.keras.layers import Dense, Dropout, Flatten, Conv2D, Conv3D, MaxPooling2D, MaxPooling3D, Average, Input, Activation, Reshape, TimeDistributed\n",
    "from tensorflow.keras.layers import BatchNormalization\n",
    "from tensorflow.keras import regularizers, optimizers\n",
    "from tensorflow.keras.regularizers import l2\n",
    "from tensorflow.keras.callbacks import ModelCheckpoint, EarlyStopping, TensorBoard\n",
    "from tensorflow.keras import models, layers, utils\n",
    "from tensorflow.keras import backend as K\n",
    "from tensorflow.keras.utils import plot_model\n",
    "pd.options.mode.chained_assignment = None  # default='warn'\n",
    "\n",
    "tmpdir = tempfile.mkdtemp()\n"
   ]
  },
  {
   "cell_type": "markdown",
   "id": "4d18c603",
   "metadata": {},
   "source": [
    "**Data from [MRNet](https://stanfordmlgroup.github.io/competitions/mrnet/):** \n",
    "* Images of 1370 knee MRI exams performed at Stanford University Medical Center. The dataset contains 1,104 (80.6%) abnormal exams,  with 319 (23.3%) ACL tears and 508 (37.1%) meniscal tears; labels were obtained through manual extraction from clinical reports. \n",
    "* train set: consists of 1130 MRI images from coronal, sagittal and transverse planes\n",
    "* valdation set: consists of 120 MRI images from coronal, sagittal and transverse planes\n"
   ]
  },
  {
   "cell_type": "markdown",
   "id": "a07d701a",
   "metadata": {},
   "source": [
    "## Data import"
   ]
  },
  {
   "cell_type": "markdown",
   "id": "64823312",
   "metadata": {},
   "source": [
    "**import data and get labels**"
   ]
  },
  {
   "cell_type": "code",
   "execution_count": 3,
   "id": "7bb23e8a",
   "metadata": {},
   "outputs": [],
   "source": [
    "# !unzip drive/My\\ Drive/data.zip > /dev/null"
   ]
  },
  {
   "cell_type": "code",
   "execution_count": 4,
   "id": "9ba4edc1",
   "metadata": {},
   "outputs": [],
   "source": [
    "# /content/drive/MyDrive/Colab Notebooks/data"
   ]
  },
  {
   "cell_type": "code",
   "execution_count": 5,
   "id": "47cfdcef",
   "metadata": {},
   "outputs": [],
   "source": [
    "train_path = '../data/train/'\n",
    "valid_path = '../data/valid/'"
   ]
  },
  {
   "cell_type": "code",
   "execution_count": 6,
   "id": "293d6d9b",
   "metadata": {},
   "outputs": [],
   "source": [
    "# train_path = 'data/train/'\n",
    "# valid_path = 'data/valid/'"
   ]
  },
  {
   "cell_type": "code",
   "execution_count": 7,
   "id": "16c4233d",
   "metadata": {},
   "outputs": [],
   "source": [
    "datasets = {'train': train_path, 'valid': valid_path}\n",
    "planes = ['axial', 'coronal', 'sagittal']\n",
    "# diagnosis = ['abnormal','meniscus','acl']"
   ]
  },
  {
   "cell_type": "code",
   "execution_count": 8,
   "id": "a1693737",
   "metadata": {},
   "outputs": [],
   "source": [
    "def get_data(dataset_type, plane, diagnosis):\n",
    "    '''this function gets the data for each plane from original dataset'''\n",
    "    # for eg, (train, sagittal, acl)\n",
    "    if dataset_type == 'train':\n",
    "        go = train_path\n",
    "    else:\n",
    "        go = valid_path\n",
    "        \n",
    "#     img_path = glob(f'{go}/{plane}/*.npy')\n",
    "    plane_dir = f'{go}/{plane}'\n",
    "    data = os.listdir(plane_dir)\n",
    "    \n",
    "    label_path = f'../data/{dataset_type}-{diagnosis}.csv'\n",
    "#     label_path = f'data/{dataset_type}-{diagnosis}.csv'\n",
    "    label_df = pd.read_csv(label_path, names=['nr', diagnosis])\n",
    "    label_data = list(label_df[diagnosis])\n",
    "    \n",
    "    return(data, plane_dir, label_data)"
   ]
  },
  {
   "cell_type": "markdown",
   "id": "f4fbb8f0",
   "metadata": {},
   "source": [
    "**meniscus dataset**"
   ]
  },
  {
   "cell_type": "code",
   "execution_count": 9,
   "id": "ab41e366",
   "metadata": {},
   "outputs": [],
   "source": [
    "# training data\n",
    "train_coronal_data, train_coronal_dir, train_men_label = get_data('train', 'coronal', 'meniscus')\n",
    "train_axial_data, train_axial_dir, train_men_label = get_data('train', 'axial', 'meniscus')\n",
    "train_sagittal_data, train_sagittal_dir, train_men_label = get_data('train', 'sagittal', 'meniscus')"
   ]
  },
  {
   "cell_type": "code",
   "execution_count": 10,
   "id": "ceed3ce2",
   "metadata": {},
   "outputs": [],
   "source": [
    "# validation data\n",
    "valid_coronal_data, valid_coronal_dir, valid_men_label = get_data('valid','coronal','meniscus')\n",
    "valid_axial_data, valid_axial_dir, valid_men_label = get_data('valid','axial','meniscus')\n",
    "valid_sagittal_data, valid_sagittal_dir, valid_men_label = get_data('valid','sagittal','meniscus')"
   ]
  },
  {
   "cell_type": "code",
   "execution_count": 11,
   "id": "ae3959b4",
   "metadata": {},
   "outputs": [
    {
     "data": {
      "text/plain": [
       "'0000.npy'"
      ]
     },
     "execution_count": 11,
     "metadata": {},
     "output_type": "execute_result"
    }
   ],
   "source": [
    "train_coronal_data[0]"
   ]
  },
  {
   "cell_type": "code",
   "execution_count": 12,
   "id": "e140cec0",
   "metadata": {},
   "outputs": [
    {
     "data": {
      "text/plain": [
       "'../data/train//coronal'"
      ]
     },
     "execution_count": 12,
     "metadata": {},
     "output_type": "execute_result"
    }
   ],
   "source": [
    "train_coronal_dir"
   ]
  },
  {
   "cell_type": "markdown",
   "id": "4b17a64e",
   "metadata": {},
   "source": [
    "The dataset contains *s* x 256 x 256 images. Since middle images are the most useful, only 3 middle slides in the series are retained. \n",
    "<br> Unfortunately, when using a pretrained model, one is limited by input_shape. For VGG16, it should be (224, 244, 3), or (3, 224, 224). It should be in 4D tensor with shape (batch_shape, conv_dim1, conv_dim2, channel)."
   ]
  },
  {
   "cell_type": "code",
   "execution_count": 13,
   "id": "a4e3ef1a",
   "metadata": {},
   "outputs": [],
   "source": [
    "def image_extraction(data, path, new_path): #3 images\n",
    "    '''this function extracts middle 3 slides of each scan'''\n",
    "    extract=[]\n",
    "    new_data=[]\n",
    "    for i in range(len(data)): \n",
    "        img = np.load(os.path.join(path,data[i]))\n",
    "        middle_idx = int(img.shape[0]/2)\n",
    "        img = img[(middle_idx - 1) : (middle_idx + 2)]\n",
    "#         # reshape adapted for model (s x 256 x 256 x 1)\n",
    "#         img = np.repeat(img[..., np.newaxis], 1, -1)\n",
    "        img = img.reshape(256,256,3)\n",
    "        extract.extend(img)\n",
    "        new_data.append(np.array(extract))        \n",
    "        extract.clear()\n",
    "        \n",
    "#     new_data.shape(1130, 256, 256, 3) for train\n",
    "    np.save(new_path, np.array(new_data))\n"
   ]
  },
  {
   "cell_type": "markdown",
   "id": "ae735195",
   "metadata": {},
   "source": [
    "**image extraction for training data**"
   ]
  },
  {
   "cell_type": "code",
   "execution_count": 14,
   "id": "817ede38",
   "metadata": {},
   "outputs": [],
   "source": [
    "# image extraction for 3 planes\n",
    "new_path = '../data/train_transform/coronal'\n",
    "image_extraction(train_coronal_data, train_coronal_dir, new_path)"
   ]
  },
  {
   "cell_type": "code",
   "execution_count": 15,
   "id": "9eb7feee",
   "metadata": {},
   "outputs": [],
   "source": [
    "new_path = '../data/train_transform/axial'\n",
    "image_extraction(train_axial_data, train_axial_dir, new_path)"
   ]
  },
  {
   "cell_type": "code",
   "execution_count": 16,
   "id": "e5513d41",
   "metadata": {},
   "outputs": [],
   "source": [
    "new_path = '../data/train_transform/sagittal'\n",
    "image_extraction(train_sagittal_data, train_sagittal_dir, new_path)"
   ]
  },
  {
   "cell_type": "code",
   "execution_count": 17,
   "id": "b424068a",
   "metadata": {},
   "outputs": [],
   "source": [
    "image = np.load('../data/train_transform/sagittal.npy')"
   ]
  },
  {
   "cell_type": "code",
   "execution_count": 18,
   "id": "f6f51599",
   "metadata": {},
   "outputs": [
    {
     "data": {
      "text/plain": [
       "(256, 256, 3)"
      ]
     },
     "execution_count": 18,
     "metadata": {},
     "output_type": "execute_result"
    }
   ],
   "source": [
    "image[0].shape"
   ]
  },
  {
   "cell_type": "markdown",
   "id": "655a25e7",
   "metadata": {},
   "source": [
    "**extraction for validation data**"
   ]
  },
  {
   "cell_type": "code",
   "execution_count": 19,
   "id": "4075e241",
   "metadata": {},
   "outputs": [],
   "source": [
    "# image extraction for 3 planes\n",
    "new_path = '../data/valid_transform/coronal'\n",
    "image_extraction(valid_coronal_data, valid_coronal_dir, new_path)"
   ]
  },
  {
   "cell_type": "code",
   "execution_count": 20,
   "id": "8143ff3a",
   "metadata": {},
   "outputs": [],
   "source": [
    "new_path = '../data/valid_transform/axial'\n",
    "image_extraction(valid_axial_data, valid_axial_dir, new_path)"
   ]
  },
  {
   "cell_type": "code",
   "execution_count": 21,
   "id": "321040bb",
   "metadata": {},
   "outputs": [],
   "source": [
    "new_path = '../data/valid_transform/sagittal'\n",
    "image_extraction(valid_sagittal_data, valid_sagittal_dir, new_path)"
   ]
  },
  {
   "cell_type": "code",
   "execution_count": 22,
   "id": "ae92befc",
   "metadata": {},
   "outputs": [
    {
     "data": {
      "text/plain": [
       "(120, 256, 256, 3)"
      ]
     },
     "execution_count": 22,
     "metadata": {},
     "output_type": "execute_result"
    }
   ],
   "source": [
    "image = np.load('../data/valid_transform/sagittal.npy')\n",
    "image.shape"
   ]
  },
  {
   "cell_type": "markdown",
   "id": "caab6116",
   "metadata": {},
   "source": [
    "**data generation for meniscus**"
   ]
  },
  {
   "cell_type": "code",
   "execution_count": 23,
   "id": "eb0bdc7d",
   "metadata": {},
   "outputs": [],
   "source": [
    "def data_gen(dataset_type, plane, diagnosis):\n",
    "    '''this function gets the data for each plane from extracted dataset'''\n",
    "    # for eg, (train, sagittal, mensicus)\n",
    "    if dataset_type == 'train':\n",
    "        go = '../data/train_transform/'\n",
    "    else:\n",
    "        go = '../data/valid_transform/'\n",
    "        \n",
    "    plane_dir = f'{go}/{plane}.npy'\n",
    "    \n",
    "    data = np.load(plane_dir)\n",
    "    label_path = f'../data/{dataset_type}-{diagnosis}.csv'\n",
    "#     label_path = f'data/{dataset_type}-{diagnosis}.csv'\n",
    "    label_df = pd.read_csv(label_path, names=['nr', diagnosis])\n",
    "    label_data = list(label_df[diagnosis])\n",
    "    \n",
    "    return(data, label_data)\n",
    "    "
   ]
  },
  {
   "cell_type": "code",
   "execution_count": 24,
   "id": "44a41ff5",
   "metadata": {},
   "outputs": [],
   "source": [
    "# generate training input\n",
    "coronal_mensicus, coronal_mensicus_label = data_gen('train', 'coronal', 'meniscus')\n",
    "axial_mensicus, axial_mensicus_label = data_gen('train', 'axial', 'meniscus')\n",
    "sagittal_mensicus, sagittal_mensicus_label = data_gen('train', 'sagittal', 'meniscus')\n",
    "\n",
    "# generate validation\n",
    "coronal_mensicus_val, coronal_mensicus_label_val  = data_gen('valid', 'coronal', 'meniscus')\n",
    "axial_mensicus_val, axial_mensicus_label_val  = data_gen('valid', 'axial', 'meniscus')\n",
    "sagittal_mensicus_val, sagittal_mensicus_label_val  = data_gen('valid', 'sagittal', 'meniscus')"
   ]
  },
  {
   "cell_type": "code",
   "execution_count": 25,
   "id": "cff1d910",
   "metadata": {},
   "outputs": [],
   "source": [
    "def plot_results(model):\n",
    "    '''this function plots the results of the model'''\n",
    "    train_loss = model.history['loss']\n",
    "    test_loss = model.history['val_loss']\n",
    "    acc = model.history['accuracy']\n",
    "    val_acc = model.history['val_accuracy']\n",
    "    epoch_labels = model.epoch\n",
    "\n",
    "    fig, axes = plt.subplots(1, 2, figsize=(20, 6), sharex=True)\n",
    "\n",
    "    axes[0].plot(train_loss, label='Training Loss', color='#185fad')\n",
    "    axes[0].plot(test_loss, label='Testing Loss', color='orange')\n",
    "\n",
    "    axes[1].plot(acc, label='Training accuracy', color='blue')\n",
    "    axes[1].plot(val_acc, label='Testing accuracy', color='red')\n",
    "\n",
    "    # Set title\n",
    "    axes[0].title.set_text('Training and Testing Loss by Epoch')\n",
    "    axes[1].title.set_text('Training and Testing Accuracy by Epoch')\n",
    "    axes[0].set_xlabel('Epoch')\n",
    "    axes[1].set_xlabel('Epoch')\n",
    "    axes[0].set_ylabel('Binary Crossentropy')\n",
    "    axes[1].set_ylabel('Binary Crossentropy')\n",
    "    plt.xticks(epoch_labels, epoch_labels);    \n",
    "    axes[0].legend(fontsize=18);\n",
    "    axes[1].legend(fontsize=18);\n"
   ]
  },
  {
   "cell_type": "markdown",
   "id": "be86d27f",
   "metadata": {},
   "source": [
    "## Utilising pretrained model"
   ]
  },
  {
   "cell_type": "markdown",
   "id": "85851f67",
   "metadata": {},
   "source": [
    "### AlexNet\n",
    "The below is adapted from [AlexNet](https://neurohive.io/en/popular-networks/alexnet-imagenet-classification-with-deep-convolutional-neural-networks/) which won the 2012 ImageNet LSVRC-2012 competition, and which was also the primary building block for the Stanford group that analysed this data.\n",
    "<br>\n",
    "<br> Added 'same' padding, so that output size is the same as input size. This requires the filter window to slip outside input map, hence the need to pad. BatchNormalisation layer was added because it would accelerate the training process, while offering similar classification accuracy. However, I do not know if regularizer was needed, because BatchNormalisation also reported providing a modest form of regularization. But I added the regularizer anyways. l2 (sum of squared weights) were added because it was the most common type (with values in the log scale), and reasonable values of lambda range between 0 and 0.1 (Applied Predictive Modeling, 2013). However, it was reduced to '0.001' and '1e-6' for a slower regularisation. 'sgd' was used so that the learning rate is slow. "
   ]
  },
  {
   "cell_type": "markdown",
   "id": "55203f26",
   "metadata": {},
   "source": [
    "![AlexNet architecture](../images/alexnet_Architecture.png)"
   ]
  },
  {
   "cell_type": "code",
   "execution_count": 26,
   "id": "80106b09",
   "metadata": {},
   "outputs": [],
   "source": [
    "def create_model():\n",
    "    '''this function creates the model adapted from alexnet'''\n",
    "    # instantiate\n",
    "    cnn_model = Sequential()\n",
    "\n",
    "    # 1st layer\n",
    "    cnn_model.add(Conv2D(filters = 96,             # number of filters\n",
    "                         kernel_size = (11, 11),   # height/width of filter\n",
    "                         activation='relu',        # activation function \n",
    "                         input_shape=(256,256,3),  # shape of input (image)\n",
    "                         strides=(4,4),\n",
    "                         kernel_regularizer=l2(1e-7),\n",
    "                         padding='same')) \n",
    "    cnn_model.add(BatchNormalization())\n",
    "    \n",
    "    # Max pooling\n",
    "    cnn_model.add(MaxPooling2D(pool_size=(3,3),\n",
    "                              strides=(2,2),\n",
    "                              padding='same'))\n",
    "\n",
    "    # 2nd layer\n",
    "    cnn_model.add(Conv2D(filters = 256,             \n",
    "                         kernel_size = (5, 5),   \n",
    "                         activation='relu',       \n",
    "                         strides=(1,1),\n",
    "                         kernel_regularizer=l2(1e-7),\n",
    "                         padding='same')) \n",
    "    cnn_model.add(BatchNormalization())\n",
    "\n",
    "    # Max pooling\n",
    "    cnn_model.add(MaxPooling2D(pool_size=(3,3),\n",
    "                              strides=(2,2),\n",
    "                              padding='same'))\n",
    "\n",
    "    # 3rd layer\n",
    "    cnn_model.add(Conv2D(filters = 384,             \n",
    "                         kernel_size = (3, 3),   \n",
    "                         activation='relu',       \n",
    "                         strides=(1,1),\n",
    "                         kernel_regularizer=l2(1e-7),\n",
    "                         padding='same')) \n",
    "    cnn_model.add(BatchNormalization())\n",
    "\n",
    "\n",
    "    # 4th layer\n",
    "    cnn_model.add(Conv2D(filters = 384,             \n",
    "                         kernel_size = (3, 3),   \n",
    "                         activation='relu',       \n",
    "                         strides=(1,1),\n",
    "                         kernel_regularizer=l2(1e-7),\n",
    "                         padding='same')) \n",
    "    cnn_model.add(BatchNormalization())\n",
    "\n",
    "    # 5th layer\n",
    "    cnn_model.add(Conv2D(filters = 256,             \n",
    "                         kernel_size = (3, 3),   \n",
    "                         activation='relu',       \n",
    "                         strides=(1,1),\n",
    "                         kernel_regularizer=l2(1e-7),\n",
    "                         padding='same')) \n",
    "    cnn_model.add(BatchNormalization())\n",
    "\n",
    "    # Max pooling\n",
    "    cnn_model.add(MaxPooling2D(pool_size=(3,3),\n",
    "                              strides=(2,2),\n",
    "                              padding='same'))\n",
    "    \n",
    "    # flatten from box to vertical line of nodes!\n",
    "    cnn_model.add(Flatten())\n",
    "    \n",
    "    # 1st fully connected layer\n",
    "    cnn_model.add(Dense(256, activation='relu'))\n",
    "    cnn_model.add(BatchNormalization())\n",
    "    \n",
    "    # To avoid overfitting!\n",
    "    cnn_model.add(Dropout(0.2))\n",
    "    \n",
    "    # 2nd fully connected layer\n",
    "    cnn_model.add(Dense(256, activation='relu'))\n",
    "    cnn_model.add(BatchNormalization())\n",
    "    \n",
    "    # To avoid overfitting!\n",
    "    cnn_model.add(Dropout(0.2))\n",
    "    \n",
    "    # Add a final layer with 1 neuron.\n",
    "    cnn_model.add(Dense(1, activation='sigmoid')) \n",
    "    \n",
    "    sgd = optimizers.SGD(learning_rate=1e-4, decay=1e-6, momentum=0.9, nesterov=True)\n",
    "    \n",
    "    # Compile model \n",
    "    cnn_model.compile(loss='binary_crossentropy',\n",
    "          optimizer=sgd,\n",
    "          metrics=['accuracy'])\n",
    "\n",
    "    return cnn_model\n"
   ]
  },
  {
   "cell_type": "code",
   "execution_count": 27,
   "id": "bd4943e1",
   "metadata": {},
   "outputs": [
    {
     "name": "stdout",
     "output_type": "stream",
     "text": [
      "Model: \"sequential\"\n",
      "_________________________________________________________________\n",
      "Layer (type)                 Output Shape              Param #   \n",
      "=================================================================\n",
      "conv2d (Conv2D)              (None, 64, 64, 96)        34944     \n",
      "_________________________________________________________________\n",
      "batch_normalization (BatchNo (None, 64, 64, 96)        384       \n",
      "_________________________________________________________________\n",
      "max_pooling2d (MaxPooling2D) (None, 32, 32, 96)        0         \n",
      "_________________________________________________________________\n",
      "conv2d_1 (Conv2D)            (None, 32, 32, 256)       614656    \n",
      "_________________________________________________________________\n",
      "batch_normalization_1 (Batch (None, 32, 32, 256)       1024      \n",
      "_________________________________________________________________\n",
      "max_pooling2d_1 (MaxPooling2 (None, 16, 16, 256)       0         \n",
      "_________________________________________________________________\n",
      "conv2d_2 (Conv2D)            (None, 16, 16, 384)       885120    \n",
      "_________________________________________________________________\n",
      "batch_normalization_2 (Batch (None, 16, 16, 384)       1536      \n",
      "_________________________________________________________________\n",
      "conv2d_3 (Conv2D)            (None, 16, 16, 384)       1327488   \n",
      "_________________________________________________________________\n",
      "batch_normalization_3 (Batch (None, 16, 16, 384)       1536      \n",
      "_________________________________________________________________\n",
      "conv2d_4 (Conv2D)            (None, 16, 16, 256)       884992    \n",
      "_________________________________________________________________\n",
      "batch_normalization_4 (Batch (None, 16, 16, 256)       1024      \n",
      "_________________________________________________________________\n",
      "max_pooling2d_2 (MaxPooling2 (None, 8, 8, 256)         0         \n",
      "_________________________________________________________________\n",
      "flatten (Flatten)            (None, 16384)             0         \n",
      "_________________________________________________________________\n",
      "dense (Dense)                (None, 256)               4194560   \n",
      "_________________________________________________________________\n",
      "batch_normalization_5 (Batch (None, 256)               1024      \n",
      "_________________________________________________________________\n",
      "dropout (Dropout)            (None, 256)               0         \n",
      "_________________________________________________________________\n",
      "dense_1 (Dense)              (None, 64)                16448     \n",
      "_________________________________________________________________\n",
      "batch_normalization_6 (Batch (None, 64)                256       \n",
      "_________________________________________________________________\n",
      "dropout_1 (Dropout)          (None, 64)                0         \n",
      "_________________________________________________________________\n",
      "dense_2 (Dense)              (None, 1)                 65        \n",
      "=================================================================\n",
      "Total params: 7,965,057\n",
      "Trainable params: 7,961,665\n",
      "Non-trainable params: 3,392\n",
      "_________________________________________________________________\n"
     ]
    }
   ],
   "source": [
    "model = create_model()\n",
    "model.summary()\n"
   ]
  },
  {
   "cell_type": "code",
   "execution_count": 28,
   "id": "4bac5d98",
   "metadata": {},
   "outputs": [
    {
     "data": {
      "text/html": [
       "<style  type=\"text/css\" >\n",
       "#T_6595a_row0_col1,#T_6595a_row1_col1,#T_6595a_row2_col1,#T_6595a_row3_col1,#T_6595a_row4_col1,#T_6595a_row5_col1,#T_6595a_row6_col1,#T_6595a_row7_col1,#T_6595a_row8_col1,#T_6595a_row9_col1,#T_6595a_row10_col1,#T_6595a_row11_col1,#T_6595a_row12_col1,#T_6595a_row13_col1,#T_6595a_row14_col1,#T_6595a_row15_col1,#T_6595a_row16_col1,#T_6595a_row17_col1,#T_6595a_row18_col1,#T_6595a_row19_col1,#T_6595a_row20_col1{\n",
       "            background-color:  yellow;\n",
       "        }</style><table id=\"T_6595a_\" ><thead>    <tr>        <th class=\"blank level0\" ></th>        <th class=\"col_heading level0 col0\" >layer</th>        <th class=\"col_heading level0 col1\" >trainable</th>    </tr></thead><tbody>\n",
       "                <tr>\n",
       "                        <th id=\"T_6595a_level0_row0\" class=\"row_heading level0 row0\" >0</th>\n",
       "                        <td id=\"T_6595a_row0_col0\" class=\"data row0 col0\" >conv2d</td>\n",
       "                        <td id=\"T_6595a_row0_col1\" class=\"data row0 col1\" >True</td>\n",
       "            </tr>\n",
       "            <tr>\n",
       "                        <th id=\"T_6595a_level0_row1\" class=\"row_heading level0 row1\" >1</th>\n",
       "                        <td id=\"T_6595a_row1_col0\" class=\"data row1 col0\" >batch_normalization</td>\n",
       "                        <td id=\"T_6595a_row1_col1\" class=\"data row1 col1\" >True</td>\n",
       "            </tr>\n",
       "            <tr>\n",
       "                        <th id=\"T_6595a_level0_row2\" class=\"row_heading level0 row2\" >2</th>\n",
       "                        <td id=\"T_6595a_row2_col0\" class=\"data row2 col0\" >max_pooling2d</td>\n",
       "                        <td id=\"T_6595a_row2_col1\" class=\"data row2 col1\" >True</td>\n",
       "            </tr>\n",
       "            <tr>\n",
       "                        <th id=\"T_6595a_level0_row3\" class=\"row_heading level0 row3\" >3</th>\n",
       "                        <td id=\"T_6595a_row3_col0\" class=\"data row3 col0\" >conv2d_1</td>\n",
       "                        <td id=\"T_6595a_row3_col1\" class=\"data row3 col1\" >True</td>\n",
       "            </tr>\n",
       "            <tr>\n",
       "                        <th id=\"T_6595a_level0_row4\" class=\"row_heading level0 row4\" >4</th>\n",
       "                        <td id=\"T_6595a_row4_col0\" class=\"data row4 col0\" >batch_normalization_1</td>\n",
       "                        <td id=\"T_6595a_row4_col1\" class=\"data row4 col1\" >True</td>\n",
       "            </tr>\n",
       "            <tr>\n",
       "                        <th id=\"T_6595a_level0_row5\" class=\"row_heading level0 row5\" >5</th>\n",
       "                        <td id=\"T_6595a_row5_col0\" class=\"data row5 col0\" >max_pooling2d_1</td>\n",
       "                        <td id=\"T_6595a_row5_col1\" class=\"data row5 col1\" >True</td>\n",
       "            </tr>\n",
       "            <tr>\n",
       "                        <th id=\"T_6595a_level0_row6\" class=\"row_heading level0 row6\" >6</th>\n",
       "                        <td id=\"T_6595a_row6_col0\" class=\"data row6 col0\" >conv2d_2</td>\n",
       "                        <td id=\"T_6595a_row6_col1\" class=\"data row6 col1\" >True</td>\n",
       "            </tr>\n",
       "            <tr>\n",
       "                        <th id=\"T_6595a_level0_row7\" class=\"row_heading level0 row7\" >7</th>\n",
       "                        <td id=\"T_6595a_row7_col0\" class=\"data row7 col0\" >batch_normalization_2</td>\n",
       "                        <td id=\"T_6595a_row7_col1\" class=\"data row7 col1\" >True</td>\n",
       "            </tr>\n",
       "            <tr>\n",
       "                        <th id=\"T_6595a_level0_row8\" class=\"row_heading level0 row8\" >8</th>\n",
       "                        <td id=\"T_6595a_row8_col0\" class=\"data row8 col0\" >conv2d_3</td>\n",
       "                        <td id=\"T_6595a_row8_col1\" class=\"data row8 col1\" >True</td>\n",
       "            </tr>\n",
       "            <tr>\n",
       "                        <th id=\"T_6595a_level0_row9\" class=\"row_heading level0 row9\" >9</th>\n",
       "                        <td id=\"T_6595a_row9_col0\" class=\"data row9 col0\" >batch_normalization_3</td>\n",
       "                        <td id=\"T_6595a_row9_col1\" class=\"data row9 col1\" >True</td>\n",
       "            </tr>\n",
       "            <tr>\n",
       "                        <th id=\"T_6595a_level0_row10\" class=\"row_heading level0 row10\" >10</th>\n",
       "                        <td id=\"T_6595a_row10_col0\" class=\"data row10 col0\" >conv2d_4</td>\n",
       "                        <td id=\"T_6595a_row10_col1\" class=\"data row10 col1\" >True</td>\n",
       "            </tr>\n",
       "            <tr>\n",
       "                        <th id=\"T_6595a_level0_row11\" class=\"row_heading level0 row11\" >11</th>\n",
       "                        <td id=\"T_6595a_row11_col0\" class=\"data row11 col0\" >batch_normalization_4</td>\n",
       "                        <td id=\"T_6595a_row11_col1\" class=\"data row11 col1\" >True</td>\n",
       "            </tr>\n",
       "            <tr>\n",
       "                        <th id=\"T_6595a_level0_row12\" class=\"row_heading level0 row12\" >12</th>\n",
       "                        <td id=\"T_6595a_row12_col0\" class=\"data row12 col0\" >max_pooling2d_2</td>\n",
       "                        <td id=\"T_6595a_row12_col1\" class=\"data row12 col1\" >True</td>\n",
       "            </tr>\n",
       "            <tr>\n",
       "                        <th id=\"T_6595a_level0_row13\" class=\"row_heading level0 row13\" >13</th>\n",
       "                        <td id=\"T_6595a_row13_col0\" class=\"data row13 col0\" >flatten</td>\n",
       "                        <td id=\"T_6595a_row13_col1\" class=\"data row13 col1\" >True</td>\n",
       "            </tr>\n",
       "            <tr>\n",
       "                        <th id=\"T_6595a_level0_row14\" class=\"row_heading level0 row14\" >14</th>\n",
       "                        <td id=\"T_6595a_row14_col0\" class=\"data row14 col0\" >dense</td>\n",
       "                        <td id=\"T_6595a_row14_col1\" class=\"data row14 col1\" >True</td>\n",
       "            </tr>\n",
       "            <tr>\n",
       "                        <th id=\"T_6595a_level0_row15\" class=\"row_heading level0 row15\" >15</th>\n",
       "                        <td id=\"T_6595a_row15_col0\" class=\"data row15 col0\" >batch_normalization_5</td>\n",
       "                        <td id=\"T_6595a_row15_col1\" class=\"data row15 col1\" >True</td>\n",
       "            </tr>\n",
       "            <tr>\n",
       "                        <th id=\"T_6595a_level0_row16\" class=\"row_heading level0 row16\" >16</th>\n",
       "                        <td id=\"T_6595a_row16_col0\" class=\"data row16 col0\" >dropout</td>\n",
       "                        <td id=\"T_6595a_row16_col1\" class=\"data row16 col1\" >True</td>\n",
       "            </tr>\n",
       "            <tr>\n",
       "                        <th id=\"T_6595a_level0_row17\" class=\"row_heading level0 row17\" >17</th>\n",
       "                        <td id=\"T_6595a_row17_col0\" class=\"data row17 col0\" >dense_1</td>\n",
       "                        <td id=\"T_6595a_row17_col1\" class=\"data row17 col1\" >True</td>\n",
       "            </tr>\n",
       "            <tr>\n",
       "                        <th id=\"T_6595a_level0_row18\" class=\"row_heading level0 row18\" >18</th>\n",
       "                        <td id=\"T_6595a_row18_col0\" class=\"data row18 col0\" >batch_normalization_6</td>\n",
       "                        <td id=\"T_6595a_row18_col1\" class=\"data row18 col1\" >True</td>\n",
       "            </tr>\n",
       "            <tr>\n",
       "                        <th id=\"T_6595a_level0_row19\" class=\"row_heading level0 row19\" >19</th>\n",
       "                        <td id=\"T_6595a_row19_col0\" class=\"data row19 col0\" >dropout_1</td>\n",
       "                        <td id=\"T_6595a_row19_col1\" class=\"data row19 col1\" >True</td>\n",
       "            </tr>\n",
       "            <tr>\n",
       "                        <th id=\"T_6595a_level0_row20\" class=\"row_heading level0 row20\" >20</th>\n",
       "                        <td id=\"T_6595a_row20_col0\" class=\"data row20 col0\" >dense_2</td>\n",
       "                        <td id=\"T_6595a_row20_col1\" class=\"data row20 col1\" >True</td>\n",
       "            </tr>\n",
       "    </tbody></table>"
      ],
      "text/plain": [
       "<pandas.io.formats.style.Styler at 0x235b86c4ac0>"
      ]
     },
     "execution_count": 28,
     "metadata": {},
     "output_type": "execute_result"
    }
   ],
   "source": [
    "for layer in model.layers:\n",
    "    layer.trainable = True\n",
    "df = pd.DataFrame(([layer.name, layer.trainable] for layer in model.layers), columns=['layer', 'trainable'])\n",
    "df.style.applymap(lambda trainable: f'background-color: {\"yellow\" if trainable else \"white\"}', subset=['trainable'])"
   ]
  },
  {
   "cell_type": "code",
   "execution_count": 29,
   "id": "524c696a",
   "metadata": {},
   "outputs": [],
   "source": [
    "def build_model(model,model_name, num_epochs, train_data, train_labels, validation_data, validation_labels):\n",
    "    '''this function builds and runs the model'''\n",
    "    path_dir = r'C:\\Users\\USER\\DSI-roughpaper\\capstone\\data' \n",
    "    weights_path = f'{path_dir}\\{model_name}\\\\alexnet_weights.h5'\n",
    "#     path_dir = '/content/drive/MyDrive' \n",
    "#     weights_path = f'{path_dir}/{model_name}/new_weights.h5'\n",
    "    \n",
    "    model.save_weights(weights_path)\n",
    "    \n",
    "    history = model.fit(x=train_data, y=np.array(train_labels), \n",
    "            batch_size=32, \n",
    "            validation_data=(validation_data, np.array(validation_labels)),\n",
    "            epochs=num_epochs, \n",
    "            callbacks = [EarlyStopping(patience=3, monitor = 'val_loss', mode = 'min')],                  \n",
    "            verbose=1)\n",
    "    \n",
    "    return model, history"
   ]
  },
  {
   "cell_type": "code",
   "execution_count": 31,
   "id": "d1f4462a",
   "metadata": {},
   "outputs": [
    {
     "name": "stdout",
     "output_type": "stream",
     "text": [
      "Epoch 1/2\n",
      "36/36 [==============================] - 169s 5s/step - loss: 12.3689 - accuracy: 0.5310 - val_loss: 12.1315 - val_accuracy: 0.5250\n",
      "Epoch 2/2\n",
      "36/36 [==============================] - 159s 4s/step - loss: 12.2719 - accuracy: 0.5929 - val_loss: 12.1270 - val_accuracy: 0.5750\n"
     ]
    },
    {
     "data": {
      "image/png": "[encoded data removed]",
      "text/plain": [
       "<Figure size 1440x432 with 2 Axes>"
      ]
     },
     "metadata": {
      "needs_background": "light"
     },
     "output_type": "display_data"
    }
   ],
   "source": [
    "# coronal plane\n",
    "num_epochs=2\n",
    "\n",
    "cnn_model=create_model()\n",
    "cor_men_model, alex_cor_men = build_model(cnn_model,'alex_cor_men', num_epochs, coronal_mensicus, coronal_mensicus_label, coronal_mensicus_val, coronal_mensicus_label_val)\n",
    "\n",
    "# get/plot accuracy\n",
    "alex_cor_men_acc=[]\n",
    "alex_cor_men_acc.append(np.mean(alex_cor_men.history['val_accuracy']))\n",
    "plot_results(alex_cor_men)"
   ]
  },
  {
   "cell_type": "code",
   "execution_count": 32,
   "id": "7d1788a4",
   "metadata": {},
   "outputs": [
    {
     "name": "stdout",
     "output_type": "stream",
     "text": [
      "Epoch 1/2\n",
      "36/36 [==============================] - 169s 5s/step - loss: 12.4072 - accuracy: 0.5460 - val_loss: 13.4146 - val_accuracy: 0.4333\n",
      "Epoch 2/2\n",
      "36/36 [==============================] - 176s 5s/step - loss: 12.2725 - accuracy: 0.5770 - val_loss: 12.2053 - val_accuracy: 0.5417\n"
     ]
    },
    {
     "data": {
      "image/png": "[encoded data removed]",
      "text/plain": [
       "<Figure size 1440x432 with 2 Axes>"
      ]
     },
     "metadata": {
      "needs_background": "light"
     },
     "output_type": "display_data"
    }
   ],
   "source": [
    "# axial plane\n",
    "num_epochs=2\n",
    "\n",
    "cnn_model=create_model()\n",
    "axl_men_model, alex_axl_men = build_model(cnn_model,'alex_axl_men', num_epochs, axial_mensicus, axial_mensicus_label, axial_mensicus_val, axial_mensicus_label_val)\n",
    "\n",
    "# get/plot accuracy\n",
    "alex_axl_men_acc=[]\n",
    "alex_axl_men_acc.append(np.mean(alex_axl_men.history['val_accuracy']))\n",
    "plot_results(alex_axl_men)"
   ]
  },
  {
   "cell_type": "code",
   "execution_count": 34,
   "id": "5508b067",
   "metadata": {},
   "outputs": [
    {
     "name": "stdout",
     "output_type": "stream",
     "text": [
      "Epoch 1/2\n",
      "36/36 [==============================] - 188s 5s/step - loss: 12.4100 - accuracy: 0.5363 - val_loss: 12.1051 - val_accuracy: 0.5750\n",
      "Epoch 2/2\n",
      "36/36 [==============================] - 193s 5s/step - loss: 12.3247 - accuracy: 0.5584 - val_loss: 12.1361 - val_accuracy: 0.6000\n"
     ]
    },
    {
     "data": {
      "image/png": "[encoded data removed]",
      "text/plain": [
       "<Figure size 1440x432 with 2 Axes>"
      ]
     },
     "metadata": {
      "needs_background": "light"
     },
     "output_type": "display_data"
    }
   ],
   "source": [
    "# sagittal plane\n",
    "num_epochs=2\n",
    "\n",
    "cnn_model=create_model()\n",
    "sag_men_model, alex_sag_men = build_model(cnn_model,'alex_sag_men', num_epochs, sagittal_mensicus, sagittal_mensicus_label, sagittal_mensicus_val, sagittal_mensicus_label_val)\n",
    "\n",
    "# get/plot accuracy\n",
    "alex_sag_men_acc=[]\n",
    "alex_sag_men_acc.append(np.mean(alex_sag_men.history['val_accuracy']))\n",
    "plot_results(alex_sag_men)"
   ]
  },
  {
   "cell_type": "markdown",
   "id": "6990edb6",
   "metadata": {},
   "source": [
    "**calculate average accuracy**"
   ]
  },
  {
   "cell_type": "code",
   "execution_count": 35,
   "id": "c635c25c",
   "metadata": {},
   "outputs": [
    {
     "data": {
      "text/plain": [
       "[[0.5499999821186066], [0.48750001192092896], [0.5875000059604645]]"
      ]
     },
     "execution_count": 35,
     "metadata": {},
     "output_type": "execute_result"
    }
   ],
   "source": [
    "[alex_cor_men_acc, alex_axl_men_acc, alex_sag_men_acc]"
   ]
  },
  {
   "cell_type": "markdown",
   "id": "90737183",
   "metadata": {},
   "source": [
    "### Evaluate results"
   ]
  },
  {
   "cell_type": "code",
   "execution_count": 36,
   "id": "6499298e",
   "metadata": {},
   "outputs": [
    {
     "name": "stdout",
     "output_type": "stream",
     "text": [
      "Test loss: 12.127012252807617\n",
      "Test accuracy: 0.574999988079071\n"
     ]
    }
   ],
   "source": [
    "cor_men_scores = cor_men_model.evaluate(coronal_mensicus_val, np.array(coronal_mensicus_label_val), verbose=0)\n",
    "print('Test loss:', cor_men_scores[0]) \n",
    "print('Test accuracy:', cor_men_scores[1])"
   ]
  },
  {
   "cell_type": "code",
   "execution_count": 37,
   "id": "ad21fabb",
   "metadata": {},
   "outputs": [],
   "source": [
    "cor_pred = cor_men_model.predict(coronal_mensicus_val) \n",
    "axl_pred = axl_men_model.predict(axial_mensicus_val) \n",
    "sag_pred = sag_men_model.predict(sagittal_mensicus_val) "
   ]
  },
  {
   "cell_type": "code",
   "execution_count": 38,
   "id": "b58a5235",
   "metadata": {},
   "outputs": [],
   "source": [
    "pred_men = pd.DataFrame(np.column_stack([cor_pred,axl_pred,sag_pred]),columns=['cor_pred', 'axl_pred', 'sag_pred'])\n",
    "pred_men['mean'] = pred_men.mean(axis=1)"
   ]
  },
  {
   "cell_type": "code",
   "execution_count": 39,
   "id": "adab2bed",
   "metadata": {},
   "outputs": [
    {
     "data": {
      "text/plain": [
       "0      0.281168\n",
       "1      0.328088\n",
       "2      0.263801\n",
       "3      0.272169\n",
       "4      0.471231\n",
       "         ...   \n",
       "115    0.425444\n",
       "116    0.478547\n",
       "117    0.483166\n",
       "118    0.443595\n",
       "119    0.304357\n",
       "Name: mean, Length: 120, dtype: float32"
      ]
     },
     "execution_count": 39,
     "metadata": {},
     "output_type": "execute_result"
    }
   ],
   "source": [
    "# since model output is [0,1] using sigmoid activation function\n",
    "# pred is the probability\n",
    "# take average probability from all 3 planes\n",
    "pred_men['mean']"
   ]
  },
  {
   "cell_type": "code",
   "execution_count": 40,
   "id": "b245e605",
   "metadata": {},
   "outputs": [],
   "source": [
    "pred_men['mean'] = pred_men.mean(axis=1)"
   ]
  },
  {
   "cell_type": "code",
   "execution_count": 41,
   "id": "c764949a",
   "metadata": {},
   "outputs": [],
   "source": [
    "# if prob<0.5, it is 0.\n",
    "pred_men['predict'] = pred_men['mean'].map(lambda x: 0 if x<0.5 else 1)"
   ]
  },
  {
   "cell_type": "code",
   "execution_count": 42,
   "id": "c355ac51",
   "metadata": {},
   "outputs": [
    {
     "data": {
      "text/plain": [
       "0    102\n",
       "1     18\n",
       "Name: predict, dtype: int64"
      ]
     },
     "execution_count": 42,
     "metadata": {},
     "output_type": "execute_result"
    }
   ],
   "source": [
    "pred_men['predict'].value_counts()"
   ]
  },
  {
   "cell_type": "code",
   "execution_count": 43,
   "id": "5e644b1a",
   "metadata": {},
   "outputs": [],
   "source": [
    "# labels are same for all planes\n",
    "pred_men['true'] = coronal_mensicus_label_val"
   ]
  },
  {
   "cell_type": "code",
   "execution_count": 44,
   "id": "5903e65c",
   "metadata": {},
   "outputs": [
    {
     "data": {
      "text/plain": [
       "(48, 6)"
      ]
     },
     "execution_count": 44,
     "metadata": {},
     "output_type": "execute_result"
    }
   ],
   "source": [
    "pred_men[pred_men['true'] != pred_men['predict']].shape"
   ]
  },
  {
   "cell_type": "code",
   "execution_count": 45,
   "id": "20de52e9",
   "metadata": {},
   "outputs": [
    {
     "data": {
      "text/html": [
       "<div>\n",
       "<style scoped>\n",
       "    .dataframe tbody tr th:only-of-type {\n",
       "        vertical-align: middle;\n",
       "    }\n",
       "\n",
       "    .dataframe tbody tr th {\n",
       "        vertical-align: top;\n",
       "    }\n",
       "\n",
       "    .dataframe thead th {\n",
       "        text-align: right;\n",
       "    }\n",
       "</style>\n",
       "<table border=\"1\" class=\"dataframe\">\n",
       "  <thead>\n",
       "    <tr style=\"text-align: right;\">\n",
       "      <th></th>\n",
       "      <th>cor_pred</th>\n",
       "      <th>axl_pred</th>\n",
       "      <th>sag_pred</th>\n",
       "      <th>mean</th>\n",
       "      <th>predict</th>\n",
       "      <th>true</th>\n",
       "    </tr>\n",
       "  </thead>\n",
       "  <tbody>\n",
       "    <tr>\n",
       "      <th>7</th>\n",
       "      <td>0.384528</td>\n",
       "      <td>0.733491</td>\n",
       "      <td>0.386460</td>\n",
       "      <td>0.501493</td>\n",
       "      <td>1</td>\n",
       "      <td>0</td>\n",
       "    </tr>\n",
       "    <tr>\n",
       "      <th>11</th>\n",
       "      <td>0.381499</td>\n",
       "      <td>0.841505</td>\n",
       "      <td>0.422919</td>\n",
       "      <td>0.548641</td>\n",
       "      <td>1</td>\n",
       "      <td>0</td>\n",
       "    </tr>\n",
       "    <tr>\n",
       "      <th>39</th>\n",
       "      <td>0.474095</td>\n",
       "      <td>0.782609</td>\n",
       "      <td>0.378619</td>\n",
       "      <td>0.545108</td>\n",
       "      <td>1</td>\n",
       "      <td>0</td>\n",
       "    </tr>\n",
       "    <tr>\n",
       "      <th>42</th>\n",
       "      <td>0.330712</td>\n",
       "      <td>0.361748</td>\n",
       "      <td>0.215634</td>\n",
       "      <td>0.302698</td>\n",
       "      <td>0</td>\n",
       "      <td>1</td>\n",
       "    </tr>\n",
       "    <tr>\n",
       "      <th>43</th>\n",
       "      <td>0.471588</td>\n",
       "      <td>0.759569</td>\n",
       "      <td>0.115348</td>\n",
       "      <td>0.448835</td>\n",
       "      <td>0</td>\n",
       "      <td>1</td>\n",
       "    </tr>\n",
       "    <tr>\n",
       "      <th>46</th>\n",
       "      <td>0.245964</td>\n",
       "      <td>0.853348</td>\n",
       "      <td>0.348510</td>\n",
       "      <td>0.482607</td>\n",
       "      <td>0</td>\n",
       "      <td>1</td>\n",
       "    </tr>\n",
       "    <tr>\n",
       "      <th>50</th>\n",
       "      <td>0.373509</td>\n",
       "      <td>0.910851</td>\n",
       "      <td>0.365005</td>\n",
       "      <td>0.549788</td>\n",
       "      <td>1</td>\n",
       "      <td>0</td>\n",
       "    </tr>\n",
       "    <tr>\n",
       "      <th>53</th>\n",
       "      <td>0.427201</td>\n",
       "      <td>0.884230</td>\n",
       "      <td>0.451188</td>\n",
       "      <td>0.587540</td>\n",
       "      <td>1</td>\n",
       "      <td>0</td>\n",
       "    </tr>\n",
       "    <tr>\n",
       "      <th>54</th>\n",
       "      <td>0.272149</td>\n",
       "      <td>0.733100</td>\n",
       "      <td>0.298705</td>\n",
       "      <td>0.434651</td>\n",
       "      <td>0</td>\n",
       "      <td>1</td>\n",
       "    </tr>\n",
       "    <tr>\n",
       "      <th>57</th>\n",
       "      <td>0.357127</td>\n",
       "      <td>0.716120</td>\n",
       "      <td>0.437838</td>\n",
       "      <td>0.503695</td>\n",
       "      <td>1</td>\n",
       "      <td>0</td>\n",
       "    </tr>\n",
       "    <tr>\n",
       "      <th>58</th>\n",
       "      <td>0.237525</td>\n",
       "      <td>0.750866</td>\n",
       "      <td>0.358862</td>\n",
       "      <td>0.449084</td>\n",
       "      <td>0</td>\n",
       "      <td>1</td>\n",
       "    </tr>\n",
       "    <tr>\n",
       "      <th>62</th>\n",
       "      <td>0.250300</td>\n",
       "      <td>0.728898</td>\n",
       "      <td>0.123454</td>\n",
       "      <td>0.367550</td>\n",
       "      <td>0</td>\n",
       "      <td>1</td>\n",
       "    </tr>\n",
       "    <tr>\n",
       "      <th>65</th>\n",
       "      <td>0.348716</td>\n",
       "      <td>0.506772</td>\n",
       "      <td>0.288486</td>\n",
       "      <td>0.381325</td>\n",
       "      <td>0</td>\n",
       "      <td>1</td>\n",
       "    </tr>\n",
       "    <tr>\n",
       "      <th>66</th>\n",
       "      <td>0.340960</td>\n",
       "      <td>0.756533</td>\n",
       "      <td>0.256740</td>\n",
       "      <td>0.451411</td>\n",
       "      <td>0</td>\n",
       "      <td>1</td>\n",
       "    </tr>\n",
       "    <tr>\n",
       "      <th>67</th>\n",
       "      <td>0.259946</td>\n",
       "      <td>0.416296</td>\n",
       "      <td>0.256291</td>\n",
       "      <td>0.310844</td>\n",
       "      <td>0</td>\n",
       "      <td>1</td>\n",
       "    </tr>\n",
       "    <tr>\n",
       "      <th>71</th>\n",
       "      <td>0.326496</td>\n",
       "      <td>0.505695</td>\n",
       "      <td>0.401487</td>\n",
       "      <td>0.411226</td>\n",
       "      <td>0</td>\n",
       "      <td>1</td>\n",
       "    </tr>\n",
       "    <tr>\n",
       "      <th>72</th>\n",
       "      <td>0.171890</td>\n",
       "      <td>0.731970</td>\n",
       "      <td>0.340331</td>\n",
       "      <td>0.414730</td>\n",
       "      <td>0</td>\n",
       "      <td>1</td>\n",
       "    </tr>\n",
       "    <tr>\n",
       "      <th>74</th>\n",
       "      <td>0.401612</td>\n",
       "      <td>0.731264</td>\n",
       "      <td>0.370229</td>\n",
       "      <td>0.501035</td>\n",
       "      <td>1</td>\n",
       "      <td>0</td>\n",
       "    </tr>\n",
       "    <tr>\n",
       "      <th>75</th>\n",
       "      <td>0.291790</td>\n",
       "      <td>0.777369</td>\n",
       "      <td>0.288916</td>\n",
       "      <td>0.452692</td>\n",
       "      <td>0</td>\n",
       "      <td>1</td>\n",
       "    </tr>\n",
       "    <tr>\n",
       "      <th>77</th>\n",
       "      <td>0.403525</td>\n",
       "      <td>0.605298</td>\n",
       "      <td>0.228433</td>\n",
       "      <td>0.412419</td>\n",
       "      <td>0</td>\n",
       "      <td>1</td>\n",
       "    </tr>\n",
       "    <tr>\n",
       "      <th>83</th>\n",
       "      <td>0.298666</td>\n",
       "      <td>0.502908</td>\n",
       "      <td>0.479005</td>\n",
       "      <td>0.426860</td>\n",
       "      <td>0</td>\n",
       "      <td>1</td>\n",
       "    </tr>\n",
       "    <tr>\n",
       "      <th>86</th>\n",
       "      <td>0.354095</td>\n",
       "      <td>0.578477</td>\n",
       "      <td>0.398281</td>\n",
       "      <td>0.443618</td>\n",
       "      <td>0</td>\n",
       "      <td>1</td>\n",
       "    </tr>\n",
       "    <tr>\n",
       "      <th>90</th>\n",
       "      <td>0.306624</td>\n",
       "      <td>0.735005</td>\n",
       "      <td>0.379204</td>\n",
       "      <td>0.473611</td>\n",
       "      <td>0</td>\n",
       "      <td>1</td>\n",
       "    </tr>\n",
       "    <tr>\n",
       "      <th>91</th>\n",
       "      <td>0.408835</td>\n",
       "      <td>0.744609</td>\n",
       "      <td>0.304754</td>\n",
       "      <td>0.486066</td>\n",
       "      <td>0</td>\n",
       "      <td>1</td>\n",
       "    </tr>\n",
       "    <tr>\n",
       "      <th>92</th>\n",
       "      <td>0.213850</td>\n",
       "      <td>0.729795</td>\n",
       "      <td>0.176415</td>\n",
       "      <td>0.373353</td>\n",
       "      <td>0</td>\n",
       "      <td>1</td>\n",
       "    </tr>\n",
       "    <tr>\n",
       "      <th>93</th>\n",
       "      <td>0.296570</td>\n",
       "      <td>0.719422</td>\n",
       "      <td>0.367488</td>\n",
       "      <td>0.461160</td>\n",
       "      <td>0</td>\n",
       "      <td>1</td>\n",
       "    </tr>\n",
       "    <tr>\n",
       "      <th>95</th>\n",
       "      <td>0.269751</td>\n",
       "      <td>0.843252</td>\n",
       "      <td>0.198334</td>\n",
       "      <td>0.437112</td>\n",
       "      <td>0</td>\n",
       "      <td>1</td>\n",
       "    </tr>\n",
       "    <tr>\n",
       "      <th>96</th>\n",
       "      <td>0.336287</td>\n",
       "      <td>0.696563</td>\n",
       "      <td>0.363976</td>\n",
       "      <td>0.465609</td>\n",
       "      <td>0</td>\n",
       "      <td>1</td>\n",
       "    </tr>\n",
       "    <tr>\n",
       "      <th>97</th>\n",
       "      <td>0.417543</td>\n",
       "      <td>0.797645</td>\n",
       "      <td>0.242618</td>\n",
       "      <td>0.485936</td>\n",
       "      <td>0</td>\n",
       "      <td>1</td>\n",
       "    </tr>\n",
       "    <tr>\n",
       "      <th>98</th>\n",
       "      <td>0.339091</td>\n",
       "      <td>0.395959</td>\n",
       "      <td>0.141156</td>\n",
       "      <td>0.292069</td>\n",
       "      <td>0</td>\n",
       "      <td>1</td>\n",
       "    </tr>\n",
       "    <tr>\n",
       "      <th>99</th>\n",
       "      <td>0.286601</td>\n",
       "      <td>0.803144</td>\n",
       "      <td>0.229191</td>\n",
       "      <td>0.439645</td>\n",
       "      <td>0</td>\n",
       "      <td>1</td>\n",
       "    </tr>\n",
       "    <tr>\n",
       "      <th>101</th>\n",
       "      <td>0.421061</td>\n",
       "      <td>0.742177</td>\n",
       "      <td>0.219320</td>\n",
       "      <td>0.460852</td>\n",
       "      <td>0</td>\n",
       "      <td>1</td>\n",
       "    </tr>\n",
       "    <tr>\n",
       "      <th>102</th>\n",
       "      <td>0.355506</td>\n",
       "      <td>0.732025</td>\n",
       "      <td>0.308714</td>\n",
       "      <td>0.465415</td>\n",
       "      <td>0</td>\n",
       "      <td>1</td>\n",
       "    </tr>\n",
       "    <tr>\n",
       "      <th>103</th>\n",
       "      <td>0.240182</td>\n",
       "      <td>0.717822</td>\n",
       "      <td>0.314623</td>\n",
       "      <td>0.424209</td>\n",
       "      <td>0</td>\n",
       "      <td>1</td>\n",
       "    </tr>\n",
       "    <tr>\n",
       "      <th>104</th>\n",
       "      <td>0.351265</td>\n",
       "      <td>0.395754</td>\n",
       "      <td>0.166865</td>\n",
       "      <td>0.304628</td>\n",
       "      <td>0</td>\n",
       "      <td>1</td>\n",
       "    </tr>\n",
       "    <tr>\n",
       "      <th>105</th>\n",
       "      <td>0.391145</td>\n",
       "      <td>0.510216</td>\n",
       "      <td>0.137482</td>\n",
       "      <td>0.346281</td>\n",
       "      <td>0</td>\n",
       "      <td>1</td>\n",
       "    </tr>\n",
       "    <tr>\n",
       "      <th>106</th>\n",
       "      <td>0.236485</td>\n",
       "      <td>0.687989</td>\n",
       "      <td>0.295892</td>\n",
       "      <td>0.406789</td>\n",
       "      <td>0</td>\n",
       "      <td>1</td>\n",
       "    </tr>\n",
       "    <tr>\n",
       "      <th>107</th>\n",
       "      <td>0.399056</td>\n",
       "      <td>0.388586</td>\n",
       "      <td>0.328651</td>\n",
       "      <td>0.372098</td>\n",
       "      <td>0</td>\n",
       "      <td>1</td>\n",
       "    </tr>\n",
       "    <tr>\n",
       "      <th>108</th>\n",
       "      <td>0.402181</td>\n",
       "      <td>0.547266</td>\n",
       "      <td>0.403403</td>\n",
       "      <td>0.450950</td>\n",
       "      <td>0</td>\n",
       "      <td>1</td>\n",
       "    </tr>\n",
       "    <tr>\n",
       "      <th>110</th>\n",
       "      <td>0.131684</td>\n",
       "      <td>0.741387</td>\n",
       "      <td>0.351119</td>\n",
       "      <td>0.408063</td>\n",
       "      <td>0</td>\n",
       "      <td>1</td>\n",
       "    </tr>\n",
       "    <tr>\n",
       "      <th>111</th>\n",
       "      <td>0.263600</td>\n",
       "      <td>0.429432</td>\n",
       "      <td>0.215542</td>\n",
       "      <td>0.302858</td>\n",
       "      <td>0</td>\n",
       "      <td>1</td>\n",
       "    </tr>\n",
       "    <tr>\n",
       "      <th>113</th>\n",
       "      <td>0.364648</td>\n",
       "      <td>0.769364</td>\n",
       "      <td>0.351976</td>\n",
       "      <td>0.495330</td>\n",
       "      <td>0</td>\n",
       "      <td>1</td>\n",
       "    </tr>\n",
       "    <tr>\n",
       "      <th>114</th>\n",
       "      <td>0.248453</td>\n",
       "      <td>0.639065</td>\n",
       "      <td>0.242866</td>\n",
       "      <td>0.376794</td>\n",
       "      <td>0</td>\n",
       "      <td>1</td>\n",
       "    </tr>\n",
       "    <tr>\n",
       "      <th>115</th>\n",
       "      <td>0.480579</td>\n",
       "      <td>0.576947</td>\n",
       "      <td>0.218805</td>\n",
       "      <td>0.425444</td>\n",
       "      <td>0</td>\n",
       "      <td>1</td>\n",
       "    </tr>\n",
       "    <tr>\n",
       "      <th>116</th>\n",
       "      <td>0.225883</td>\n",
       "      <td>0.711322</td>\n",
       "      <td>0.498437</td>\n",
       "      <td>0.478547</td>\n",
       "      <td>0</td>\n",
       "      <td>1</td>\n",
       "    </tr>\n",
       "    <tr>\n",
       "      <th>117</th>\n",
       "      <td>0.413269</td>\n",
       "      <td>0.685691</td>\n",
       "      <td>0.350536</td>\n",
       "      <td>0.483166</td>\n",
       "      <td>0</td>\n",
       "      <td>1</td>\n",
       "    </tr>\n",
       "    <tr>\n",
       "      <th>118</th>\n",
       "      <td>0.511428</td>\n",
       "      <td>0.388100</td>\n",
       "      <td>0.431257</td>\n",
       "      <td>0.443595</td>\n",
       "      <td>0</td>\n",
       "      <td>1</td>\n",
       "    </tr>\n",
       "    <tr>\n",
       "      <th>119</th>\n",
       "      <td>0.245636</td>\n",
       "      <td>0.504578</td>\n",
       "      <td>0.162857</td>\n",
       "      <td>0.304357</td>\n",
       "      <td>0</td>\n",
       "      <td>1</td>\n",
       "    </tr>\n",
       "  </tbody>\n",
       "</table>\n",
       "</div>"
      ],
      "text/plain": [
       "     cor_pred  axl_pred  sag_pred      mean  predict  true\n",
       "7    0.384528  0.733491  0.386460  0.501493        1     0\n",
       "11   0.381499  0.841505  0.422919  0.548641        1     0\n",
       "39   0.474095  0.782609  0.378619  0.545108        1     0\n",
       "42   0.330712  0.361748  0.215634  0.302698        0     1\n",
       "43   0.471588  0.759569  0.115348  0.448835        0     1\n",
       "46   0.245964  0.853348  0.348510  0.482607        0     1\n",
       "50   0.373509  0.910851  0.365005  0.549788        1     0\n",
       "53   0.427201  0.884230  0.451188  0.587540        1     0\n",
       "54   0.272149  0.733100  0.298705  0.434651        0     1\n",
       "57   0.357127  0.716120  0.437838  0.503695        1     0\n",
       "58   0.237525  0.750866  0.358862  0.449084        0     1\n",
       "62   0.250300  0.728898  0.123454  0.367550        0     1\n",
       "65   0.348716  0.506772  0.288486  0.381325        0     1\n",
       "66   0.340960  0.756533  0.256740  0.451411        0     1\n",
       "67   0.259946  0.416296  0.256291  0.310844        0     1\n",
       "71   0.326496  0.505695  0.401487  0.411226        0     1\n",
       "72   0.171890  0.731970  0.340331  0.414730        0     1\n",
       "74   0.401612  0.731264  0.370229  0.501035        1     0\n",
       "75   0.291790  0.777369  0.288916  0.452692        0     1\n",
       "77   0.403525  0.605298  0.228433  0.412419        0     1\n",
       "83   0.298666  0.502908  0.479005  0.426860        0     1\n",
       "86   0.354095  0.578477  0.398281  0.443618        0     1\n",
       "90   0.306624  0.735005  0.379204  0.473611        0     1\n",
       "91   0.408835  0.744609  0.304754  0.486066        0     1\n",
       "92   0.213850  0.729795  0.176415  0.373353        0     1\n",
       "93   0.296570  0.719422  0.367488  0.461160        0     1\n",
       "95   0.269751  0.843252  0.198334  0.437112        0     1\n",
       "96   0.336287  0.696563  0.363976  0.465609        0     1\n",
       "97   0.417543  0.797645  0.242618  0.485936        0     1\n",
       "98   0.339091  0.395959  0.141156  0.292069        0     1\n",
       "99   0.286601  0.803144  0.229191  0.439645        0     1\n",
       "101  0.421061  0.742177  0.219320  0.460852        0     1\n",
       "102  0.355506  0.732025  0.308714  0.465415        0     1\n",
       "103  0.240182  0.717822  0.314623  0.424209        0     1\n",
       "104  0.351265  0.395754  0.166865  0.304628        0     1\n",
       "105  0.391145  0.510216  0.137482  0.346281        0     1\n",
       "106  0.236485  0.687989  0.295892  0.406789        0     1\n",
       "107  0.399056  0.388586  0.328651  0.372098        0     1\n",
       "108  0.402181  0.547266  0.403403  0.450950        0     1\n",
       "110  0.131684  0.741387  0.351119  0.408063        0     1\n",
       "111  0.263600  0.429432  0.215542  0.302858        0     1\n",
       "113  0.364648  0.769364  0.351976  0.495330        0     1\n",
       "114  0.248453  0.639065  0.242866  0.376794        0     1\n",
       "115  0.480579  0.576947  0.218805  0.425444        0     1\n",
       "116  0.225883  0.711322  0.498437  0.478547        0     1\n",
       "117  0.413269  0.685691  0.350536  0.483166        0     1\n",
       "118  0.511428  0.388100  0.431257  0.443595        0     1\n",
       "119  0.245636  0.504578  0.162857  0.304357        0     1"
      ]
     },
     "execution_count": 45,
     "metadata": {},
     "output_type": "execute_result"
    }
   ],
   "source": [
    "pred_men[pred_men['true'] != pred_men['predict']]"
   ]
  },
  {
   "cell_type": "markdown",
   "id": "53881971",
   "metadata": {},
   "source": [
    "**export results to csv**"
   ]
  },
  {
   "cell_type": "code",
   "execution_count": 46,
   "id": "6eb3a0ba",
   "metadata": {},
   "outputs": [],
   "source": [
    "pred_men.to_csv('../data/alexnet_pred_men_results.csv')\n",
    "# pred_men.to_csv('/content/drive/MyDrive/alexnet_pred_men_results.csv')"
   ]
  },
  {
   "cell_type": "code",
   "execution_count": null,
   "id": "22f26f25",
   "metadata": {},
   "outputs": [],
   "source": []
  }
 ],
 "metadata": {
  "kernelspec": {
   "display_name": "Python 3",
   "language": "python",
   "name": "python3"
  },
  "language_info": {
   "codemirror_mode": {
    "name": "ipython",
    "version": 3
   },
   "file_extension": ".py",
   "mimetype": "text/x-python",
   "name": "python",
   "nbconvert_exporter": "python",
   "pygments_lexer": "ipython3",
   "version": "3.8.8"
  },
  "toc": {
   "base_numbering": 1,
   "nav_menu": {},
   "number_sections": true,
   "sideBar": true,
   "skip_h1_title": false,
   "title_cell": "Table of Contents",
   "title_sidebar": "Contents",
   "toc_cell": false,
   "toc_position": {
    "height": "747px",
    "left": "279px",
    "top": "323.133px",
    "width": "384px"
   },
   "toc_section_display": true,
   "toc_window_display": true
  }
 },
 "nbformat": 4,
 "nbformat_minor": 5
}
