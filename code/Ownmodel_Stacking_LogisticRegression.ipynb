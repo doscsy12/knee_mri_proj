{
 "cells": [
  {
   "cell_type": "markdown",
   "id": "1981a09d",
   "metadata": {},
   "source": [
    "# Capstone: Development of an algorithm for automatic detection of meniscus tears in radiographic images of the knee."
   ]
  },
  {
   "cell_type": "markdown",
   "id": "6748d4f7",
   "metadata": {},
   "source": [
    "### Research aim\n",
    "\n",
    "**Utilising machine learning models as a computational technique for the diagnosis of osteoarthritis is still relatively new. The aim in this project is to develop a machine learning algorithm, and to determine if the algorithm can identify meniscus tears by differentiating/ localizing abnormalities in MRI images of the knee.**\n",
    "\n",
    "\n",
    "\n"
   ]
  },
  {
   "cell_type": "markdown",
   "id": "af1558c2",
   "metadata": {},
   "source": [
    "### Contents:\n",
    "- [Background](#Background)\n",
    "- [Data](#Data)\n",
    "- [Predictions](#Predictions)\n",
    "\n"
   ]
  },
  {
   "cell_type": "code",
   "execution_count": 1,
   "id": "90465aa9",
   "metadata": {},
   "outputs": [],
   "source": [
    "# Import libraries here\n",
    "import os\n",
    "import numpy as np\n",
    "import pandas as pd\n",
    "import matplotlib.pyplot as plt\n",
    "import matplotlib.cm as cm\n",
    "from IPython.display import Image, display\n",
    "from glob import glob\n",
    "\n",
    "import tensorflow as tf\n",
    "from tensorflow.keras.models import load_model, Model\n",
    "from tensorflow.keras.preprocessing.image import save_img, load_img, img_to_array, array_to_img\n",
    "from sklearn.linear_model import LogisticRegression\n",
    "from sklearn.model_selection import GridSearchCV\n",
    "from sklearn.metrics import accuracy_score, roc_auc_score, precision_score\n",
    "pd.options.mode.chained_assignment = None  # default='warn'\n"
   ]
  },
  {
   "cell_type": "markdown",
   "id": "428baa28",
   "metadata": {},
   "source": [
    "**Data from [MRNet](https://stanfordmlgroup.github.io/competitions/mrnet/):** \n",
    "* Images of 1370 knee MRI exams performed at Stanford University Medical Center. The dataset contains 1,104 (80.6%) abnormal exams,  with 319 (23.3%) ACL tears and 508 (37.1%) meniscal tears; labels were obtained through manual extraction from clinical reports. \n",
    "* train set: consists of 1130 MRI images from coronal, sagittal and transverse planes\n",
    "* valdation set: consists of 120 MRI images from coronal, sagittal and transverse planes\n"
   ]
  },
  {
   "cell_type": "markdown",
   "id": "8289d63b",
   "metadata": {},
   "source": [
    "## Data "
   ]
  },
  {
   "cell_type": "markdown",
   "id": "4a981632",
   "metadata": {},
   "source": [
    "### Training set"
   ]
  },
  {
   "cell_type": "markdown",
   "id": "b4c83e46",
   "metadata": {},
   "source": [
    "**read labels**"
   ]
  },
  {
   "cell_type": "code",
   "execution_count": 2,
   "id": "2a82bfcc",
   "metadata": {},
   "outputs": [],
   "source": [
    "labels_train_abnormal = pd.read_csv('../data/train-abnormal.csv', names=['nr','abnormal'])\n",
    "labels_train_meniscus = pd.read_csv('../data/train-meniscus.csv', names=['nr','meniscus'])\n",
    "labels_train_acl = pd.read_csv('../data/train-acl.csv', names=['nr','acl'])"
   ]
  },
  {
   "cell_type": "code",
   "execution_count": 3,
   "id": "794ea13e",
   "metadata": {},
   "outputs": [],
   "source": [
    "labels_valid_abnormal = pd.read_csv('../data/valid-abnormal.csv', names=['nr','abnormal'])\n",
    "labels_valid_meniscus = pd.read_csv('../data/valid-meniscus.csv', names=['nr','meniscus'])\n",
    "labels_valid_acl = pd.read_csv('../data/valid-acl.csv', names=['nr','acl'])"
   ]
  },
  {
   "cell_type": "code",
   "execution_count": 4,
   "id": "af182653",
   "metadata": {},
   "outputs": [
    {
     "data": {
      "text/html": [
       "<div>\n",
       "<style scoped>\n",
       "    .dataframe tbody tr th:only-of-type {\n",
       "        vertical-align: middle;\n",
       "    }\n",
       "\n",
       "    .dataframe tbody tr th {\n",
       "        vertical-align: top;\n",
       "    }\n",
       "\n",
       "    .dataframe thead th {\n",
       "        text-align: right;\n",
       "    }\n",
       "</style>\n",
       "<table border=\"1\" class=\"dataframe\">\n",
       "  <thead>\n",
       "    <tr style=\"text-align: right;\">\n",
       "      <th></th>\n",
       "      <th>nr</th>\n",
       "      <th>meniscus</th>\n",
       "    </tr>\n",
       "  </thead>\n",
       "  <tbody>\n",
       "    <tr>\n",
       "      <th>0</th>\n",
       "      <td>1130</td>\n",
       "      <td>0</td>\n",
       "    </tr>\n",
       "    <tr>\n",
       "      <th>1</th>\n",
       "      <td>1131</td>\n",
       "      <td>0</td>\n",
       "    </tr>\n",
       "    <tr>\n",
       "      <th>2</th>\n",
       "      <td>1132</td>\n",
       "      <td>0</td>\n",
       "    </tr>\n",
       "    <tr>\n",
       "      <th>3</th>\n",
       "      <td>1133</td>\n",
       "      <td>0</td>\n",
       "    </tr>\n",
       "    <tr>\n",
       "      <th>4</th>\n",
       "      <td>1134</td>\n",
       "      <td>0</td>\n",
       "    </tr>\n",
       "    <tr>\n",
       "      <th>...</th>\n",
       "      <td>...</td>\n",
       "      <td>...</td>\n",
       "    </tr>\n",
       "    <tr>\n",
       "      <th>115</th>\n",
       "      <td>1245</td>\n",
       "      <td>1</td>\n",
       "    </tr>\n",
       "    <tr>\n",
       "      <th>116</th>\n",
       "      <td>1246</td>\n",
       "      <td>1</td>\n",
       "    </tr>\n",
       "    <tr>\n",
       "      <th>117</th>\n",
       "      <td>1247</td>\n",
       "      <td>1</td>\n",
       "    </tr>\n",
       "    <tr>\n",
       "      <th>118</th>\n",
       "      <td>1248</td>\n",
       "      <td>1</td>\n",
       "    </tr>\n",
       "    <tr>\n",
       "      <th>119</th>\n",
       "      <td>1249</td>\n",
       "      <td>1</td>\n",
       "    </tr>\n",
       "  </tbody>\n",
       "</table>\n",
       "<p>120 rows × 2 columns</p>\n",
       "</div>"
      ],
      "text/plain": [
       "       nr  meniscus\n",
       "0    1130         0\n",
       "1    1131         0\n",
       "2    1132         0\n",
       "3    1133         0\n",
       "4    1134         0\n",
       "..    ...       ...\n",
       "115  1245         1\n",
       "116  1246         1\n",
       "117  1247         1\n",
       "118  1248         1\n",
       "119  1249         1\n",
       "\n",
       "[120 rows x 2 columns]"
      ]
     },
     "execution_count": 4,
     "metadata": {},
     "output_type": "execute_result"
    }
   ],
   "source": [
    "labels_valid_meniscus"
   ]
  },
  {
   "cell_type": "markdown",
   "id": "3afb40a3",
   "metadata": {},
   "source": [
    "## Predictions"
   ]
  },
  {
   "cell_type": "markdown",
   "id": "373e50a7",
   "metadata": {},
   "source": [
    "Results from own model (adapted from LeNet)."
   ]
  },
  {
   "cell_type": "code",
   "execution_count": 9,
   "id": "ce18cb9b",
   "metadata": {},
   "outputs": [],
   "source": [
    "men_results = pd.read_csv('../data/pred_men_results.csv')\n",
    "men_val_results = pd.read_csv('../data/pred_val_men_results.csv')"
   ]
  },
  {
   "cell_type": "code",
   "execution_count": 10,
   "id": "fa1cd31a",
   "metadata": {},
   "outputs": [
    {
     "data": {
      "text/html": [
       "<div>\n",
       "<style scoped>\n",
       "    .dataframe tbody tr th:only-of-type {\n",
       "        vertical-align: middle;\n",
       "    }\n",
       "\n",
       "    .dataframe tbody tr th {\n",
       "        vertical-align: top;\n",
       "    }\n",
       "\n",
       "    .dataframe thead th {\n",
       "        text-align: right;\n",
       "    }\n",
       "</style>\n",
       "<table border=\"1\" class=\"dataframe\">\n",
       "  <thead>\n",
       "    <tr style=\"text-align: right;\">\n",
       "      <th></th>\n",
       "      <th>cor_pred</th>\n",
       "      <th>axl_pred</th>\n",
       "      <th>sag_pred</th>\n",
       "      <th>mean</th>\n",
       "      <th>predict</th>\n",
       "      <th>true</th>\n",
       "    </tr>\n",
       "  </thead>\n",
       "  <tbody>\n",
       "    <tr>\n",
       "      <th>0</th>\n",
       "      <td>0.473736</td>\n",
       "      <td>0.355703</td>\n",
       "      <td>0.370614</td>\n",
       "      <td>0.400018</td>\n",
       "      <td>0</td>\n",
       "      <td>0</td>\n",
       "    </tr>\n",
       "    <tr>\n",
       "      <th>1</th>\n",
       "      <td>0.470078</td>\n",
       "      <td>0.535720</td>\n",
       "      <td>0.347691</td>\n",
       "      <td>0.451163</td>\n",
       "      <td>0</td>\n",
       "      <td>1</td>\n",
       "    </tr>\n",
       "    <tr>\n",
       "      <th>2</th>\n",
       "      <td>0.350849</td>\n",
       "      <td>0.250044</td>\n",
       "      <td>0.298077</td>\n",
       "      <td>0.299657</td>\n",
       "      <td>0</td>\n",
       "      <td>0</td>\n",
       "    </tr>\n",
       "    <tr>\n",
       "      <th>3</th>\n",
       "      <td>0.402710</td>\n",
       "      <td>0.385038</td>\n",
       "      <td>0.309577</td>\n",
       "      <td>0.365775</td>\n",
       "      <td>0</td>\n",
       "      <td>1</td>\n",
       "    </tr>\n",
       "    <tr>\n",
       "      <th>4</th>\n",
       "      <td>0.395826</td>\n",
       "      <td>0.358708</td>\n",
       "      <td>0.322917</td>\n",
       "      <td>0.359151</td>\n",
       "      <td>0</td>\n",
       "      <td>0</td>\n",
       "    </tr>\n",
       "    <tr>\n",
       "      <th>...</th>\n",
       "      <td>...</td>\n",
       "      <td>...</td>\n",
       "      <td>...</td>\n",
       "      <td>...</td>\n",
       "      <td>...</td>\n",
       "      <td>...</td>\n",
       "    </tr>\n",
       "    <tr>\n",
       "      <th>1125</th>\n",
       "      <td>0.394885</td>\n",
       "      <td>0.461154</td>\n",
       "      <td>0.525375</td>\n",
       "      <td>0.460471</td>\n",
       "      <td>0</td>\n",
       "      <td>1</td>\n",
       "    </tr>\n",
       "    <tr>\n",
       "      <th>1126</th>\n",
       "      <td>0.380819</td>\n",
       "      <td>0.388667</td>\n",
       "      <td>0.488324</td>\n",
       "      <td>0.419270</td>\n",
       "      <td>0</td>\n",
       "      <td>1</td>\n",
       "    </tr>\n",
       "    <tr>\n",
       "      <th>1127</th>\n",
       "      <td>0.400104</td>\n",
       "      <td>0.138728</td>\n",
       "      <td>0.361959</td>\n",
       "      <td>0.300264</td>\n",
       "      <td>0</td>\n",
       "      <td>0</td>\n",
       "    </tr>\n",
       "    <tr>\n",
       "      <th>1128</th>\n",
       "      <td>0.325919</td>\n",
       "      <td>0.457211</td>\n",
       "      <td>0.308548</td>\n",
       "      <td>0.363892</td>\n",
       "      <td>0</td>\n",
       "      <td>0</td>\n",
       "    </tr>\n",
       "    <tr>\n",
       "      <th>1129</th>\n",
       "      <td>0.386406</td>\n",
       "      <td>0.491808</td>\n",
       "      <td>0.478526</td>\n",
       "      <td>0.452247</td>\n",
       "      <td>0</td>\n",
       "      <td>0</td>\n",
       "    </tr>\n",
       "  </tbody>\n",
       "</table>\n",
       "<p>1130 rows × 6 columns</p>\n",
       "</div>"
      ],
      "text/plain": [
       "      cor_pred  axl_pred  sag_pred      mean  predict  true\n",
       "0     0.473736  0.355703  0.370614  0.400018        0     0\n",
       "1     0.470078  0.535720  0.347691  0.451163        0     1\n",
       "2     0.350849  0.250044  0.298077  0.299657        0     0\n",
       "3     0.402710  0.385038  0.309577  0.365775        0     1\n",
       "4     0.395826  0.358708  0.322917  0.359151        0     0\n",
       "...        ...       ...       ...       ...      ...   ...\n",
       "1125  0.394885  0.461154  0.525375  0.460471        0     1\n",
       "1126  0.380819  0.388667  0.488324  0.419270        0     1\n",
       "1127  0.400104  0.138728  0.361959  0.300264        0     0\n",
       "1128  0.325919  0.457211  0.308548  0.363892        0     0\n",
       "1129  0.386406  0.491808  0.478526  0.452247        0     0\n",
       "\n",
       "[1130 rows x 6 columns]"
      ]
     },
     "execution_count": 10,
     "metadata": {},
     "output_type": "execute_result"
    }
   ],
   "source": [
    "men_results.drop(columns=['Unnamed: 0'])"
   ]
  },
  {
   "cell_type": "code",
   "execution_count": 11,
   "id": "9c744576",
   "metadata": {},
   "outputs": [
    {
     "data": {
      "text/html": [
       "<div>\n",
       "<style scoped>\n",
       "    .dataframe tbody tr th:only-of-type {\n",
       "        vertical-align: middle;\n",
       "    }\n",
       "\n",
       "    .dataframe tbody tr th {\n",
       "        vertical-align: top;\n",
       "    }\n",
       "\n",
       "    .dataframe thead th {\n",
       "        text-align: right;\n",
       "    }\n",
       "</style>\n",
       "<table border=\"1\" class=\"dataframe\">\n",
       "  <thead>\n",
       "    <tr style=\"text-align: right;\">\n",
       "      <th></th>\n",
       "      <th>cor_pred_val</th>\n",
       "      <th>axl_pred_val</th>\n",
       "      <th>sag_pred_val</th>\n",
       "      <th>mean</th>\n",
       "      <th>predict</th>\n",
       "      <th>true</th>\n",
       "    </tr>\n",
       "  </thead>\n",
       "  <tbody>\n",
       "    <tr>\n",
       "      <th>0</th>\n",
       "      <td>0.498174</td>\n",
       "      <td>0.123676</td>\n",
       "      <td>0.312557</td>\n",
       "      <td>0.311469</td>\n",
       "      <td>0</td>\n",
       "      <td>0</td>\n",
       "    </tr>\n",
       "    <tr>\n",
       "      <th>1</th>\n",
       "      <td>0.395916</td>\n",
       "      <td>0.173440</td>\n",
       "      <td>0.350376</td>\n",
       "      <td>0.306577</td>\n",
       "      <td>0</td>\n",
       "      <td>0</td>\n",
       "    </tr>\n",
       "    <tr>\n",
       "      <th>2</th>\n",
       "      <td>0.371988</td>\n",
       "      <td>0.154168</td>\n",
       "      <td>0.297274</td>\n",
       "      <td>0.274477</td>\n",
       "      <td>0</td>\n",
       "      <td>0</td>\n",
       "    </tr>\n",
       "    <tr>\n",
       "      <th>3</th>\n",
       "      <td>0.348489</td>\n",
       "      <td>0.083520</td>\n",
       "      <td>0.393133</td>\n",
       "      <td>0.275047</td>\n",
       "      <td>0</td>\n",
       "      <td>0</td>\n",
       "    </tr>\n",
       "    <tr>\n",
       "      <th>4</th>\n",
       "      <td>0.325767</td>\n",
       "      <td>0.431717</td>\n",
       "      <td>0.497659</td>\n",
       "      <td>0.418381</td>\n",
       "      <td>0</td>\n",
       "      <td>0</td>\n",
       "    </tr>\n",
       "    <tr>\n",
       "      <th>...</th>\n",
       "      <td>...</td>\n",
       "      <td>...</td>\n",
       "      <td>...</td>\n",
       "      <td>...</td>\n",
       "      <td>...</td>\n",
       "      <td>...</td>\n",
       "    </tr>\n",
       "    <tr>\n",
       "      <th>115</th>\n",
       "      <td>0.442137</td>\n",
       "      <td>0.218392</td>\n",
       "      <td>0.497109</td>\n",
       "      <td>0.385879</td>\n",
       "      <td>0</td>\n",
       "      <td>1</td>\n",
       "    </tr>\n",
       "    <tr>\n",
       "      <th>116</th>\n",
       "      <td>0.554175</td>\n",
       "      <td>0.467197</td>\n",
       "      <td>0.408200</td>\n",
       "      <td>0.476524</td>\n",
       "      <td>0</td>\n",
       "      <td>1</td>\n",
       "    </tr>\n",
       "    <tr>\n",
       "      <th>117</th>\n",
       "      <td>0.438777</td>\n",
       "      <td>0.407184</td>\n",
       "      <td>0.389851</td>\n",
       "      <td>0.411937</td>\n",
       "      <td>0</td>\n",
       "      <td>1</td>\n",
       "    </tr>\n",
       "    <tr>\n",
       "      <th>118</th>\n",
       "      <td>0.375354</td>\n",
       "      <td>0.377533</td>\n",
       "      <td>0.502915</td>\n",
       "      <td>0.418601</td>\n",
       "      <td>0</td>\n",
       "      <td>1</td>\n",
       "    </tr>\n",
       "    <tr>\n",
       "      <th>119</th>\n",
       "      <td>0.265537</td>\n",
       "      <td>0.354274</td>\n",
       "      <td>0.337575</td>\n",
       "      <td>0.319129</td>\n",
       "      <td>0</td>\n",
       "      <td>1</td>\n",
       "    </tr>\n",
       "  </tbody>\n",
       "</table>\n",
       "<p>120 rows × 6 columns</p>\n",
       "</div>"
      ],
      "text/plain": [
       "     cor_pred_val  axl_pred_val  sag_pred_val      mean  predict  true\n",
       "0        0.498174      0.123676      0.312557  0.311469        0     0\n",
       "1        0.395916      0.173440      0.350376  0.306577        0     0\n",
       "2        0.371988      0.154168      0.297274  0.274477        0     0\n",
       "3        0.348489      0.083520      0.393133  0.275047        0     0\n",
       "4        0.325767      0.431717      0.497659  0.418381        0     0\n",
       "..            ...           ...           ...       ...      ...   ...\n",
       "115      0.442137      0.218392      0.497109  0.385879        0     1\n",
       "116      0.554175      0.467197      0.408200  0.476524        0     1\n",
       "117      0.438777      0.407184      0.389851  0.411937        0     1\n",
       "118      0.375354      0.377533      0.502915  0.418601        0     1\n",
       "119      0.265537      0.354274      0.337575  0.319129        0     1\n",
       "\n",
       "[120 rows x 6 columns]"
      ]
     },
     "execution_count": 11,
     "metadata": {},
     "output_type": "execute_result"
    }
   ],
   "source": [
    "men_val_results.drop(columns=['Unnamed: 0'])"
   ]
  },
  {
   "cell_type": "code",
   "execution_count": 12,
   "id": "731f31c3",
   "metadata": {},
   "outputs": [],
   "source": [
    "# preparing input to logistic regression\n",
    "X = np.zeros((len(men_results), 3))\n",
    "X[:, 0] = men_results['cor_pred']\n",
    "X[:, 1] = men_results['axl_pred']\n",
    "X[:, 2] = men_results['sag_pred']"
   ]
  },
  {
   "cell_type": "code",
   "execution_count": 13,
   "id": "cc648363",
   "metadata": {},
   "outputs": [],
   "source": [
    "# labels for meniscus\n",
    "y = men_results['true']"
   ]
  },
  {
   "cell_type": "code",
   "execution_count": 14,
   "id": "5a4a4e3d",
   "metadata": {},
   "outputs": [
    {
     "data": {
      "text/plain": [
       "LogisticRegression()"
      ]
     },
     "execution_count": 14,
     "metadata": {},
     "output_type": "execute_result"
    }
   ],
   "source": [
    "# logistic regression\n",
    "# logreg = LogisticRegression(solver='lbfgs',class_weight={0:.65, 1:.35})\n",
    "logreg = LogisticRegression(solver='lbfgs')\n",
    "logreg.fit(X, y)"
   ]
  },
  {
   "cell_type": "code",
   "execution_count": 15,
   "id": "f95de2d0",
   "metadata": {},
   "outputs": [
    {
     "data": {
      "text/plain": [
       "array([2.35717304, 8.79056073, 0.73787927])"
      ]
     },
     "execution_count": 15,
     "metadata": {},
     "output_type": "execute_result"
    }
   ],
   "source": [
    "coef = logreg.coef_[0]\n",
    "coef"
   ]
  },
  {
   "cell_type": "markdown",
   "id": "4832442d",
   "metadata": {},
   "source": [
    "From the above coefficients, the plane with the highest weightage is the axial plane, followed by the coronal plane, and then the sagittal plane. "
   ]
  },
  {
   "cell_type": "code",
   "execution_count": 16,
   "id": "f09feaef",
   "metadata": {},
   "outputs": [],
   "source": [
    "# preparing validation data\n",
    "X_val = np.zeros((len(men_val_results), 3))\n",
    "X_val[:, 0] = men_val_results['cor_pred_val']\n",
    "X_val[:, 1] = men_val_results['axl_pred_val']\n",
    "X_val[:, 2] = men_val_results['sag_pred_val']"
   ]
  },
  {
   "cell_type": "code",
   "execution_count": 17,
   "id": "e14a2ea5",
   "metadata": {},
   "outputs": [],
   "source": [
    "# labels for validation dataset\n",
    "y_val = men_val_results['true']"
   ]
  },
  {
   "cell_type": "code",
   "execution_count": 18,
   "id": "7f0523e6",
   "metadata": {},
   "outputs": [],
   "source": [
    "# prediction from logistic regression model\n",
    "y_pred = logreg.predict_proba(X_val)[:,1]"
   ]
  },
  {
   "cell_type": "code",
   "execution_count": 19,
   "id": "f23fb3d6",
   "metadata": {},
   "outputs": [
    {
     "data": {
      "text/plain": [
       "array([0.04928408, 0.06092232, 0.04741254, 0.02644243, 0.37248412])"
      ]
     },
     "execution_count": 19,
     "metadata": {},
     "output_type": "execute_result"
    }
   ],
   "source": [
    "y_pred[:5]"
   ]
  },
  {
   "cell_type": "code",
   "execution_count": 20,
   "id": "2bf30559",
   "metadata": {},
   "outputs": [],
   "source": [
    "# since the output is probability, it would be classified a '1' if p>0.5 \n",
    "y_pred = [0 if i<0.5 else 1 for i in y_pred]"
   ]
  },
  {
   "cell_type": "code",
   "execution_count": 21,
   "id": "8677a5fd",
   "metadata": {},
   "outputs": [
    {
     "data": {
      "text/plain": [
       "0.6"
      ]
     },
     "execution_count": 21,
     "metadata": {},
     "output_type": "execute_result"
    }
   ],
   "source": [
    "accuracy_score(y_pred,y_val)"
   ]
  },
  {
   "cell_type": "code",
   "execution_count": 22,
   "id": "b8191abc",
   "metadata": {},
   "outputs": [
    {
     "data": {
      "text/plain": [
       "0.5900621118012422"
      ]
     },
     "execution_count": 22,
     "metadata": {},
     "output_type": "execute_result"
    }
   ],
   "source": [
    "roc_auc_score(y_pred,y_val)"
   ]
  },
  {
   "cell_type": "code",
   "execution_count": 23,
   "id": "7cd93e59",
   "metadata": {},
   "outputs": [
    {
     "data": {
      "text/plain": [
       "0.3076923076923077"
      ]
     },
     "execution_count": 23,
     "metadata": {},
     "output_type": "execute_result"
    }
   ],
   "source": [
    "precision_score(y_pred,y_val)"
   ]
  },
  {
   "cell_type": "markdown",
   "id": "eee2b496",
   "metadata": {},
   "source": [
    "By taking the geometric mean of 3 cnn models (for each plane), the accuracy score was 0.575, and the precision score was 0.667. Using logistic regression as a stacking model, the accuracy score (at 0.60) is higher than the accuracy of each cnn model for each plane. This is because logistic regression would take into account the weight of each plane, ie., the axial plane would provide a better prediction of meniscus tears than the other planes. However, the precision has decreased to 0.31. "
   ]
  },
  {
   "cell_type": "markdown",
   "id": "6343037e",
   "metadata": {},
   "source": [
    "### Grad-CAM activation visualization"
   ]
  },
  {
   "cell_type": "markdown",
   "id": "fa9705a8",
   "metadata": {},
   "source": [
    "Obtaining a class activation heatmap will allow me to 'see' what the model was 'seeing' in the last convolutional layer and/or provide an explanation as to why the classification was made. "
   ]
  },
  {
   "cell_type": "code",
   "execution_count": 24,
   "id": "59616c6b",
   "metadata": {},
   "outputs": [],
   "source": [
    "# https://keras.io/examples/vision/grad_cam/\n",
    "def make_gradcam_heatmap(img_array, model, last_conv_layer_name, pred_index=None):\n",
    "    # First, we create a model that maps the input image to the activations\n",
    "    # of the last conv layer as well as the output predictions\n",
    "    grad_model = Model(\n",
    "        [model.inputs], [model.get_layer(last_conv_layer_name).output, model.output]\n",
    "    )\n",
    "\n",
    "    # Then, we compute the gradient of the top predicted class for our input image\n",
    "    # with respect to the activations of the last conv layer\n",
    "    with tf.GradientTape() as tape:\n",
    "        last_conv_layer_output, preds = grad_model(img_array)\n",
    "        if pred_index is None:\n",
    "            pred_index = tf.argmax(preds[0])\n",
    "        class_channel = preds[:, pred_index]\n",
    "\n",
    "    # This is the gradient of the output neuron (top predicted or chosen)\n",
    "    # with regard to the output feature map of the last conv layer\n",
    "    grads = tape.gradient(class_channel, last_conv_layer_output)\n",
    "\n",
    "    # This is a vector where each entry is the mean intensity of the gradient\n",
    "    # over a specific feature map channel\n",
    "    pooled_grads = tf.reduce_mean(grads, axis=(0, 1, 2))\n",
    "\n",
    "    # We multiply each channel in the feature map array\n",
    "    # by \"how important this channel is\" with regard to the top predicted class\n",
    "    # then sum all the channels to obtain the heatmap class activation\n",
    "    last_conv_layer_output = last_conv_layer_output[0]\n",
    "    heatmap = last_conv_layer_output @ pooled_grads[..., tf.newaxis]\n",
    "    heatmap = tf.squeeze(heatmap)\n",
    "\n",
    "    # For visualization purpose, we will also normalize the heatmap between 0 & 1\n",
    "    heatmap = tf.maximum(heatmap, 0) / tf.math.reduce_max(heatmap)\n",
    "    return heatmap.numpy()"
   ]
  },
  {
   "cell_type": "code",
   "execution_count": 25,
   "id": "1cac5089",
   "metadata": {},
   "outputs": [],
   "source": [
    "val_pred = men_val_results[['true']]"
   ]
  },
  {
   "cell_type": "code",
   "execution_count": 26,
   "id": "e4167085",
   "metadata": {},
   "outputs": [],
   "source": [
    "val_pred['predict'] = y_pred"
   ]
  },
  {
   "cell_type": "code",
   "execution_count": 27,
   "id": "9e68df88",
   "metadata": {},
   "outputs": [
    {
     "data": {
      "text/plain": [
       "(48, 2)"
      ]
     },
     "execution_count": 27,
     "metadata": {},
     "output_type": "execute_result"
    }
   ],
   "source": [
    "val_pred[val_pred['true'] != val_pred['predict']].shape"
   ]
  },
  {
   "cell_type": "code",
   "execution_count": 53,
   "id": "e9469dc6",
   "metadata": {},
   "outputs": [
    {
     "data": {
      "text/html": [
       "<div>\n",
       "<style scoped>\n",
       "    .dataframe tbody tr th:only-of-type {\n",
       "        vertical-align: middle;\n",
       "    }\n",
       "\n",
       "    .dataframe tbody tr th {\n",
       "        vertical-align: top;\n",
       "    }\n",
       "\n",
       "    .dataframe thead th {\n",
       "        text-align: right;\n",
       "    }\n",
       "</style>\n",
       "<table border=\"1\" class=\"dataframe\">\n",
       "  <thead>\n",
       "    <tr style=\"text-align: right;\">\n",
       "      <th></th>\n",
       "      <th>true</th>\n",
       "      <th>predict</th>\n",
       "    </tr>\n",
       "  </thead>\n",
       "  <tbody>\n",
       "    <tr>\n",
       "      <th>46</th>\n",
       "      <td>1</td>\n",
       "      <td>1</td>\n",
       "    </tr>\n",
       "    <tr>\n",
       "      <th>54</th>\n",
       "      <td>1</td>\n",
       "      <td>1</td>\n",
       "    </tr>\n",
       "    <tr>\n",
       "      <th>66</th>\n",
       "      <td>1</td>\n",
       "      <td>1</td>\n",
       "    </tr>\n",
       "    <tr>\n",
       "      <th>71</th>\n",
       "      <td>1</td>\n",
       "      <td>1</td>\n",
       "    </tr>\n",
       "    <tr>\n",
       "      <th>73</th>\n",
       "      <td>1</td>\n",
       "      <td>1</td>\n",
       "    </tr>\n",
       "    <tr>\n",
       "      <th>83</th>\n",
       "      <td>1</td>\n",
       "      <td>1</td>\n",
       "    </tr>\n",
       "    <tr>\n",
       "      <th>86</th>\n",
       "      <td>1</td>\n",
       "      <td>1</td>\n",
       "    </tr>\n",
       "    <tr>\n",
       "      <th>92</th>\n",
       "      <td>1</td>\n",
       "      <td>1</td>\n",
       "    </tr>\n",
       "    <tr>\n",
       "      <th>96</th>\n",
       "      <td>1</td>\n",
       "      <td>1</td>\n",
       "    </tr>\n",
       "    <tr>\n",
       "      <th>99</th>\n",
       "      <td>1</td>\n",
       "      <td>1</td>\n",
       "    </tr>\n",
       "    <tr>\n",
       "      <th>101</th>\n",
       "      <td>1</td>\n",
       "      <td>1</td>\n",
       "    </tr>\n",
       "    <tr>\n",
       "      <th>104</th>\n",
       "      <td>1</td>\n",
       "      <td>1</td>\n",
       "    </tr>\n",
       "    <tr>\n",
       "      <th>109</th>\n",
       "      <td>1</td>\n",
       "      <td>1</td>\n",
       "    </tr>\n",
       "    <tr>\n",
       "      <th>110</th>\n",
       "      <td>1</td>\n",
       "      <td>1</td>\n",
       "    </tr>\n",
       "    <tr>\n",
       "      <th>114</th>\n",
       "      <td>1</td>\n",
       "      <td>1</td>\n",
       "    </tr>\n",
       "    <tr>\n",
       "      <th>116</th>\n",
       "      <td>1</td>\n",
       "      <td>1</td>\n",
       "    </tr>\n",
       "  </tbody>\n",
       "</table>\n",
       "</div>"
      ],
      "text/plain": [
       "     true  predict\n",
       "46      1        1\n",
       "54      1        1\n",
       "66      1        1\n",
       "71      1        1\n",
       "73      1        1\n",
       "83      1        1\n",
       "86      1        1\n",
       "92      1        1\n",
       "96      1        1\n",
       "99      1        1\n",
       "101     1        1\n",
       "104     1        1\n",
       "109     1        1\n",
       "110     1        1\n",
       "114     1        1\n",
       "116     1        1"
      ]
     },
     "execution_count": 53,
     "metadata": {},
     "output_type": "execute_result"
    }
   ],
   "source": [
    "val_pred[(val_pred['true']==1) & (val_pred['predict']==1)]"
   ]
  },
  {
   "cell_type": "code",
   "execution_count": 55,
   "id": "6e1406b9",
   "metadata": {},
   "outputs": [],
   "source": [
    "def get_image(plane,image_nr,model_name):\n",
    "    '''this functions gets interested image for CAM'''\n",
    "    image = np.load(f'../data/train_transform/{plane}.npy')\n",
    "    image=image[image_nr]\n",
    "    image = image.reshape(1,256,256,1)\n",
    "    \n",
    "    path_dir = r'C:\\Users\\USER\\DSI-roughpaper\\capstone\\data' \n",
    "    modelcam = load_model(f'{path_dir}\\{model_name}\\own_model.h5')\n",
    "    modelcam.layers[-1].activation  = None\n",
    "\n",
    "    preds = modelcam.predict(image)\n",
    "    print(\"Predicted:\", preds)\n",
    "    return image"
   ]
  },
  {
   "cell_type": "code",
   "execution_count": 30,
   "id": "7bfefecb",
   "metadata": {},
   "outputs": [
    {
     "name": "stdout",
     "output_type": "stream",
     "text": [
      "Model: \"sequential_1\"\n",
      "_________________________________________________________________\n",
      "Layer (type)                 Output Shape              Param #   \n",
      "=================================================================\n",
      "conv2d_2 (Conv2D)            (None, 256, 256, 6)       156       \n",
      "_________________________________________________________________\n",
      "batch_normalization_2 (Batch (None, 256, 256, 6)       24        \n",
      "_________________________________________________________________\n",
      "max_pooling2d_2 (MaxPooling2 (None, 128, 128, 6)       0         \n",
      "_________________________________________________________________\n",
      "conv2d_3 (Conv2D)            (None, 124, 124, 16)      2416      \n",
      "_________________________________________________________________\n",
      "batch_normalization_3 (Batch (None, 124, 124, 16)      64        \n",
      "_________________________________________________________________\n",
      "max_pooling2d_3 (MaxPooling2 (None, 62, 62, 16)        0         \n",
      "_________________________________________________________________\n",
      "flatten_1 (Flatten)          (None, 61504)             0         \n",
      "_________________________________________________________________\n",
      "dense_3 (Dense)              (None, 32)                1968160   \n",
      "_________________________________________________________________\n",
      "dropout_2 (Dropout)          (None, 32)                0         \n",
      "_________________________________________________________________\n",
      "dense_4 (Dense)              (None, 16)                528       \n",
      "_________________________________________________________________\n",
      "dropout_3 (Dropout)          (None, 16)                0         \n",
      "_________________________________________________________________\n",
      "dense_5 (Dense)              (None, 1)                 17        \n",
      "=================================================================\n",
      "Total params: 1,971,365\n",
      "Trainable params: 1,971,321\n",
      "Non-trainable params: 44\n",
      "_________________________________________________________________\n"
     ]
    }
   ],
   "source": [
    "# need to know the name of the last convulation layer\n",
    "modelcam = load_model('../data/hst_cmen/own_model.h5')\n",
    "modelcam.summary()"
   ]
  },
  {
   "cell_type": "code",
   "execution_count": 31,
   "id": "8b83f30a",
   "metadata": {},
   "outputs": [],
   "source": [
    "# https://keras.io/examples/vision/grad_cam/\n",
    "def save_and_display_gradcam(img, heatmap, cam_path=\"cam.jpg\", alpha=0.6):\n",
    "#     # Load the original image\n",
    "    img = img.reshape(256,256,1)\n",
    "    \n",
    "    # Rescale heatmap to a range 0-255\n",
    "    heatmap = np.uint8(255 * heatmap)\n",
    "\n",
    "    # Use jet colormap to colorize heatmap\n",
    "    jet = cm.get_cmap(\"jet\")\n",
    "\n",
    "    # Use RGB values of the colormap\n",
    "    jet_colors = jet(np.arange(256))[:, :3]\n",
    "    jet_heatmap = jet_colors[heatmap]\n",
    "\n",
    "    # Create an image with RGB colorized heatmap\n",
    "    jet_heatmap = array_to_img(jet_heatmap)\n",
    "    jet_heatmap = jet_heatmap.resize((img.shape[1], img.shape[0]))\n",
    "    jet_heatmap = img_to_array(jet_heatmap)\n",
    "\n",
    "    # Superimpose the heatmap on original image\n",
    "    superimposed_img = jet_heatmap * alpha + img\n",
    "    superimposed_img = array_to_img(superimposed_img)\n",
    "\n",
    "    # Save the superimposed image\n",
    "    superimposed_img.save(cam_path)\n",
    "\n",
    "    # Display Grad CAM\n",
    "    display(Image(cam_path))"
   ]
  },
  {
   "cell_type": "code",
   "execution_count": 56,
   "id": "0332f8af",
   "metadata": {},
   "outputs": [
    {
     "name": "stdout",
     "output_type": "stream",
     "text": [
      "WARNING:tensorflow:11 out of the last 11 calls to <function Model.make_predict_function.<locals>.predict_function at 0x00000226683D2C10> triggered tf.function retracing. Tracing is expensive and the excessive number of tracings could be due to (1) creating @tf.function repeatedly in a loop, (2) passing tensors with different shapes, (3) passing Python objects instead of tensors. For (1), please define your @tf.function outside of the loop. For (2), @tf.function has experimental_relax_shapes=True option that relaxes argument shapes that can avoid unnecessary retracing. For (3), please refer to https://www.tensorflow.org/tutorials/customization/performance#python_or_tensor_args and https://www.tensorflow.org/api_docs/python/tf/function for  more details.\n",
      "Predicted: [[-0.39647967]]\n"
     ]
    },
    {
     "data": {
      "image/png": "[encoded data removed]",
      "text/plain": [
       "<Figure size 288x288 with 1 Axes>"
      ]
     },
     "metadata": {
      "needs_background": "light"
     },
     "output_type": "display_data"
    },
    {
     "data": {
      "image/jpeg": "[encoded data removed]",
      "text/plain": [
       "<IPython.core.display.Image object>"
      ]
     },
     "metadata": {},
     "output_type": "display_data"
    }
   ],
   "source": [
    "image3 = get_image('axial',46,'hst_amen')\n",
    "last_conv_layer_name = 'conv2d_3'\n",
    "heatmap = make_gradcam_heatmap(image3, modelcam, last_conv_layer_name)\n",
    "plt.matshow(heatmap)\n",
    "plt.show()\n",
    "save_and_display_gradcam(image3, heatmap)"
   ]
  },
  {
   "cell_type": "markdown",
   "id": "f31952fd",
   "metadata": {},
   "source": [
    "The above image was classified as a mensicus tear. The model made that prediction based on the highlighted regions of the meniscus, in particular the region at the bottom right. So this made some sense. The highlighted region near the patella (top middle) was incorrectly identified as region of interest.  "
   ]
  }
 ],
 "metadata": {
  "kernelspec": {
   "display_name": "Python 3",
   "language": "python",
   "name": "python3"
  },
  "language_info": {
   "codemirror_mode": {
    "name": "ipython",
    "version": 3
   },
   "file_extension": ".py",
   "mimetype": "text/x-python",
   "name": "python",
   "nbconvert_exporter": "python",
   "pygments_lexer": "ipython3",
   "version": "3.8.8"
  },
  "toc": {
   "base_numbering": 1,
   "nav_menu": {},
   "number_sections": true,
   "sideBar": true,
   "skip_h1_title": false,
   "title_cell": "Table of Contents",
   "title_sidebar": "Contents",
   "toc_cell": false,
   "toc_position": {},
   "toc_section_display": true,
   "toc_window_display": true
  }
 },
 "nbformat": 4,
 "nbformat_minor": 5
}
