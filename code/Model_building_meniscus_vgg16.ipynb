{
  "nbformat": 4,
  "nbformat_minor": 5,
  "metadata": {
    "kernelspec": {
      "display_name": "Python 3",
      "language": "python",
      "name": "python3"
    },
    "language_info": {
      "codemirror_mode": {
        "name": "ipython",
        "version": 3
      },
      "file_extension": ".py",
      "mimetype": "text/x-python",
      "name": "python",
      "nbconvert_exporter": "python",
      "pygments_lexer": "ipython3",
      "version": "3.8.8"
    },
    "toc": {
      "base_numbering": 1,
      "nav_menu": {},
      "number_sections": true,
      "sideBar": true,
      "skip_h1_title": false,
      "title_cell": "Table of Contents",
      "title_sidebar": "Contents",
      "toc_cell": false,
      "toc_position": {
        "height": "747px",
        "left": "279px",
        "top": "323.133px",
        "width": "384px"
      },
      "toc_section_display": true,
      "toc_window_display": true
    },
    "colab": {
      "name": "Model_building_meniscus_vgg16.ipynb",
      "provenance": [],
      "collapsed_sections": []
    },
    "accelerator": "GPU"
  },
  "cells": [
    {
      "cell_type": "markdown",
      "metadata": {
        "id": "4c2b325d"
      },
      "source": [
        "# Capstone: Development of an algorithm for automatic detection of meniscus tears in radiographic images of the knee."
      ],
      "id": "4c2b325d"
    },
    {
      "cell_type": "markdown",
      "metadata": {
        "id": "dbc740b2"
      },
      "source": [
        "### Contents:\n",
        "- [Background](#Background)\n",
        "- [Data](#Data)\n",
        "\n"
      ],
      "id": "dbc740b2"
    },
    {
      "cell_type": "code",
      "metadata": {
        "colab": {
          "base_uri": "https://localhost:8080/"
        },
        "id": "63513338",
        "outputId": "af47e842-85e0-42c5-cedd-b516215fe747"
      },
      "source": [
        "from google.colab import drive\n",
        "drive.mount('/content/drive') "
      ],
      "id": "63513338",
      "execution_count": 1,
      "outputs": [
        {
          "output_type": "stream",
          "name": "stdout",
          "text": [
            "Mounted at /content/drive\n"
          ]
        }
      ]
    },
    {
      "cell_type": "code",
      "metadata": {
        "id": "68e9dab3"
      },
      "source": [
        "# Import libraries here\n",
        "import os\n",
        "import tempfile\n",
        "import numpy as np\n",
        "import pandas as pd\n",
        "import matplotlib.pyplot as plt\n",
        "import seaborn as sns\n",
        "from glob import glob\n",
        "\n",
        "import random as random\n",
        "import imageio\n",
        "import imgaug as ia\n",
        "import tensorflow as tf\n",
        "from tensorflow import keras\n",
        "from tensorflow.keras.preprocessing.image import save_img, load_img, img_to_array\n",
        "from tensorflow.keras.models import Sequential, Model, load_model\n",
        "from tensorflow.keras.layers import Dense, Dropout, Flatten, Conv2D, Conv3D, MaxPooling2D, MaxPooling3D, Average, Input, Activation, Reshape, TimeDistributed\n",
        "from tensorflow.keras import regularizers, optimizers\n",
        "from tensorflow.keras.callbacks import ModelCheckpoint, TensorBoard\n",
        "from tensorflow.keras import models, layers, utils\n",
        "from tensorflow.keras import backend as K\n",
        "from tensorflow.keras.applications.vgg16 import VGG16, preprocess_input, decode_predictions\n",
        "from tensorflow.keras.utils import plot_model\n",
        "pd.options.mode.chained_assignment = None  # default='warn'\n",
        "\n",
        "tmpdir = tempfile.mkdtemp()\n"
      ],
      "id": "68e9dab3",
      "execution_count": 2,
      "outputs": []
    },
    {
      "cell_type": "markdown",
      "metadata": {
        "id": "4d18c603"
      },
      "source": [
        "**Data from [MRNet](https://stanfordmlgroup.github.io/competitions/mrnet/):** \n",
        "* Images of 1370 knee MRI exams performed at Stanford University Medical Center. The dataset contains 1,104 (80.6%) abnormal exams,  with 319 (23.3%) ACL tears and 508 (37.1%) meniscal tears; labels were obtained through manual extraction from clinical reports. \n",
        "* train set: consists of 1130 MRI images from coronal, sagittal and transverse planes\n",
        "* valdation set: consists of 120 MRI images from coronal, sagittal and transverse planes\n"
      ],
      "id": "4d18c603"
    },
    {
      "cell_type": "markdown",
      "metadata": {
        "id": "a07d701a"
      },
      "source": [
        "## Data import"
      ],
      "id": "a07d701a"
    },
    {
      "cell_type": "markdown",
      "metadata": {
        "id": "64823312"
      },
      "source": [
        "**import data and get labels**"
      ],
      "id": "64823312"
    },
    {
      "cell_type": "code",
      "metadata": {
        "id": "7bb23e8a"
      },
      "source": [
        "# !unzip drive/My\\ Drive/data.zip > /dev/null"
      ],
      "id": "7bb23e8a",
      "execution_count": 3,
      "outputs": []
    },
    {
      "cell_type": "code",
      "metadata": {
        "id": "9ba4edc1"
      },
      "source": [
        "# /content/drive/MyDrive/Colab Notebooks/data"
      ],
      "id": "9ba4edc1",
      "execution_count": null,
      "outputs": []
    },
    {
      "cell_type": "code",
      "metadata": {
        "id": "47cfdcef"
      },
      "source": [
        "# train_path = '../data/train/'\n",
        "# valid_path = '../data/valid/'"
      ],
      "id": "47cfdcef",
      "execution_count": null,
      "outputs": []
    },
    {
      "cell_type": "code",
      "metadata": {
        "id": "293d6d9b"
      },
      "source": [
        "train_path = 'data/train/'\n",
        "valid_path = 'data/valid/'"
      ],
      "id": "293d6d9b",
      "execution_count": 4,
      "outputs": []
    },
    {
      "cell_type": "code",
      "metadata": {
        "id": "16c4233d"
      },
      "source": [
        "datasets = {'train': train_path, 'valid': valid_path}\n",
        "planes = ['axial', 'coronal', 'sagittal']\n",
        "# diagnosis = ['abnormal','meniscus','acl']"
      ],
      "id": "16c4233d",
      "execution_count": 5,
      "outputs": []
    },
    {
      "cell_type": "code",
      "metadata": {
        "id": "a1693737"
      },
      "source": [
        "def get_data(dataset_type, plane, diagnosis):\n",
        "    # for eg, (train, sagittal, acl)\n",
        "    if dataset_type == 'train':\n",
        "        go = train_path\n",
        "    else:\n",
        "        go = valid_path\n",
        "        \n",
        "#     img_path = glob(f'{go}/{plane}/*.npy')\n",
        "    plane_dir = f'{go}/{plane}'\n",
        "    data = os.listdir(plane_dir)\n",
        "    \n",
        "    # label_path = f'../data/{dataset_type}-{diagnosis}.csv'\n",
        "    label_path = f'data/{dataset_type}-{diagnosis}.csv'\n",
        "    label_df = pd.read_csv(label_path, names=['nr', diagnosis])\n",
        "    label_data = list(label_df[diagnosis])\n",
        "    \n",
        "    return(data, plane_dir, label_data)"
      ],
      "id": "a1693737",
      "execution_count": 6,
      "outputs": []
    },
    {
      "cell_type": "markdown",
      "metadata": {
        "id": "f4fbb8f0"
      },
      "source": [
        "**meniscus dataset**"
      ],
      "id": "f4fbb8f0"
    },
    {
      "cell_type": "code",
      "metadata": {
        "id": "ab41e366"
      },
      "source": [
        "# training data\n",
        "train_coronal_data, train_coronal_dir, train_men_label = get_data('train', 'coronal', 'meniscus')\n",
        "train_axial_data, train_axial_dir, train_men_label = get_data('train', 'axial', 'meniscus')\n",
        "train_sagittal_data, train_sagittal_dir, train_men_label = get_data('train', 'sagittal', 'meniscus')"
      ],
      "id": "ab41e366",
      "execution_count": 7,
      "outputs": []
    },
    {
      "cell_type": "code",
      "metadata": {
        "id": "ceed3ce2"
      },
      "source": [
        "# validation data\n",
        "valid_coronal_data, valid_coronal_dir, valid_men_label = get_data('valid','coronal','meniscus')\n",
        "valid_axial_data, valid_axial_dir, valid_men_label = get_data('valid','axial','meniscus')\n",
        "valid_sagittal_data, valid_sagittal_dir, valid_men_label = get_data('valid','sagittal','meniscus')"
      ],
      "id": "ceed3ce2",
      "execution_count": 8,
      "outputs": []
    },
    {
      "cell_type": "markdown",
      "metadata": {
        "id": "4b17a64e"
      },
      "source": [
        "The dataset contains *s* x 256 x 256 images. Since middle images are the most useful, only 3 middle slides in the series are retained. \n"
      ],
      "id": "4b17a64e"
    },
    {
      "cell_type": "code",
      "metadata": {
        "id": "a4e3ef1a"
      },
      "source": [
        "def image_extraction(data, path, new_path): #3 images\n",
        "    '''this function extracts middle 3 slides of each scan'''\n",
        "    extract=[]\n",
        "    new_data=[]\n",
        "    for i in range(len(data)): \n",
        "        img = np.load(os.path.join(path,data[i]))\n",
        "        middle_idx = int(img.shape[0]/2)\n",
        "        img = img[(middle_idx - 1) : (middle_idx + 2)]\n",
        "#         # reshape adapted for model (s x 256 x 256 x 1)\n",
        "#         img = np.repeat(img[..., np.newaxis], 1, -1)\n",
        "        img = img.reshape(256,256,3)\n",
        "        extract.extend(img)\n",
        "        new_data.append(np.array(extract))        \n",
        "        extract.clear()\n",
        "        \n",
        "#     new_data.shape(1130, 256, 256, 3) for train\n",
        "    np.save(new_path, np.array(new_data))\n"
      ],
      "id": "a4e3ef1a",
      "execution_count": 12,
      "outputs": []
    },
    {
      "cell_type": "markdown",
      "metadata": {
        "id": "ae735195"
      },
      "source": [
        "**image extraction for training data**"
      ],
      "id": "ae735195"
    },
    {
      "cell_type": "code",
      "metadata": {
        "id": "817ede38"
      },
      "source": [
        "# image extraction for 3 planes\n",
        "new_path = 'data/train_transform/coronal'\n",
        "image_extraction(train_coronal_data, train_coronal_dir, new_path)"
      ],
      "id": "817ede38",
      "execution_count": 14,
      "outputs": []
    },
    {
      "cell_type": "code",
      "metadata": {
        "id": "9eb7feee"
      },
      "source": [
        "new_path = 'data/train_transform/axial'\n",
        "image_extraction(train_axial_data, train_axial_dir, new_path)"
      ],
      "id": "9eb7feee",
      "execution_count": 15,
      "outputs": []
    },
    {
      "cell_type": "code",
      "metadata": {
        "id": "e5513d41"
      },
      "source": [
        "new_path = 'data/train_transform/sagittal'\n",
        "image_extraction(train_sagittal_data, train_sagittal_dir, new_path)"
      ],
      "id": "e5513d41",
      "execution_count": 16,
      "outputs": []
    },
    {
      "cell_type": "code",
      "metadata": {
        "id": "b424068a"
      },
      "source": [
        "image = np.load('data/train_transform/sagittal.npy')"
      ],
      "id": "b424068a",
      "execution_count": 17,
      "outputs": []
    },
    {
      "cell_type": "code",
      "metadata": {
        "colab": {
          "base_uri": "https://localhost:8080/"
        },
        "id": "f6f51599",
        "outputId": "9f4bbe87-a00e-4683-f2bc-6dd512e5d474"
      },
      "source": [
        "image[0].shape"
      ],
      "id": "f6f51599",
      "execution_count": 18,
      "outputs": [
        {
          "output_type": "execute_result",
          "data": {
            "text/plain": [
              "(256, 256, 3)"
            ]
          },
          "metadata": {},
          "execution_count": 18
        }
      ]
    },
    {
      "cell_type": "markdown",
      "metadata": {
        "id": "655a25e7"
      },
      "source": [
        "**extraction for validation data**"
      ],
      "id": "655a25e7"
    },
    {
      "cell_type": "code",
      "metadata": {
        "id": "4075e241"
      },
      "source": [
        "# image extraction for 3 planes\n",
        "new_path = 'data/valid_transform/coronal'\n",
        "image_extraction(valid_coronal_data, valid_coronal_dir, new_path)"
      ],
      "id": "4075e241",
      "execution_count": 19,
      "outputs": []
    },
    {
      "cell_type": "code",
      "metadata": {
        "id": "8143ff3a"
      },
      "source": [
        "new_path = 'data/valid_transform/axial'\n",
        "image_extraction(valid_axial_data, valid_axial_dir, new_path)"
      ],
      "id": "8143ff3a",
      "execution_count": 20,
      "outputs": []
    },
    {
      "cell_type": "code",
      "metadata": {
        "id": "321040bb"
      },
      "source": [
        "new_path = 'data/valid_transform/sagittal'\n",
        "image_extraction(valid_sagittal_data, valid_sagittal_dir, new_path)"
      ],
      "id": "321040bb",
      "execution_count": 21,
      "outputs": []
    },
    {
      "cell_type": "code",
      "metadata": {
        "colab": {
          "base_uri": "https://localhost:8080/"
        },
        "id": "ae92befc",
        "outputId": "e0824174-44d3-432f-e220-c01befcf1502"
      },
      "source": [
        "image = np.load('data/valid_transform/sagittal.npy')\n",
        "image.shape"
      ],
      "id": "ae92befc",
      "execution_count": 22,
      "outputs": [
        {
          "output_type": "execute_result",
          "data": {
            "text/plain": [
              "(120, 256, 256, 3)"
            ]
          },
          "metadata": {},
          "execution_count": 22
        }
      ]
    },
    {
      "cell_type": "markdown",
      "metadata": {
        "id": "caab6116"
      },
      "source": [
        "**data generation for meniscus**"
      ],
      "id": "caab6116"
    },
    {
      "cell_type": "code",
      "metadata": {
        "id": "eb0bdc7d"
      },
      "source": [
        "def data_gen(dataset_type, plane, diagnosis):\n",
        "    # for eg, (train, sagittal, mensicus)\n",
        "    if dataset_type == 'train':\n",
        "        go = 'data/train_transform/'\n",
        "    else:\n",
        "        go = 'data/valid_transform/'\n",
        "        \n",
        "    plane_dir = f'{go}/{plane}.npy'\n",
        "    \n",
        "    data = np.load(plane_dir)\n",
        "    # label_path = f'../data/{dataset_type}-{diagnosis}.csv'\n",
        "    label_path = f'data/{dataset_type}-{diagnosis}.csv'\n",
        "    label_df = pd.read_csv(label_path, names=['nr', diagnosis])\n",
        "    label_data = list(label_df[diagnosis])\n",
        "    \n",
        "    return(data, label_data)\n",
        "    "
      ],
      "id": "eb0bdc7d",
      "execution_count": 23,
      "outputs": []
    },
    {
      "cell_type": "code",
      "metadata": {
        "id": "44a41ff5"
      },
      "source": [
        "# generate training input\n",
        "coronal_mensicus, coronal_mensicus_label = data_gen('train', 'coronal', 'meniscus')\n",
        "axial_mensicus, axial_mensicus_label = data_gen('train', 'axial', 'meniscus')\n",
        "sagittal_mensicus, sagittal_mensicus_label = data_gen('train', 'sagittal', 'meniscus')\n",
        "\n",
        "# generate validation\n",
        "coronal_mensicus_val, coronal_mensicus_label_val  = data_gen('valid', 'coronal', 'meniscus')\n",
        "axial_mensicus_val, axial_mensicus_label_val  = data_gen('valid', 'axial', 'meniscus')\n",
        "sagittal_mensicus_val, sagittal_mensicus_label_val  = data_gen('valid', 'sagittal', 'meniscus')"
      ],
      "id": "44a41ff5",
      "execution_count": 24,
      "outputs": []
    },
    {
      "cell_type": "code",
      "metadata": {
        "id": "cff1d910"
      },
      "source": [
        "def plot_results(model):\n",
        "    train_loss = model.history['loss']\n",
        "    test_loss = model.history['val_loss']\n",
        "    acc = model.history['accuracy']\n",
        "    val_acc = model.history['val_accuracy']\n",
        "    epoch_labels = model.epoch\n",
        "\n",
        "    fig, axes = plt.subplots(1, 2, figsize=(20, 6), sharex=True)\n",
        "\n",
        "    axes[0].plot(train_loss, label='Training Loss', color='#185fad')\n",
        "    axes[0].plot(test_loss, label='Testing Loss', color='orange')\n",
        "\n",
        "    axes[1].plot(acc, label='Training accuracy', color='blue')\n",
        "    axes[1].plot(val_acc, label='Testing accuracy', color='red')\n",
        "\n",
        "    # Set title\n",
        "    axes[0].title.set_text('Training and Testing Loss by Epoch')\n",
        "    axes[1].title.set_text('Training and Testing Accuracy by Epoch')\n",
        "    axes[0].set_xlabel('Epoch')\n",
        "    axes[1].set_xlabel('Epoch')\n",
        "    axes[0].set_ylabel('Binary Crossentropy')\n",
        "    axes[1].set_ylabel('Binary Crossentropy')\n",
        "    plt.xticks(epoch_labels, epoch_labels);    \n",
        "    axes[0].legend(fontsize=18);\n",
        "    axes[1].legend(fontsize=18);\n"
      ],
      "id": "cff1d910",
      "execution_count": 25,
      "outputs": []
    },
    {
      "cell_type": "markdown",
      "metadata": {
        "id": "be86d27f"
      },
      "source": [
        "## Utilising pretrained model"
      ],
      "id": "be86d27f"
    },
    {
      "cell_type": "markdown",
      "metadata": {
        "id": "85851f67"
      },
      "source": [
        "### VGG\n"
      ],
      "id": "85851f67"
    },
    {
      "cell_type": "markdown",
      "metadata": {
        "id": "9300d445"
      },
      "source": [
        "The VGG model was created by [Oxford Visual Geometry Group](http://www.robots.ox.ac.uk/~vgg/) (VGG), which helped fueled transfer learning work on new predictive modeling tasks.\n",
        "\n",
        "Despite winning the ImageNet challenge in 2014, the VGG models (VGG16, VGG19) are no longer considered state-of-the-art. However, they are still powerful pre-trained models that are useful as the basis to build better predictive image classifiers, and a good foundation for this project.\n"
      ],
      "id": "9300d445"
    },
    {
      "cell_type": "code",
      "metadata": {
        "colab": {
          "base_uri": "https://localhost:8080/"
        },
        "id": "bd4943e1",
        "outputId": "ed476e35-4cba-4c57-8781-053ea89cac0c"
      },
      "source": [
        "model = VGG16()\n",
        "\n",
        "# display architecture\n",
        "print(model.summary())\n"
      ],
      "id": "bd4943e1",
      "execution_count": 26,
      "outputs": [
        {
          "output_type": "stream",
          "name": "stdout",
          "text": [
            "Downloading data from https://storage.googleapis.com/tensorflow/keras-applications/vgg16/vgg16_weights_tf_dim_ordering_tf_kernels.h5\n",
            "553467904/553467096 [==============================] - 7s 0us/step\n",
            "553476096/553467096 [==============================] - 7s 0us/step\n",
            "Model: \"vgg16\"\n",
            "_________________________________________________________________\n",
            "Layer (type)                 Output Shape              Param #   \n",
            "=================================================================\n",
            "input_1 (InputLayer)         [(None, 224, 224, 3)]     0         \n",
            "_________________________________________________________________\n",
            "block1_conv1 (Conv2D)        (None, 224, 224, 64)      1792      \n",
            "_________________________________________________________________\n",
            "block1_conv2 (Conv2D)        (None, 224, 224, 64)      36928     \n",
            "_________________________________________________________________\n",
            "block1_pool (MaxPooling2D)   (None, 112, 112, 64)      0         \n",
            "_________________________________________________________________\n",
            "block2_conv1 (Conv2D)        (None, 112, 112, 128)     73856     \n",
            "_________________________________________________________________\n",
            "block2_conv2 (Conv2D)        (None, 112, 112, 128)     147584    \n",
            "_________________________________________________________________\n",
            "block2_pool (MaxPooling2D)   (None, 56, 56, 128)       0         \n",
            "_________________________________________________________________\n",
            "block3_conv1 (Conv2D)        (None, 56, 56, 256)       295168    \n",
            "_________________________________________________________________\n",
            "block3_conv2 (Conv2D)        (None, 56, 56, 256)       590080    \n",
            "_________________________________________________________________\n",
            "block3_conv3 (Conv2D)        (None, 56, 56, 256)       590080    \n",
            "_________________________________________________________________\n",
            "block3_pool (MaxPooling2D)   (None, 28, 28, 256)       0         \n",
            "_________________________________________________________________\n",
            "block4_conv1 (Conv2D)        (None, 28, 28, 512)       1180160   \n",
            "_________________________________________________________________\n",
            "block4_conv2 (Conv2D)        (None, 28, 28, 512)       2359808   \n",
            "_________________________________________________________________\n",
            "block4_conv3 (Conv2D)        (None, 28, 28, 512)       2359808   \n",
            "_________________________________________________________________\n",
            "block4_pool (MaxPooling2D)   (None, 14, 14, 512)       0         \n",
            "_________________________________________________________________\n",
            "block5_conv1 (Conv2D)        (None, 14, 14, 512)       2359808   \n",
            "_________________________________________________________________\n",
            "block5_conv2 (Conv2D)        (None, 14, 14, 512)       2359808   \n",
            "_________________________________________________________________\n",
            "block5_conv3 (Conv2D)        (None, 14, 14, 512)       2359808   \n",
            "_________________________________________________________________\n",
            "block5_pool (MaxPooling2D)   (None, 7, 7, 512)         0         \n",
            "_________________________________________________________________\n",
            "flatten (Flatten)            (None, 25088)             0         \n",
            "_________________________________________________________________\n",
            "fc1 (Dense)                  (None, 4096)              102764544 \n",
            "_________________________________________________________________\n",
            "fc2 (Dense)                  (None, 4096)              16781312  \n",
            "_________________________________________________________________\n",
            "predictions (Dense)          (None, 1000)              4097000   \n",
            "=================================================================\n",
            "Total params: 138,357,544\n",
            "Trainable params: 138,357,544\n",
            "Non-trainable params: 0\n",
            "_________________________________________________________________\n",
            "None\n"
          ]
        }
      ]
    },
    {
      "cell_type": "code",
      "metadata": {
        "colab": {
          "base_uri": "https://localhost:8080/",
          "height": 1000
        },
        "id": "775db2f3",
        "outputId": "ba47f524-f51a-4f37-98c4-8cc7967623fd"
      },
      "source": [
        "plot_model(model, to_file='vgg.png')\n"
      ],
      "id": "775db2f3",
      "execution_count": 27,
      "outputs": [
        {
          "output_type": "execute_result",
          "data": {
            "image/png": "[encoded data removed]",
            "text/plain": [
              "<IPython.core.display.Image object>"
            ]
          },
          "metadata": {},
          "execution_count": 27
        }
      ]
    },
    {
      "cell_type": "code",
      "metadata": {
        "colab": {
          "base_uri": "https://localhost:8080/"
        },
        "id": "d7d68a1e",
        "outputId": "f9f47ceb-2302-49f1-fd3d-3b82e867d4b2"
      },
      "source": [
        "# https://machinelearningmastery.com/use-pre-trained-vgg-model-classify-objects-photographs/\n",
        "image = load_img('/content/drive/MyDrive/knee0000.png',target_size=(224,224))\n",
        "image = img_to_array(image)\n",
        "image = image.reshape((1, image.shape[0], image.shape[1], image.shape[2]))\n",
        "image = preprocess_input(image)\n",
        "yhat = model.predict(image)\n",
        "label = decode_predictions(yhat)\n",
        "label = label[0][0]\n",
        "print('%s (%.2f%%)' % (label[1], label[2]*100))\n"
      ],
      "id": "d7d68a1e",
      "execution_count": 30,
      "outputs": [
        {
          "output_type": "stream",
          "name": "stdout",
          "text": [
            "Downloading data from https://storage.googleapis.com/download.tensorflow.org/data/imagenet_class_index.json\n",
            "40960/35363 [==================================] - 0s 0us/step\n",
            "49152/35363 [=========================================] - 0s 0us/step\n",
            "lampshade (59.64%)\n"
          ]
        }
      ]
    },
    {
      "cell_type": "markdown",
      "metadata": {
        "id": "e568f75e"
      },
      "source": [
        "**VGG16 model**"
      ],
      "id": "e568f75e"
    },
    {
      "cell_type": "markdown",
      "metadata": {
        "id": "031e6e25"
      },
      "source": [
        "'include_top' argument is False, so that the fully-connected output layers of the model used to make predictions is not loaded, allowing a new output layer to be added and trained. \n",
        "Since 'include_top' argument is False, the 'input_tensor' argument must be specified, allowing the expected fixed-sized input of the model to be changed. \n",
        "Since there is no output layer, the 'pooling' argument will take the average output from the last layer directly. \n"
      ],
      "id": "031e6e25"
    },
    {
      "cell_type": "code",
      "metadata": {
        "id": "524c696a"
      },
      "source": [
        "def finetune_model(model_name, num_epochs, train_data, train_labels, validation_data, validation_labels):\n",
        "    # path_dir = r'C:\\Users\\USER\\DSI-roughpaper\\capstone\\data' \n",
        "    # weights_path = f'{path_dir}\\{model_name}\\\\add_weights.h5'\n",
        "    path_dir = '/content/drive/MyDrive' \n",
        "    weights_path = f'{path_dir}/{model_name}/new_weights.h5'\n",
        "    \n",
        "    new_input = Input(shape=(256, 256, 3))\n",
        "    model = VGG16(weights='imagenet', include_top=False, input_tensor=new_input)\n",
        "    \n",
        "    add_model = Sequential()\n",
        "    add_model.add(Flatten(input_shape=model.output_shape[1:]))\n",
        "    add_model.add(Dense(64, activation='relu'))\n",
        "    add_model.add(Dropout(0.5))\n",
        "    add_model.add(Dense(1, activation='sigmoid'))\n",
        "#     add_model.load_weights(weights_path)\n",
        "    \n",
        "    final_model = Model(inputs=model.input, outputs=add_model(model.output))\n",
        "    final_model.save_weights(weights_path)\n",
        "    \n",
        "    # weights will not be updated\n",
        "    for layer in model.layers[:15]:\n",
        "        layer.trainable = False\n",
        "        \n",
        "    sgd = optimizers.SGD(lr=1e-4, decay=1e-6, momentum=0.9, nesterov=False)\n",
        "    final_model.compile(optimizer=sgd, loss='binary_crossentropy', metrics=['accuracy'])\n",
        "    \n",
        "    history = final_model.fit(x=train_data, y=np.array(train_labels), \n",
        "            batch_size=32, \n",
        "            validation_data=(validation_data, np.array(validation_labels)),\n",
        "            epochs=num_epochs, \n",
        "            verbose=1)\n",
        "    \n",
        "    return final_model, history"
      ],
      "id": "524c696a",
      "execution_count": 31,
      "outputs": []
    },
    {
      "cell_type": "code",
      "metadata": {
        "colab": {
          "base_uri": "https://localhost:8080/",
          "height": 808
        },
        "id": "9227a065",
        "outputId": "5f54ece3-93fc-4c2d-b007-3bcf50cfde97"
      },
      "source": [
        "# coronal plane\n",
        "num_epochs=10\n",
        "\n",
        "cor_men_model, vgg_cor_men = finetune_model('vgg_cor_men', num_epochs, coronal_mensicus, coronal_mensicus_label, coronal_mensicus_val, coronal_mensicus_label_val)\n",
        "\n",
        "# get/plot accuracy\n",
        "vgg_cor_men_acc=[]\n",
        "vgg_cor_men_acc.append(np.mean(vgg_cor_men.history['val_accuracy']))\n",
        "plot_results(vgg_cor_men)"
      ],
      "id": "9227a065",
      "execution_count": 33,
      "outputs": [
        {
          "output_type": "stream",
          "name": "stderr",
          "text": [
            "/usr/local/lib/python3.7/dist-packages/keras/optimizer_v2/optimizer_v2.py:356: UserWarning: The `lr` argument is deprecated, use `learning_rate` instead.\n",
            "  \"The `lr` argument is deprecated, use `learning_rate` instead.\")\n"
          ]
        },
        {
          "output_type": "stream",
          "name": "stdout",
          "text": [
            "Epoch 1/10\n",
            "36/36 [==============================] - 42s 745ms/step - loss: 1.7931 - accuracy: 0.5805 - val_loss: 0.6722 - val_accuracy: 0.5667\n",
            "Epoch 2/10\n",
            "36/36 [==============================] - 12s 347ms/step - loss: 0.6568 - accuracy: 0.6478 - val_loss: 0.7184 - val_accuracy: 0.5667\n",
            "Epoch 3/10\n",
            "36/36 [==============================] - 12s 347ms/step - loss: 0.6523 - accuracy: 0.6310 - val_loss: 0.7014 - val_accuracy: 0.5667\n",
            "Epoch 4/10\n",
            "36/36 [==============================] - 12s 348ms/step - loss: 0.6356 - accuracy: 0.6504 - val_loss: 0.6797 - val_accuracy: 0.5750\n",
            "Epoch 5/10\n",
            "36/36 [==============================] - 13s 349ms/step - loss: 0.6340 - accuracy: 0.6434 - val_loss: 0.7026 - val_accuracy: 0.5667\n",
            "Epoch 6/10\n",
            "36/36 [==============================] - 13s 348ms/step - loss: 0.6183 - accuracy: 0.6646 - val_loss: 0.6942 - val_accuracy: 0.5833\n",
            "Epoch 7/10\n",
            "36/36 [==============================] - 13s 350ms/step - loss: 0.6056 - accuracy: 0.6743 - val_loss: 0.7125 - val_accuracy: 0.5750\n",
            "Epoch 8/10\n",
            "36/36 [==============================] - 13s 349ms/step - loss: 0.6003 - accuracy: 0.6876 - val_loss: 0.6936 - val_accuracy: 0.6000\n",
            "Epoch 9/10\n",
            "36/36 [==============================] - 13s 349ms/step - loss: 0.5847 - accuracy: 0.6708 - val_loss: 0.7052 - val_accuracy: 0.5667\n",
            "Epoch 10/10\n",
            "36/36 [==============================] - 13s 349ms/step - loss: 0.5648 - accuracy: 0.7186 - val_loss: 0.7655 - val_accuracy: 0.5833\n"
          ]
        },
        {
          "output_type": "display_data",
          "data": {
            "image/png": "[encoded data removed]",
            "text/plain": [
              "<Figure size 1440x432 with 2 Axes>"
            ]
          },
          "metadata": {
            "needs_background": "light"
          }
        }
      ]
    },
    {
      "cell_type": "code",
      "metadata": {
        "colab": {
          "base_uri": "https://localhost:8080/",
          "height": 808
        },
        "id": "7d1788a4",
        "outputId": "e1827903-804b-479e-8d5d-47e5bb873561"
      },
      "source": [
        "# axial plane\n",
        "num_epochs=10\n",
        "\n",
        "axl_men_model, vgg_axl_men = finetune_model('vgg_axl_men', num_epochs, axial_mensicus, axial_mensicus_label, axial_mensicus_val, axial_mensicus_label_val)\n",
        "\n",
        "# get/plot accuracy\n",
        "vgg_axl_men_acc=[]\n",
        "vgg_axl_men_acc.append(np.mean(vgg_axl_men.history['val_accuracy']))\n",
        "plot_results(vgg_axl_men)"
      ],
      "id": "7d1788a4",
      "execution_count": 34,
      "outputs": [
        {
          "output_type": "stream",
          "name": "stderr",
          "text": [
            "/usr/local/lib/python3.7/dist-packages/keras/optimizer_v2/optimizer_v2.py:356: UserWarning: The `lr` argument is deprecated, use `learning_rate` instead.\n",
            "  \"The `lr` argument is deprecated, use `learning_rate` instead.\")\n"
          ]
        },
        {
          "output_type": "stream",
          "name": "stdout",
          "text": [
            "Epoch 1/10\n",
            "36/36 [==============================] - 14s 355ms/step - loss: 1.7177 - accuracy: 0.6097 - val_loss: 0.7398 - val_accuracy: 0.5667\n",
            "Epoch 2/10\n",
            "36/36 [==============================] - 12s 345ms/step - loss: 0.6654 - accuracy: 0.6257 - val_loss: 0.6965 - val_accuracy: 0.5667\n",
            "Epoch 3/10\n",
            "36/36 [==============================] - 12s 346ms/step - loss: 0.6765 - accuracy: 0.6283 - val_loss: 0.6848 - val_accuracy: 0.5667\n",
            "Epoch 4/10\n",
            "36/36 [==============================] - 12s 348ms/step - loss: 0.6584 - accuracy: 0.6381 - val_loss: 0.6913 - val_accuracy: 0.5667\n",
            "Epoch 5/10\n",
            "36/36 [==============================] - 13s 348ms/step - loss: 0.6539 - accuracy: 0.6487 - val_loss: 0.6862 - val_accuracy: 0.5667\n",
            "Epoch 6/10\n",
            "36/36 [==============================] - 13s 349ms/step - loss: 0.6554 - accuracy: 0.6478 - val_loss: 0.6905 - val_accuracy: 0.5667\n",
            "Epoch 7/10\n",
            "36/36 [==============================] - 12s 348ms/step - loss: 0.6522 - accuracy: 0.6504 - val_loss: 0.6911 - val_accuracy: 0.5667\n",
            "Epoch 8/10\n",
            "36/36 [==============================] - 13s 349ms/step - loss: 0.6544 - accuracy: 0.6513 - val_loss: 0.6890 - val_accuracy: 0.5667\n",
            "Epoch 9/10\n",
            "36/36 [==============================] - 13s 349ms/step - loss: 0.6557 - accuracy: 0.6496 - val_loss: 0.7164 - val_accuracy: 0.5667\n",
            "Epoch 10/10\n",
            "36/36 [==============================] - 13s 348ms/step - loss: 0.6502 - accuracy: 0.6487 - val_loss: 0.6844 - val_accuracy: 0.5667\n"
          ]
        },
        {
          "output_type": "display_data",
          "data": {
            "image/png": "[encoded data removed]",
            "text/plain": [
              "<Figure size 1440x432 with 2 Axes>"
            ]
          },
          "metadata": {
            "needs_background": "light"
          }
        }
      ]
    },
    {
      "cell_type": "code",
      "metadata": {
        "colab": {
          "base_uri": "https://localhost:8080/",
          "height": 808
        },
        "id": "63804960",
        "outputId": "f7bd92de-e0c3-4c25-8451-8a184d44054b"
      },
      "source": [
        "# sagittal plane\n",
        "num_epochs=10\n",
        "\n",
        "sag_men_model, vgg_sag_men = finetune_model('vgg_sag_men', num_epochs, sagittal_mensicus, sagittal_mensicus_label, sagittal_mensicus_val, sagittal_mensicus_label_val)\n",
        "\n",
        "# get/plot accuracy\n",
        "vgg_sag_men_acc=[]\n",
        "vgg_sag_men_acc.append(np.mean(vgg_sag_men.history['val_accuracy']))\n",
        "plot_results(vgg_sag_men)"
      ],
      "id": "63804960",
      "execution_count": 35,
      "outputs": [
        {
          "output_type": "stream",
          "name": "stderr",
          "text": [
            "/usr/local/lib/python3.7/dist-packages/keras/optimizer_v2/optimizer_v2.py:356: UserWarning: The `lr` argument is deprecated, use `learning_rate` instead.\n",
            "  \"The `lr` argument is deprecated, use `learning_rate` instead.\")\n"
          ]
        },
        {
          "output_type": "stream",
          "name": "stdout",
          "text": [
            "Epoch 1/10\n",
            "36/36 [==============================] - 14s 364ms/step - loss: 2.0108 - accuracy: 0.5752 - val_loss: 0.7017 - val_accuracy: 0.5667\n",
            "Epoch 2/10\n",
            "36/36 [==============================] - 13s 349ms/step - loss: 0.6611 - accuracy: 0.6460 - val_loss: 0.6840 - val_accuracy: 0.5667\n",
            "Epoch 3/10\n",
            "36/36 [==============================] - 13s 349ms/step - loss: 0.6541 - accuracy: 0.6434 - val_loss: 0.6928 - val_accuracy: 0.5667\n",
            "Epoch 4/10\n",
            "36/36 [==============================] - 12s 348ms/step - loss: 0.6618 - accuracy: 0.6496 - val_loss: 0.6937 - val_accuracy: 0.5667\n",
            "Epoch 5/10\n",
            "36/36 [==============================] - 13s 349ms/step - loss: 0.6529 - accuracy: 0.6292 - val_loss: 0.6926 - val_accuracy: 0.5667\n",
            "Epoch 6/10\n",
            "36/36 [==============================] - 13s 349ms/step - loss: 0.6471 - accuracy: 0.6398 - val_loss: 0.6954 - val_accuracy: 0.5667\n",
            "Epoch 7/10\n",
            "36/36 [==============================] - 13s 349ms/step - loss: 0.6408 - accuracy: 0.6487 - val_loss: 0.7088 - val_accuracy: 0.5667\n",
            "Epoch 8/10\n",
            "36/36 [==============================] - 13s 349ms/step - loss: 0.6378 - accuracy: 0.6522 - val_loss: 0.6928 - val_accuracy: 0.5667\n",
            "Epoch 9/10\n",
            "36/36 [==============================] - 13s 349ms/step - loss: 0.6460 - accuracy: 0.6540 - val_loss: 0.7105 - val_accuracy: 0.5667\n",
            "Epoch 10/10\n",
            "36/36 [==============================] - 12s 348ms/step - loss: 0.6373 - accuracy: 0.6478 - val_loss: 0.7147 - val_accuracy: 0.5667\n"
          ]
        },
        {
          "output_type": "display_data",
          "data": {
            "image/png": "[encoded data removed]",
            "text/plain": [
              "<Figure size 1440x432 with 2 Axes>"
            ]
          },
          "metadata": {
            "needs_background": "light"
          }
        }
      ]
    },
    {
      "cell_type": "markdown",
      "metadata": {
        "id": "9a97c3c9"
      },
      "source": [
        "**calculate average accuracy**"
      ],
      "id": "9a97c3c9"
    },
    {
      "cell_type": "code",
      "metadata": {
        "colab": {
          "base_uri": "https://localhost:8080/"
        },
        "id": "b49874eb",
        "outputId": "67d46429-4a5e-458c-ca3d-bb506aac58d6"
      },
      "source": [
        "[vgg_cor_men_acc, vgg_axl_men_acc, vgg_sag_men_acc]"
      ],
      "id": "b49874eb",
      "execution_count": 36,
      "outputs": [
        {
          "output_type": "execute_result",
          "data": {
            "text/plain": [
              "[[0.5749999940395355], [0.5666666626930237], [0.5666666626930237]]"
            ]
          },
          "metadata": {},
          "execution_count": 36
        }
      ]
    },
    {
      "cell_type": "markdown",
      "metadata": {
        "id": "a008cfbb"
      },
      "source": [
        "### Evaluate results"
      ],
      "id": "a008cfbb"
    },
    {
      "cell_type": "code",
      "metadata": {
        "colab": {
          "base_uri": "https://localhost:8080/"
        },
        "id": "8e9b3081",
        "outputId": "b4a9aacd-f75d-4eb7-9c9a-d94f78cfc8a2"
      },
      "source": [
        "cor_men_scores = cor_men_model.evaluate(coronal_mensicus_val, np.array(coronal_mensicus_label_val), verbose=0)\n",
        "print('Test loss:', cor_men_scores[0]) \n",
        "print('Test accuracy:', cor_men_scores[1])"
      ],
      "id": "8e9b3081",
      "execution_count": 37,
      "outputs": [
        {
          "output_type": "stream",
          "name": "stdout",
          "text": [
            "Test loss: 0.7655132412910461\n",
            "Test accuracy: 0.5833333134651184\n"
          ]
        }
      ]
    },
    {
      "cell_type": "code",
      "metadata": {
        "id": "456525db"
      },
      "source": [
        "cor_pred = cor_men_model.predict(coronal_mensicus_val) \n",
        "axl_pred = axl_men_model.predict(axial_mensicus_val) \n",
        "sag_pred = sag_men_model.predict(sagittal_mensicus_val) "
      ],
      "id": "456525db",
      "execution_count": 38,
      "outputs": []
    },
    {
      "cell_type": "code",
      "metadata": {
        "id": "fb19e9a9"
      },
      "source": [
        "pred_men = pd.DataFrame(np.column_stack([cor_pred,axl_pred,sag_pred]),columns=['cor_pred', 'axl_pred', 'sag_pred'])\n",
        "pred_men['mean'] = pred_men.mean(axis=1)"
      ],
      "id": "fb19e9a9",
      "execution_count": 39,
      "outputs": []
    },
    {
      "cell_type": "code",
      "metadata": {
        "colab": {
          "base_uri": "https://localhost:8080/"
        },
        "id": "3a307522",
        "outputId": "ea04a15b-fb41-4e6e-e40e-c73d5e36afef"
      },
      "source": [
        "# since model output is [0,1] using sigmoid activation function\n",
        "# pred is the probability\n",
        "# take average probability from all 3 planes\n",
        "pred_men['mean']"
      ],
      "id": "3a307522",
      "execution_count": 40,
      "outputs": [
        {
          "output_type": "execute_result",
          "data": {
            "text/plain": [
              "0      0.352973\n",
              "1      0.317818\n",
              "2      0.302667\n",
              "3      0.289797\n",
              "4      0.319506\n",
              "         ...   \n",
              "115    0.334358\n",
              "116    0.302922\n",
              "117    0.300587\n",
              "118    0.371916\n",
              "119    0.327516\n",
              "Name: mean, Length: 120, dtype: float32"
            ]
          },
          "metadata": {},
          "execution_count": 40
        }
      ]
    },
    {
      "cell_type": "code",
      "metadata": {
        "id": "3aa1e29b"
      },
      "source": [
        "pred_men['mean'] = pred_men.mean(axis=1)"
      ],
      "id": "3aa1e29b",
      "execution_count": 41,
      "outputs": []
    },
    {
      "cell_type": "code",
      "metadata": {
        "id": "5d0e0a86"
      },
      "source": [
        "# if prob<0.5, it is 0.\n",
        "pred_men['predict'] = pred_men['mean'].map(lambda x: 0 if x<0.5 else 1)"
      ],
      "id": "5d0e0a86",
      "execution_count": 42,
      "outputs": []
    },
    {
      "cell_type": "code",
      "metadata": {
        "colab": {
          "base_uri": "https://localhost:8080/"
        },
        "id": "1635e3d2",
        "outputId": "b0aef2b8-8395-4fcd-a92f-a143d5ece4fe"
      },
      "source": [
        "pred_men['predict'].value_counts()"
      ],
      "id": "1635e3d2",
      "execution_count": 43,
      "outputs": [
        {
          "output_type": "execute_result",
          "data": {
            "text/plain": [
              "0    120\n",
              "Name: predict, dtype: int64"
            ]
          },
          "metadata": {},
          "execution_count": 43
        }
      ]
    },
    {
      "cell_type": "code",
      "metadata": {
        "id": "9ef15560"
      },
      "source": [
        "# labels are same for all planes\n",
        "pred_men['true'] = coronal_mensicus_label_val"
      ],
      "id": "9ef15560",
      "execution_count": 44,
      "outputs": []
    },
    {
      "cell_type": "code",
      "metadata": {
        "colab": {
          "base_uri": "https://localhost:8080/"
        },
        "id": "2a7ab648",
        "outputId": "fc19b009-f8e0-4bf7-8ca8-56f98afe37e6"
      },
      "source": [
        "pred_men[pred_men['true'] != pred_men['predict']].shape"
      ],
      "id": "2a7ab648",
      "execution_count": 45,
      "outputs": [
        {
          "output_type": "execute_result",
          "data": {
            "text/plain": [
              "(52, 6)"
            ]
          },
          "metadata": {},
          "execution_count": 45
        }
      ]
    },
    {
      "cell_type": "code",
      "metadata": {
        "colab": {
          "base_uri": "https://localhost:8080/",
          "height": 1000
        },
        "id": "59b1d8a1",
        "outputId": "d952b018-e0f4-4c07-db65-e8b56744de3d"
      },
      "source": [
        "pred_men[pred_men['true'] != pred_men['predict']]"
      ],
      "id": "59b1d8a1",
      "execution_count": 46,
      "outputs": [
        {
          "output_type": "execute_result",
          "data": {
            "text/html": [
              "<div>\n",
              "<style scoped>\n",
              "    .dataframe tbody tr th:only-of-type {\n",
              "        vertical-align: middle;\n",
              "    }\n",
              "\n",
              "    .dataframe tbody tr th {\n",
              "        vertical-align: top;\n",
              "    }\n",
              "\n",
              "    .dataframe thead th {\n",
              "        text-align: right;\n",
              "    }\n",
              "</style>\n",
              "<table border=\"1\" class=\"dataframe\">\n",
              "  <thead>\n",
              "    <tr style=\"text-align: right;\">\n",
              "      <th></th>\n",
              "      <th>cor_pred</th>\n",
              "      <th>axl_pred</th>\n",
              "      <th>sag_pred</th>\n",
              "      <th>mean</th>\n",
              "      <th>predict</th>\n",
              "      <th>true</th>\n",
              "    </tr>\n",
              "  </thead>\n",
              "  <tbody>\n",
              "    <tr>\n",
              "      <th>42</th>\n",
              "      <td>0.167426</td>\n",
              "      <td>0.441174</td>\n",
              "      <td>0.338907</td>\n",
              "      <td>0.315836</td>\n",
              "      <td>0</td>\n",
              "      <td>1</td>\n",
              "    </tr>\n",
              "    <tr>\n",
              "      <th>43</th>\n",
              "      <td>0.270140</td>\n",
              "      <td>0.371982</td>\n",
              "      <td>0.320803</td>\n",
              "      <td>0.320975</td>\n",
              "      <td>0</td>\n",
              "      <td>1</td>\n",
              "    </tr>\n",
              "    <tr>\n",
              "      <th>44</th>\n",
              "      <td>0.092610</td>\n",
              "      <td>0.336790</td>\n",
              "      <td>0.289592</td>\n",
              "      <td>0.239664</td>\n",
              "      <td>0</td>\n",
              "      <td>1</td>\n",
              "    </tr>\n",
              "    <tr>\n",
              "      <th>46</th>\n",
              "      <td>0.504455</td>\n",
              "      <td>0.423019</td>\n",
              "      <td>0.215382</td>\n",
              "      <td>0.380952</td>\n",
              "      <td>0</td>\n",
              "      <td>1</td>\n",
              "    </tr>\n",
              "    <tr>\n",
              "      <th>54</th>\n",
              "      <td>0.350496</td>\n",
              "      <td>0.379402</td>\n",
              "      <td>0.368943</td>\n",
              "      <td>0.366280</td>\n",
              "      <td>0</td>\n",
              "      <td>1</td>\n",
              "    </tr>\n",
              "    <tr>\n",
              "      <th>56</th>\n",
              "      <td>0.091276</td>\n",
              "      <td>0.353295</td>\n",
              "      <td>0.382492</td>\n",
              "      <td>0.275688</td>\n",
              "      <td>0</td>\n",
              "      <td>1</td>\n",
              "    </tr>\n",
              "    <tr>\n",
              "      <th>58</th>\n",
              "      <td>0.159603</td>\n",
              "      <td>0.454639</td>\n",
              "      <td>0.419377</td>\n",
              "      <td>0.344540</td>\n",
              "      <td>0</td>\n",
              "      <td>1</td>\n",
              "    </tr>\n",
              "    <tr>\n",
              "      <th>61</th>\n",
              "      <td>0.421990</td>\n",
              "      <td>0.373206</td>\n",
              "      <td>0.408116</td>\n",
              "      <td>0.401104</td>\n",
              "      <td>0</td>\n",
              "      <td>1</td>\n",
              "    </tr>\n",
              "    <tr>\n",
              "      <th>62</th>\n",
              "      <td>0.238835</td>\n",
              "      <td>0.446278</td>\n",
              "      <td>0.323033</td>\n",
              "      <td>0.336049</td>\n",
              "      <td>0</td>\n",
              "      <td>1</td>\n",
              "    </tr>\n",
              "    <tr>\n",
              "      <th>64</th>\n",
              "      <td>0.271352</td>\n",
              "      <td>0.345283</td>\n",
              "      <td>0.290926</td>\n",
              "      <td>0.302520</td>\n",
              "      <td>0</td>\n",
              "      <td>1</td>\n",
              "    </tr>\n",
              "    <tr>\n",
              "      <th>65</th>\n",
              "      <td>0.286194</td>\n",
              "      <td>0.365832</td>\n",
              "      <td>0.336689</td>\n",
              "      <td>0.329572</td>\n",
              "      <td>0</td>\n",
              "      <td>1</td>\n",
              "    </tr>\n",
              "    <tr>\n",
              "      <th>66</th>\n",
              "      <td>0.202908</td>\n",
              "      <td>0.319845</td>\n",
              "      <td>0.276726</td>\n",
              "      <td>0.266493</td>\n",
              "      <td>0</td>\n",
              "      <td>1</td>\n",
              "    </tr>\n",
              "    <tr>\n",
              "      <th>67</th>\n",
              "      <td>0.151259</td>\n",
              "      <td>0.305850</td>\n",
              "      <td>0.341897</td>\n",
              "      <td>0.266335</td>\n",
              "      <td>0</td>\n",
              "      <td>1</td>\n",
              "    </tr>\n",
              "    <tr>\n",
              "      <th>69</th>\n",
              "      <td>0.173297</td>\n",
              "      <td>0.384545</td>\n",
              "      <td>0.362195</td>\n",
              "      <td>0.306679</td>\n",
              "      <td>0</td>\n",
              "      <td>1</td>\n",
              "    </tr>\n",
              "    <tr>\n",
              "      <th>71</th>\n",
              "      <td>0.360759</td>\n",
              "      <td>0.413246</td>\n",
              "      <td>0.353433</td>\n",
              "      <td>0.375813</td>\n",
              "      <td>0</td>\n",
              "      <td>1</td>\n",
              "    </tr>\n",
              "    <tr>\n",
              "      <th>72</th>\n",
              "      <td>0.385712</td>\n",
              "      <td>0.407188</td>\n",
              "      <td>0.334364</td>\n",
              "      <td>0.375755</td>\n",
              "      <td>0</td>\n",
              "      <td>1</td>\n",
              "    </tr>\n",
              "    <tr>\n",
              "      <th>73</th>\n",
              "      <td>0.309286</td>\n",
              "      <td>0.332445</td>\n",
              "      <td>0.273083</td>\n",
              "      <td>0.304938</td>\n",
              "      <td>0</td>\n",
              "      <td>1</td>\n",
              "    </tr>\n",
              "    <tr>\n",
              "      <th>75</th>\n",
              "      <td>0.342027</td>\n",
              "      <td>0.397715</td>\n",
              "      <td>0.257632</td>\n",
              "      <td>0.332458</td>\n",
              "      <td>0</td>\n",
              "      <td>1</td>\n",
              "    </tr>\n",
              "    <tr>\n",
              "      <th>77</th>\n",
              "      <td>0.257569</td>\n",
              "      <td>0.364962</td>\n",
              "      <td>0.341709</td>\n",
              "      <td>0.321413</td>\n",
              "      <td>0</td>\n",
              "      <td>1</td>\n",
              "    </tr>\n",
              "    <tr>\n",
              "      <th>81</th>\n",
              "      <td>0.158138</td>\n",
              "      <td>0.342212</td>\n",
              "      <td>0.397137</td>\n",
              "      <td>0.299162</td>\n",
              "      <td>0</td>\n",
              "      <td>1</td>\n",
              "    </tr>\n",
              "    <tr>\n",
              "      <th>83</th>\n",
              "      <td>0.275012</td>\n",
              "      <td>0.370147</td>\n",
              "      <td>0.347304</td>\n",
              "      <td>0.330821</td>\n",
              "      <td>0</td>\n",
              "      <td>1</td>\n",
              "    </tr>\n",
              "    <tr>\n",
              "      <th>86</th>\n",
              "      <td>0.194119</td>\n",
              "      <td>0.370361</td>\n",
              "      <td>0.434220</td>\n",
              "      <td>0.332900</td>\n",
              "      <td>0</td>\n",
              "      <td>1</td>\n",
              "    </tr>\n",
              "    <tr>\n",
              "      <th>90</th>\n",
              "      <td>0.137014</td>\n",
              "      <td>0.465596</td>\n",
              "      <td>0.310077</td>\n",
              "      <td>0.304229</td>\n",
              "      <td>0</td>\n",
              "      <td>1</td>\n",
              "    </tr>\n",
              "    <tr>\n",
              "      <th>91</th>\n",
              "      <td>0.151954</td>\n",
              "      <td>0.409081</td>\n",
              "      <td>0.304683</td>\n",
              "      <td>0.288573</td>\n",
              "      <td>0</td>\n",
              "      <td>1</td>\n",
              "    </tr>\n",
              "    <tr>\n",
              "      <th>92</th>\n",
              "      <td>0.268844</td>\n",
              "      <td>0.436654</td>\n",
              "      <td>0.282756</td>\n",
              "      <td>0.329418</td>\n",
              "      <td>0</td>\n",
              "      <td>1</td>\n",
              "    </tr>\n",
              "    <tr>\n",
              "      <th>93</th>\n",
              "      <td>0.437906</td>\n",
              "      <td>0.362989</td>\n",
              "      <td>0.381499</td>\n",
              "      <td>0.394131</td>\n",
              "      <td>0</td>\n",
              "      <td>1</td>\n",
              "    </tr>\n",
              "    <tr>\n",
              "      <th>94</th>\n",
              "      <td>0.562383</td>\n",
              "      <td>0.279986</td>\n",
              "      <td>0.344273</td>\n",
              "      <td>0.395548</td>\n",
              "      <td>0</td>\n",
              "      <td>1</td>\n",
              "    </tr>\n",
              "    <tr>\n",
              "      <th>95</th>\n",
              "      <td>0.416159</td>\n",
              "      <td>0.332430</td>\n",
              "      <td>0.311064</td>\n",
              "      <td>0.353217</td>\n",
              "      <td>0</td>\n",
              "      <td>1</td>\n",
              "    </tr>\n",
              "    <tr>\n",
              "      <th>96</th>\n",
              "      <td>0.214451</td>\n",
              "      <td>0.347875</td>\n",
              "      <td>0.292046</td>\n",
              "      <td>0.284791</td>\n",
              "      <td>0</td>\n",
              "      <td>1</td>\n",
              "    </tr>\n",
              "    <tr>\n",
              "      <th>97</th>\n",
              "      <td>0.325361</td>\n",
              "      <td>0.363793</td>\n",
              "      <td>0.433025</td>\n",
              "      <td>0.374060</td>\n",
              "      <td>0</td>\n",
              "      <td>1</td>\n",
              "    </tr>\n",
              "    <tr>\n",
              "      <th>98</th>\n",
              "      <td>0.323604</td>\n",
              "      <td>0.323206</td>\n",
              "      <td>0.326900</td>\n",
              "      <td>0.324570</td>\n",
              "      <td>0</td>\n",
              "      <td>1</td>\n",
              "    </tr>\n",
              "    <tr>\n",
              "      <th>99</th>\n",
              "      <td>0.311213</td>\n",
              "      <td>0.328296</td>\n",
              "      <td>0.333758</td>\n",
              "      <td>0.324422</td>\n",
              "      <td>0</td>\n",
              "      <td>1</td>\n",
              "    </tr>\n",
              "    <tr>\n",
              "      <th>100</th>\n",
              "      <td>0.214031</td>\n",
              "      <td>0.374351</td>\n",
              "      <td>0.270199</td>\n",
              "      <td>0.286193</td>\n",
              "      <td>0</td>\n",
              "      <td>1</td>\n",
              "    </tr>\n",
              "    <tr>\n",
              "      <th>101</th>\n",
              "      <td>0.198962</td>\n",
              "      <td>0.347033</td>\n",
              "      <td>0.282316</td>\n",
              "      <td>0.276103</td>\n",
              "      <td>0</td>\n",
              "      <td>1</td>\n",
              "    </tr>\n",
              "    <tr>\n",
              "      <th>102</th>\n",
              "      <td>0.245934</td>\n",
              "      <td>0.370341</td>\n",
              "      <td>0.344850</td>\n",
              "      <td>0.320375</td>\n",
              "      <td>0</td>\n",
              "      <td>1</td>\n",
              "    </tr>\n",
              "    <tr>\n",
              "      <th>103</th>\n",
              "      <td>0.299357</td>\n",
              "      <td>0.390469</td>\n",
              "      <td>0.376438</td>\n",
              "      <td>0.355421</td>\n",
              "      <td>0</td>\n",
              "      <td>1</td>\n",
              "    </tr>\n",
              "    <tr>\n",
              "      <th>104</th>\n",
              "      <td>0.414744</td>\n",
              "      <td>0.370290</td>\n",
              "      <td>0.269569</td>\n",
              "      <td>0.351535</td>\n",
              "      <td>0</td>\n",
              "      <td>1</td>\n",
              "    </tr>\n",
              "    <tr>\n",
              "      <th>105</th>\n",
              "      <td>0.332802</td>\n",
              "      <td>0.375595</td>\n",
              "      <td>0.357081</td>\n",
              "      <td>0.355159</td>\n",
              "      <td>0</td>\n",
              "      <td>1</td>\n",
              "    </tr>\n",
              "    <tr>\n",
              "      <th>106</th>\n",
              "      <td>0.504942</td>\n",
              "      <td>0.448105</td>\n",
              "      <td>0.360898</td>\n",
              "      <td>0.437982</td>\n",
              "      <td>0</td>\n",
              "      <td>1</td>\n",
              "    </tr>\n",
              "    <tr>\n",
              "      <th>107</th>\n",
              "      <td>0.166535</td>\n",
              "      <td>0.330631</td>\n",
              "      <td>0.372283</td>\n",
              "      <td>0.289816</td>\n",
              "      <td>0</td>\n",
              "      <td>1</td>\n",
              "    </tr>\n",
              "    <tr>\n",
              "      <th>108</th>\n",
              "      <td>0.169509</td>\n",
              "      <td>0.380361</td>\n",
              "      <td>0.271381</td>\n",
              "      <td>0.273750</td>\n",
              "      <td>0</td>\n",
              "      <td>1</td>\n",
              "    </tr>\n",
              "    <tr>\n",
              "      <th>109</th>\n",
              "      <td>0.250229</td>\n",
              "      <td>0.315250</td>\n",
              "      <td>0.255004</td>\n",
              "      <td>0.273494</td>\n",
              "      <td>0</td>\n",
              "      <td>1</td>\n",
              "    </tr>\n",
              "    <tr>\n",
              "      <th>110</th>\n",
              "      <td>0.109371</td>\n",
              "      <td>0.295177</td>\n",
              "      <td>0.392541</td>\n",
              "      <td>0.265697</td>\n",
              "      <td>0</td>\n",
              "      <td>1</td>\n",
              "    </tr>\n",
              "    <tr>\n",
              "      <th>111</th>\n",
              "      <td>0.210828</td>\n",
              "      <td>0.416881</td>\n",
              "      <td>0.320061</td>\n",
              "      <td>0.315923</td>\n",
              "      <td>0</td>\n",
              "      <td>1</td>\n",
              "    </tr>\n",
              "    <tr>\n",
              "      <th>112</th>\n",
              "      <td>0.258714</td>\n",
              "      <td>0.344525</td>\n",
              "      <td>0.280363</td>\n",
              "      <td>0.294534</td>\n",
              "      <td>0</td>\n",
              "      <td>1</td>\n",
              "    </tr>\n",
              "    <tr>\n",
              "      <th>113</th>\n",
              "      <td>0.186064</td>\n",
              "      <td>0.413680</td>\n",
              "      <td>0.396543</td>\n",
              "      <td>0.332096</td>\n",
              "      <td>0</td>\n",
              "      <td>1</td>\n",
              "    </tr>\n",
              "    <tr>\n",
              "      <th>114</th>\n",
              "      <td>0.304121</td>\n",
              "      <td>0.310213</td>\n",
              "      <td>0.352586</td>\n",
              "      <td>0.322307</td>\n",
              "      <td>0</td>\n",
              "      <td>1</td>\n",
              "    </tr>\n",
              "    <tr>\n",
              "      <th>115</th>\n",
              "      <td>0.210892</td>\n",
              "      <td>0.452488</td>\n",
              "      <td>0.339694</td>\n",
              "      <td>0.334358</td>\n",
              "      <td>0</td>\n",
              "      <td>1</td>\n",
              "    </tr>\n",
              "    <tr>\n",
              "      <th>116</th>\n",
              "      <td>0.258596</td>\n",
              "      <td>0.407016</td>\n",
              "      <td>0.243154</td>\n",
              "      <td>0.302922</td>\n",
              "      <td>0</td>\n",
              "      <td>1</td>\n",
              "    </tr>\n",
              "    <tr>\n",
              "      <th>117</th>\n",
              "      <td>0.234001</td>\n",
              "      <td>0.359677</td>\n",
              "      <td>0.308083</td>\n",
              "      <td>0.300587</td>\n",
              "      <td>0</td>\n",
              "      <td>1</td>\n",
              "    </tr>\n",
              "    <tr>\n",
              "      <th>118</th>\n",
              "      <td>0.420470</td>\n",
              "      <td>0.360045</td>\n",
              "      <td>0.335234</td>\n",
              "      <td>0.371916</td>\n",
              "      <td>0</td>\n",
              "      <td>1</td>\n",
              "    </tr>\n",
              "    <tr>\n",
              "      <th>119</th>\n",
              "      <td>0.363748</td>\n",
              "      <td>0.333456</td>\n",
              "      <td>0.285345</td>\n",
              "      <td>0.327516</td>\n",
              "      <td>0</td>\n",
              "      <td>1</td>\n",
              "    </tr>\n",
              "  </tbody>\n",
              "</table>\n",
              "</div>"
            ],
            "text/plain": [
              "     cor_pred  axl_pred  sag_pred      mean  predict  true\n",
              "42   0.167426  0.441174  0.338907  0.315836        0     1\n",
              "43   0.270140  0.371982  0.320803  0.320975        0     1\n",
              "44   0.092610  0.336790  0.289592  0.239664        0     1\n",
              "46   0.504455  0.423019  0.215382  0.380952        0     1\n",
              "54   0.350496  0.379402  0.368943  0.366280        0     1\n",
              "56   0.091276  0.353295  0.382492  0.275688        0     1\n",
              "58   0.159603  0.454639  0.419377  0.344540        0     1\n",
              "61   0.421990  0.373206  0.408116  0.401104        0     1\n",
              "62   0.238835  0.446278  0.323033  0.336049        0     1\n",
              "64   0.271352  0.345283  0.290926  0.302520        0     1\n",
              "65   0.286194  0.365832  0.336689  0.329572        0     1\n",
              "66   0.202908  0.319845  0.276726  0.266493        0     1\n",
              "67   0.151259  0.305850  0.341897  0.266335        0     1\n",
              "69   0.173297  0.384545  0.362195  0.306679        0     1\n",
              "71   0.360759  0.413246  0.353433  0.375813        0     1\n",
              "72   0.385712  0.407188  0.334364  0.375755        0     1\n",
              "73   0.309286  0.332445  0.273083  0.304938        0     1\n",
              "75   0.342027  0.397715  0.257632  0.332458        0     1\n",
              "77   0.257569  0.364962  0.341709  0.321413        0     1\n",
              "81   0.158138  0.342212  0.397137  0.299162        0     1\n",
              "83   0.275012  0.370147  0.347304  0.330821        0     1\n",
              "86   0.194119  0.370361  0.434220  0.332900        0     1\n",
              "90   0.137014  0.465596  0.310077  0.304229        0     1\n",
              "91   0.151954  0.409081  0.304683  0.288573        0     1\n",
              "92   0.268844  0.436654  0.282756  0.329418        0     1\n",
              "93   0.437906  0.362989  0.381499  0.394131        0     1\n",
              "94   0.562383  0.279986  0.344273  0.395548        0     1\n",
              "95   0.416159  0.332430  0.311064  0.353217        0     1\n",
              "96   0.214451  0.347875  0.292046  0.284791        0     1\n",
              "97   0.325361  0.363793  0.433025  0.374060        0     1\n",
              "98   0.323604  0.323206  0.326900  0.324570        0     1\n",
              "99   0.311213  0.328296  0.333758  0.324422        0     1\n",
              "100  0.214031  0.374351  0.270199  0.286193        0     1\n",
              "101  0.198962  0.347033  0.282316  0.276103        0     1\n",
              "102  0.245934  0.370341  0.344850  0.320375        0     1\n",
              "103  0.299357  0.390469  0.376438  0.355421        0     1\n",
              "104  0.414744  0.370290  0.269569  0.351535        0     1\n",
              "105  0.332802  0.375595  0.357081  0.355159        0     1\n",
              "106  0.504942  0.448105  0.360898  0.437982        0     1\n",
              "107  0.166535  0.330631  0.372283  0.289816        0     1\n",
              "108  0.169509  0.380361  0.271381  0.273750        0     1\n",
              "109  0.250229  0.315250  0.255004  0.273494        0     1\n",
              "110  0.109371  0.295177  0.392541  0.265697        0     1\n",
              "111  0.210828  0.416881  0.320061  0.315923        0     1\n",
              "112  0.258714  0.344525  0.280363  0.294534        0     1\n",
              "113  0.186064  0.413680  0.396543  0.332096        0     1\n",
              "114  0.304121  0.310213  0.352586  0.322307        0     1\n",
              "115  0.210892  0.452488  0.339694  0.334358        0     1\n",
              "116  0.258596  0.407016  0.243154  0.302922        0     1\n",
              "117  0.234001  0.359677  0.308083  0.300587        0     1\n",
              "118  0.420470  0.360045  0.335234  0.371916        0     1\n",
              "119  0.363748  0.333456  0.285345  0.327516        0     1"
            ]
          },
          "metadata": {},
          "execution_count": 46
        }
      ]
    },
    {
      "cell_type": "markdown",
      "metadata": {
        "id": "TDK76KsXggSN"
      },
      "source": [
        "**export results to csv**"
      ],
      "id": "TDK76KsXggSN"
    },
    {
      "cell_type": "code",
      "metadata": {
        "id": "337bacda"
      },
      "source": [
        "pred_men.to_csv('/content/drive/MyDrive/vgg_pred_men_results.csv')"
      ],
      "id": "337bacda",
      "execution_count": 48,
      "outputs": []
    }
  ]
}