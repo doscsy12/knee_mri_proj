{
 "cells": [
  {
   "cell_type": "markdown",
   "id": "4c2b325d",
   "metadata": {
    "id": "4c2b325d"
   },
   "source": [
    "# Capstone: Development of an algorithm for automatic detection of meniscus tears in radiographic images of the knee."
   ]
  },
  {
   "cell_type": "markdown",
   "id": "dbc740b2",
   "metadata": {
    "id": "dbc740b2"
   },
   "source": [
    "### Contents:\n",
    "- [Background](#Background)\n",
    "- [Data](#Data)\n",
    "\n"
   ]
  },
  {
   "cell_type": "code",
   "execution_count": 1,
   "id": "63513338",
   "metadata": {
    "colab": {
     "base_uri": "https://localhost:8080/"
    },
    "executionInfo": {
     "elapsed": 20920,
     "status": "ok",
     "timestamp": 1635314967092,
     "user": {
      "displayName": "Sook Yee Chong",
      "photoUrl": "https://lh3.googleusercontent.com/a/default-user=s64",
      "userId": "10603357360192573387"
     },
     "user_tz": -480
    },
    "id": "63513338",
    "outputId": "b3840a56-97ac-4788-a727-ef366169a6c3"
   },
   "outputs": [
    {
     "name": "stdout",
     "output_type": "stream",
     "text": [
      "Mounted at /content/drive\n"
     ]
    }
   ],
   "source": [
    "from google.colab import drive\n",
    "drive.mount('/content/drive') "
   ]
  },
  {
   "cell_type": "code",
   "execution_count": 4,
   "id": "68e9dab3",
   "metadata": {
    "executionInfo": {
     "elapsed": 2176,
     "status": "ok",
     "timestamp": 1635315284555,
     "user": {
      "displayName": "Sook Yee Chong",
      "photoUrl": "https://lh3.googleusercontent.com/a/default-user=s64",
      "userId": "10603357360192573387"
     },
     "user_tz": -480
    },
    "id": "68e9dab3"
   },
   "outputs": [],
   "source": [
    "# Import libraries here\n",
    "import os\n",
    "import tempfile\n",
    "import numpy as np\n",
    "import pandas as pd\n",
    "import matplotlib.pyplot as plt\n",
    "import seaborn as sns\n",
    "from glob import glob\n",
    "\n",
    "import random as random\n",
    "import imageio\n",
    "import imgaug as ia\n",
    "import tensorflow as tf\n",
    "from tensorflow import keras\n",
    "from tensorflow.keras.preprocessing.image import save_img\n",
    "from tensorflow.keras.models import Sequential\n",
    "from tensorflow.keras.layers import Dense, Dropout, Flatten, Conv2D, MaxPooling2D, Average\n",
    "from tensorflow.keras import regularizers, optimizers\n",
    "from tensorflow.keras.callbacks import ModelCheckpoint, EarlyStopping, TensorBoard\n",
    "from tensorflow.keras import layers\n",
    "from tensorflow.keras import utils\n",
    "pd.options.mode.chained_assignment = None  # default='warn'\n",
    "\n",
    "import torch\n",
    "tmpdir = tempfile.mkdtemp()\n"
   ]
  },
  {
   "cell_type": "markdown",
   "id": "4d18c603",
   "metadata": {
    "id": "4d18c603"
   },
   "source": [
    "**Data from [MRNet](https://stanfordmlgroup.github.io/competitions/mrnet/):** \n",
    "* Images of 1370 knee MRI exams performed at Stanford University Medical Center. The dataset contains 1,104 (80.6%) abnormal exams,  with 319 (23.3%) ACL tears and 508 (37.1%) meniscal tears; labels were obtained through manual extraction from clinical reports. \n",
    "* train set: consists of 1130 MRI images from coronal, sagittal and transverse planes\n",
    "* valdation set: consists of 120 MRI images from coronal, sagittal and transverse planes\n"
   ]
  },
  {
   "cell_type": "markdown",
   "id": "a07d701a",
   "metadata": {
    "id": "a07d701a"
   },
   "source": [
    "## Data import"
   ]
  },
  {
   "cell_type": "markdown",
   "id": "e5d2aacd",
   "metadata": {
    "id": "e5d2aacd"
   },
   "source": [
    "### Training set\n"
   ]
  },
  {
   "cell_type": "markdown",
   "id": "64823312",
   "metadata": {
    "id": "64823312"
   },
   "source": [
    "**import data and get labels**"
   ]
  },
  {
   "cell_type": "code",
   "execution_count": 3,
   "id": "7bb23e8a",
   "metadata": {
    "executionInfo": {
     "elapsed": 282450,
     "status": "ok",
     "timestamp": 1635315281336,
     "user": {
      "displayName": "Sook Yee Chong",
      "photoUrl": "https://lh3.googleusercontent.com/a/default-user=s64",
      "userId": "10603357360192573387"
     },
     "user_tz": -480
    },
    "id": "7bb23e8a"
   },
   "outputs": [],
   "source": [
    "!unzip drive/My\\ Drive/data.zip > /dev/null"
   ]
  },
  {
   "cell_type": "code",
   "execution_count": null,
   "id": "9ba4edc1",
   "metadata": {
    "id": "9ba4edc1"
   },
   "outputs": [],
   "source": [
    "# /content/drive/MyDrive/Colab Notebooks/data"
   ]
  },
  {
   "cell_type": "code",
   "execution_count": null,
   "id": "47cfdcef",
   "metadata": {
    "id": "47cfdcef"
   },
   "outputs": [],
   "source": [
    "# train_path = '../data/train/'\n",
    "# valid_path = '../data/valid/'"
   ]
  },
  {
   "cell_type": "code",
   "execution_count": 5,
   "id": "293d6d9b",
   "metadata": {
    "executionInfo": {
     "elapsed": 436,
     "status": "ok",
     "timestamp": 1635315307819,
     "user": {
      "displayName": "Sook Yee Chong",
      "photoUrl": "https://lh3.googleusercontent.com/a/default-user=s64",
      "userId": "10603357360192573387"
     },
     "user_tz": -480
    },
    "id": "293d6d9b"
   },
   "outputs": [],
   "source": [
    "train_path = 'data/train/'\n",
    "valid_path = 'data/valid/'"
   ]
  },
  {
   "cell_type": "code",
   "execution_count": 6,
   "id": "16c4233d",
   "metadata": {
    "executionInfo": {
     "elapsed": 1102,
     "status": "ok",
     "timestamp": 1635315309520,
     "user": {
      "displayName": "Sook Yee Chong",
      "photoUrl": "https://lh3.googleusercontent.com/a/default-user=s64",
      "userId": "10603357360192573387"
     },
     "user_tz": -480
    },
    "id": "16c4233d"
   },
   "outputs": [],
   "source": [
    "datasets = {'train': train_path, 'valid': valid_path}\n",
    "planes = ['axial', 'coronal', 'sagittal']\n",
    "diagnosis = ['abnormal','meniscus','acl']"
   ]
  },
  {
   "cell_type": "code",
   "execution_count": 7,
   "id": "a1693737",
   "metadata": {
    "executionInfo": {
     "elapsed": 46,
     "status": "ok",
     "timestamp": 1635315309521,
     "user": {
      "displayName": "Sook Yee Chong",
      "photoUrl": "https://lh3.googleusercontent.com/a/default-user=s64",
      "userId": "10603357360192573387"
     },
     "user_tz": -480
    },
    "id": "a1693737"
   },
   "outputs": [],
   "source": [
    "def get_data(dataset_type, plane, diagnosis):\n",
    "    # for eg, (train, sagittal, acl)\n",
    "    if dataset_type == 'train':\n",
    "        go = train_path\n",
    "    else:\n",
    "        go = valid_path\n",
    "        \n",
    "#     img_path = glob(f'{go}/{plane}/*.npy')\n",
    "    plane_dir = f'{go}/{plane}'\n",
    "    data = os.listdir(plane_dir)\n",
    "    \n",
    "    # label_path = f'../data/{dataset_type}-{diagnosis}.csv'\n",
    "    label_path = f'data/{dataset_type}-{diagnosis}.csv'\n",
    "    label_df = pd.read_csv(label_path, names=['nr', diagnosis])\n",
    "    label_data = list(label_df[diagnosis])\n",
    "    \n",
    "    return(data, plane_dir, label_data)"
   ]
  },
  {
   "cell_type": "markdown",
   "id": "f4fbb8f0",
   "metadata": {
    "id": "f4fbb8f0"
   },
   "source": [
    "**meniscus dataset**"
   ]
  },
  {
   "cell_type": "code",
   "execution_count": 13,
   "id": "ab41e366",
   "metadata": {
    "executionInfo": {
     "elapsed": 36,
     "status": "ok",
     "timestamp": 1635315309527,
     "user": {
      "displayName": "Sook Yee Chong",
      "photoUrl": "https://lh3.googleusercontent.com/a/default-user=s64",
      "userId": "10603357360192573387"
     },
     "user_tz": -480
    },
    "id": "ab41e366"
   },
   "outputs": [],
   "source": [
    "# training data\n",
    "train_coronal_men_data, train_coronal_men_dir, train_coronal_men_label = get_data('train', 'coronal', 'meniscus')\n",
    "train_axial_men_data, train_axial_men_dir, train_axial_men_label = get_data('train', 'axial', 'meniscus')\n",
    "train_sagittal_men_data, train_sagittal_men_dir, train_sagittal_men_label = get_data('train', 'sagittal', 'meniscus')"
   ]
  },
  {
   "cell_type": "code",
   "execution_count": 14,
   "id": "ceed3ce2",
   "metadata": {
    "executionInfo": {
     "elapsed": 36,
     "status": "ok",
     "timestamp": 1635315309528,
     "user": {
      "displayName": "Sook Yee Chong",
      "photoUrl": "https://lh3.googleusercontent.com/a/default-user=s64",
      "userId": "10603357360192573387"
     },
     "user_tz": -480
    },
    "id": "ceed3ce2"
   },
   "outputs": [],
   "source": [
    "# validation data\n",
    "valid_coronal_men_data, valid_coronal_men_dir, valid_coronal_men_label = get_data('valid','coronal','meniscus')\n",
    "valid_axial_men_data, valid_axial_men_dir, valid_axial_men_label = get_data('valid','axial','meniscus')\n",
    "valid_sagittal_men_data, valid_sagittal_men_dir, valid_sagittal_men_label = get_data('valid','sagittal','meniscus')"
   ]
  },
  {
   "cell_type": "markdown",
   "id": "37ccd43f",
   "metadata": {
    "id": "37ccd43f"
   },
   "source": [
    "**data generation**"
   ]
  },
  {
   "cell_type": "code",
   "execution_count": 18,
   "id": "a274eefb",
   "metadata": {
    "executionInfo": {
     "elapsed": 37,
     "status": "ok",
     "timestamp": 1635315309532,
     "user": {
      "displayName": "Sook Yee Chong",
      "photoUrl": "https://lh3.googleusercontent.com/a/default-user=s64",
      "userId": "10603357360192573387"
     },
     "user_tz": -480
    },
    "id": "a274eefb"
   },
   "outputs": [],
   "source": [
    "# https://stackoverflow.com/questions/32171917/how-to-copy-a-2d-array-into-a-3rd-dimension-n-times\n",
    "def augment(image):\n",
    "    aug=[]\n",
    "    for s in range(len(image)):\n",
    "        # (resize is adapted for AlexNet (s x 277 x 277)\n",
    "        aug.append(ia.imresize_single_image(image[s], (256, 256)))\n",
    "#         aug.append(tf.image.resize(image, (277,277), method='bilinear'))\n",
    "        \n",
    "    aug = np.array(aug)\n",
    "#     img_rehape = aug.reshape(277, 277, 1)\n",
    "    # 3 means add color channel\n",
    "    aug_reshape = np.repeat(aug[..., np.newaxis], 3, -1)\n",
    "\n",
    "    return aug_reshape"
   ]
  },
  {
   "cell_type": "code",
   "execution_count": 19,
   "id": "d8949458",
   "metadata": {
    "executionInfo": {
     "elapsed": 36,
     "status": "ok",
     "timestamp": 1635315309533,
     "user": {
      "displayName": "Sook Yee Chong",
      "photoUrl": "https://lh3.googleusercontent.com/a/default-user=s64",
      "userId": "10603357360192573387"
     },
     "user_tz": -480
    },
    "id": "d8949458"
   },
   "outputs": [],
   "source": [
    "# Create a data generator which will perform real-time data feeding to the Keras model.\n",
    "# Generators do not store all the values in memory, they generate the values on the fly\n",
    "def data_gen(data, label, path, data_length):\n",
    "    all_data = list(zip(data,label))\n",
    "    random.shuffle(all_data)\n",
    "    i = 0\n",
    "    while(True):\n",
    "        if(i == data_length):\n",
    "#             yield(None,None)\n",
    "            break\n",
    "        for pair in all_data:\n",
    "#             if(pair[0] != '.DS_Store'):\n",
    "            img = np.load(os.path.join(path,pair[0]),allow_pickle=True)\n",
    "            img = img.astype(np.uint8)  # ensure data type range(0,255) before augmenting rgb\n",
    "            img_aug = augment(img) # add data augment here\n",
    "            yield(img_aug,np.repeat(pair[1],img_aug.shape[0]))\n",
    "        i += 1"
   ]
  },
  {
   "cell_type": "markdown",
   "id": "caab6116",
   "metadata": {
    "id": "caab6116"
   },
   "source": [
    "**data generation for meniscus**"
   ]
  },
  {
   "cell_type": "code",
   "execution_count": 22,
   "id": "eb0bdc7d",
   "metadata": {
    "executionInfo": {
     "elapsed": 37,
     "status": "ok",
     "timestamp": 1635315309537,
     "user": {
      "displayName": "Sook Yee Chong",
      "photoUrl": "https://lh3.googleusercontent.com/a/default-user=s64",
      "userId": "10603357360192573387"
     },
     "user_tz": -480
    },
    "id": "eb0bdc7d"
   },
   "outputs": [],
   "source": [
    "# data generation for train - meniscus\n",
    "coronal_meniscus = data_gen(train_coronal_men_data, train_coronal_men_label, train_coronal_men_dir, len(train_coronal_men_data))\n",
    "axial_meniscus = data_gen(train_axial_men_data, train_axial_men_label, train_axial_men_dir, len(train_axial_men_data))\n",
    "sagittal_meniscus = data_gen(train_sagittal_men_data, train_sagittal_men_label, train_sagittal_men_dir, len(train_sagittal_men_data))\n",
    "\n",
    "# data generation for validation - meniscus\n",
    "coronal_meniscus_val = data_gen(valid_coronal_men_data, valid_coronal_men_label, valid_coronal_men_dir, len(valid_coronal_men_data))\n",
    "axial_meniscus_val = data_gen(valid_axial_men_data, valid_axial_men_label, valid_axial_men_dir, len(valid_axial_men_data))\n",
    "sagittal_meniscus_val = data_gen(valid_sagittal_men_data, valid_sagittal_men_label, valid_sagittal_men_dir, len(valid_sagittal_men_data))"
   ]
  },
  {
   "cell_type": "markdown",
   "id": "925cfeef",
   "metadata": {
    "id": "925cfeef"
   },
   "source": [
    "## Model building"
   ]
  },
  {
   "cell_type": "markdown",
   "id": "87696fe0",
   "metadata": {
    "id": "87696fe0"
   },
   "source": [
    "**CNN**"
   ]
  },
  {
   "cell_type": "markdown",
   "id": "c2f4e4e9",
   "metadata": {
    "id": "c2f4e4e9"
   },
   "source": [
    "The code snippet below is the first model, a simple stack of 3 convolution layers with a ReLU activation and followed by max-pooling layers. This is very similar to the architectures that Yann LeCun built in the 1990s for image classification (with the exception of ReLU). In addition, two fully-connected layers were added, and end with a single unit and a sigmoid activation, which is perfect for a binary classification. "
   ]
  },
  {
   "cell_type": "code",
   "execution_count": 38,
   "id": "f1ae9383",
   "metadata": {
    "executionInfo": {
     "elapsed": 22,
     "status": "ok",
     "timestamp": 1635316379305,
     "user": {
      "displayName": "Sook Yee Chong",
      "photoUrl": "https://lh3.googleusercontent.com/a/default-user=s64",
      "userId": "10603357360192573387"
     },
     "user_tz": -480
    },
    "id": "f1ae9383"
   },
   "outputs": [],
   "source": [
    "def create_model():\n",
    "    model = Sequential()\n",
    "    \n",
    "    model.add(Conv2D(filters=32, \n",
    "                     kernel_size=(3, 3),\n",
    "                     activation='relu',\n",
    "                     input_shape=(256,256,3)))\n",
    "    model.add(MaxPooling2D(pool_size=(2, 2)))\n",
    "\n",
    "    model.add(Conv2D(filters=32, \n",
    "                     kernel_size=(3, 3), \n",
    "                     activation='relu'))\n",
    "    model.add(MaxPooling2D(pool_size=(2, 2)))\n",
    "\n",
    "    model.add(Conv2D(filters=64, \n",
    "                     kernel_size=(3, 3), \n",
    "                     activation='relu'))\n",
    "    model.add(MaxPooling2D(pool_size=(2, 2)))\n",
    "    \n",
    "    model.add(Flatten())\n",
    "    model.add(Dense(256, activation=\"relu\"))\n",
    "    model.add(Dropout(0.5))\n",
    "    model.add(Dense(1, activation=\"sigmoid\"))\n",
    "    \n",
    "    sgd = optimizers.SGD(learning_rate=1e-4, decay=1e-6, momentum=0.9, nesterov=True)\n",
    "    model.compile(optimizer=sgd, loss='binary_crossentropy', metrics=['accuracy'])\n",
    "    \n",
    "    return model"
   ]
  },
  {
   "cell_type": "markdown",
   "id": "6719e71c",
   "metadata": {
    "id": "6719e71c"
   },
   "source": [
    "SGD was used with a learning rate of 0.001 (instead of default value=0.01), and momentum of 0.09 (instead of default value=0). Adding momentum hyperparameter is better because it helps to accelerate gradients vector in the right direction, so enabling faster converging. SGD also enables the use of the Nesterov accelerated gradient (default=False) which makes a correction if the gradient is accelerating too fast, and enables increased responsiveness to a local minima. Unfortunately, tuning the arguments in SGD will mean time required to use the GPU to assess the model. In the early stages, the loss and accuracy were fluctuating with each epoch. This could mean that the learning rate for SGD was too high, more data points were required, better normalisation should be done, or more fine-tuning of the hyperparameters were required (the last reason was not possible due to limited GPU access). "
   ]
  },
  {
   "cell_type": "code",
   "execution_count": 39,
   "id": "4e86bef7",
   "metadata": {
    "colab": {
     "base_uri": "https://localhost:8080/"
    },
    "executionInfo": {
     "elapsed": 22,
     "status": "ok",
     "timestamp": 1635316379306,
     "user": {
      "displayName": "Sook Yee Chong",
      "photoUrl": "https://lh3.googleusercontent.com/a/default-user=s64",
      "userId": "10603357360192573387"
     },
     "user_tz": -480
    },
    "id": "4e86bef7",
    "outputId": "a7b2384c-de32-4bf1-992f-cf7fe74fb151"
   },
   "outputs": [
    {
     "name": "stdout",
     "output_type": "stream",
     "text": [
      "Model: \"sequential_4\"\n",
      "_________________________________________________________________\n",
      "Layer (type)                 Output Shape              Param #   \n",
      "=================================================================\n",
      "conv2d_12 (Conv2D)           (None, 254, 254, 32)      896       \n",
      "_________________________________________________________________\n",
      "max_pooling2d_12 (MaxPooling (None, 127, 127, 32)      0         \n",
      "_________________________________________________________________\n",
      "conv2d_13 (Conv2D)           (None, 125, 125, 32)      9248      \n",
      "_________________________________________________________________\n",
      "max_pooling2d_13 (MaxPooling (None, 62, 62, 32)        0         \n",
      "_________________________________________________________________\n",
      "conv2d_14 (Conv2D)           (None, 60, 60, 64)        18496     \n",
      "_________________________________________________________________\n",
      "max_pooling2d_14 (MaxPooling (None, 30, 30, 64)        0         \n",
      "_________________________________________________________________\n",
      "flatten_4 (Flatten)          (None, 57600)             0         \n",
      "_________________________________________________________________\n",
      "dense_8 (Dense)              (None, 256)               14745856  \n",
      "_________________________________________________________________\n",
      "dropout_4 (Dropout)          (None, 256)               0         \n",
      "_________________________________________________________________\n",
      "dense_9 (Dense)              (None, 1)                 257       \n",
      "=================================================================\n",
      "Total params: 14,774,753\n",
      "Trainable params: 14,774,753\n",
      "Non-trainable params: 0\n",
      "_________________________________________________________________\n"
     ]
    }
   ],
   "source": [
    "# display architecture\n",
    "model = create_model()\n",
    "model.summary()"
   ]
  },
  {
   "cell_type": "markdown",
   "id": "fef632cd",
   "metadata": {
    "id": "fef632cd"
   },
   "source": [
    "**predictions for abnormal dataset**"
   ]
  },
  {
   "cell_type": "code",
   "execution_count": 40,
   "id": "4c7eb7ab",
   "metadata": {
    "executionInfo": {
     "elapsed": 14,
     "status": "ok",
     "timestamp": 1635316379308,
     "user": {
      "displayName": "Sook Yee Chong",
      "photoUrl": "https://lh3.googleusercontent.com/a/default-user=s64",
      "userId": "10603357360192573387"
     },
     "user_tz": -480
    },
    "id": "4c7eb7ab"
   },
   "outputs": [],
   "source": [
    "def plot_results(model):\n",
    "    train_loss = model.history['loss']\n",
    "    test_loss = model.history['val_loss']\n",
    "    acc = model.history['accuracy']\n",
    "    val_acc = model.history['val_accuracy']\n",
    "    epoch_labels = model.epoch\n",
    "\n",
    "    fig, axes = plt.subplots(1, 2, figsize=(20, 6), sharex=True)\n",
    "\n",
    "    axes[0].plot(train_loss, label='Training Loss', color='#185fad')\n",
    "    axes[0].plot(test_loss, label='Testing Loss', color='orange')\n",
    "\n",
    "    axes[1].plot(acc, label='Training accuracy', color='blue')\n",
    "    axes[1].plot(val_acc, label='Testing accuracy', color='red')\n",
    "\n",
    "    # Set title\n",
    "    axes[0].title.set_text('Training and Testing Loss by Epoch')\n",
    "    axes[1].title.set_text('Training and Testing Accuracy by Epoch')\n",
    "    axes[0].set_xlabel('Epoch')\n",
    "    axes[1].set_xlabel('Epoch')\n",
    "    axes[0].set_ylabel('Binary Crossentropy')\n",
    "    axes[1].set_ylabel('Binary Crossentropy')\n",
    "    plt.xticks(epoch_labels, epoch_labels);    \n",
    "    axes[0].legend(fontsize=18);\n",
    "    axes[1].legend(fontsize=18);\n"
   ]
  },
  {
   "cell_type": "code",
   "execution_count": 41,
   "id": "7d65f591",
   "metadata": {
    "executionInfo": {
     "elapsed": 13,
     "status": "ok",
     "timestamp": 1635316379309,
     "user": {
      "displayName": "Sook Yee Chong",
      "photoUrl": "https://lh3.googleusercontent.com/a/default-user=s64",
      "userId": "10603357360192573387"
     },
     "user_tz": -480
    },
    "id": "7d65f591"
   },
   "outputs": [],
   "source": [
    "def model_train(model, model_name, num_epochs, train_data, validation_data): \n",
    "    # path_dir = r'C:\\Users\\USER\\DSI-roughpaper\\capstone\\data' \n",
    "    path_dir = '/content/drive/MyDrive' \n",
    "    path = f'{path_dir}/{model_name}/weights.h5'\n",
    "\n",
    "    model = create_model()\n",
    "    history = model.fit(train_data, \n",
    "                        batch_size=32, \n",
    "                        validation_data=validation_data,\n",
    "                        epochs=num_epochs, \n",
    "                        steps_per_epoch = 1096,  # len/batch_size\n",
    "                        validation_steps = 116,\n",
    "                        callbacks = [EarlyStopping(patience=2, monitor = 'val_loss', mode = 'min')], \n",
    "                        verbose=1)\n",
    "    \n",
    "    model.save_weights(path)\n",
    "    \n",
    "    return model, history"
   ]
  },
  {
   "cell_type": "markdown",
   "id": "d7853d20",
   "metadata": {
    "id": "d7853d20"
   },
   "source": [
    "steps_per_epoch is the the number of batch iterations before a training epoch is considered finished. It is used by calling the generator steps_per_epoch times. This needs to be specified since the dataset has dimensions 1130 x *s*, where *s* is the number of slides and ranges from 17-61 (from EDA). If this parameter is left out, the size is 'unknown', and it runs infinitely. Since I do not have the time to run through my entire dataset, I set this to about 1000. Setting at the length of the dataset of 1130 resulted in no changes to loss and accuracy. Setting it to 1096 (a little below 1130) showed *some* changes. A smaller number and the loss and accuracy fluctuates heavily. This is similar to validation_steps.\n",
    "<br>\n",
    "<br> batch_size was also another approximation. It seems that a larger batch may result in degradation of the quality of the model, since the model lacks the ability to generalise the dataset. \n"
   ]
  },
  {
   "cell_type": "markdown",
   "id": "54c8b5d1",
   "metadata": {
    "id": "54c8b5d1"
   },
   "source": [
    "**predictions for meniscus dataset**"
   ]
  },
  {
   "cell_type": "code",
   "execution_count": 42,
   "id": "11ca49fb",
   "metadata": {
    "colab": {
     "base_uri": "https://localhost:8080/",
     "height": 588
    },
    "executionInfo": {
     "elapsed": 503552,
     "status": "ok",
     "timestamp": 1635316882849,
     "user": {
      "displayName": "Sook Yee Chong",
      "photoUrl": "https://lh3.googleusercontent.com/a/default-user=s64",
      "userId": "10603357360192573387"
     },
     "user_tz": -480
    },
    "id": "11ca49fb",
    "outputId": "227aa763-6744-4af6-93d6-87e4252360c5"
   },
   "outputs": [
    {
     "name": "stdout",
     "output_type": "stream",
     "text": [
      "Epoch 1/10\n",
      "1096/1096 [==============================] - 96s 87ms/step - loss: 1.5832 - accuracy: 0.6354 - val_loss: 0.6749 - val_accuracy: 0.5954\n",
      "Epoch 2/10\n",
      "1096/1096 [==============================] - 95s 86ms/step - loss: 0.6572 - accuracy: 0.6449 - val_loss: 0.6836 - val_accuracy: 0.5924\n",
      "Epoch 3/10\n",
      "1096/1096 [==============================] - 94s 86ms/step - loss: 0.6555 - accuracy: 0.6389 - val_loss: 0.6744 - val_accuracy: 0.5993\n",
      "Epoch 4/10\n",
      "1096/1096 [==============================] - 94s 86ms/step - loss: 0.6488 - accuracy: 0.6429 - val_loss: 0.6778 - val_accuracy: 0.5845\n",
      "Epoch 5/10\n",
      "1096/1096 [==============================] - 94s 86ms/step - loss: 0.6437 - accuracy: 0.6420 - val_loss: 0.6766 - val_accuracy: 0.5907\n"
     ]
    },
    {
     "data": {
      "image/png": "[encoded data removed]",
      "text/plain": [
       "<Figure size 1440x432 with 2 Axes>"
      ]
     },
     "metadata": {
      "needs_background": "light"
     },
     "output_type": "display_data"
    }
   ],
   "source": [
    "num_epochs = 10\n",
    "cnn_model = create_model()\n",
    "hst_cmen_model, hst_cmen = model_train(cnn_model, 'hst_cmen', num_epochs, coronal_meniscus, coronal_meniscus_val)\n",
    "\n",
    "# get/plot accuracy\n",
    "hst_cmen_acc=[]\n",
    "hst_cmen_acc.append(np.mean(hst_cmen.history['val_accuracy']))\n",
    "plot_results(hst_cmen)"
   ]
  },
  {
   "cell_type": "code",
   "execution_count": 43,
   "id": "18c23811",
   "metadata": {
    "colab": {
     "base_uri": "https://localhost:8080/",
     "height": 514
    },
    "executionInfo": {
     "elapsed": 326779,
     "status": "ok",
     "timestamp": 1635317209601,
     "user": {
      "displayName": "Sook Yee Chong",
      "photoUrl": "https://lh3.googleusercontent.com/a/default-user=s64",
      "userId": "10603357360192573387"
     },
     "user_tz": -480
    },
    "id": "18c23811",
    "outputId": "64568508-f8b9-42ee-e548-3399bd6e9a8a"
   },
   "outputs": [
    {
     "name": "stdout",
     "output_type": "stream",
     "text": [
      "Epoch 1/10\n",
      "1096/1096 [==============================] - 113s 103ms/step - loss: 1.1249 - accuracy: 0.6321 - val_loss: 0.6835 - val_accuracy: 0.5815\n",
      "Epoch 2/10\n",
      "1096/1096 [==============================] - 106s 97ms/step - loss: 0.6608 - accuracy: 0.6432 - val_loss: 0.6867 - val_accuracy: 0.5706\n",
      "Epoch 3/10\n",
      "1096/1096 [==============================] - 106s 97ms/step - loss: 0.6554 - accuracy: 0.6432 - val_loss: 0.6840 - val_accuracy: 0.5781\n"
     ]
    },
    {
     "data": {
      "image/png": "[encoded data removed]",
      "text/plain": [
       "<Figure size 1440x432 with 2 Axes>"
      ]
     },
     "metadata": {
      "needs_background": "light"
     },
     "output_type": "display_data"
    }
   ],
   "source": [
    "num_epochs = 10\n",
    "cnn_model = create_model()\n",
    "hst_amen_model, hst_amen = model_train(cnn_model, 'hst_amen', num_epochs, axial_meniscus, axial_meniscus_val)\n",
    "\n",
    "# get/plot accuracy\n",
    "hst_amen_acc=[]\n",
    "hst_amen_acc.append(np.mean(hst_amen.history['val_accuracy']))\n",
    "plot_results(hst_amen)"
   ]
  },
  {
   "cell_type": "code",
   "execution_count": 44,
   "id": "ce0f43d7",
   "metadata": {
    "colab": {
     "base_uri": "https://localhost:8080/",
     "height": 514
    },
    "executionInfo": {
     "elapsed": 323299,
     "status": "ok",
     "timestamp": 1635317532860,
     "user": {
      "displayName": "Sook Yee Chong",
      "photoUrl": "https://lh3.googleusercontent.com/a/default-user=s64",
      "userId": "10603357360192573387"
     },
     "user_tz": -480
    },
    "id": "ce0f43d7",
    "outputId": "54ae8fd5-3828-4b4c-a16f-4ffcfebd37b7"
   },
   "outputs": [
    {
     "name": "stdout",
     "output_type": "stream",
     "text": [
      "Epoch 1/10\n",
      "1096/1096 [==============================] - 99s 90ms/step - loss: 1.4332 - accuracy: 0.6363 - val_loss: 0.6774 - val_accuracy: 0.5968\n",
      "Epoch 2/10\n",
      "1096/1096 [==============================] - 96s 87ms/step - loss: 0.6634 - accuracy: 0.6404 - val_loss: 0.6831 - val_accuracy: 0.5877\n",
      "Epoch 3/10\n",
      "1096/1096 [==============================] - 95s 87ms/step - loss: 0.6565 - accuracy: 0.6424 - val_loss: 0.6809 - val_accuracy: 0.5840\n"
     ]
    },
    {
     "data": {
      "image/png": "[encoded data removed]",
      "text/plain": [
       "<Figure size 1440x432 with 2 Axes>"
      ]
     },
     "metadata": {
      "needs_background": "light"
     },
     "output_type": "display_data"
    }
   ],
   "source": [
    "num_epochs = 10\n",
    "cnn_model = create_model()\n",
    "hst_smen_model, hst_smen = model_train(cnn_model, 'hst_smen', num_epochs, sagittal_meniscus, sagittal_meniscus_val)\n",
    "\n",
    "# get/plot accuracy\n",
    "hst_smen_acc=[]\n",
    "hst_smen_acc.append(np.mean(hst_smen.history['val_accuracy']))\n",
    "plot_results(hst_smen)"
   ]
  }
 ],
 "metadata": {
  "accelerator": "GPU",
  "colab": {
   "collapsed_sections": [],
   "name": "Model_building_meniscus_own_fulldata.ipynb",
   "provenance": []
  },
  "kernelspec": {
   "display_name": "Python 3",
   "language": "python",
   "name": "python3"
  },
  "language_info": {
   "codemirror_mode": {
    "name": "ipython",
    "version": 3
   },
   "file_extension": ".py",
   "mimetype": "text/x-python",
   "name": "python",
   "nbconvert_exporter": "python",
   "pygments_lexer": "ipython3",
   "version": "3.8.8"
  },
  "toc": {
   "base_numbering": 1,
   "nav_menu": {},
   "number_sections": true,
   "sideBar": true,
   "skip_h1_title": false,
   "title_cell": "Table of Contents",
   "title_sidebar": "Contents",
   "toc_cell": false,
   "toc_position": {
    "height": "747px",
    "left": "279px",
    "top": "323.133px",
    "width": "384px"
   },
   "toc_section_display": true,
   "toc_window_display": true
  }
 },
 "nbformat": 4,
 "nbformat_minor": 5
}
