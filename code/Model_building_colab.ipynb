{
  "nbformat": 4,
  "nbformat_minor": 5,
  "metadata": {
    "kernelspec": {
      "display_name": "Python 3",
      "language": "python",
      "name": "python3"
    },
    "language_info": {
      "codemirror_mode": {
        "name": "ipython",
        "version": 3
      },
      "file_extension": ".py",
      "mimetype": "text/x-python",
      "name": "python",
      "nbconvert_exporter": "python",
      "pygments_lexer": "ipython3",
      "version": "3.8.8"
    },
    "toc": {
      "base_numbering": 1,
      "nav_menu": {},
      "number_sections": true,
      "sideBar": true,
      "skip_h1_title": false,
      "title_cell": "Table of Contents",
      "title_sidebar": "Contents",
      "toc_cell": false,
      "toc_position": {
        "height": "747px",
        "left": "279px",
        "top": "323.133px",
        "width": "384px"
      },
      "toc_section_display": true,
      "toc_window_display": true
    },
    "colab": {
      "name": "Model_building_colab.ipynb",
      "provenance": [],
      "collapsed_sections": []
    },
    "accelerator": "GPU"
  },
  "cells": [
    {
      "cell_type": "markdown",
      "metadata": {
        "id": "4c2b325d"
      },
      "source": [
        "# Capstone: Development of an algorithm for automatic detection of meniscus tears in radiographic images of the knee."
      ],
      "id": "4c2b325d"
    },
    {
      "cell_type": "code",
      "metadata": {
        "colab": {
          "base_uri": "https://localhost:8080/"
        },
        "id": "c1e0c401",
        "outputId": "ef339aee-ff73-4106-cbee-4aa8cc28a4a9"
      },
      "source": [
        "from google.colab import drive\n",
        "drive.mount('/content/drive') "
      ],
      "id": "c1e0c401",
      "execution_count": 1,
      "outputs": [
        {
          "output_type": "stream",
          "name": "stdout",
          "text": [
            "Mounted at /content/drive\n"
          ]
        }
      ]
    },
    {
      "cell_type": "markdown",
      "metadata": {
        "id": "dbc740b2"
      },
      "source": [
        "### Contents:\n",
        "- [Background](#Background)\n",
        "- [Data](#Data)\n",
        "\n"
      ],
      "id": "dbc740b2"
    },
    {
      "cell_type": "code",
      "metadata": {
        "id": "68e9dab3"
      },
      "source": [
        "# Import libraries here\n",
        "import os\n",
        "import tempfile\n",
        "import numpy as np\n",
        "import pandas as pd\n",
        "import matplotlib.pyplot as plt\n",
        "import seaborn as sns\n",
        "from glob import glob\n",
        "\n",
        "import random as random\n",
        "import imageio\n",
        "import imgaug as ia\n",
        "import tensorflow as tf\n",
        "from tensorflow import keras\n",
        "from tensorflow.keras.preprocessing.image import save_img\n",
        "from tensorflow.keras.models import Sequential\n",
        "from tensorflow.keras.layers import Dense, Dropout, Flatten, Conv2D, MaxPooling2D, Average\n",
        "from tensorflow.keras import regularizers, optimizers\n",
        "from tensorflow.keras.callbacks import ModelCheckpoint, TensorBoard\n",
        "from tensorflow.keras import layers\n",
        "from tensorflow.keras import utils\n",
        "pd.options.mode.chained_assignment = None  # default='warn'\n",
        "\n",
        "import torch\n",
        "tmpdir = tempfile.mkdtemp()\n"
      ],
      "id": "68e9dab3",
      "execution_count": 2,
      "outputs": []
    },
    {
      "cell_type": "markdown",
      "metadata": {
        "id": "4d18c603"
      },
      "source": [
        "**Data from [MRNet](https://stanfordmlgroup.github.io/competitions/mrnet/):** \n",
        "* Images of 1370 knee MRI exams performed at Stanford University Medical Center. The dataset contains 1,104 (80.6%) abnormal exams,  with 319 (23.3%) ACL tears and 508 (37.1%) meniscal tears; labels were obtained through manual extraction from clinical reports. \n",
        "* train set: consists of 1130 MRI images from coronal, sagittal and transverse planes\n",
        "* valdation set: consists of 120 MRI images from coronal, sagittal and transverse planes\n"
      ],
      "id": "4d18c603"
    },
    {
      "cell_type": "markdown",
      "metadata": {
        "id": "a07d701a"
      },
      "source": [
        "## Data import"
      ],
      "id": "a07d701a"
    },
    {
      "cell_type": "markdown",
      "metadata": {
        "id": "e5d2aacd"
      },
      "source": [
        "### Training set\n"
      ],
      "id": "e5d2aacd"
    },
    {
      "cell_type": "markdown",
      "metadata": {
        "id": "64823312"
      },
      "source": [
        "**import data and get labels**"
      ],
      "id": "64823312"
    },
    {
      "cell_type": "code",
      "metadata": {
        "id": "5291eb0b"
      },
      "source": [
        "!unzip drive/My\\ Drive/data.zip > /dev/null"
      ],
      "id": "5291eb0b",
      "execution_count": 3,
      "outputs": []
    },
    {
      "cell_type": "code",
      "metadata": {
        "id": "9ba4edc1"
      },
      "source": [
        "# /content/drive/MyDrive/Colab Notebooks/data"
      ],
      "id": "9ba4edc1",
      "execution_count": null,
      "outputs": []
    },
    {
      "cell_type": "code",
      "metadata": {
        "id": "9c7ec39f"
      },
      "source": [
        "# labels_train_abnormal = pd.read_csv('../data/train-abnormal.csv', names=['nr','abnormal'])\n",
        "# labels_train_meniscus = pd.read_csv('../data/train-meniscus.csv', names=['nr','meniscus'])\n",
        "# labels_train_acl = pd.read_csv('../data/train-acl.csv', names=['nr','acl'])"
      ],
      "id": "9c7ec39f",
      "execution_count": null,
      "outputs": []
    },
    {
      "cell_type": "code",
      "metadata": {
        "id": "6deaa9bc"
      },
      "source": [
        "# labels_valid_abnormal = pd.read_csv('../data/valid-abnormal.csv', names=['nr','abnormal'])\n",
        "# labels_valid_meniscus = pd.read_csv('../data/valid-meniscus.csv', names=['nr','meniscus'])\n",
        "# labels_valid_acl = pd.read_csv('../data/valid-acl.csv', names=['nr','acl'])"
      ],
      "id": "6deaa9bc",
      "execution_count": null,
      "outputs": []
    },
    {
      "cell_type": "code",
      "metadata": {
        "id": "47cfdcef"
      },
      "source": [
        "# train_path = '../data/train/'\n",
        "# valid_path = '../data/valid/'"
      ],
      "id": "47cfdcef",
      "execution_count": null,
      "outputs": []
    },
    {
      "cell_type": "code",
      "metadata": {
        "id": "9917fb5e"
      },
      "source": [
        "train_path = 'data/train/'\n",
        "valid_path = 'data/valid/'"
      ],
      "id": "9917fb5e",
      "execution_count": 11,
      "outputs": []
    },
    {
      "cell_type": "code",
      "metadata": {
        "id": "16c4233d"
      },
      "source": [
        "datasets = {'train': train_path, 'valid': valid_path}\n",
        "planes = ['axial', 'coronal', 'sagittal']\n",
        "diagnosis = ['abnormal','meniscus','acl']"
      ],
      "id": "16c4233d",
      "execution_count": 12,
      "outputs": []
    },
    {
      "cell_type": "code",
      "metadata": {
        "id": "a1693737"
      },
      "source": [
        "def get_data(dataset_type, plane, diagnosis):\n",
        "    # for eg, (train, sagittal, acl)\n",
        "    if dataset_type == 'train':\n",
        "        go = train_path\n",
        "    else:\n",
        "        go = valid_path\n",
        "        \n",
        "#     img_path = glob(f'{go}/{plane}/*.npy')\n",
        "    plane_dir = f'{go}/{plane}'\n",
        "    data = os.listdir(plane_dir)\n",
        "    \n",
        "    label_path = f'data/{dataset_type}-{diagnosis}.csv'\n",
        "    label_df = pd.read_csv(label_path, names=['nr', diagnosis])\n",
        "    label_data = list(label_df[diagnosis])\n",
        "    \n",
        "    return(data, plane_dir, label_data)"
      ],
      "id": "a1693737",
      "execution_count": 4,
      "outputs": []
    },
    {
      "cell_type": "markdown",
      "metadata": {
        "id": "ae5dc15e"
      },
      "source": [
        "**abnormal dataset**"
      ],
      "id": "ae5dc15e"
    },
    {
      "cell_type": "code",
      "metadata": {
        "id": "6bccda64"
      },
      "source": [
        "# # training data\n",
        "# train_coronal_ab_data, train_coronal_ab_dir, train_coronal_ab_label = get_data('train', 'coronal', 'abnormal')\n",
        "# train_axial_ab_data, train_axial_ab_dir, train_axial_ab_label = get_data('train', 'axial', 'abnormal')\n",
        "# train_sagittal_ab_data, train_sagittal_ab_dir, train_sagittal_ab_label = get_data('train', 'sagittal', 'abnormal')"
      ],
      "id": "6bccda64",
      "execution_count": 5,
      "outputs": []
    },
    {
      "cell_type": "code",
      "metadata": {
        "id": "d2958be3"
      },
      "source": [
        "# # validation data\n",
        "# valid_coronal_ab_data, valid_coronal_ab_dir, valid_coronal_ab_label = get_data('valid','coronal','abnormal')\n",
        "# valid_axial_ab_data, valid_axial_ab_dir, valid_axial_ab_label = get_data('valid','axial','abnormal')\n",
        "# valid_sagittal_ab_data, valid_sagittal_ab_dir, valid_sagittal_ab_label = get_data('valid','sagittal','abnormal')"
      ],
      "id": "d2958be3",
      "execution_count": 6,
      "outputs": []
    },
    {
      "cell_type": "code",
      "metadata": {
        "id": "1a95e046"
      },
      "source": [
        "# # unfortunately also includes '.DS_Store' file\n",
        "# train_coronal_ab_data"
      ],
      "id": "1a95e046",
      "execution_count": 7,
      "outputs": []
    },
    {
      "cell_type": "code",
      "metadata": {
        "id": "f671e27e"
      },
      "source": [
        "# len(train_coronal_ab_data)"
      ],
      "id": "f671e27e",
      "execution_count": 8,
      "outputs": []
    },
    {
      "cell_type": "code",
      "metadata": {
        "id": "414365e3"
      },
      "source": [
        "# train_coronal_ab_label"
      ],
      "id": "414365e3",
      "execution_count": 9,
      "outputs": []
    },
    {
      "cell_type": "markdown",
      "metadata": {
        "id": "a9aa8002"
      },
      "source": [
        "**meniscus dataset**"
      ],
      "id": "a9aa8002"
    },
    {
      "cell_type": "code",
      "metadata": {
        "id": "b4e972cf"
      },
      "source": [
        "# training data\n",
        "train_coronal_men_data, train_coronal_men_dir, train_coronal_men_label = get_data('train', 'coronal', 'meniscus')\n",
        "train_axial_men_data, train_axial_men_dir, train_axial_men_label = get_data('train', 'axial', 'meniscus')\n",
        "train_sagittal_men_data, train_sagittal_men_dir, train_sagittal_men_label = get_data('train', 'sagittal', 'meniscus')"
      ],
      "id": "b4e972cf",
      "execution_count": 13,
      "outputs": []
    },
    {
      "cell_type": "code",
      "metadata": {
        "id": "9610f783"
      },
      "source": [
        "# validation data\n",
        "valid_coronal_men_data, valid_coronal_men_dir, valid_coronal_men_label = get_data('valid','coronal','meniscus')\n",
        "valid_axial_men_data, valid_axial_men_dir, valid_axial_men_label = get_data('valid','axial','meniscus')\n",
        "valid_sagittal_men_data, valid_sagittal_men_dir, valid_sagittal_men_label = get_data('valid','sagittal','meniscus')"
      ],
      "id": "9610f783",
      "execution_count": 14,
      "outputs": []
    },
    {
      "cell_type": "markdown",
      "metadata": {
        "id": "e296be80"
      },
      "source": [
        "**acl dataset**"
      ],
      "id": "e296be80"
    },
    {
      "cell_type": "code",
      "metadata": {
        "id": "9867bc18"
      },
      "source": [
        "# # training data\n",
        "# train_coronal_acl_data, train_coronal_acl_dir, train_coronal_acl_label = get_data('train', 'coronal', 'acl')\n",
        "# train_axial_acl_data, train_axial_acl_dir, train_axial_acl_label = get_data('train', 'axial', 'acl')\n",
        "# train_sagittal_acl_data, train_sagittal_acl_dir, train_sagittal_acl_label = get_data('train', 'sagittal', 'acl')"
      ],
      "id": "9867bc18",
      "execution_count": null,
      "outputs": []
    },
    {
      "cell_type": "code",
      "metadata": {
        "id": "b1ee5039"
      },
      "source": [
        "# # validation data\n",
        "# valid_coronal_acl_data, valid_coronal_acl_dir, valid_coronal_acl_label = get_data('valid','coronal','acl')\n",
        "# valid_axial_acl_data, valid_axial_acl_dir, valid_axial_acl_label = get_data('valid','axial','acl')\n",
        "# valid_sagittal_acl_data, valid_sagittal_acl_dir, valid_sagittal_acl_label = get_data('valid','sagittal','acl')"
      ],
      "id": "b1ee5039",
      "execution_count": null,
      "outputs": []
    },
    {
      "cell_type": "markdown",
      "metadata": {
        "id": "e9a1de2b"
      },
      "source": [
        "**data generation**"
      ],
      "id": "e9a1de2b"
    },
    {
      "cell_type": "code",
      "metadata": {
        "id": "a274eefb"
      },
      "source": [
        "# https://stackoverflow.com/questions/32171917/how-to-copy-a-2d-array-into-a-3rd-dimension-n-times\n",
        "def augment(image):\n",
        "    aug=[]\n",
        "    for s in range(len(image)):\n",
        "        # (resize is adapted for AlexNet (s x 277 x 277)\n",
        "        aug.append(ia.imresize_single_image(image[s], (277, 277)))\n",
        "#         aug.append(tf.image.resize(image, (277,277), method='bilinear'))\n",
        "        \n",
        "    aug = np.array(aug)\n",
        "#     img_rehape = aug.reshape(277, 277, 1)\n",
        "    # 3 means add color channel\n",
        "    # reshape adapted for AlexNet (s x 277 x 277 x 3)\n",
        "    aug_reshape = np.repeat(aug[..., np.newaxis], 1, -1)\n",
        "\n",
        "    return aug_reshape"
      ],
      "id": "a274eefb",
      "execution_count": 15,
      "outputs": []
    },
    {
      "cell_type": "code",
      "metadata": {
        "id": "d8949458"
      },
      "source": [
        "# Create a data generator which will perform real-time data feeding to the Keras model.\n",
        "# Generators do not store all the values in memory, they generate the values on the fly\n",
        "def data_gen(data, label, path, data_length):\n",
        "    all_data = list(zip(data,label))\n",
        "    random.shuffle(all_data)\n",
        "    i = 0\n",
        "    while(True):\n",
        "        if(i == data_length):\n",
        "#             yield(None,None)\n",
        "            break\n",
        "        for pair in all_data:\n",
        "            if(pair[0] != '.DS_Store'):\n",
        "                img = np.load(os.path.join(path,pair[0]),allow_pickle=True)\n",
        "                img = img.astype(np.uint8)  # ensure data type range(0,255) before augmenting rgb\n",
        "                img_aug = augment(img) # add data augment here\n",
        "                yield(img_aug,np.repeat(pair[1],img_aug.shape[0]))\n",
        "        i += 1"
      ],
      "id": "d8949458",
      "execution_count": 16,
      "outputs": []
    },
    {
      "cell_type": "markdown",
      "metadata": {
        "id": "042586e5"
      },
      "source": [
        "**data generation for abnormal**"
      ],
      "id": "042586e5"
    },
    {
      "cell_type": "code",
      "metadata": {
        "id": "dee87058"
      },
      "source": [
        "# # data generation for train - abnormal\n",
        "# coronal_abnormal = data_gen(train_coronal_ab_data, train_coronal_ab_label, train_coronal_ab_dir, len(train_coronal_ab_data))\n",
        "# axial_abnormal = data_gen(train_axial_ab_data, train_axial_ab_label, train_axial_ab_dir, len(train_axial_ab_data))\n",
        "# sagittal_abnormal = data_gen(train_sagittal_ab_data, train_sagittal_ab_label, train_sagittal_ab_dir, len(train_sagittal_ab_data))\n",
        "\n",
        "# # data generation for validation - abnormal\n",
        "# coronal_abnormal_val = data_gen(valid_coronal_ab_data, valid_coronal_ab_label, valid_coronal_ab_dir, len(valid_coronal_ab_data))\n",
        "# axial_abnormal_val = data_gen(valid_axial_ab_data, valid_axial_ab_label, valid_axial_ab_dir, len(valid_axial_ab_data))\n",
        "# sagittal_abnormal_val = data_gen(valid_sagittal_ab_data, valid_sagittal_ab_label, valid_sagittal_ab_dir, len(valid_sagittal_ab_data))"
      ],
      "id": "dee87058",
      "execution_count": null,
      "outputs": []
    },
    {
      "cell_type": "code",
      "metadata": {
        "id": "d1c3c418"
      },
      "source": [
        "# check generator\n",
        "# for i in coronal_abnormal:\n",
        "#     print(i)"
      ],
      "id": "d1c3c418",
      "execution_count": null,
      "outputs": []
    },
    {
      "cell_type": "markdown",
      "metadata": {
        "id": "5b447aec"
      },
      "source": [
        "**data generation for meniscus**"
      ],
      "id": "5b447aec"
    },
    {
      "cell_type": "code",
      "metadata": {
        "id": "02045b9b"
      },
      "source": [
        "# data generation for train - meniscus\n",
        "coronal_meniscus = data_gen(train_coronal_men_data, train_coronal_men_label, train_coronal_men_dir, len(train_coronal_men_data))\n",
        "axial_meniscus = data_gen(train_axial_men_data, train_axial_men_label, train_axial_men_dir, len(train_axial_men_data))\n",
        "sagittal_meniscus = data_gen(train_sagittal_men_data, train_sagittal_men_label, train_sagittal_men_dir, len(train_sagittal_men_data))\n",
        "\n",
        "# data generation for validation - meniscus\n",
        "coronal_meniscus_val = data_gen(valid_coronal_men_data, valid_coronal_men_label, valid_coronal_men_dir, len(valid_coronal_men_data))\n",
        "axial_meniscus_val = data_gen(valid_axial_men_data, valid_axial_men_label, valid_axial_men_dir, len(valid_axial_men_data))\n",
        "sagittal_meniscus_val = data_gen(valid_sagittal_men_data, valid_sagittal_men_label, valid_sagittal_men_dir, len(valid_sagittal_men_data))"
      ],
      "id": "02045b9b",
      "execution_count": 17,
      "outputs": []
    },
    {
      "cell_type": "markdown",
      "metadata": {
        "id": "d0817987"
      },
      "source": [
        "**data generation for acl**"
      ],
      "id": "d0817987"
    },
    {
      "cell_type": "code",
      "metadata": {
        "id": "7a75c934"
      },
      "source": [
        "# # data generation for train - acl\n",
        "# coronal_acl = data_gen(train_coronal_acl_data, train_coronal_acl_label, train_coronal_acl_dir, len(train_coronal_acl_data))\n",
        "# axial_acl = data_gen(train_axial_acl_data, train_axial_acl_label, train_axial_acl_dir, len(train_axial_acl_data))\n",
        "# sagittal_acl = data_gen(train_sagittal_acl_data, train_sagittal_acl_label, train_sagittal_acl_dir, len(train_sagittal_acl_data))\n",
        "\n",
        "# # data generation for validation - acl\n",
        "# coronal_acl_val = data_gen(valid_coronal_acl_data, valid_coronal_acl_label, valid_coronal_acl_dir, len(valid_coronal_acl_data))\n",
        "# axial_acl_val = data_gen(valid_axial_acl_data, valid_axial_acl_label, valid_axial_acl_dir, len(valid_axial_acl_data))\n",
        "# sagittal_acl_val = data_gen(valid_sagittal_acl_data, valid_sagittal_acl_label, valid_sagittal_acl_dir, len(valid_sagittal_acl_data))"
      ],
      "id": "7a75c934",
      "execution_count": null,
      "outputs": []
    },
    {
      "cell_type": "markdown",
      "metadata": {
        "id": "925cfeef"
      },
      "source": [
        "## Model building"
      ],
      "id": "925cfeef"
    },
    {
      "cell_type": "markdown",
      "metadata": {
        "id": "87696fe0"
      },
      "source": [
        "**CNN**"
      ],
      "id": "87696fe0"
    },
    {
      "cell_type": "markdown",
      "metadata": {
        "id": "c2f4e4e9"
      },
      "source": [
        "The below is adapted from [AlexNet](https://neurohive.io/en/popular-networks/alexnet-imagenet-classification-with-deep-convolutional-neural-networks/) which won the 2012 ImageNet LSVRC-2012 competition, and which was also the primary building block for the Stanford group that analysed this data."
      ],
      "id": "c2f4e4e9"
    },
    {
      "cell_type": "code",
      "metadata": {
        "id": "f1ae9383"
      },
      "source": [
        "def create_model():\n",
        "    # instantiate\n",
        "    cnn_model = Sequential()\n",
        "\n",
        "    # 1st layer\n",
        "    # input layer before augmentation is (s,256,256)\n",
        "    # cnn_model.add(Flatten(input_shape=(256,256,1)))\n",
        "    cnn_model.add(Conv2D(filters = 96,             # number of filters\n",
        "                         kernel_size = (11, 11),   # height/width of filter\n",
        "                         activation='relu',        # activation function \n",
        "                         input_shape=(277,277,1),  # shape of input (image)\n",
        "                         strides=(4,4),\n",
        "                         padding='valid')) \n",
        "\n",
        "    # Max pooling\n",
        "    cnn_model.add(MaxPooling2D(pool_size=(3,3),\n",
        "                              strides=(2,2),\n",
        "                              padding='valid'))\n",
        "\n",
        "    # 2nd layer\n",
        "    cnn_model.add(Conv2D(filters = 256,             \n",
        "                         kernel_size = (5, 5),   \n",
        "                         activation='relu',       \n",
        "                         strides=(1,1),\n",
        "                         padding='valid')) \n",
        "\n",
        "    # Max pooling\n",
        "    cnn_model.add(MaxPooling2D(pool_size=(3,3),\n",
        "                              strides=(2,2),\n",
        "                              padding='valid'))\n",
        "\n",
        "    # 3rd layer\n",
        "    cnn_model.add(Conv2D(filters = 384,             \n",
        "                         kernel_size = (3, 3),   \n",
        "                         activation='relu',       \n",
        "                         strides=(1,1),\n",
        "                         padding='valid')) \n",
        "\n",
        "    # 4th layer\n",
        "    cnn_model.add(Conv2D(filters = 384,             \n",
        "                         kernel_size = (3, 3),   \n",
        "                         activation='relu',       \n",
        "                         strides=(1,1),\n",
        "                         padding='valid')) \n",
        "\n",
        "    # 5th layer\n",
        "    cnn_model.add(Conv2D(filters = 256,             \n",
        "                         kernel_size = (3, 3),   \n",
        "                         activation='relu',       \n",
        "                         strides=(1,1),\n",
        "                         padding='valid')) \n",
        "\n",
        "    # https://adventuresinmachinelearning.com/global-average-pooling-convolutional-neural-networks/\n",
        "    # Global average pooling layer \n",
        "#     average_pool = Sequential()\n",
        "#     average_pool.add(layers.AveragePooling2D())\n",
        "#     average_pool.add(layers.Flatten())\n",
        "\n",
        "#     # Pool model\n",
        "#     pool_model = Sequential([\n",
        "#             cnn_model,\n",
        "#             average_pool])\n",
        "\n",
        "    # Max pooling\n",
        "    cnn_model.add(MaxPooling2D(pool_size=(3,3),\n",
        "                              strides=(2,2),\n",
        "                              padding='valid'))\n",
        "    \n",
        "    # flatten from box to vertical line of nodes!\n",
        "    cnn_model.add(Flatten())\n",
        "    \n",
        "    # Add a densely-connected layer with 64 neurons.\n",
        "    cnn_model.add(Dense(64, activation='relu'))\n",
        "    \n",
        "    # To avoid overfitting!\n",
        "    cnn_model.add(Dropout(0.5))\n",
        "    \n",
        "    # Add a densely-connected layer with 64 neurons.\n",
        "    cnn_model.add(Dense(64, activation='relu'))\n",
        "    \n",
        "    # To avoid overfitting!\n",
        "    cnn_model.add(Dropout(0.5))\n",
        "\n",
        "    # Add a final layer with 1 neuron.\n",
        "    cnn_model.add(Dense(1, activation='sigmoid')) \n",
        "    \n",
        "    # Compile model \n",
        "    cnn_model.compile(loss='binary_crossentropy',\n",
        "          optimizer='adam',\n",
        "          metrics=['accuracy'])\n",
        "\n",
        "    return cnn_model\n"
      ],
      "id": "f1ae9383",
      "execution_count": 18,
      "outputs": []
    },
    {
      "cell_type": "code",
      "metadata": {
        "colab": {
          "base_uri": "https://localhost:8080/"
        },
        "id": "4e86bef7",
        "outputId": "a2e6aac3-8385-4b66-e1cc-91dac7b952c7"
      },
      "source": [
        "# display architecture\n",
        "model = create_model()\n",
        "model.summary()"
      ],
      "id": "4e86bef7",
      "execution_count": 19,
      "outputs": [
        {
          "output_type": "stream",
          "name": "stdout",
          "text": [
            "Model: \"sequential\"\n",
            "_________________________________________________________________\n",
            "Layer (type)                 Output Shape              Param #   \n",
            "=================================================================\n",
            "conv2d (Conv2D)              (None, 67, 67, 96)        11712     \n",
            "_________________________________________________________________\n",
            "max_pooling2d (MaxPooling2D) (None, 33, 33, 96)        0         \n",
            "_________________________________________________________________\n",
            "conv2d_1 (Conv2D)            (None, 29, 29, 256)       614656    \n",
            "_________________________________________________________________\n",
            "max_pooling2d_1 (MaxPooling2 (None, 14, 14, 256)       0         \n",
            "_________________________________________________________________\n",
            "conv2d_2 (Conv2D)            (None, 12, 12, 384)       885120    \n",
            "_________________________________________________________________\n",
            "conv2d_3 (Conv2D)            (None, 10, 10, 384)       1327488   \n",
            "_________________________________________________________________\n",
            "conv2d_4 (Conv2D)            (None, 8, 8, 256)         884992    \n",
            "_________________________________________________________________\n",
            "max_pooling2d_2 (MaxPooling2 (None, 3, 3, 256)         0         \n",
            "_________________________________________________________________\n",
            "flatten (Flatten)            (None, 2304)              0         \n",
            "_________________________________________________________________\n",
            "dense (Dense)                (None, 64)                147520    \n",
            "_________________________________________________________________\n",
            "dropout (Dropout)            (None, 64)                0         \n",
            "_________________________________________________________________\n",
            "dense_1 (Dense)              (None, 64)                4160      \n",
            "_________________________________________________________________\n",
            "dropout_1 (Dropout)          (None, 64)                0         \n",
            "_________________________________________________________________\n",
            "dense_2 (Dense)              (None, 1)                 65        \n",
            "=================================================================\n",
            "Total params: 3,875,713\n",
            "Trainable params: 3,875,713\n",
            "Non-trainable params: 0\n",
            "_________________________________________________________________\n"
          ]
        }
      ]
    },
    {
      "cell_type": "code",
      "metadata": {
        "id": "03968186"
      },
      "source": [
        "def plot_results(model):\n",
        "    train_loss = model.history['loss']\n",
        "    test_loss = model.history['val_loss']\n",
        "    acc = model.history['accuracy']\n",
        "    val_acc = model.history['val_accuracy']\n",
        "    epoch_labels = model.epoch\n",
        "\n",
        "    fig, axes = plt.subplots(1, 2, figsize=(20, 6), sharex=True)\n",
        "\n",
        "    axes[0].plot(train_loss, label='Training Loss', color='#185fad')\n",
        "    axes[0].plot(test_loss, label='Testing Loss', color='orange')\n",
        "\n",
        "    axes[1].plot(acc, label='Training accuracy', color='blue')\n",
        "    axes[1].plot(val_acc, label='Testing accuracy', color='red')\n",
        "\n",
        "    # Set title\n",
        "    axes[0].title.set_text('Training and Testing Loss by Epoch')\n",
        "    axes[1].title.set_text('Training and Testing Accuracy by Epoch')\n",
        "    axes[0].set_xlabel('Epoch')\n",
        "    axes[1].set_xlabel('Epoch')\n",
        "    axes[0].set_ylabel('Binary Crossentropy')\n",
        "    axes[1].set_ylabel('Binary Crossentropy')\n",
        "    plt.xticks(epoch_labels, epoch_labels);    \n",
        "    axes[0].legend(fontsize=18);\n",
        "    axes[1].legend(fontsize=18);\n"
      ],
      "id": "03968186",
      "execution_count": 20,
      "outputs": []
    },
    {
      "cell_type": "code",
      "metadata": {
        "id": "71c8d61c"
      },
      "source": [
        "def model_train(model, model_name, num_epochs, train_data, validation_data): \n",
        "#     (model: training.Model, num_epochs: int) -> Tuple [History, str]\n",
        "    path_dir = '/content/drive/MyDrive' \n",
        "    checkpoint_path = f'{path_dir}/{model_name}/cp.ckpt'\n",
        "    checkpoint_dir = os.path.dirname(checkpoint_path)\n",
        "    \n",
        "    checkpoint = ModelCheckpoint(checkpoint_path, \n",
        "                                 save_weights_only=True, \n",
        "                                 verbose=1)\n",
        "    \n",
        "    tensor_board = TensorBoard(log_dir='logs/', histogram_freq=0)\n",
        "    \n",
        "    model = create_model()\n",
        "    history = model.fit(train_data, \n",
        "                        batch_size=64, \n",
        "                        validation_data=validation_data,\n",
        "                        epochs=num_epochs, \n",
        "                        steps_per_epoch = 1010,   # 90% len\n",
        "                        validation_steps = 110,\n",
        "                        callbacks=[checkpoint, tensor_board], \n",
        "                        verbose=1)\n",
        "    \n",
        "#     weight_files = glob(os.path.join(os.getcwd(), 'weights/*'))\n",
        "#     weight_file = max(weight_files, key=os.path.getctime) # most recent file  \n",
        "  \n",
        "    return history"
      ],
      "id": "71c8d61c",
      "execution_count": 23,
      "outputs": []
    },
    {
      "cell_type": "markdown",
      "metadata": {
        "id": "mGrt9q1shECI"
      },
      "source": [
        "**predictions for abnormal dataset**"
      ],
      "id": "mGrt9q1shECI"
    },
    {
      "cell_type": "code",
      "metadata": {
        "id": "ecd200b7"
      },
      "source": [
        "# num_epochs = 2\n",
        "# cnn_model = create_model()\n",
        "# hst_cab = model_train(cnn_model, 'hst_cab', num_epochs, coronal_abnormal, coronal_abnormal_val)\n",
        "# plot_results(hst_cab)"
      ],
      "id": "ecd200b7",
      "execution_count": null,
      "outputs": []
    },
    {
      "cell_type": "code",
      "metadata": {
        "id": "c68aff53"
      },
      "source": [
        "# num_epochs = 2\n",
        "# hst_aab = model_train(cnn_model, 'hst_aab', num_epochs, axial_abnormal, axial_abnormal_val)\n",
        "# plot_results(hst_aab)"
      ],
      "id": "c68aff53",
      "execution_count": null,
      "outputs": []
    },
    {
      "cell_type": "code",
      "metadata": {
        "id": "86457490"
      },
      "source": [
        "# num_epochs = 2\n",
        "# hst_sab = model_train(cnn_model, 'hst_sab', num_epochs, sagittal_abnormal, sagittal_abnormal_val)\n",
        "# plot_results(hst_sab)"
      ],
      "id": "86457490",
      "execution_count": null,
      "outputs": []
    },
    {
      "cell_type": "markdown",
      "metadata": {
        "id": "26bb2475"
      },
      "source": [
        "**predictions for meniscus dataset**"
      ],
      "id": "26bb2475"
    },
    {
      "cell_type": "code",
      "metadata": {
        "colab": {
          "base_uri": "https://localhost:8080/",
          "height": 1000
        },
        "id": "fce2ae4e",
        "outputId": "36ef4c85-a13c-4d11-d967-9b5a088671f5"
      },
      "source": [
        "num_epochs = 10\n",
        "cnn_model = create_model()\n",
        "hst_cmen = model_train(cnn_model, 'hst_cmen', num_epochs, coronal_meniscus, coronal_meniscus_val)\n",
        "\n",
        "# get/plot accuracy\n",
        "hst_cmen_acc=[]\n",
        "hst_cmen_acc.append(np.mean(hst_cmen.history['val_accuracy']))\n",
        "plot_results(hst_cmen)"
      ],
      "id": "fce2ae4e",
      "execution_count": 22,
      "outputs": [
        {
          "output_type": "stream",
          "name": "stdout",
          "text": [
            "Epoch 1/10\n",
            "900/900 [==============================] - 160s 143ms/step - loss: 0.8966 - accuracy: 0.6271 - val_loss: 0.6945 - val_accuracy: 0.5615\n",
            "\n",
            "Epoch 00001: saving model to /content/drive/MyDrive/hst_cmen/cp.ckpt\n",
            "Epoch 2/10\n",
            "900/900 [==============================] - 67s 75ms/step - loss: 0.6623 - accuracy: 0.6434 - val_loss: 0.6982 - val_accuracy: 0.5455\n",
            "\n",
            "Epoch 00002: saving model to /content/drive/MyDrive/hst_cmen/cp.ckpt\n",
            "Epoch 3/10\n",
            "900/900 [==============================] - 68s 76ms/step - loss: 0.6411 - accuracy: 0.6673 - val_loss: 0.7198 - val_accuracy: 0.5408\n",
            "\n",
            "Epoch 00003: saving model to /content/drive/MyDrive/hst_cmen/cp.ckpt\n",
            "Epoch 4/10\n",
            "900/900 [==============================] - 66s 74ms/step - loss: 0.6540 - accuracy: 0.6438 - val_loss: 0.6780 - val_accuracy: 0.6075\n",
            "\n",
            "Epoch 00004: saving model to /content/drive/MyDrive/hst_cmen/cp.ckpt\n",
            "Epoch 5/10\n",
            "900/900 [==============================] - 67s 74ms/step - loss: 0.7012 - accuracy: 0.6481 - val_loss: 0.7191 - val_accuracy: 0.5368\n",
            "\n",
            "Epoch 00005: saving model to /content/drive/MyDrive/hst_cmen/cp.ckpt\n",
            "Epoch 6/10\n",
            "900/900 [==============================] - 66s 74ms/step - loss: 0.6563 - accuracy: 0.6376 - val_loss: 0.7064 - val_accuracy: 0.5494\n",
            "\n",
            "Epoch 00006: saving model to /content/drive/MyDrive/hst_cmen/cp.ckpt\n",
            "Epoch 7/10\n",
            "900/900 [==============================] - 66s 74ms/step - loss: 0.6532 - accuracy: 0.6434 - val_loss: 0.6907 - val_accuracy: 0.5638\n",
            "\n",
            "Epoch 00007: saving model to /content/drive/MyDrive/hst_cmen/cp.ckpt\n",
            "Epoch 8/10\n",
            "900/900 [==============================] - 66s 73ms/step - loss: 0.6401 - accuracy: 0.6665 - val_loss: 0.7181 - val_accuracy: 0.5453\n",
            "\n",
            "Epoch 00008: saving model to /content/drive/MyDrive/hst_cmen/cp.ckpt\n",
            "Epoch 9/10\n",
            "900/900 [==============================] - 68s 75ms/step - loss: 0.6522 - accuracy: 0.6458 - val_loss: 0.6990 - val_accuracy: 0.5693\n",
            "\n",
            "Epoch 00009: saving model to /content/drive/MyDrive/hst_cmen/cp.ckpt\n",
            "Epoch 10/10\n",
            "900/900 [==============================] - 66s 74ms/step - loss: 0.6513 - accuracy: 0.6467 - val_loss: 0.7050 - val_accuracy: 0.5672\n",
            "\n",
            "Epoch 00010: saving model to /content/drive/MyDrive/hst_cmen/cp.ckpt\n"
          ]
        },
        {
          "output_type": "display_data",
          "data": {
            "image/png": "[encoded data removed]",
            "text/plain": [
              "<Figure size 1440x432 with 2 Axes>"
            ]
          },
          "metadata": {
            "needs_background": "light"
          }
        }
      ]
    },
    {
      "cell_type": "code",
      "metadata": {
        "id": "16d094af",
        "colab": {
          "base_uri": "https://localhost:8080/",
          "height": 771
        },
        "outputId": "78b9e0ce-3c69-4d7d-e6d5-c418eac76d78"
      },
      "source": [
        "num_epochs = 5\n",
        "cnn_model = create_model()\n",
        "hst_amen = model_train(cnn_model, 'hst_amen', num_epochs, axial_meniscus, axial_meniscus_val)\n",
        "\n",
        "# get/plot accuracy\n",
        "hst_amen_acc=[]\n",
        "hst_amen_acc.append(np.mean(hst_amen.history['val_accuracy']))\n",
        "plot_results(hst_amen)"
      ],
      "id": "16d094af",
      "execution_count": 24,
      "outputs": [
        {
          "output_type": "stream",
          "name": "stdout",
          "text": [
            "Epoch 1/5\n",
            "1010/1010 [==============================] - 97s 95ms/step - loss: 0.8817 - accuracy: 0.6398 - val_loss: 0.6952 - val_accuracy: 0.5643\n",
            "\n",
            "Epoch 00001: saving model to /content/drive/MyDrive/hst_amen/cp.ckpt\n",
            "Epoch 2/5\n",
            "1010/1010 [==============================] - 82s 81ms/step - loss: 0.6503 - accuracy: 0.6500 - val_loss: 0.7061 - val_accuracy: 0.5513\n",
            "\n",
            "Epoch 00002: saving model to /content/drive/MyDrive/hst_amen/cp.ckpt\n",
            "Epoch 3/5\n",
            "1010/1010 [==============================] - 81s 80ms/step - loss: 0.6435 - accuracy: 0.6600 - val_loss: 0.7117 - val_accuracy: 0.5612\n",
            "\n",
            "Epoch 00003: saving model to /content/drive/MyDrive/hst_amen/cp.ckpt\n",
            "Epoch 4/5\n",
            "1010/1010 [==============================] - 80s 79ms/step - loss: 0.6565 - accuracy: 0.6398 - val_loss: 0.6914 - val_accuracy: 0.5718\n",
            "\n",
            "Epoch 00004: saving model to /content/drive/MyDrive/hst_amen/cp.ckpt\n",
            "Epoch 5/5\n",
            "1010/1010 [==============================] - 80s 80ms/step - loss: 0.6511 - accuracy: 0.6473 - val_loss: 0.6903 - val_accuracy: 0.5668\n",
            "\n",
            "Epoch 00005: saving model to /content/drive/MyDrive/hst_amen/cp.ckpt\n"
          ]
        },
        {
          "output_type": "display_data",
          "data": {
            "image/png": "[encoded data removed]",
            "text/plain": [
              "<Figure size 1440x432 with 2 Axes>"
            ]
          },
          "metadata": {
            "needs_background": "light"
          }
        }
      ]
    },
    {
      "cell_type": "code",
      "metadata": {
        "id": "28d2f12c"
      },
      "source": [
        "num_epochs = 10\n",
        "cnn_model = create_model()\n",
        "hst_smen = model_train(cnn_model, 'hst_smen', num_epochs, sagittal_meniscus, sagittal_meniscus_val)\n",
        "\n",
        "# get/plot accuracy\n",
        "hst_smen_acc=[]\n",
        "hst_smen_acc.append(np.mean(hst_smen.history['val_accuracy']))\n",
        "plot_results(hst_smen)"
      ],
      "id": "28d2f12c",
      "execution_count": null,
      "outputs": []
    },
    {
      "cell_type": "markdown",
      "metadata": {
        "id": "16c3479b"
      },
      "source": [
        "**predictions for acl dataset**"
      ],
      "id": "16c3479b"
    },
    {
      "cell_type": "code",
      "metadata": {
        "id": "7844628c"
      },
      "source": [
        "# num_epochs = 2\n",
        "# hst_cacl = model_train(cnn_model, 'hst_cacl', num_epochs, coronal_acl, coronal_acl_val)\n",
        "# plot_results(hst_cacl)"
      ],
      "id": "7844628c",
      "execution_count": null,
      "outputs": []
    },
    {
      "cell_type": "code",
      "metadata": {
        "id": "f26d951a"
      },
      "source": [
        "# num_epochs = 2\n",
        "# hst_aacl = model_train(cnn_model, 'hst_aacl', num_epochs, axial_acl, axial_acl_val)\n",
        "# plot_results(hst_aacl)"
      ],
      "id": "f26d951a",
      "execution_count": null,
      "outputs": []
    },
    {
      "cell_type": "code",
      "metadata": {
        "id": "229c65d4"
      },
      "source": [
        "# num_epochs = 2\n",
        "# hst_sacl = model_train(cnn_model, 'hst_sacl', num_epochs, sagittal_acl, sagittal_acl_val)\n",
        "# plot_results(hst_sacl)"
      ],
      "id": "229c65d4",
      "execution_count": null,
      "outputs": []
    },
    {
      "cell_type": "markdown",
      "metadata": {
        "id": "4b0f18f3"
      },
      "source": [
        "**ensembling meniscus dataset**"
      ],
      "id": "4b0f18f3"
    },
    {
      "cell_type": "code",
      "metadata": {
        "id": "5e83494b"
      },
      "source": [
        "# path_dir = r'C:\\Users\\USER\\DSI-roughpaper\\capstone\\data' \n",
        "path_dir = '/content/drive/MyDrive'\n",
        "\n",
        "hst_cmen_cnn = cnn_model\n",
        "hst_amen_cnn = cnn_model\n",
        "hst_smen_cnn = cnn_model\n",
        "\n",
        "hst_cmen_cnn.load_weights(f'{path_dir}/hst_cmen/cp.ckpt')\n",
        "hst_amen_cnn.load_weights(f'{path_dir}/hst_amen/cp.ckpt')\n",
        "hst_smen_cnn.load_weights(f'{path_dir}/hst_smen/cp.ckpt')\n",
        "\n",
        "models = [hst_cmen_cnn, hst_amen_cnn, hst_smen_cnn]"
      ],
      "id": "5e83494b",
      "execution_count": null,
      "outputs": []
    },
    {
      "cell_type": "code",
      "metadata": {
        "id": "09bb95b6"
      },
      "source": [
        "def ensemble(models):\n",
        "#     models: List [training.Model], model_input: Tensor) -> training.Model\n",
        "    outputs = [model.outputs[0] for model in models]\n",
        "    y = Average()(outputs)\n",
        "\n",
        "    return y"
      ],
      "id": "09bb95b6",
      "execution_count": null,
      "outputs": []
    },
    {
      "cell_type": "code",
      "metadata": {
        "id": "4b13b588"
      },
      "source": [
        "output = ensemble(models)"
      ],
      "id": "4b13b588",
      "execution_count": null,
      "outputs": []
    },
    {
      "cell_type": "code",
      "metadata": {
        "id": "-EZOPAlIVvXd"
      },
      "source": [
        "output"
      ],
      "id": "-EZOPAlIVvXd",
      "execution_count": null,
      "outputs": []
    },
    {
      "cell_type": "code",
      "metadata": {
        "id": "7PKPbC3GVwRc"
      },
      "source": [
        ""
      ],
      "id": "7PKPbC3GVwRc",
      "execution_count": null,
      "outputs": []
    }
  ]
}