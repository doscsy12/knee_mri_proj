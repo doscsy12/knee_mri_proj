{
 "cells": [
  {
   "cell_type": "markdown",
   "id": "4c2b325d",
   "metadata": {},
   "source": [
    "# Capstone: Development of an algorithm for automatic detection of meniscus tears in radiographic images of the knee."
   ]
  },
  {
   "cell_type": "markdown",
   "id": "dbc740b2",
   "metadata": {},
   "source": [
    "### Contents:\n",
    "- [Background](#Background)\n",
    "- [Data](#Data)\n",
    "- [Building own model](#Building-own-model)\n",
    "- [Evaluate results](#Evaluate-results)\n",
    "\n"
   ]
  },
  {
   "cell_type": "code",
   "execution_count": 1,
   "id": "68e9dab3",
   "metadata": {},
   "outputs": [],
   "source": [
    "# Import libraries here\n",
    "import os\n",
    "import tempfile\n",
    "import numpy as np\n",
    "import pandas as pd\n",
    "import matplotlib.pyplot as plt\n",
    "import seaborn as sns\n",
    "from glob import glob\n",
    "\n",
    "import random as random\n",
    "import imageio\n",
    "import imgaug as ia\n",
    "import tensorflow as tf\n",
    "from tensorflow import keras\n",
    "from tensorflow.keras.preprocessing.image import save_img, load_img, img_to_array\n",
    "from tensorflow.keras.models import Sequential\n",
    "from tensorflow.keras.layers import Dense, Dropout, Flatten, Conv2D, MaxPooling2D, Average, Input, Activation, Reshape, TimeDistributed\n",
    "from tensorflow.keras import regularizers, optimizers\n",
    "from tensorflow.keras.callbacks import ModelCheckpoint, EarlyStopping, TensorBoard\n",
    "from tensorflow.keras import models\n",
    "from tensorflow.keras import layers\n",
    "from tensorflow.keras import utils\n",
    "from tensorflow.keras.utils import plot_model\n",
    "pd.options.mode.chained_assignment = None  # default='warn'\n",
    "\n"
   ]
  },
  {
   "cell_type": "markdown",
   "id": "4d18c603",
   "metadata": {},
   "source": [
    "**Data from [MRNet](https://stanfordmlgroup.github.io/competitions/mrnet/):** \n",
    "* Images of 1370 knee MRI exams performed at Stanford University Medical Center. The dataset contains 1,104 (80.6%) abnormal exams,  with 319 (23.3%) ACL tears and 508 (37.1%) meniscal tears; labels were obtained through manual extraction from clinical reports. \n",
    "* train set: consists of 1130 MRI images from coronal, sagittal and transverse planes\n",
    "* valdation set: consists of 120 MRI images from coronal, sagittal and transverse planes\n"
   ]
  },
  {
   "cell_type": "markdown",
   "id": "a07d701a",
   "metadata": {},
   "source": [
    "## Data import"
   ]
  },
  {
   "cell_type": "markdown",
   "id": "64823312",
   "metadata": {},
   "source": [
    "**import data and get labels**"
   ]
  },
  {
   "cell_type": "code",
   "execution_count": 2,
   "id": "47cfdcef",
   "metadata": {},
   "outputs": [],
   "source": [
    "train_path = '../data/train/'\n",
    "valid_path = '../data/valid/'"
   ]
  },
  {
   "cell_type": "code",
   "execution_count": 3,
   "id": "16c4233d",
   "metadata": {},
   "outputs": [],
   "source": [
    "datasets = {'train': train_path, 'valid': valid_path}\n",
    "planes = ['axial', 'coronal', 'sagittal']\n",
    "# diagnosis = ['abnormal','meniscus','acl']"
   ]
  },
  {
   "cell_type": "code",
   "execution_count": 4,
   "id": "a1693737",
   "metadata": {},
   "outputs": [],
   "source": [
    "def get_data(dataset_type, plane, diagnosis):\n",
    "    # for eg, (train, sagittal, acl)\n",
    "    if dataset_type == 'train':\n",
    "        go = train_path\n",
    "    else:\n",
    "        go = valid_path\n",
    "        \n",
    "#     img_path = glob(f'{go}/{plane}/*.npy')\n",
    "    plane_dir = f'{go}/{plane}'\n",
    "    data = os.listdir(plane_dir)\n",
    "    \n",
    "    label_path = f'../data/{dataset_type}-{diagnosis}.csv'\n",
    "    label_df = pd.read_csv(label_path, names=['nr', diagnosis])\n",
    "    label_data = list(label_df[diagnosis])\n",
    "    \n",
    "    return(data, plane_dir, label_data)"
   ]
  },
  {
   "cell_type": "markdown",
   "id": "65fd590f",
   "metadata": {},
   "source": [
    "**abnormal dataset**"
   ]
  },
  {
   "cell_type": "code",
   "execution_count": 5,
   "id": "2efbef15",
   "metadata": {},
   "outputs": [],
   "source": [
    "# training data\n",
    "train_coronal_data, train_coronal_dir, train_ab_label = get_data('train', 'coronal', 'abnormal')\n",
    "train_axial_data, train_axial_dir, train_ab_label = get_data('train', 'axial', 'abnormal')\n",
    "train_sagittal_data, train_sagittal_dir, train_ab_label = get_data('train', 'sagittal', 'abnormal')"
   ]
  },
  {
   "cell_type": "code",
   "execution_count": 6,
   "id": "3dff0771",
   "metadata": {},
   "outputs": [],
   "source": [
    "# validation data\n",
    "valid_coronal_data, valid_coronal_dir, valid_ab_label = get_data('valid','coronal','abnormal')\n",
    "valid_axial_data, valid_axial_dir, valid_ab_label = get_data('valid','axial','abnormal')\n",
    "valid_sagittal_data, valid_sagittal_dir, valid_ab_label = get_data('valid','sagittal','abnormal')"
   ]
  },
  {
   "cell_type": "markdown",
   "id": "f4fbb8f0",
   "metadata": {},
   "source": [
    "**meniscus dataset**"
   ]
  },
  {
   "cell_type": "code",
   "execution_count": 7,
   "id": "ab41e366",
   "metadata": {},
   "outputs": [],
   "source": [
    "# training data\n",
    "train_coronal_data, train_coronal_dir, train_men_label = get_data('train', 'coronal', 'meniscus')\n",
    "train_axial_data, train_axial_dir, train_men_label = get_data('train', 'axial', 'meniscus')\n",
    "train_sagittal_data, train_sagittal_dir, train_men_label = get_data('train', 'sagittal', 'meniscus')"
   ]
  },
  {
   "cell_type": "code",
   "execution_count": 8,
   "id": "ceed3ce2",
   "metadata": {},
   "outputs": [],
   "source": [
    "# validation data\n",
    "valid_coronal_data, valid_coronal_dir, valid_men_label = get_data('valid','coronal','meniscus')\n",
    "valid_axial_data, valid_axial_dir, valid_men_label = get_data('valid','axial','meniscus')\n",
    "valid_sagittal_data, valid_sagittal_dir, valid_men_label = get_data('valid','sagittal','meniscus')"
   ]
  },
  {
   "cell_type": "code",
   "execution_count": 9,
   "id": "a3a43187",
   "metadata": {},
   "outputs": [
    {
     "data": {
      "text/plain": [
       "'0000.npy'"
      ]
     },
     "execution_count": 9,
     "metadata": {},
     "output_type": "execute_result"
    }
   ],
   "source": [
    "train_coronal_data[0]"
   ]
  },
  {
   "cell_type": "code",
   "execution_count": 10,
   "id": "d2f5548e",
   "metadata": {},
   "outputs": [
    {
     "data": {
      "text/plain": [
       "'../data/train//coronal'"
      ]
     },
     "execution_count": 10,
     "metadata": {},
     "output_type": "execute_result"
    }
   ],
   "source": [
    "train_coronal_dir"
   ]
  },
  {
   "cell_type": "markdown",
   "id": "2fd097d6",
   "metadata": {},
   "source": [
    "**acl dataset**"
   ]
  },
  {
   "cell_type": "code",
   "execution_count": 11,
   "id": "bab91c83",
   "metadata": {},
   "outputs": [],
   "source": [
    "# training data\n",
    "train_coronal_data, train_coronal_dir, train_acl_label = get_data('train', 'coronal', 'acl')\n",
    "train_axial_data, train_axial_dir, train_acl_label = get_data('train', 'axial', 'acl')\n",
    "train_sagittal_data, train_sagittal_dir, train_acl_label = get_data('train', 'sagittal', 'acl')"
   ]
  },
  {
   "cell_type": "code",
   "execution_count": 12,
   "id": "28e45039",
   "metadata": {},
   "outputs": [],
   "source": [
    "# validation data\n",
    "valid_coronal_data, valid_coronal_dir, valid_acl_label = get_data('valid','coronal','acl')\n",
    "valid_axial_data, valid_axial_dir, valid_acl_label = get_data('valid','axial','acl')\n",
    "valid_sagittal_data, valid_sagittal_dir, valid_acl_label = get_data('valid','sagittal','acl')"
   ]
  },
  {
   "cell_type": "markdown",
   "id": "5530ba46",
   "metadata": {},
   "source": [
    "The dataset contains *s* x 256 x 256 images. Since middle images are the most useful, only 3 middle slides in the series are retained. \n"
   ]
  },
  {
   "cell_type": "code",
   "execution_count": 13,
   "id": "a03daa62",
   "metadata": {},
   "outputs": [],
   "source": [
    "def image_extraction(data, path, new_path): #3 images\n",
    "    '''this function extracts middle 3 slides of each scan'''\n",
    "    extract=[]\n",
    "    new_data=[]\n",
    "    for i in range(len(data)): \n",
    "        img = np.load(os.path.join(path,data[i]))\n",
    "        middle_idx = int(img.shape[0]/2)\n",
    "#         print(img.shape[0],middle_idx)\n",
    "        img = img[(middle_idx - 1) : (middle_idx + 2)]\n",
    "#         # reshape adapted for model (s x 256 x 256 x 1)\n",
    "#         img_reshape = np.repeat(img[..., np.newaxis], 1, -1)\n",
    "        img = img.reshape(256,256,3)\n",
    "        extract.extend(img)\n",
    "        new_data.append(np.array(extract))        \n",
    "        extract.clear()\n",
    "        \n",
    "#     new_data.shape(1130,256,256,3) for train\n",
    "    np.save(new_path, np.array(new_data))\n"
   ]
  },
  {
   "cell_type": "markdown",
   "id": "3c60f283",
   "metadata": {},
   "source": [
    "Note that training data for all diagnoses are the same. Only labels are different."
   ]
  },
  {
   "cell_type": "markdown",
   "id": "533f6dba",
   "metadata": {},
   "source": [
    "**image extraction for training data**"
   ]
  },
  {
   "cell_type": "code",
   "execution_count": 14,
   "id": "3e39ffd6",
   "metadata": {},
   "outputs": [],
   "source": [
    "# image extraction for 3 planes\n",
    "new_path = '../data/train_transform/coronal'\n",
    "image_extraction(train_coronal_data, train_coronal_dir, new_path)"
   ]
  },
  {
   "cell_type": "code",
   "execution_count": 15,
   "id": "f3c1a23c",
   "metadata": {},
   "outputs": [],
   "source": [
    "new_path = '../data/train_transform/axial'\n",
    "image_extraction(train_axial_data, train_axial_dir, new_path)"
   ]
  },
  {
   "cell_type": "code",
   "execution_count": 16,
   "id": "0c79ae44",
   "metadata": {},
   "outputs": [],
   "source": [
    "new_path = '../data/train_transform/sagittal'\n",
    "image_extraction(train_sagittal_data, train_sagittal_dir, new_path)"
   ]
  },
  {
   "cell_type": "code",
   "execution_count": 17,
   "id": "719671d5",
   "metadata": {},
   "outputs": [],
   "source": [
    "image = np.load('../data/train_transform/sagittal.npy')"
   ]
  },
  {
   "cell_type": "code",
   "execution_count": 18,
   "id": "f002efc4",
   "metadata": {},
   "outputs": [
    {
     "data": {
      "text/plain": [
       "(256, 256, 3)"
      ]
     },
     "execution_count": 18,
     "metadata": {},
     "output_type": "execute_result"
    }
   ],
   "source": [
    "image[0].shape"
   ]
  },
  {
   "cell_type": "markdown",
   "id": "3b4ac78b",
   "metadata": {},
   "source": [
    "**extraction for validation data**"
   ]
  },
  {
   "cell_type": "code",
   "execution_count": 19,
   "id": "5fa82965",
   "metadata": {},
   "outputs": [],
   "source": [
    "# image extraction for 3 planes\n",
    "new_path = '../data/valid_transform/coronal'\n",
    "image_extraction(valid_coronal_data, valid_coronal_dir, new_path)"
   ]
  },
  {
   "cell_type": "code",
   "execution_count": 20,
   "id": "ee2492fb",
   "metadata": {},
   "outputs": [],
   "source": [
    "new_path = '../data/valid_transform/axial'\n",
    "image_extraction(valid_axial_data, valid_axial_dir, new_path)"
   ]
  },
  {
   "cell_type": "code",
   "execution_count": 21,
   "id": "79ad09fc",
   "metadata": {},
   "outputs": [],
   "source": [
    "new_path = '../data/valid_transform/sagittal'\n",
    "image_extraction(valid_sagittal_data, valid_sagittal_dir, new_path)"
   ]
  },
  {
   "cell_type": "code",
   "execution_count": 22,
   "id": "bc75bb0e",
   "metadata": {},
   "outputs": [
    {
     "data": {
      "text/plain": [
       "(120, 256, 256, 3)"
      ]
     },
     "execution_count": 22,
     "metadata": {},
     "output_type": "execute_result"
    }
   ],
   "source": [
    "image = np.load('../data/valid_transform/sagittal.npy')\n",
    "image.shape"
   ]
  },
  {
   "cell_type": "markdown",
   "id": "caab6116",
   "metadata": {},
   "source": [
    "**data generation from extracted/transformed dataset**"
   ]
  },
  {
   "cell_type": "code",
   "execution_count": 23,
   "id": "eb0bdc7d",
   "metadata": {},
   "outputs": [],
   "source": [
    "def data_gen(dataset_type, plane, diagnosis):\n",
    "    # for eg, (train, sagittal, mensicus)\n",
    "    if dataset_type == 'train':\n",
    "        go = '../data/train_transform/'\n",
    "    else:\n",
    "        go = '../data/valid_transform/'\n",
    "        \n",
    "    plane_dir = f'{go}/{plane}.npy'\n",
    "    data = np.load(plane_dir)\n",
    "    \n",
    "    label_path = f'../data/{dataset_type}-{diagnosis}.csv'\n",
    "#     label_path = f'data/{dataset_type}-{diagnosis}.csv'\n",
    "    label_df = pd.read_csv(label_path, names=['nr', diagnosis])\n",
    "    label_data = list(label_df[diagnosis])\n",
    "    \n",
    "    return(data, label_data)\n",
    "    "
   ]
  },
  {
   "cell_type": "markdown",
   "id": "495cc4fc",
   "metadata": {},
   "source": [
    "Note that training data for all diagnoses are the same. Only labels are different. But for ease as inputs into model, data generation was done for planes and all diagnoses."
   ]
  },
  {
   "cell_type": "code",
   "execution_count": 24,
   "id": "b1550b3f",
   "metadata": {},
   "outputs": [],
   "source": [
    "# meniscus\n",
    "# generate training input\n",
    "coronal_mensicus, coronal_mensicus_label = data_gen('train', 'coronal', 'meniscus')\n",
    "axial_mensicus, axial_mensicus_label = data_gen('train', 'axial', 'meniscus')\n",
    "sagittal_mensicus, sagittal_mensicus_label = data_gen('train', 'sagittal', 'meniscus')\n",
    "\n",
    "# generate validation\n",
    "coronal_mensicus_val, coronal_mensicus_label_val  = data_gen('valid', 'coronal', 'meniscus')\n",
    "axial_mensicus_val, axial_mensicus_label_val  = data_gen('valid', 'axial', 'meniscus')\n",
    "sagittal_mensicus_val, sagittal_mensicus_label_val  = data_gen('valid', 'sagittal', 'meniscus')"
   ]
  },
  {
   "cell_type": "code",
   "execution_count": 25,
   "id": "b406768b",
   "metadata": {},
   "outputs": [],
   "source": [
    "# abnormal\n",
    "# generate training input\n",
    "coronal_abnormal, coronal_abnormal_label = data_gen('train', 'coronal', 'abnormal')\n",
    "axial_abnormal, axial_abnormal_label = data_gen('train', 'axial', 'abnormal')\n",
    "sagittal_abnormal, sagittal_abnormal_label = data_gen('train', 'sagittal', 'abnormal')\n",
    "\n",
    "# generate validation\n",
    "coronal_abnormal_val, coronal_abnormal_label_val  = data_gen('valid', 'coronal', 'abnormal')\n",
    "axial_abnormal_val, axial_abnormal_label_val  = data_gen('valid', 'axial', 'abnormal')\n",
    "sagittal_abnormal_val, sagittal_abnormal_label_val  = data_gen('valid', 'sagittal', 'abnormal')"
   ]
  },
  {
   "cell_type": "code",
   "execution_count": 26,
   "id": "eb7fcc3a",
   "metadata": {},
   "outputs": [],
   "source": [
    "# acl\n",
    "# generate training input\n",
    "coronal_acl, coronal_acl_label = data_gen('train', 'coronal', 'acl')\n",
    "axial_acl, axial_acl_label = data_gen('train', 'axial', 'acl')\n",
    "sagittal_acl, sagittal_acl_label = data_gen('train', 'sagittal', 'acl')\n",
    "\n",
    "# generate validation\n",
    "coronal_acl_val, coronal_acl_label_val  = data_gen('valid', 'coronal', 'acl')\n",
    "axial_acl_val, axial_acl_label_val  = data_gen('valid', 'axial', 'acl')\n",
    "sagittal_acl_val, sagittal_acl_label_val  = data_gen('valid', 'sagittal', 'acl')"
   ]
  },
  {
   "cell_type": "markdown",
   "id": "925cfeef",
   "metadata": {},
   "source": [
    "## Building own model"
   ]
  },
  {
   "cell_type": "markdown",
   "id": "06b6753f",
   "metadata": {},
   "source": [
    "The code snippet below is the first model, a simple stack of 3 convolution layers with a ReLU activation and followed by max-pooling layers. This is very similar to the architectures that Yann LeCun built in the 1990s for image classification (with the exception of ReLU)([LeCun et al., 1998](http://yann.lecun.com/exdb/publis/pdf/lecun-01a.pdf)). In addition, two fully-connected layers were added, and end with a single unit and a sigmoid activation, which is perfect for a binary classification. \n",
    "<br>\n",
    "<br> Another reason why this was chosen as the first CNN, was because it can even be run on a CPU. "
   ]
  },
  {
   "cell_type": "code",
   "execution_count": 27,
   "id": "218bdd88",
   "metadata": {},
   "outputs": [],
   "source": [
    "def build_model():\n",
    "    model = Sequential()\n",
    "    \n",
    "    model.add(Conv2D(filters=32, \n",
    "                     kernel_size=(3, 3),\n",
    "                     activation='relu',\n",
    "                     padding='same',\n",
    "                     input_shape=(256,256,3)))\n",
    "    model.add(MaxPooling2D(pool_size=(2, 2)))\n",
    "\n",
    "    model.add(Conv2D(filters=32, \n",
    "                     kernel_size=(3, 3), \n",
    "                     activation='relu',\n",
    "                     padding='same'))\n",
    "    model.add(MaxPooling2D(pool_size=(2, 2)))\n",
    "\n",
    "    model.add(Conv2D(filters=64, \n",
    "                     kernel_size=(3, 3), \n",
    "                     activation='relu',\n",
    "                     padding='same'))\n",
    "    model.add(MaxPooling2D(pool_size=(2, 2)))\n",
    "    \n",
    "    model.add(Flatten())\n",
    "    model.add(Dense(256, activation=\"relu\"))\n",
    "    model.add(Dropout(0.5))\n",
    "    model.add(Dense(1, activation=\"sigmoid\"))\n",
    "    \n",
    "    sgd = optimizers.SGD(lr=1e-4, decay=1e-6, momentum=0.9, nesterov=True)\n",
    "    model.compile(optimizer=sgd, loss='binary_crossentropy', metrics=['accuracy'])\n",
    "    \n",
    "    return model"
   ]
  },
  {
   "cell_type": "code",
   "execution_count": 28,
   "id": "487fc35d",
   "metadata": {},
   "outputs": [
    {
     "name": "stdout",
     "output_type": "stream",
     "text": [
      "Model: \"sequential\"\n",
      "_________________________________________________________________\n",
      "Layer (type)                 Output Shape              Param #   \n",
      "=================================================================\n",
      "conv2d (Conv2D)              (None, 256, 256, 32)      896       \n",
      "_________________________________________________________________\n",
      "max_pooling2d (MaxPooling2D) (None, 128, 128, 32)      0         \n",
      "_________________________________________________________________\n",
      "conv2d_1 (Conv2D)            (None, 128, 128, 32)      9248      \n",
      "_________________________________________________________________\n",
      "max_pooling2d_1 (MaxPooling2 (None, 64, 64, 32)        0         \n",
      "_________________________________________________________________\n",
      "conv2d_2 (Conv2D)            (None, 64, 64, 64)        18496     \n",
      "_________________________________________________________________\n",
      "max_pooling2d_2 (MaxPooling2 (None, 32, 32, 64)        0         \n",
      "_________________________________________________________________\n",
      "flatten (Flatten)            (None, 65536)             0         \n",
      "_________________________________________________________________\n",
      "dense (Dense)                (None, 256)               16777472  \n",
      "_________________________________________________________________\n",
      "dropout (Dropout)            (None, 256)               0         \n",
      "_________________________________________________________________\n",
      "dense_1 (Dense)              (None, 1)                 257       \n",
      "=================================================================\n",
      "Total params: 16,806,369\n",
      "Trainable params: 16,806,369\n",
      "Non-trainable params: 0\n",
      "_________________________________________________________________\n"
     ]
    }
   ],
   "source": [
    "model = build_model()\n",
    "model.summary()"
   ]
  },
  {
   "cell_type": "code",
   "execution_count": 29,
   "id": "4b95c586",
   "metadata": {},
   "outputs": [],
   "source": [
    "# https://blog.keras.io/building-powerful-image-classification-models-using-very-little-data.html\n",
    "# training model that will be added to VGG16\n",
    "def model_train(model, model_name, num_epochs, train_data, train_labels, validation_data, validation_labels):\n",
    "    path_dir = r'C:\\Users\\USER\\DSI-roughpaper\\capstone\\data' \n",
    "    path = f'{path_dir}\\{model_name}\\own_weights.h5'\n",
    "\n",
    "    history = model.fit(x=train_data, y=np.array(train_labels), \n",
    "            batch_size=32, \n",
    "            validation_data=(validation_data, np.array(validation_labels)),\n",
    "            epochs=num_epochs, \n",
    "            callbacks = [EarlyStopping(patience=5, monitor = 'val_loss', mode = 'min')],\n",
    "            verbose=1)\n",
    "\n",
    "    model.save_weights(path)\n",
    "    \n",
    "    return model, history"
   ]
  },
  {
   "cell_type": "code",
   "execution_count": 30,
   "id": "58b58f64",
   "metadata": {},
   "outputs": [],
   "source": [
    "def plot_results(model):\n",
    "    train_loss = model.history['loss']\n",
    "    test_loss = model.history['val_loss']\n",
    "    acc = model.history['accuracy']\n",
    "    val_acc = model.history['val_accuracy']\n",
    "    epoch_labels = model.epoch\n",
    "\n",
    "    fig, axes = plt.subplots(1, 2, figsize=(20, 6), sharex=True)\n",
    "\n",
    "    axes[0].plot(train_loss, label='Training Loss', color='#185fad')\n",
    "    axes[0].plot(test_loss, label='Testing Loss', color='orange')\n",
    "\n",
    "    axes[1].plot(acc, label='Training accuracy', color='blue')\n",
    "    axes[1].plot(val_acc, label='Testing accuracy', color='red')\n",
    "\n",
    "    # Set title\n",
    "    axes[0].title.set_text('Training and Testing Loss by Epoch')\n",
    "    axes[1].title.set_text('Training and Testing Accuracy by Epoch')\n",
    "    axes[0].set_xlabel('Epoch')\n",
    "    axes[1].set_xlabel('Epoch')\n",
    "    axes[0].set_ylabel('Binary Crossentropy')\n",
    "    axes[1].set_ylabel('Binary Crossentropy')\n",
    "    plt.xticks(epoch_labels, epoch_labels);    \n",
    "    axes[0].legend(fontsize=18);\n",
    "    axes[1].legend(fontsize=18);\n"
   ]
  },
  {
   "cell_type": "markdown",
   "id": "af533ab6",
   "metadata": {},
   "source": [
    "**predictions for abnormal dataset**"
   ]
  },
  {
   "cell_type": "code",
   "execution_count": 31,
   "id": "6d796e09",
   "metadata": {},
   "outputs": [
    {
     "name": "stdout",
     "output_type": "stream",
     "text": [
      "Epoch 1/20\n",
      "36/36 [==============================] - 65s 2s/step - loss: 3.6079 - accuracy: 0.7531 - val_loss: 0.5480 - val_accuracy: 0.8000\n",
      "Epoch 2/20\n",
      "36/36 [==============================] - 75s 2s/step - loss: 0.4356 - accuracy: 0.8204 - val_loss: 0.4912 - val_accuracy: 0.8083\n",
      "Epoch 3/20\n",
      "36/36 [==============================] - 78s 2s/step - loss: 0.4131 - accuracy: 0.8124 - val_loss: 0.5158 - val_accuracy: 0.7917\n",
      "Epoch 4/20\n",
      "36/36 [==============================] - 82s 2s/step - loss: 0.3957 - accuracy: 0.8345 - val_loss: 0.5149 - val_accuracy: 0.8083\n",
      "Epoch 5/20\n",
      "36/36 [==============================] - 79s 2s/step - loss: 0.3851 - accuracy: 0.8336 - val_loss: 0.5094 - val_accuracy: 0.7917\n",
      "Epoch 6/20\n",
      "36/36 [==============================] - 84s 2s/step - loss: 0.3658 - accuracy: 0.8407 - val_loss: 0.5080 - val_accuracy: 0.7917\n",
      "Epoch 7/20\n",
      "36/36 [==============================] - 88s 2s/step - loss: 0.3639 - accuracy: 0.8381 - val_loss: 0.5204 - val_accuracy: 0.8083\n"
     ]
    },
    {
     "data": {
      "image/png": "[encoded data removed]",
      "text/plain": [
       "<Figure size 1440x432 with 2 Axes>"
      ]
     },
     "metadata": {
      "needs_background": "light"
     },
     "output_type": "display_data"
    }
   ],
   "source": [
    "# coronal plane\n",
    "num_epochs=20\n",
    "\n",
    "cnn_model = build_model()\n",
    "cor_ab_model, hst_cab = model_train(cnn_model, 'hst_cab', num_epochs, coronal_abnormal, coronal_abnormal_label, coronal_abnormal_val, coronal_abnormal_label_val)\n",
    "\n",
    "# get/plot accuracy\n",
    "hst_cab_acc=[]\n",
    "hst_cab_acc.append(np.mean(hst_cab.history['val_accuracy']))\n",
    "plot_results(hst_cab)"
   ]
  },
  {
   "cell_type": "code",
   "execution_count": 32,
   "id": "c61387de",
   "metadata": {},
   "outputs": [
    {
     "name": "stdout",
     "output_type": "stream",
     "text": [
      "Epoch 1/20\n",
      "36/36 [==============================] - 88s 2s/step - loss: 8.1945 - accuracy: 0.7434 - val_loss: 0.4780 - val_accuracy: 0.8000\n",
      "Epoch 2/20\n",
      "36/36 [==============================] - 78s 2s/step - loss: 0.4348 - accuracy: 0.8071 - val_loss: 0.4650 - val_accuracy: 0.8000\n",
      "Epoch 3/20\n",
      "36/36 [==============================] - 78s 2s/step - loss: 0.4149 - accuracy: 0.8142 - val_loss: 0.4641 - val_accuracy: 0.8000\n",
      "Epoch 4/20\n",
      "36/36 [==============================] - 79s 2s/step - loss: 0.3927 - accuracy: 0.8150 - val_loss: 0.4405 - val_accuracy: 0.8250\n",
      "Epoch 5/20\n",
      "36/36 [==============================] - 78s 2s/step - loss: 0.3834 - accuracy: 0.8336 - val_loss: 0.4515 - val_accuracy: 0.8000\n",
      "Epoch 6/20\n",
      "36/36 [==============================] - 79s 2s/step - loss: 0.3640 - accuracy: 0.8345 - val_loss: 0.4291 - val_accuracy: 0.8167\n",
      "Epoch 7/20\n",
      "36/36 [==============================] - 87s 2s/step - loss: 0.3652 - accuracy: 0.8389 - val_loss: 0.4192 - val_accuracy: 0.8583\n",
      "Epoch 8/20\n",
      "36/36 [==============================] - 71s 2s/step - loss: 0.3418 - accuracy: 0.8487 - val_loss: 0.4055 - val_accuracy: 0.8500\n",
      "Epoch 9/20\n",
      "36/36 [==============================] - 78s 2s/step - loss: 0.3437 - accuracy: 0.8478 - val_loss: 0.4092 - val_accuracy: 0.8417\n",
      "Epoch 10/20\n",
      "36/36 [==============================] - 78s 2s/step - loss: 0.3224 - accuracy: 0.8549 - val_loss: 0.4100 - val_accuracy: 0.8333\n",
      "Epoch 11/20\n",
      "36/36 [==============================] - 77s 2s/step - loss: 0.3227 - accuracy: 0.8504 - val_loss: 0.3918 - val_accuracy: 0.8583\n",
      "Epoch 12/20\n",
      "36/36 [==============================] - 77s 2s/step - loss: 0.3121 - accuracy: 0.8655 - val_loss: 0.4483 - val_accuracy: 0.8250\n",
      "Epoch 13/20\n",
      "36/36 [==============================] - 81s 2s/step - loss: 0.2950 - accuracy: 0.8717 - val_loss: 0.4012 - val_accuracy: 0.8417\n",
      "Epoch 14/20\n",
      "36/36 [==============================] - 78s 2s/step - loss: 0.3021 - accuracy: 0.8761 - val_loss: 0.3801 - val_accuracy: 0.8417\n",
      "Epoch 15/20\n",
      "36/36 [==============================] - 77s 2s/step - loss: 0.2713 - accuracy: 0.8920 - val_loss: 0.3825 - val_accuracy: 0.8583\n",
      "Epoch 16/20\n",
      "36/36 [==============================] - 77s 2s/step - loss: 0.2918 - accuracy: 0.8814 - val_loss: 0.4027 - val_accuracy: 0.8333\n",
      "Epoch 17/20\n",
      "36/36 [==============================] - 69s 2s/step - loss: 0.2644 - accuracy: 0.8885 - val_loss: 0.3773 - val_accuracy: 0.8500\n",
      "Epoch 18/20\n",
      "36/36 [==============================] - 77s 2s/step - loss: 0.2621 - accuracy: 0.8885 - val_loss: 0.3855 - val_accuracy: 0.8417\n",
      "Epoch 19/20\n",
      "36/36 [==============================] - 80s 2s/step - loss: 0.2458 - accuracy: 0.9000 - val_loss: 0.4456 - val_accuracy: 0.8333\n",
      "Epoch 20/20\n",
      "36/36 [==============================] - 64s 2s/step - loss: 0.2476 - accuracy: 0.8885 - val_loss: 0.3749 - val_accuracy: 0.8500\n"
     ]
    },
    {
     "data": {
      "image/png": "[encoded data removed]",
      "text/plain": [
       "<Figure size 1440x432 with 2 Axes>"
      ]
     },
     "metadata": {
      "needs_background": "light"
     },
     "output_type": "display_data"
    }
   ],
   "source": [
    "# axial plane\n",
    "num_epochs=20\n",
    "\n",
    "cnn_model = build_model()\n",
    "axl_ab_model, hst_aab = model_train(cnn_model, 'hst_aab', num_epochs, axial_abnormal, axial_abnormal_label, axial_abnormal_val, axial_abnormal_label_val)\n",
    "\n",
    "# get/plot accuracy\n",
    "hst_aab_acc=[]\n",
    "hst_aab_acc.append(np.mean(hst_aab.history['val_accuracy']))\n",
    "plot_results(hst_aab)"
   ]
  },
  {
   "cell_type": "code",
   "execution_count": 33,
   "id": "4b4cb029",
   "metadata": {},
   "outputs": [
    {
     "name": "stdout",
     "output_type": "stream",
     "text": [
      "Epoch 1/20\n",
      "36/36 [==============================] - 63s 2s/step - loss: 5.9597 - accuracy: 0.7619 - val_loss: 0.4654 - val_accuracy: 0.7750\n",
      "Epoch 2/20\n",
      "36/36 [==============================] - 60s 2s/step - loss: 0.4147 - accuracy: 0.8230 - val_loss: 0.4452 - val_accuracy: 0.8083\n",
      "Epoch 3/20\n",
      "36/36 [==============================] - 60s 2s/step - loss: 0.3782 - accuracy: 0.8425 - val_loss: 0.4444 - val_accuracy: 0.8167\n",
      "Epoch 4/20\n",
      "36/36 [==============================] - 65s 2s/step - loss: 0.3764 - accuracy: 0.8319 - val_loss: 0.4495 - val_accuracy: 0.8167\n",
      "Epoch 5/20\n",
      "36/36 [==============================] - 61s 2s/step - loss: 0.3490 - accuracy: 0.8531 - val_loss: 0.4426 - val_accuracy: 0.8167\n",
      "Epoch 6/20\n",
      "36/36 [==============================] - 61s 2s/step - loss: 0.3423 - accuracy: 0.8407 - val_loss: 0.4071 - val_accuracy: 0.8167\n",
      "Epoch 7/20\n",
      "36/36 [==============================] - 59s 2s/step - loss: 0.3340 - accuracy: 0.8496 - val_loss: 0.4110 - val_accuracy: 0.8250\n",
      "Epoch 8/20\n",
      "36/36 [==============================] - 59s 2s/step - loss: 0.3172 - accuracy: 0.8611 - val_loss: 0.4629 - val_accuracy: 0.8083\n",
      "Epoch 9/20\n",
      "36/36 [==============================] - 60s 2s/step - loss: 0.3036 - accuracy: 0.8646 - val_loss: 0.4589 - val_accuracy: 0.8167\n",
      "Epoch 10/20\n",
      "36/36 [==============================] - 60s 2s/step - loss: 0.2964 - accuracy: 0.8637 - val_loss: 0.3949 - val_accuracy: 0.8250\n",
      "Epoch 11/20\n",
      "36/36 [==============================] - 59s 2s/step - loss: 0.2834 - accuracy: 0.8770 - val_loss: 0.4361 - val_accuracy: 0.8250\n",
      "Epoch 12/20\n",
      "36/36 [==============================] - 60s 2s/step - loss: 0.2701 - accuracy: 0.8867 - val_loss: 0.4280 - val_accuracy: 0.8333\n",
      "Epoch 13/20\n",
      "36/36 [==============================] - 59s 2s/step - loss: 0.2574 - accuracy: 0.8920 - val_loss: 0.4140 - val_accuracy: 0.8083\n",
      "Epoch 14/20\n",
      "36/36 [==============================] - 59s 2s/step - loss: 0.2387 - accuracy: 0.9027 - val_loss: 0.4658 - val_accuracy: 0.8083\n",
      "Epoch 15/20\n",
      "36/36 [==============================] - 69s 2s/step - loss: 0.2328 - accuracy: 0.8938 - val_loss: 0.4534 - val_accuracy: 0.8250\n"
     ]
    },
    {
     "data": {
      "image/png": "[encoded data removed]",
      "text/plain": [
       "<Figure size 1440x432 with 2 Axes>"
      ]
     },
     "metadata": {
      "needs_background": "light"
     },
     "output_type": "display_data"
    }
   ],
   "source": [
    "# sagittal plane\n",
    "num_epochs=20\n",
    "\n",
    "cnn_model = build_model()\n",
    "sag_ab_model, hst_sab = model_train(cnn_model, 'hst_sab', num_epochs, sagittal_abnormal, sagittal_abnormal_label, sagittal_abnormal_val, sagittal_abnormal_label_val)\n",
    "\n",
    "# get/plot accuracy\n",
    "hst_sab_acc=[]\n",
    "hst_sab_acc.append(np.mean(hst_sab.history['val_accuracy']))\n",
    "plot_results(hst_sab)"
   ]
  },
  {
   "cell_type": "markdown",
   "id": "9501527c",
   "metadata": {},
   "source": [
    "**predictions for meniscus dataset**"
   ]
  },
  {
   "cell_type": "code",
   "execution_count": 34,
   "id": "da9009ff",
   "metadata": {},
   "outputs": [
    {
     "name": "stdout",
     "output_type": "stream",
     "text": [
      "Epoch 1/20\n",
      "36/36 [==============================] - 74s 2s/step - loss: 2.4822 - accuracy: 0.5796 - val_loss: 0.7106 - val_accuracy: 0.5667\n",
      "Epoch 2/20\n",
      "36/36 [==============================] - 70s 2s/step - loss: 0.6172 - accuracy: 0.6451 - val_loss: 0.6659 - val_accuracy: 0.5667\n",
      "Epoch 3/20\n",
      "36/36 [==============================] - 60s 2s/step - loss: 0.5985 - accuracy: 0.6646 - val_loss: 0.6810 - val_accuracy: 0.5667\n",
      "Epoch 4/20\n",
      "36/36 [==============================] - 60s 2s/step - loss: 0.5797 - accuracy: 0.6805 - val_loss: 0.6624 - val_accuracy: 0.5667\n",
      "Epoch 5/20\n",
      "36/36 [==============================] - 59s 2s/step - loss: 0.5791 - accuracy: 0.6699 - val_loss: 0.6707 - val_accuracy: 0.5833\n",
      "Epoch 6/20\n",
      "36/36 [==============================] - 60s 2s/step - loss: 0.5499 - accuracy: 0.6982 - val_loss: 0.6728 - val_accuracy: 0.6083\n",
      "Epoch 7/20\n",
      "36/36 [==============================] - 60s 2s/step - loss: 0.5475 - accuracy: 0.7248 - val_loss: 0.6918 - val_accuracy: 0.5500\n",
      "Epoch 8/20\n",
      "36/36 [==============================] - 59s 2s/step - loss: 0.5311 - accuracy: 0.7142 - val_loss: 0.6677 - val_accuracy: 0.5917\n",
      "Epoch 9/20\n",
      "36/36 [==============================] - 57s 2s/step - loss: 0.5119 - accuracy: 0.7381 - val_loss: 0.6486 - val_accuracy: 0.6333\n",
      "Epoch 10/20\n",
      "36/36 [==============================] - 58s 2s/step - loss: 0.5012 - accuracy: 0.7549 - val_loss: 0.6653 - val_accuracy: 0.6083\n",
      "Epoch 11/20\n",
      "36/36 [==============================] - 58s 2s/step - loss: 0.4738 - accuracy: 0.7646 - val_loss: 0.6574 - val_accuracy: 0.6250\n",
      "Epoch 12/20\n",
      "36/36 [==============================] - 58s 2s/step - loss: 0.4582 - accuracy: 0.7796 - val_loss: 0.6847 - val_accuracy: 0.6167\n",
      "Epoch 13/20\n",
      "36/36 [==============================] - 58s 2s/step - loss: 0.4456 - accuracy: 0.7956 - val_loss: 0.7114 - val_accuracy: 0.5917\n",
      "Epoch 14/20\n",
      "36/36 [==============================] - 58s 2s/step - loss: 0.4319 - accuracy: 0.7903 - val_loss: 0.7327 - val_accuracy: 0.6250\n"
     ]
    },
    {
     "data": {
      "image/png": "[encoded data removed]",
      "text/plain": [
       "<Figure size 1440x432 with 2 Axes>"
      ]
     },
     "metadata": {
      "needs_background": "light"
     },
     "output_type": "display_data"
    }
   ],
   "source": [
    "# coronal plane\n",
    "num_epochs=20\n",
    "\n",
    "cnn_model = build_model()\n",
    "cor_men_model, hst_cmen = model_train(cnn_model, 'hst_cmen', num_epochs, coronal_mensicus, coronal_mensicus_label, coronal_mensicus_val, coronal_mensicus_label_val)\n",
    "\n",
    "# get/plot accuracy\n",
    "hst_cmen_acc=[]\n",
    "hst_cmen_acc.append(np.mean(hst_cmen.history['val_accuracy']))\n",
    "plot_results(hst_cmen)"
   ]
  },
  {
   "cell_type": "code",
   "execution_count": 35,
   "id": "3b3f5ba6",
   "metadata": {},
   "outputs": [
    {
     "name": "stdout",
     "output_type": "stream",
     "text": [
      "Epoch 1/20\n",
      "36/36 [==============================] - 60s 2s/step - loss: 7.4218 - accuracy: 0.6097 - val_loss: 0.6925 - val_accuracy: 0.5667\n",
      "Epoch 2/20\n",
      "36/36 [==============================] - 71s 2s/step - loss: 0.6290 - accuracy: 0.6637 - val_loss: 0.6448 - val_accuracy: 0.6000\n",
      "Epoch 3/20\n",
      "36/36 [==============================] - 77s 2s/step - loss: 0.6091 - accuracy: 0.6664 - val_loss: 0.6530 - val_accuracy: 0.5833\n",
      "Epoch 4/20\n",
      "36/36 [==============================] - 77s 2s/step - loss: 0.5911 - accuracy: 0.6885 - val_loss: 0.6466 - val_accuracy: 0.5750\n",
      "Epoch 5/20\n",
      "36/36 [==============================] - 68s 2s/step - loss: 0.5873 - accuracy: 0.6876 - val_loss: 0.6269 - val_accuracy: 0.6167\n",
      "Epoch 6/20\n",
      "36/36 [==============================] - 71s 2s/step - loss: 0.5622 - accuracy: 0.7027 - val_loss: 0.6206 - val_accuracy: 0.6833\n",
      "Epoch 7/20\n",
      "36/36 [==============================] - 68s 2s/step - loss: 0.5628 - accuracy: 0.6973 - val_loss: 0.6237 - val_accuracy: 0.6583\n",
      "Epoch 8/20\n",
      "36/36 [==============================] - 74s 2s/step - loss: 0.5488 - accuracy: 0.7212 - val_loss: 0.6443 - val_accuracy: 0.6083\n",
      "Epoch 9/20\n",
      "36/36 [==============================] - 65s 2s/step - loss: 0.5403 - accuracy: 0.7248 - val_loss: 0.6395 - val_accuracy: 0.6000\n",
      "Epoch 10/20\n",
      "36/36 [==============================] - 68s 2s/step - loss: 0.5326 - accuracy: 0.7292 - val_loss: 0.6442 - val_accuracy: 0.6083\n",
      "Epoch 11/20\n",
      "36/36 [==============================] - 67s 2s/step - loss: 0.5248 - accuracy: 0.7239 - val_loss: 0.6254 - val_accuracy: 0.6333\n"
     ]
    },
    {
     "data": {
      "image/png": "[encoded data removed]",
      "text/plain": [
       "<Figure size 1440x432 with 2 Axes>"
      ]
     },
     "metadata": {
      "needs_background": "light"
     },
     "output_type": "display_data"
    }
   ],
   "source": [
    "# axial plane\n",
    "num_epochs=20\n",
    "\n",
    "cnn_model = build_model()\n",
    "axl_men_model, hst_amen = model_train(cnn_model, 'hst_amen', num_epochs, axial_mensicus, axial_mensicus_label, axial_mensicus_val, axial_mensicus_label_val)\n",
    "\n",
    "# get/plot accuracy\n",
    "hst_amen_acc=[]\n",
    "hst_amen_acc.append(np.mean(hst_amen.history['val_accuracy']))\n",
    "plot_results(hst_amen)"
   ]
  },
  {
   "cell_type": "code",
   "execution_count": 36,
   "id": "730db892",
   "metadata": {},
   "outputs": [
    {
     "name": "stdout",
     "output_type": "stream",
     "text": [
      "Epoch 1/20\n",
      "36/36 [==============================] - 73s 2s/step - loss: 4.9808 - accuracy: 0.6115 - val_loss: 0.6715 - val_accuracy: 0.5917\n",
      "Epoch 2/20\n",
      "36/36 [==============================] - 62s 2s/step - loss: 0.6183 - accuracy: 0.6602 - val_loss: 0.6648 - val_accuracy: 0.5917\n",
      "Epoch 3/20\n",
      "36/36 [==============================] - 70s 2s/step - loss: 0.5876 - accuracy: 0.6788 - val_loss: 0.6229 - val_accuracy: 0.6417\n",
      "Epoch 4/20\n",
      "36/36 [==============================] - 69s 2s/step - loss: 0.5626 - accuracy: 0.7009 - val_loss: 0.6367 - val_accuracy: 0.6333\n",
      "Epoch 5/20\n",
      "36/36 [==============================] - 60s 2s/step - loss: 0.5504 - accuracy: 0.7159 - val_loss: 0.6456 - val_accuracy: 0.6417\n",
      "Epoch 6/20\n",
      "36/36 [==============================] - 68s 2s/step - loss: 0.5354 - accuracy: 0.7159 - val_loss: 0.6478 - val_accuracy: 0.6167\n",
      "Epoch 7/20\n",
      "36/36 [==============================] - 75s 2s/step - loss: 0.5092 - accuracy: 0.7434 - val_loss: 0.6050 - val_accuracy: 0.6583\n",
      "Epoch 8/20\n",
      "36/36 [==============================] - 74s 2s/step - loss: 0.4922 - accuracy: 0.7434 - val_loss: 0.6077 - val_accuracy: 0.6500\n",
      "Epoch 9/20\n",
      "36/36 [==============================] - 72s 2s/step - loss: 0.4724 - accuracy: 0.7646 - val_loss: 0.5988 - val_accuracy: 0.6667\n",
      "Epoch 10/20\n",
      "36/36 [==============================] - 71s 2s/step - loss: 0.4439 - accuracy: 0.7850 - val_loss: 0.6072 - val_accuracy: 0.6833\n",
      "Epoch 11/20\n",
      "36/36 [==============================] - 68s 2s/step - loss: 0.4251 - accuracy: 0.8062 - val_loss: 0.6073 - val_accuracy: 0.6667\n",
      "Epoch 12/20\n",
      "36/36 [==============================] - 71s 2s/step - loss: 0.4191 - accuracy: 0.8009 - val_loss: 0.5945 - val_accuracy: 0.6667\n",
      "Epoch 13/20\n",
      "36/36 [==============================] - 64s 2s/step - loss: 0.3806 - accuracy: 0.8319 - val_loss: 0.6209 - val_accuracy: 0.6750\n",
      "Epoch 14/20\n",
      "36/36 [==============================] - 67s 2s/step - loss: 0.3498 - accuracy: 0.8602 - val_loss: 0.5992 - val_accuracy: 0.6750\n",
      "Epoch 15/20\n",
      "36/36 [==============================] - 62s 2s/step - loss: 0.3464 - accuracy: 0.8637 - val_loss: 0.6196 - val_accuracy: 0.6667\n",
      "Epoch 16/20\n",
      "36/36 [==============================] - 79s 2s/step - loss: 0.3211 - accuracy: 0.8796 - val_loss: 0.6162 - val_accuracy: 0.6750\n",
      "Epoch 17/20\n",
      "36/36 [==============================] - 64s 2s/step - loss: 0.2916 - accuracy: 0.8965 - val_loss: 0.6860 - val_accuracy: 0.6500\n"
     ]
    },
    {
     "data": {
      "image/png": "[encoded data removed]",
      "text/plain": [
       "<Figure size 1440x432 with 2 Axes>"
      ]
     },
     "metadata": {
      "needs_background": "light"
     },
     "output_type": "display_data"
    }
   ],
   "source": [
    "# sagittal plane\n",
    "num_epochs=20\n",
    "\n",
    "cnn_model = build_model()\n",
    "sag_men_model, hst_smen = model_train(cnn_model, 'hst_smen', num_epochs, sagittal_mensicus, sagittal_mensicus_label, sagittal_mensicus_val, sagittal_mensicus_label_val)\n",
    "\n",
    "# get/plot accuracy\n",
    "hst_smen_acc=[]\n",
    "hst_smen_acc.append(np.mean(hst_smen.history['val_accuracy']))\n",
    "plot_results(hst_smen)"
   ]
  },
  {
   "cell_type": "markdown",
   "id": "603b10a0",
   "metadata": {},
   "source": [
    "**predictions for acl dataset**"
   ]
  },
  {
   "cell_type": "code",
   "execution_count": 37,
   "id": "86195cf9",
   "metadata": {},
   "outputs": [
    {
     "name": "stdout",
     "output_type": "stream",
     "text": [
      "Epoch 1/20\n",
      "36/36 [==============================] - 71s 2s/step - loss: 7.6773 - accuracy: 0.7531 - val_loss: 0.9617 - val_accuracy: 0.5500\n",
      "Epoch 2/20\n",
      "36/36 [==============================] - 71s 2s/step - loss: 0.4943 - accuracy: 0.8150 - val_loss: 0.8426 - val_accuracy: 0.5500\n",
      "Epoch 3/20\n",
      "36/36 [==============================] - 66s 2s/step - loss: 0.4866 - accuracy: 0.8159 - val_loss: 0.8331 - val_accuracy: 0.5500\n",
      "Epoch 4/20\n",
      "36/36 [==============================] - 77s 2s/step - loss: 0.4739 - accuracy: 0.8159 - val_loss: 0.8090 - val_accuracy: 0.5500\n",
      "Epoch 5/20\n",
      "36/36 [==============================] - 67s 2s/step - loss: 0.4629 - accuracy: 0.8150 - val_loss: 0.8492 - val_accuracy: 0.5500\n",
      "Epoch 6/20\n",
      "36/36 [==============================] - 64s 2s/step - loss: 0.4697 - accuracy: 0.8150 - val_loss: 0.8929 - val_accuracy: 0.5500\n",
      "Epoch 7/20\n",
      "36/36 [==============================] - 70s 2s/step - loss: 0.4591 - accuracy: 0.8159 - val_loss: 0.9731 - val_accuracy: 0.5500\n",
      "Epoch 8/20\n",
      "36/36 [==============================] - 63s 2s/step - loss: 0.4498 - accuracy: 0.8168 - val_loss: 0.8419 - val_accuracy: 0.5500\n",
      "Epoch 9/20\n",
      "36/36 [==============================] - 66s 2s/step - loss: 0.4467 - accuracy: 0.8186 - val_loss: 0.8309 - val_accuracy: 0.5500\n"
     ]
    },
    {
     "data": {
      "image/png": "[encoded data removed]",
      "text/plain": [
       "<Figure size 1440x432 with 2 Axes>"
      ]
     },
     "metadata": {
      "needs_background": "light"
     },
     "output_type": "display_data"
    }
   ],
   "source": [
    "# coronal plane\n",
    "num_epochs=20\n",
    "\n",
    "cnn_model = build_model()\n",
    "cor_acl_model, hst_cacl = model_train(cnn_model, 'hst_cacl', num_epochs, coronal_acl, coronal_acl_label, coronal_acl_val, coronal_acl_label_val)\n",
    "\n",
    "# get/plot accuracy\n",
    "hst_cacl_acc=[]\n",
    "hst_cacl_acc.append(np.mean(hst_cacl.history['val_accuracy']))\n",
    "plot_results(hst_cacl)"
   ]
  },
  {
   "cell_type": "code",
   "execution_count": 38,
   "id": "2b872498",
   "metadata": {},
   "outputs": [
    {
     "name": "stdout",
     "output_type": "stream",
     "text": [
      "Epoch 1/20\n",
      "36/36 [==============================] - 73s 2s/step - loss: 9.6040 - accuracy: 0.7407 - val_loss: 0.9793 - val_accuracy: 0.5500\n",
      "Epoch 2/20\n",
      "36/36 [==============================] - 71s 2s/step - loss: 0.4878 - accuracy: 0.8133 - val_loss: 0.8147 - val_accuracy: 0.5500\n",
      "Epoch 3/20\n",
      "36/36 [==============================] - 69s 2s/step - loss: 0.4699 - accuracy: 0.8150 - val_loss: 0.7878 - val_accuracy: 0.5500\n",
      "Epoch 4/20\n",
      "36/36 [==============================] - 69s 2s/step - loss: 0.4667 - accuracy: 0.8168 - val_loss: 0.7701 - val_accuracy: 0.5500\n",
      "Epoch 5/20\n",
      "36/36 [==============================] - 70s 2s/step - loss: 0.4532 - accuracy: 0.8177 - val_loss: 0.8721 - val_accuracy: 0.5500\n",
      "Epoch 6/20\n",
      "36/36 [==============================] - 70s 2s/step - loss: 0.4434 - accuracy: 0.8159 - val_loss: 0.9392 - val_accuracy: 0.5500\n",
      "Epoch 7/20\n",
      "36/36 [==============================] - 71s 2s/step - loss: 0.4323 - accuracy: 0.8168 - val_loss: 0.8806 - val_accuracy: 0.5500\n",
      "Epoch 8/20\n",
      "36/36 [==============================] - 72s 2s/step - loss: 0.4295 - accuracy: 0.8168 - val_loss: 0.8518 - val_accuracy: 0.5500\n",
      "Epoch 9/20\n",
      "36/36 [==============================] - 69s 2s/step - loss: 0.4156 - accuracy: 0.8186 - val_loss: 0.8485 - val_accuracy: 0.5500\n"
     ]
    },
    {
     "data": {
      "image/png": "[encoded data removed]",
      "text/plain": [
       "<Figure size 1440x432 with 2 Axes>"
      ]
     },
     "metadata": {
      "needs_background": "light"
     },
     "output_type": "display_data"
    }
   ],
   "source": [
    "# axial plane\n",
    "num_epochs=20\n",
    "\n",
    "cnn_model = build_model()\n",
    "axl_acl_model, hst_aacl = model_train(cnn_model, 'hst_aacl', num_epochs, axial_acl, axial_acl_label, axial_acl_val, axial_acl_label_val)\n",
    "\n",
    "# get/plot accuracy\n",
    "hst_aacl_acc=[]\n",
    "hst_aacl_acc.append(np.mean(hst_aacl.history['val_accuracy']))\n",
    "plot_results(hst_aacl)"
   ]
  },
  {
   "cell_type": "code",
   "execution_count": 39,
   "id": "a0896e11",
   "metadata": {},
   "outputs": [
    {
     "name": "stdout",
     "output_type": "stream",
     "text": [
      "Epoch 1/20\n",
      "36/36 [==============================] - 73s 2s/step - loss: 13.6164 - accuracy: 0.7398 - val_loss: 0.7689 - val_accuracy: 0.5500\n",
      "Epoch 2/20\n",
      "36/36 [==============================] - 69s 2s/step - loss: 0.4713 - accuracy: 0.8142 - val_loss: 0.7717 - val_accuracy: 0.5500\n",
      "Epoch 3/20\n",
      "36/36 [==============================] - 70s 2s/step - loss: 0.4576 - accuracy: 0.8150 - val_loss: 0.8152 - val_accuracy: 0.5500\n",
      "Epoch 4/20\n",
      "36/36 [==============================] - 70s 2s/step - loss: 0.4462 - accuracy: 0.8239 - val_loss: 0.7483 - val_accuracy: 0.5667\n",
      "Epoch 5/20\n",
      "36/36 [==============================] - 64s 2s/step - loss: 0.4330 - accuracy: 0.8168 - val_loss: 0.7404 - val_accuracy: 0.5583\n",
      "Epoch 6/20\n",
      "36/36 [==============================] - 72s 2s/step - loss: 0.4220 - accuracy: 0.8177 - val_loss: 0.8192 - val_accuracy: 0.5500\n",
      "Epoch 7/20\n",
      "36/36 [==============================] - 69s 2s/step - loss: 0.4198 - accuracy: 0.8204 - val_loss: 0.6441 - val_accuracy: 0.6500\n",
      "Epoch 8/20\n",
      "36/36 [==============================] - 80s 2s/step - loss: 0.4112 - accuracy: 0.8221 - val_loss: 0.7774 - val_accuracy: 0.5750\n",
      "Epoch 9/20\n",
      "36/36 [==============================] - 72s 2s/step - loss: 0.4028 - accuracy: 0.8265 - val_loss: 0.7545 - val_accuracy: 0.6083\n",
      "Epoch 10/20\n",
      "36/36 [==============================] - 68s 2s/step - loss: 0.4054 - accuracy: 0.8327 - val_loss: 0.6762 - val_accuracy: 0.6500\n",
      "Epoch 11/20\n",
      "36/36 [==============================] - 77s 2s/step - loss: 0.3874 - accuracy: 0.8345 - val_loss: 0.6768 - val_accuracy: 0.6583\n",
      "Epoch 12/20\n",
      "36/36 [==============================] - 79s 2s/step - loss: 0.3815 - accuracy: 0.8336 - val_loss: 0.7591 - val_accuracy: 0.6417\n"
     ]
    },
    {
     "data": {
      "image/png": "[encoded data removed]",
      "text/plain": [
       "<Figure size 1440x432 with 2 Axes>"
      ]
     },
     "metadata": {
      "needs_background": "light"
     },
     "output_type": "display_data"
    }
   ],
   "source": [
    "# sagittal plane\n",
    "num_epochs=20\n",
    "\n",
    "cnn_model = build_model()\n",
    "sag_acl_model, hst_sacl = model_train(cnn_model, 'hst_sacl', num_epochs, sagittal_acl, sagittal_acl_label, sagittal_acl_val, sagittal_acl_label_val)\n",
    "\n",
    "# get/plot accuracy\n",
    "hst_sacl_acc=[]\n",
    "hst_sacl_acc.append(np.mean(hst_sacl.history['val_accuracy']))\n",
    "plot_results(hst_sacl)"
   ]
  },
  {
   "cell_type": "markdown",
   "id": "4be9a77d",
   "metadata": {},
   "source": [
    "**calculate average accuracy**"
   ]
  },
  {
   "cell_type": "code",
   "execution_count": 40,
   "id": "a8240d15",
   "metadata": {},
   "outputs": [
    {
     "data": {
      "text/plain": [
       "[[0.5928571394511631], [0.6121212189847772], [0.6500000007012311]]"
      ]
     },
     "execution_count": 40,
     "metadata": {},
     "output_type": "execute_result"
    }
   ],
   "source": [
    "[hst_cmen_acc, hst_amen_acc, hst_smen_acc]"
   ]
  },
  {
   "cell_type": "code",
   "execution_count": 41,
   "id": "fc700ed7",
   "metadata": {},
   "outputs": [
    {
     "data": {
      "text/plain": [
       "[[0.800000011920929], [0.8329166650772095], [0.8149999936421712]]"
      ]
     },
     "execution_count": 41,
     "metadata": {},
     "output_type": "execute_result"
    }
   ],
   "source": [
    "[hst_cab_acc, hst_aab_acc, hst_sab_acc]"
   ]
  },
  {
   "cell_type": "code",
   "execution_count": 42,
   "id": "6c655093",
   "metadata": {},
   "outputs": [
    {
     "data": {
      "text/plain": [
       "[[0.550000011920929], [0.550000011920929], [0.5923611124356588]]"
      ]
     },
     "execution_count": 42,
     "metadata": {},
     "output_type": "execute_result"
    }
   ],
   "source": [
    "[hst_cacl_acc, hst_aacl_acc, hst_sacl_acc]"
   ]
  },
  {
   "cell_type": "markdown",
   "id": "c0cd4b11",
   "metadata": {},
   "source": [
    "## Evaluate results"
   ]
  },
  {
   "cell_type": "markdown",
   "id": "cf4b43f1",
   "metadata": {},
   "source": [
    "### meniscus dataset"
   ]
  },
  {
   "cell_type": "code",
   "execution_count": 43,
   "id": "fe816f64",
   "metadata": {},
   "outputs": [
    {
     "name": "stdout",
     "output_type": "stream",
     "text": [
      "Test loss: 0.7327471375465393\n",
      "Test accuracy: 0.625\n"
     ]
    }
   ],
   "source": [
    "cmen_scores = cor_men_model.evaluate(coronal_mensicus_val, np.array(coronal_mensicus_label_val), verbose=0)\n",
    "print('Test loss:', cmen_scores[0]) \n",
    "print('Test accuracy:', cmen_scores[1])"
   ]
  },
  {
   "cell_type": "code",
   "execution_count": 44,
   "id": "9d71ad67",
   "metadata": {},
   "outputs": [
    {
     "name": "stdout",
     "output_type": "stream",
     "text": [
      "Test loss: 0.62538081407547\n",
      "Test accuracy: 0.6333333253860474\n"
     ]
    }
   ],
   "source": [
    "amen_scores = axl_men_model.evaluate(axial_mensicus_val, np.array(axial_mensicus_label_val), verbose=0)\n",
    "print('Test loss:', amen_scores[0]) \n",
    "print('Test accuracy:', amen_scores[1])"
   ]
  },
  {
   "cell_type": "code",
   "execution_count": 45,
   "id": "1ac08cbc",
   "metadata": {},
   "outputs": [
    {
     "name": "stdout",
     "output_type": "stream",
     "text": [
      "Test loss: 0.6860002875328064\n",
      "Test accuracy: 0.6499999761581421\n"
     ]
    }
   ],
   "source": [
    "smen_scores = sag_men_model.evaluate(sagittal_mensicus_val, np.array(sagittal_mensicus_label_val), verbose=0)\n",
    "print('Test loss:', smen_scores[0]) \n",
    "print('Test accuracy:', smen_scores[1])"
   ]
  },
  {
   "cell_type": "markdown",
   "id": "e93f6cf7",
   "metadata": {},
   "source": [
    "**Evaluate predictions**"
   ]
  },
  {
   "cell_type": "code",
   "execution_count": 46,
   "id": "a2310420",
   "metadata": {},
   "outputs": [],
   "source": [
    "cor_pred = cor_men_model.predict(coronal_mensicus_val) \n",
    "axl_pred = axl_men_model.predict(axial_mensicus_val) \n",
    "sag_pred = sag_men_model.predict(sagittal_mensicus_val) \n"
   ]
  },
  {
   "cell_type": "code",
   "execution_count": 47,
   "id": "1efdfde1",
   "metadata": {},
   "outputs": [],
   "source": [
    "pred_men = pd.DataFrame(np.column_stack([cor_pred,axl_pred,sag_pred]),columns=['cor_pred', 'axl_pred', 'sag_pred'])\n",
    "pred_men['mean'] = pred_men.mean(axis=1)"
   ]
  },
  {
   "cell_type": "code",
   "execution_count": 48,
   "id": "40b288b4",
   "metadata": {},
   "outputs": [
    {
     "data": {
      "text/plain": [
       "0      0.197942\n",
       "1      0.117101\n",
       "2      0.098765\n",
       "3      0.040865\n",
       "4      0.257267\n",
       "         ...   \n",
       "115    0.333669\n",
       "116    0.446066\n",
       "117    0.249611\n",
       "118    0.368026\n",
       "119    0.162843\n",
       "Name: mean, Length: 120, dtype: float32"
      ]
     },
     "execution_count": 48,
     "metadata": {},
     "output_type": "execute_result"
    }
   ],
   "source": [
    "# since model output is [0,1] using sigmoid activation function\n",
    "# pred is the probability\n",
    "# take average probability from all 3 planes\n",
    "pred_men['mean']"
   ]
  },
  {
   "cell_type": "code",
   "execution_count": 49,
   "id": "90f480ed",
   "metadata": {},
   "outputs": [],
   "source": [
    "# if prob<0.5, it is 0.\n",
    "pred_men['predict'] = pred_men['mean'].map(lambda x: 0 if x<0.5 else 1)"
   ]
  },
  {
   "cell_type": "code",
   "execution_count": 50,
   "id": "8d56412c",
   "metadata": {},
   "outputs": [
    {
     "data": {
      "text/plain": [
       "0    97\n",
       "1    23\n",
       "Name: predict, dtype: int64"
      ]
     },
     "execution_count": 50,
     "metadata": {},
     "output_type": "execute_result"
    }
   ],
   "source": [
    "pred_men['predict'].value_counts()"
   ]
  },
  {
   "cell_type": "code",
   "execution_count": 51,
   "id": "0ac125e4",
   "metadata": {},
   "outputs": [],
   "source": [
    "# labels are same for all planes\n",
    "pred_men['true'] = coronal_mensicus_label_val"
   ]
  },
  {
   "cell_type": "code",
   "execution_count": 52,
   "id": "157e2824",
   "metadata": {},
   "outputs": [
    {
     "data": {
      "text/plain": [
       "(41, 6)"
      ]
     },
     "execution_count": 52,
     "metadata": {},
     "output_type": "execute_result"
    }
   ],
   "source": [
    "pred_men[pred_men['true'] != pred_men['predict']].shape"
   ]
  },
  {
   "cell_type": "code",
   "execution_count": 53,
   "id": "9354b8d9",
   "metadata": {},
   "outputs": [
    {
     "data": {
      "text/html": [
       "<div>\n",
       "<style scoped>\n",
       "    .dataframe tbody tr th:only-of-type {\n",
       "        vertical-align: middle;\n",
       "    }\n",
       "\n",
       "    .dataframe tbody tr th {\n",
       "        vertical-align: top;\n",
       "    }\n",
       "\n",
       "    .dataframe thead th {\n",
       "        text-align: right;\n",
       "    }\n",
       "</style>\n",
       "<table border=\"1\" class=\"dataframe\">\n",
       "  <thead>\n",
       "    <tr style=\"text-align: right;\">\n",
       "      <th></th>\n",
       "      <th>cor_pred</th>\n",
       "      <th>axl_pred</th>\n",
       "      <th>sag_pred</th>\n",
       "      <th>mean</th>\n",
       "      <th>predict</th>\n",
       "      <th>true</th>\n",
       "    </tr>\n",
       "  </thead>\n",
       "  <tbody>\n",
       "    <tr>\n",
       "      <th>14</th>\n",
       "      <td>0.616908</td>\n",
       "      <td>0.661332</td>\n",
       "      <td>0.340698</td>\n",
       "      <td>0.539646</td>\n",
       "      <td>1</td>\n",
       "      <td>0</td>\n",
       "    </tr>\n",
       "    <tr>\n",
       "      <th>26</th>\n",
       "      <td>0.445696</td>\n",
       "      <td>0.529105</td>\n",
       "      <td>0.599213</td>\n",
       "      <td>0.524671</td>\n",
       "      <td>1</td>\n",
       "      <td>0</td>\n",
       "    </tr>\n",
       "    <tr>\n",
       "      <th>42</th>\n",
       "      <td>0.280822</td>\n",
       "      <td>0.252278</td>\n",
       "      <td>0.143841</td>\n",
       "      <td>0.225647</td>\n",
       "      <td>0</td>\n",
       "      <td>1</td>\n",
       "    </tr>\n",
       "    <tr>\n",
       "      <th>43</th>\n",
       "      <td>0.218989</td>\n",
       "      <td>0.485942</td>\n",
       "      <td>0.423618</td>\n",
       "      <td>0.376183</td>\n",
       "      <td>0</td>\n",
       "      <td>1</td>\n",
       "    </tr>\n",
       "    <tr>\n",
       "      <th>44</th>\n",
       "      <td>0.213246</td>\n",
       "      <td>0.393811</td>\n",
       "      <td>0.423770</td>\n",
       "      <td>0.343609</td>\n",
       "      <td>0</td>\n",
       "      <td>1</td>\n",
       "    </tr>\n",
       "    <tr>\n",
       "      <th>46</th>\n",
       "      <td>0.418754</td>\n",
       "      <td>0.504205</td>\n",
       "      <td>0.186578</td>\n",
       "      <td>0.369846</td>\n",
       "      <td>0</td>\n",
       "      <td>1</td>\n",
       "    </tr>\n",
       "    <tr>\n",
       "      <th>50</th>\n",
       "      <td>0.373836</td>\n",
       "      <td>0.618774</td>\n",
       "      <td>0.628572</td>\n",
       "      <td>0.540394</td>\n",
       "      <td>1</td>\n",
       "      <td>0</td>\n",
       "    </tr>\n",
       "    <tr>\n",
       "      <th>57</th>\n",
       "      <td>0.473298</td>\n",
       "      <td>0.745976</td>\n",
       "      <td>0.742518</td>\n",
       "      <td>0.653931</td>\n",
       "      <td>1</td>\n",
       "      <td>0</td>\n",
       "    </tr>\n",
       "    <tr>\n",
       "      <th>61</th>\n",
       "      <td>0.363350</td>\n",
       "      <td>0.660015</td>\n",
       "      <td>0.374560</td>\n",
       "      <td>0.465975</td>\n",
       "      <td>0</td>\n",
       "      <td>1</td>\n",
       "    </tr>\n",
       "    <tr>\n",
       "      <th>62</th>\n",
       "      <td>0.561679</td>\n",
       "      <td>0.654415</td>\n",
       "      <td>0.281923</td>\n",
       "      <td>0.499339</td>\n",
       "      <td>0</td>\n",
       "      <td>1</td>\n",
       "    </tr>\n",
       "    <tr>\n",
       "      <th>65</th>\n",
       "      <td>0.335923</td>\n",
       "      <td>0.502300</td>\n",
       "      <td>0.609324</td>\n",
       "      <td>0.482516</td>\n",
       "      <td>0</td>\n",
       "      <td>1</td>\n",
       "    </tr>\n",
       "    <tr>\n",
       "      <th>67</th>\n",
       "      <td>0.035879</td>\n",
       "      <td>0.228353</td>\n",
       "      <td>0.075528</td>\n",
       "      <td>0.113253</td>\n",
       "      <td>0</td>\n",
       "      <td>1</td>\n",
       "    </tr>\n",
       "    <tr>\n",
       "      <th>69</th>\n",
       "      <td>0.297327</td>\n",
       "      <td>0.565890</td>\n",
       "      <td>0.276277</td>\n",
       "      <td>0.379831</td>\n",
       "      <td>0</td>\n",
       "      <td>1</td>\n",
       "    </tr>\n",
       "    <tr>\n",
       "      <th>71</th>\n",
       "      <td>0.632251</td>\n",
       "      <td>0.511514</td>\n",
       "      <td>0.263625</td>\n",
       "      <td>0.469130</td>\n",
       "      <td>0</td>\n",
       "      <td>1</td>\n",
       "    </tr>\n",
       "    <tr>\n",
       "      <th>72</th>\n",
       "      <td>0.351073</td>\n",
       "      <td>0.676782</td>\n",
       "      <td>0.033177</td>\n",
       "      <td>0.353677</td>\n",
       "      <td>0</td>\n",
       "      <td>1</td>\n",
       "    </tr>\n",
       "    <tr>\n",
       "      <th>74</th>\n",
       "      <td>0.543410</td>\n",
       "      <td>0.566294</td>\n",
       "      <td>0.495660</td>\n",
       "      <td>0.535121</td>\n",
       "      <td>1</td>\n",
       "      <td>0</td>\n",
       "    </tr>\n",
       "    <tr>\n",
       "      <th>75</th>\n",
       "      <td>0.453938</td>\n",
       "      <td>0.591451</td>\n",
       "      <td>0.120414</td>\n",
       "      <td>0.388601</td>\n",
       "      <td>0</td>\n",
       "      <td>1</td>\n",
       "    </tr>\n",
       "    <tr>\n",
       "      <th>77</th>\n",
       "      <td>0.176856</td>\n",
       "      <td>0.618938</td>\n",
       "      <td>0.044910</td>\n",
       "      <td>0.280235</td>\n",
       "      <td>0</td>\n",
       "      <td>1</td>\n",
       "    </tr>\n",
       "    <tr>\n",
       "      <th>79</th>\n",
       "      <td>0.692600</td>\n",
       "      <td>0.768065</td>\n",
       "      <td>0.304239</td>\n",
       "      <td>0.588301</td>\n",
       "      <td>1</td>\n",
       "      <td>0</td>\n",
       "    </tr>\n",
       "    <tr>\n",
       "      <th>81</th>\n",
       "      <td>0.346020</td>\n",
       "      <td>0.613336</td>\n",
       "      <td>0.444188</td>\n",
       "      <td>0.467848</td>\n",
       "      <td>0</td>\n",
       "      <td>1</td>\n",
       "    </tr>\n",
       "    <tr>\n",
       "      <th>86</th>\n",
       "      <td>0.136012</td>\n",
       "      <td>0.672363</td>\n",
       "      <td>0.667820</td>\n",
       "      <td>0.492065</td>\n",
       "      <td>0</td>\n",
       "      <td>1</td>\n",
       "    </tr>\n",
       "    <tr>\n",
       "      <th>90</th>\n",
       "      <td>0.049703</td>\n",
       "      <td>0.581829</td>\n",
       "      <td>0.157761</td>\n",
       "      <td>0.263098</td>\n",
       "      <td>0</td>\n",
       "      <td>1</td>\n",
       "    </tr>\n",
       "    <tr>\n",
       "      <th>92</th>\n",
       "      <td>0.266832</td>\n",
       "      <td>0.610588</td>\n",
       "      <td>0.221867</td>\n",
       "      <td>0.366429</td>\n",
       "      <td>0</td>\n",
       "      <td>1</td>\n",
       "    </tr>\n",
       "    <tr>\n",
       "      <th>93</th>\n",
       "      <td>0.347609</td>\n",
       "      <td>0.503490</td>\n",
       "      <td>0.558100</td>\n",
       "      <td>0.469733</td>\n",
       "      <td>0</td>\n",
       "      <td>1</td>\n",
       "    </tr>\n",
       "    <tr>\n",
       "      <th>95</th>\n",
       "      <td>0.052155</td>\n",
       "      <td>0.633319</td>\n",
       "      <td>0.129943</td>\n",
       "      <td>0.271806</td>\n",
       "      <td>0</td>\n",
       "      <td>1</td>\n",
       "    </tr>\n",
       "    <tr>\n",
       "      <th>97</th>\n",
       "      <td>0.579235</td>\n",
       "      <td>0.680996</td>\n",
       "      <td>0.115362</td>\n",
       "      <td>0.458531</td>\n",
       "      <td>0</td>\n",
       "      <td>1</td>\n",
       "    </tr>\n",
       "    <tr>\n",
       "      <th>98</th>\n",
       "      <td>0.318392</td>\n",
       "      <td>0.588741</td>\n",
       "      <td>0.098701</td>\n",
       "      <td>0.335278</td>\n",
       "      <td>0</td>\n",
       "      <td>1</td>\n",
       "    </tr>\n",
       "    <tr>\n",
       "      <th>104</th>\n",
       "      <td>0.116515</td>\n",
       "      <td>0.343232</td>\n",
       "      <td>0.760983</td>\n",
       "      <td>0.406910</td>\n",
       "      <td>0</td>\n",
       "      <td>1</td>\n",
       "    </tr>\n",
       "    <tr>\n",
       "      <th>105</th>\n",
       "      <td>0.538274</td>\n",
       "      <td>0.421993</td>\n",
       "      <td>0.487548</td>\n",
       "      <td>0.482605</td>\n",
       "      <td>0</td>\n",
       "      <td>1</td>\n",
       "    </tr>\n",
       "    <tr>\n",
       "      <th>106</th>\n",
       "      <td>0.061559</td>\n",
       "      <td>0.382700</td>\n",
       "      <td>0.430957</td>\n",
       "      <td>0.291739</td>\n",
       "      <td>0</td>\n",
       "      <td>1</td>\n",
       "    </tr>\n",
       "    <tr>\n",
       "      <th>107</th>\n",
       "      <td>0.180217</td>\n",
       "      <td>0.455822</td>\n",
       "      <td>0.639058</td>\n",
       "      <td>0.425032</td>\n",
       "      <td>0</td>\n",
       "      <td>1</td>\n",
       "    </tr>\n",
       "    <tr>\n",
       "      <th>108</th>\n",
       "      <td>0.211862</td>\n",
       "      <td>0.292868</td>\n",
       "      <td>0.261065</td>\n",
       "      <td>0.255265</td>\n",
       "      <td>0</td>\n",
       "      <td>1</td>\n",
       "    </tr>\n",
       "    <tr>\n",
       "      <th>110</th>\n",
       "      <td>0.204173</td>\n",
       "      <td>0.449682</td>\n",
       "      <td>0.191238</td>\n",
       "      <td>0.281698</td>\n",
       "      <td>0</td>\n",
       "      <td>1</td>\n",
       "    </tr>\n",
       "    <tr>\n",
       "      <th>111</th>\n",
       "      <td>0.301907</td>\n",
       "      <td>0.294460</td>\n",
       "      <td>0.164587</td>\n",
       "      <td>0.253651</td>\n",
       "      <td>0</td>\n",
       "      <td>1</td>\n",
       "    </tr>\n",
       "    <tr>\n",
       "      <th>112</th>\n",
       "      <td>0.282171</td>\n",
       "      <td>0.711636</td>\n",
       "      <td>0.172415</td>\n",
       "      <td>0.388741</td>\n",
       "      <td>0</td>\n",
       "      <td>1</td>\n",
       "    </tr>\n",
       "    <tr>\n",
       "      <th>114</th>\n",
       "      <td>0.264835</td>\n",
       "      <td>0.422765</td>\n",
       "      <td>0.417145</td>\n",
       "      <td>0.368248</td>\n",
       "      <td>0</td>\n",
       "      <td>1</td>\n",
       "    </tr>\n",
       "    <tr>\n",
       "      <th>115</th>\n",
       "      <td>0.424934</td>\n",
       "      <td>0.494379</td>\n",
       "      <td>0.081695</td>\n",
       "      <td>0.333669</td>\n",
       "      <td>0</td>\n",
       "      <td>1</td>\n",
       "    </tr>\n",
       "    <tr>\n",
       "      <th>116</th>\n",
       "      <td>0.399978</td>\n",
       "      <td>0.494793</td>\n",
       "      <td>0.443429</td>\n",
       "      <td>0.446066</td>\n",
       "      <td>0</td>\n",
       "      <td>1</td>\n",
       "    </tr>\n",
       "    <tr>\n",
       "      <th>117</th>\n",
       "      <td>0.385634</td>\n",
       "      <td>0.231134</td>\n",
       "      <td>0.132064</td>\n",
       "      <td>0.249611</td>\n",
       "      <td>0</td>\n",
       "      <td>1</td>\n",
       "    </tr>\n",
       "    <tr>\n",
       "      <th>118</th>\n",
       "      <td>0.173445</td>\n",
       "      <td>0.474839</td>\n",
       "      <td>0.455793</td>\n",
       "      <td>0.368026</td>\n",
       "      <td>0</td>\n",
       "      <td>1</td>\n",
       "    </tr>\n",
       "    <tr>\n",
       "      <th>119</th>\n",
       "      <td>0.159416</td>\n",
       "      <td>0.306065</td>\n",
       "      <td>0.023048</td>\n",
       "      <td>0.162843</td>\n",
       "      <td>0</td>\n",
       "      <td>1</td>\n",
       "    </tr>\n",
       "  </tbody>\n",
       "</table>\n",
       "</div>"
      ],
      "text/plain": [
       "     cor_pred  axl_pred  sag_pred      mean  predict  true\n",
       "14   0.616908  0.661332  0.340698  0.539646        1     0\n",
       "26   0.445696  0.529105  0.599213  0.524671        1     0\n",
       "42   0.280822  0.252278  0.143841  0.225647        0     1\n",
       "43   0.218989  0.485942  0.423618  0.376183        0     1\n",
       "44   0.213246  0.393811  0.423770  0.343609        0     1\n",
       "46   0.418754  0.504205  0.186578  0.369846        0     1\n",
       "50   0.373836  0.618774  0.628572  0.540394        1     0\n",
       "57   0.473298  0.745976  0.742518  0.653931        1     0\n",
       "61   0.363350  0.660015  0.374560  0.465975        0     1\n",
       "62   0.561679  0.654415  0.281923  0.499339        0     1\n",
       "65   0.335923  0.502300  0.609324  0.482516        0     1\n",
       "67   0.035879  0.228353  0.075528  0.113253        0     1\n",
       "69   0.297327  0.565890  0.276277  0.379831        0     1\n",
       "71   0.632251  0.511514  0.263625  0.469130        0     1\n",
       "72   0.351073  0.676782  0.033177  0.353677        0     1\n",
       "74   0.543410  0.566294  0.495660  0.535121        1     0\n",
       "75   0.453938  0.591451  0.120414  0.388601        0     1\n",
       "77   0.176856  0.618938  0.044910  0.280235        0     1\n",
       "79   0.692600  0.768065  0.304239  0.588301        1     0\n",
       "81   0.346020  0.613336  0.444188  0.467848        0     1\n",
       "86   0.136012  0.672363  0.667820  0.492065        0     1\n",
       "90   0.049703  0.581829  0.157761  0.263098        0     1\n",
       "92   0.266832  0.610588  0.221867  0.366429        0     1\n",
       "93   0.347609  0.503490  0.558100  0.469733        0     1\n",
       "95   0.052155  0.633319  0.129943  0.271806        0     1\n",
       "97   0.579235  0.680996  0.115362  0.458531        0     1\n",
       "98   0.318392  0.588741  0.098701  0.335278        0     1\n",
       "104  0.116515  0.343232  0.760983  0.406910        0     1\n",
       "105  0.538274  0.421993  0.487548  0.482605        0     1\n",
       "106  0.061559  0.382700  0.430957  0.291739        0     1\n",
       "107  0.180217  0.455822  0.639058  0.425032        0     1\n",
       "108  0.211862  0.292868  0.261065  0.255265        0     1\n",
       "110  0.204173  0.449682  0.191238  0.281698        0     1\n",
       "111  0.301907  0.294460  0.164587  0.253651        0     1\n",
       "112  0.282171  0.711636  0.172415  0.388741        0     1\n",
       "114  0.264835  0.422765  0.417145  0.368248        0     1\n",
       "115  0.424934  0.494379  0.081695  0.333669        0     1\n",
       "116  0.399978  0.494793  0.443429  0.446066        0     1\n",
       "117  0.385634  0.231134  0.132064  0.249611        0     1\n",
       "118  0.173445  0.474839  0.455793  0.368026        0     1\n",
       "119  0.159416  0.306065  0.023048  0.162843        0     1"
      ]
     },
     "execution_count": 53,
     "metadata": {},
     "output_type": "execute_result"
    }
   ],
   "source": [
    "pred_men[pred_men['true'] != pred_men['predict']]"
   ]
  },
  {
   "cell_type": "markdown",
   "id": "4b78fff7",
   "metadata": {},
   "source": [
    "### abnormal dataset"
   ]
  },
  {
   "cell_type": "code",
   "execution_count": 54,
   "id": "5f8117f1",
   "metadata": {},
   "outputs": [],
   "source": [
    "cor_pred = cor_ab_model.predict(coronal_abnormal_val) \n",
    "axl_pred = axl_ab_model.predict(axial_abnormal_val) \n",
    "sag_pred = sag_ab_model.predict(sagittal_abnormal_val) \n",
    "\n",
    "pred_ab = pd.DataFrame(np.column_stack([cor_pred,axl_pred,sag_pred]),columns=['cor_pred', 'axl_pred', 'sag_pred'])\n",
    "pred_ab['mean'] = pred_ab.mean(axis=1)"
   ]
  },
  {
   "cell_type": "code",
   "execution_count": 55,
   "id": "d1c5793b",
   "metadata": {},
   "outputs": [
    {
     "data": {
      "text/plain": [
       "1    114\n",
       "0      6\n",
       "Name: predict, dtype: int64"
      ]
     },
     "execution_count": 55,
     "metadata": {},
     "output_type": "execute_result"
    }
   ],
   "source": [
    "# since model output is [0,1] using sigmoid activation function\n",
    "# pred is the probability\n",
    "# take average probability from all 3 planes\n",
    "\n",
    "# if prob<0.5, it is 0.\n",
    "pred_ab['predict'] = pred_ab['mean'].map(lambda x: 0 if x<0.5 else 1)\n",
    "pred_ab['predict'].value_counts()"
   ]
  },
  {
   "cell_type": "code",
   "execution_count": 56,
   "id": "2142f4f7",
   "metadata": {},
   "outputs": [
    {
     "data": {
      "text/plain": [
       "(21, 6)"
      ]
     },
     "execution_count": 56,
     "metadata": {},
     "output_type": "execute_result"
    }
   ],
   "source": [
    "pred_ab['true'] = coronal_abnormal_label_val \n",
    "pred_ab[pred_ab['true'] != pred_ab['predict']].shape"
   ]
  },
  {
   "cell_type": "code",
   "execution_count": 57,
   "id": "ebafc47d",
   "metadata": {},
   "outputs": [
    {
     "data": {
      "text/html": [
       "<div>\n",
       "<style scoped>\n",
       "    .dataframe tbody tr th:only-of-type {\n",
       "        vertical-align: middle;\n",
       "    }\n",
       "\n",
       "    .dataframe tbody tr th {\n",
       "        vertical-align: top;\n",
       "    }\n",
       "\n",
       "    .dataframe thead th {\n",
       "        text-align: right;\n",
       "    }\n",
       "</style>\n",
       "<table border=\"1\" class=\"dataframe\">\n",
       "  <thead>\n",
       "    <tr style=\"text-align: right;\">\n",
       "      <th></th>\n",
       "      <th>cor_pred</th>\n",
       "      <th>axl_pred</th>\n",
       "      <th>sag_pred</th>\n",
       "      <th>mean</th>\n",
       "      <th>predict</th>\n",
       "      <th>true</th>\n",
       "    </tr>\n",
       "  </thead>\n",
       "  <tbody>\n",
       "    <tr>\n",
       "      <th>1</th>\n",
       "      <td>0.509992</td>\n",
       "      <td>0.513950</td>\n",
       "      <td>0.590722</td>\n",
       "      <td>0.538221</td>\n",
       "      <td>1</td>\n",
       "      <td>0</td>\n",
       "    </tr>\n",
       "    <tr>\n",
       "      <th>2</th>\n",
       "      <td>0.731799</td>\n",
       "      <td>0.292648</td>\n",
       "      <td>0.498567</td>\n",
       "      <td>0.507671</td>\n",
       "      <td>1</td>\n",
       "      <td>0</td>\n",
       "    </tr>\n",
       "    <tr>\n",
       "      <th>4</th>\n",
       "      <td>0.964196</td>\n",
       "      <td>0.659792</td>\n",
       "      <td>0.872240</td>\n",
       "      <td>0.832076</td>\n",
       "      <td>1</td>\n",
       "      <td>0</td>\n",
       "    </tr>\n",
       "    <tr>\n",
       "      <th>5</th>\n",
       "      <td>0.978889</td>\n",
       "      <td>0.909310</td>\n",
       "      <td>0.970588</td>\n",
       "      <td>0.952929</td>\n",
       "      <td>1</td>\n",
       "      <td>0</td>\n",
       "    </tr>\n",
       "    <tr>\n",
       "      <th>6</th>\n",
       "      <td>0.600311</td>\n",
       "      <td>0.750633</td>\n",
       "      <td>0.253340</td>\n",
       "      <td>0.534761</td>\n",
       "      <td>1</td>\n",
       "      <td>0</td>\n",
       "    </tr>\n",
       "    <tr>\n",
       "      <th>7</th>\n",
       "      <td>0.917007</td>\n",
       "      <td>0.549915</td>\n",
       "      <td>0.997573</td>\n",
       "      <td>0.821498</td>\n",
       "      <td>1</td>\n",
       "      <td>0</td>\n",
       "    </tr>\n",
       "    <tr>\n",
       "      <th>8</th>\n",
       "      <td>0.471805</td>\n",
       "      <td>0.626512</td>\n",
       "      <td>0.750757</td>\n",
       "      <td>0.616358</td>\n",
       "      <td>1</td>\n",
       "      <td>0</td>\n",
       "    </tr>\n",
       "    <tr>\n",
       "      <th>9</th>\n",
       "      <td>0.815044</td>\n",
       "      <td>0.491729</td>\n",
       "      <td>0.507998</td>\n",
       "      <td>0.604924</td>\n",
       "      <td>1</td>\n",
       "      <td>0</td>\n",
       "    </tr>\n",
       "    <tr>\n",
       "      <th>10</th>\n",
       "      <td>0.980249</td>\n",
       "      <td>0.995682</td>\n",
       "      <td>0.966148</td>\n",
       "      <td>0.980693</td>\n",
       "      <td>1</td>\n",
       "      <td>0</td>\n",
       "    </tr>\n",
       "    <tr>\n",
       "      <th>11</th>\n",
       "      <td>0.955295</td>\n",
       "      <td>0.751312</td>\n",
       "      <td>0.953252</td>\n",
       "      <td>0.886620</td>\n",
       "      <td>1</td>\n",
       "      <td>0</td>\n",
       "    </tr>\n",
       "    <tr>\n",
       "      <th>12</th>\n",
       "      <td>0.916603</td>\n",
       "      <td>0.859172</td>\n",
       "      <td>0.840397</td>\n",
       "      <td>0.872057</td>\n",
       "      <td>1</td>\n",
       "      <td>0</td>\n",
       "    </tr>\n",
       "    <tr>\n",
       "      <th>13</th>\n",
       "      <td>0.910469</td>\n",
       "      <td>0.879924</td>\n",
       "      <td>0.926166</td>\n",
       "      <td>0.905520</td>\n",
       "      <td>1</td>\n",
       "      <td>0</td>\n",
       "    </tr>\n",
       "    <tr>\n",
       "      <th>14</th>\n",
       "      <td>0.983977</td>\n",
       "      <td>0.995687</td>\n",
       "      <td>0.779521</td>\n",
       "      <td>0.919728</td>\n",
       "      <td>1</td>\n",
       "      <td>0</td>\n",
       "    </tr>\n",
       "    <tr>\n",
       "      <th>15</th>\n",
       "      <td>0.952231</td>\n",
       "      <td>0.479605</td>\n",
       "      <td>0.982581</td>\n",
       "      <td>0.804806</td>\n",
       "      <td>1</td>\n",
       "      <td>0</td>\n",
       "    </tr>\n",
       "    <tr>\n",
       "      <th>18</th>\n",
       "      <td>0.831271</td>\n",
       "      <td>0.949889</td>\n",
       "      <td>0.918994</td>\n",
       "      <td>0.900051</td>\n",
       "      <td>1</td>\n",
       "      <td>0</td>\n",
       "    </tr>\n",
       "    <tr>\n",
       "      <th>20</th>\n",
       "      <td>0.766626</td>\n",
       "      <td>0.538203</td>\n",
       "      <td>0.353071</td>\n",
       "      <td>0.552633</td>\n",
       "      <td>1</td>\n",
       "      <td>0</td>\n",
       "    </tr>\n",
       "    <tr>\n",
       "      <th>21</th>\n",
       "      <td>0.981568</td>\n",
       "      <td>0.881847</td>\n",
       "      <td>0.958097</td>\n",
       "      <td>0.940504</td>\n",
       "      <td>1</td>\n",
       "      <td>0</td>\n",
       "    </tr>\n",
       "    <tr>\n",
       "      <th>22</th>\n",
       "      <td>0.566909</td>\n",
       "      <td>0.613037</td>\n",
       "      <td>0.546503</td>\n",
       "      <td>0.575483</td>\n",
       "      <td>1</td>\n",
       "      <td>0</td>\n",
       "    </tr>\n",
       "    <tr>\n",
       "      <th>23</th>\n",
       "      <td>0.859272</td>\n",
       "      <td>0.266283</td>\n",
       "      <td>0.610859</td>\n",
       "      <td>0.578805</td>\n",
       "      <td>1</td>\n",
       "      <td>0</td>\n",
       "    </tr>\n",
       "    <tr>\n",
       "      <th>34</th>\n",
       "      <td>0.450911</td>\n",
       "      <td>0.732306</td>\n",
       "      <td>0.221141</td>\n",
       "      <td>0.468119</td>\n",
       "      <td>0</td>\n",
       "      <td>1</td>\n",
       "    </tr>\n",
       "    <tr>\n",
       "      <th>87</th>\n",
       "      <td>0.651118</td>\n",
       "      <td>0.826141</td>\n",
       "      <td>0.845668</td>\n",
       "      <td>0.774309</td>\n",
       "      <td>1</td>\n",
       "      <td>0</td>\n",
       "    </tr>\n",
       "  </tbody>\n",
       "</table>\n",
       "</div>"
      ],
      "text/plain": [
       "    cor_pred  axl_pred  sag_pred      mean  predict  true\n",
       "1   0.509992  0.513950  0.590722  0.538221        1     0\n",
       "2   0.731799  0.292648  0.498567  0.507671        1     0\n",
       "4   0.964196  0.659792  0.872240  0.832076        1     0\n",
       "5   0.978889  0.909310  0.970588  0.952929        1     0\n",
       "6   0.600311  0.750633  0.253340  0.534761        1     0\n",
       "7   0.917007  0.549915  0.997573  0.821498        1     0\n",
       "8   0.471805  0.626512  0.750757  0.616358        1     0\n",
       "9   0.815044  0.491729  0.507998  0.604924        1     0\n",
       "10  0.980249  0.995682  0.966148  0.980693        1     0\n",
       "11  0.955295  0.751312  0.953252  0.886620        1     0\n",
       "12  0.916603  0.859172  0.840397  0.872057        1     0\n",
       "13  0.910469  0.879924  0.926166  0.905520        1     0\n",
       "14  0.983977  0.995687  0.779521  0.919728        1     0\n",
       "15  0.952231  0.479605  0.982581  0.804806        1     0\n",
       "18  0.831271  0.949889  0.918994  0.900051        1     0\n",
       "20  0.766626  0.538203  0.353071  0.552633        1     0\n",
       "21  0.981568  0.881847  0.958097  0.940504        1     0\n",
       "22  0.566909  0.613037  0.546503  0.575483        1     0\n",
       "23  0.859272  0.266283  0.610859  0.578805        1     0\n",
       "34  0.450911  0.732306  0.221141  0.468119        0     1\n",
       "87  0.651118  0.826141  0.845668  0.774309        1     0"
      ]
     },
     "execution_count": 57,
     "metadata": {},
     "output_type": "execute_result"
    }
   ],
   "source": [
    "pred_ab[pred_ab['true'] != pred_ab['predict']]"
   ]
  },
  {
   "cell_type": "markdown",
   "id": "f0047aaa",
   "metadata": {},
   "source": [
    "### acl dataset"
   ]
  },
  {
   "cell_type": "code",
   "execution_count": 58,
   "id": "3ee563ac",
   "metadata": {},
   "outputs": [],
   "source": [
    "cor_pred = cor_acl_model.predict(coronal_acl_val) \n",
    "axl_pred = axl_acl_model.predict(axial_acl_val) \n",
    "sag_pred = sag_acl_model.predict(sagittal_acl_val) \n",
    "\n",
    "pred_acl = pd.DataFrame(np.column_stack([cor_pred,axl_pred,sag_pred]),columns=['cor_pred', 'axl_pred', 'sag_pred'])\n",
    "pred_acl['mean'] = pred_acl.mean(axis=1)"
   ]
  },
  {
   "cell_type": "code",
   "execution_count": 59,
   "id": "8be48c3b",
   "metadata": {},
   "outputs": [
    {
     "data": {
      "text/plain": [
       "0    120\n",
       "Name: predict, dtype: int64"
      ]
     },
     "execution_count": 59,
     "metadata": {},
     "output_type": "execute_result"
    }
   ],
   "source": [
    "# if prob<0.5, it is 0.\n",
    "pred_acl['predict'] = pred_acl['mean'].map(lambda x: 0 if x<0.5 else 1)\n",
    "pred_acl['predict'].value_counts()"
   ]
  },
  {
   "cell_type": "code",
   "execution_count": 60,
   "id": "caa4aa6d",
   "metadata": {},
   "outputs": [
    {
     "data": {
      "text/plain": [
       "(54, 6)"
      ]
     },
     "execution_count": 60,
     "metadata": {},
     "output_type": "execute_result"
    }
   ],
   "source": [
    "pred_acl['true'] = coronal_acl_label_val \n",
    "pred_acl[pred_acl['true'] != pred_acl['predict']].shape"
   ]
  },
  {
   "cell_type": "code",
   "execution_count": 61,
   "id": "07dd3b10",
   "metadata": {},
   "outputs": [
    {
     "data": {
      "text/html": [
       "<div>\n",
       "<style scoped>\n",
       "    .dataframe tbody tr th:only-of-type {\n",
       "        vertical-align: middle;\n",
       "    }\n",
       "\n",
       "    .dataframe tbody tr th {\n",
       "        vertical-align: top;\n",
       "    }\n",
       "\n",
       "    .dataframe thead th {\n",
       "        text-align: right;\n",
       "    }\n",
       "</style>\n",
       "<table border=\"1\" class=\"dataframe\">\n",
       "  <thead>\n",
       "    <tr style=\"text-align: right;\">\n",
       "      <th></th>\n",
       "      <th>cor_pred</th>\n",
       "      <th>axl_pred</th>\n",
       "      <th>sag_pred</th>\n",
       "      <th>mean</th>\n",
       "      <th>predict</th>\n",
       "      <th>true</th>\n",
       "    </tr>\n",
       "  </thead>\n",
       "  <tbody>\n",
       "    <tr>\n",
       "      <th>42</th>\n",
       "      <td>0.104243</td>\n",
       "      <td>0.172289</td>\n",
       "      <td>0.101137</td>\n",
       "      <td>0.125890</td>\n",
       "      <td>0</td>\n",
       "      <td>1</td>\n",
       "    </tr>\n",
       "    <tr>\n",
       "      <th>43</th>\n",
       "      <td>0.187495</td>\n",
       "      <td>0.138359</td>\n",
       "      <td>0.139757</td>\n",
       "      <td>0.155204</td>\n",
       "      <td>0</td>\n",
       "      <td>1</td>\n",
       "    </tr>\n",
       "    <tr>\n",
       "      <th>44</th>\n",
       "      <td>0.214923</td>\n",
       "      <td>0.183419</td>\n",
       "      <td>0.560272</td>\n",
       "      <td>0.319538</td>\n",
       "      <td>0</td>\n",
       "      <td>1</td>\n",
       "    </tr>\n",
       "    <tr>\n",
       "      <th>45</th>\n",
       "      <td>0.105405</td>\n",
       "      <td>0.150933</td>\n",
       "      <td>0.578622</td>\n",
       "      <td>0.278320</td>\n",
       "      <td>0</td>\n",
       "      <td>1</td>\n",
       "    </tr>\n",
       "    <tr>\n",
       "      <th>46</th>\n",
       "      <td>0.164984</td>\n",
       "      <td>0.200779</td>\n",
       "      <td>0.440120</td>\n",
       "      <td>0.268628</td>\n",
       "      <td>0</td>\n",
       "      <td>1</td>\n",
       "    </tr>\n",
       "    <tr>\n",
       "      <th>47</th>\n",
       "      <td>0.179478</td>\n",
       "      <td>0.257712</td>\n",
       "      <td>0.426587</td>\n",
       "      <td>0.287925</td>\n",
       "      <td>0</td>\n",
       "      <td>1</td>\n",
       "    </tr>\n",
       "    <tr>\n",
       "      <th>48</th>\n",
       "      <td>0.140011</td>\n",
       "      <td>0.098169</td>\n",
       "      <td>0.194250</td>\n",
       "      <td>0.144143</td>\n",
       "      <td>0</td>\n",
       "      <td>1</td>\n",
       "    </tr>\n",
       "    <tr>\n",
       "      <th>49</th>\n",
       "      <td>0.232942</td>\n",
       "      <td>0.281489</td>\n",
       "      <td>0.373825</td>\n",
       "      <td>0.296085</td>\n",
       "      <td>0</td>\n",
       "      <td>1</td>\n",
       "    </tr>\n",
       "    <tr>\n",
       "      <th>51</th>\n",
       "      <td>0.148809</td>\n",
       "      <td>0.285647</td>\n",
       "      <td>0.152038</td>\n",
       "      <td>0.195498</td>\n",
       "      <td>0</td>\n",
       "      <td>1</td>\n",
       "    </tr>\n",
       "    <tr>\n",
       "      <th>52</th>\n",
       "      <td>0.158048</td>\n",
       "      <td>0.174553</td>\n",
       "      <td>0.543205</td>\n",
       "      <td>0.291935</td>\n",
       "      <td>0</td>\n",
       "      <td>1</td>\n",
       "    </tr>\n",
       "    <tr>\n",
       "      <th>53</th>\n",
       "      <td>0.139638</td>\n",
       "      <td>0.186393</td>\n",
       "      <td>0.046639</td>\n",
       "      <td>0.124223</td>\n",
       "      <td>0</td>\n",
       "      <td>1</td>\n",
       "    </tr>\n",
       "    <tr>\n",
       "      <th>54</th>\n",
       "      <td>0.305108</td>\n",
       "      <td>0.190163</td>\n",
       "      <td>0.375911</td>\n",
       "      <td>0.290394</td>\n",
       "      <td>0</td>\n",
       "      <td>1</td>\n",
       "    </tr>\n",
       "    <tr>\n",
       "      <th>55</th>\n",
       "      <td>0.142976</td>\n",
       "      <td>0.272776</td>\n",
       "      <td>0.601018</td>\n",
       "      <td>0.338923</td>\n",
       "      <td>0</td>\n",
       "      <td>1</td>\n",
       "    </tr>\n",
       "    <tr>\n",
       "      <th>56</th>\n",
       "      <td>0.225129</td>\n",
       "      <td>0.129498</td>\n",
       "      <td>0.122574</td>\n",
       "      <td>0.159067</td>\n",
       "      <td>0</td>\n",
       "      <td>1</td>\n",
       "    </tr>\n",
       "    <tr>\n",
       "      <th>57</th>\n",
       "      <td>0.244222</td>\n",
       "      <td>0.138166</td>\n",
       "      <td>0.113275</td>\n",
       "      <td>0.165221</td>\n",
       "      <td>0</td>\n",
       "      <td>1</td>\n",
       "    </tr>\n",
       "    <tr>\n",
       "      <th>58</th>\n",
       "      <td>0.277569</td>\n",
       "      <td>0.283229</td>\n",
       "      <td>0.498351</td>\n",
       "      <td>0.353050</td>\n",
       "      <td>0</td>\n",
       "      <td>1</td>\n",
       "    </tr>\n",
       "    <tr>\n",
       "      <th>60</th>\n",
       "      <td>0.181324</td>\n",
       "      <td>0.191130</td>\n",
       "      <td>0.529618</td>\n",
       "      <td>0.300691</td>\n",
       "      <td>0</td>\n",
       "      <td>1</td>\n",
       "    </tr>\n",
       "    <tr>\n",
       "      <th>61</th>\n",
       "      <td>0.274866</td>\n",
       "      <td>0.309099</td>\n",
       "      <td>0.516238</td>\n",
       "      <td>0.366734</td>\n",
       "      <td>0</td>\n",
       "      <td>1</td>\n",
       "    </tr>\n",
       "    <tr>\n",
       "      <th>62</th>\n",
       "      <td>0.203346</td>\n",
       "      <td>0.268281</td>\n",
       "      <td>0.081737</td>\n",
       "      <td>0.184455</td>\n",
       "      <td>0</td>\n",
       "      <td>1</td>\n",
       "    </tr>\n",
       "    <tr>\n",
       "      <th>63</th>\n",
       "      <td>0.318629</td>\n",
       "      <td>0.256530</td>\n",
       "      <td>0.160077</td>\n",
       "      <td>0.245079</td>\n",
       "      <td>0</td>\n",
       "      <td>1</td>\n",
       "    </tr>\n",
       "    <tr>\n",
       "      <th>64</th>\n",
       "      <td>0.166822</td>\n",
       "      <td>0.126632</td>\n",
       "      <td>0.141532</td>\n",
       "      <td>0.144996</td>\n",
       "      <td>0</td>\n",
       "      <td>1</td>\n",
       "    </tr>\n",
       "    <tr>\n",
       "      <th>65</th>\n",
       "      <td>0.225872</td>\n",
       "      <td>0.150793</td>\n",
       "      <td>0.120139</td>\n",
       "      <td>0.165601</td>\n",
       "      <td>0</td>\n",
       "      <td>1</td>\n",
       "    </tr>\n",
       "    <tr>\n",
       "      <th>66</th>\n",
       "      <td>0.198081</td>\n",
       "      <td>0.141377</td>\n",
       "      <td>0.330727</td>\n",
       "      <td>0.223395</td>\n",
       "      <td>0</td>\n",
       "      <td>1</td>\n",
       "    </tr>\n",
       "    <tr>\n",
       "      <th>67</th>\n",
       "      <td>0.241269</td>\n",
       "      <td>0.127963</td>\n",
       "      <td>0.146820</td>\n",
       "      <td>0.172018</td>\n",
       "      <td>0</td>\n",
       "      <td>1</td>\n",
       "    </tr>\n",
       "    <tr>\n",
       "      <th>68</th>\n",
       "      <td>0.426015</td>\n",
       "      <td>0.272026</td>\n",
       "      <td>0.280528</td>\n",
       "      <td>0.326190</td>\n",
       "      <td>0</td>\n",
       "      <td>1</td>\n",
       "    </tr>\n",
       "    <tr>\n",
       "      <th>69</th>\n",
       "      <td>0.194957</td>\n",
       "      <td>0.263521</td>\n",
       "      <td>0.595399</td>\n",
       "      <td>0.351292</td>\n",
       "      <td>0</td>\n",
       "      <td>1</td>\n",
       "    </tr>\n",
       "    <tr>\n",
       "      <th>70</th>\n",
       "      <td>0.111202</td>\n",
       "      <td>0.260268</td>\n",
       "      <td>0.073509</td>\n",
       "      <td>0.148326</td>\n",
       "      <td>0</td>\n",
       "      <td>1</td>\n",
       "    </tr>\n",
       "    <tr>\n",
       "      <th>71</th>\n",
       "      <td>0.178870</td>\n",
       "      <td>0.158174</td>\n",
       "      <td>0.184880</td>\n",
       "      <td>0.173975</td>\n",
       "      <td>0</td>\n",
       "      <td>1</td>\n",
       "    </tr>\n",
       "    <tr>\n",
       "      <th>72</th>\n",
       "      <td>0.321564</td>\n",
       "      <td>0.228068</td>\n",
       "      <td>0.447815</td>\n",
       "      <td>0.332482</td>\n",
       "      <td>0</td>\n",
       "      <td>1</td>\n",
       "    </tr>\n",
       "    <tr>\n",
       "      <th>73</th>\n",
       "      <td>0.238763</td>\n",
       "      <td>0.226395</td>\n",
       "      <td>0.478864</td>\n",
       "      <td>0.314674</td>\n",
       "      <td>0</td>\n",
       "      <td>1</td>\n",
       "    </tr>\n",
       "    <tr>\n",
       "      <th>74</th>\n",
       "      <td>0.334832</td>\n",
       "      <td>0.190399</td>\n",
       "      <td>0.626027</td>\n",
       "      <td>0.383753</td>\n",
       "      <td>0</td>\n",
       "      <td>1</td>\n",
       "    </tr>\n",
       "    <tr>\n",
       "      <th>75</th>\n",
       "      <td>0.219593</td>\n",
       "      <td>0.146169</td>\n",
       "      <td>0.193658</td>\n",
       "      <td>0.186473</td>\n",
       "      <td>0</td>\n",
       "      <td>1</td>\n",
       "    </tr>\n",
       "    <tr>\n",
       "      <th>76</th>\n",
       "      <td>0.257017</td>\n",
       "      <td>0.244635</td>\n",
       "      <td>0.195126</td>\n",
       "      <td>0.232259</td>\n",
       "      <td>0</td>\n",
       "      <td>1</td>\n",
       "    </tr>\n",
       "    <tr>\n",
       "      <th>77</th>\n",
       "      <td>0.215497</td>\n",
       "      <td>0.296945</td>\n",
       "      <td>0.600345</td>\n",
       "      <td>0.370929</td>\n",
       "      <td>0</td>\n",
       "      <td>1</td>\n",
       "    </tr>\n",
       "    <tr>\n",
       "      <th>78</th>\n",
       "      <td>0.281338</td>\n",
       "      <td>0.182352</td>\n",
       "      <td>0.226675</td>\n",
       "      <td>0.230122</td>\n",
       "      <td>0</td>\n",
       "      <td>1</td>\n",
       "    </tr>\n",
       "    <tr>\n",
       "      <th>79</th>\n",
       "      <td>0.282944</td>\n",
       "      <td>0.301188</td>\n",
       "      <td>0.543561</td>\n",
       "      <td>0.375897</td>\n",
       "      <td>0</td>\n",
       "      <td>1</td>\n",
       "    </tr>\n",
       "    <tr>\n",
       "      <th>80</th>\n",
       "      <td>0.290360</td>\n",
       "      <td>0.181100</td>\n",
       "      <td>0.621467</td>\n",
       "      <td>0.364309</td>\n",
       "      <td>0</td>\n",
       "      <td>1</td>\n",
       "    </tr>\n",
       "    <tr>\n",
       "      <th>81</th>\n",
       "      <td>0.216946</td>\n",
       "      <td>0.154175</td>\n",
       "      <td>0.152926</td>\n",
       "      <td>0.174682</td>\n",
       "      <td>0</td>\n",
       "      <td>1</td>\n",
       "    </tr>\n",
       "    <tr>\n",
       "      <th>82</th>\n",
       "      <td>0.293690</td>\n",
       "      <td>0.238905</td>\n",
       "      <td>0.173471</td>\n",
       "      <td>0.235355</td>\n",
       "      <td>0</td>\n",
       "      <td>1</td>\n",
       "    </tr>\n",
       "    <tr>\n",
       "      <th>83</th>\n",
       "      <td>0.217852</td>\n",
       "      <td>0.145662</td>\n",
       "      <td>0.328202</td>\n",
       "      <td>0.230572</td>\n",
       "      <td>0</td>\n",
       "      <td>1</td>\n",
       "    </tr>\n",
       "    <tr>\n",
       "      <th>84</th>\n",
       "      <td>0.242044</td>\n",
       "      <td>0.173531</td>\n",
       "      <td>0.150607</td>\n",
       "      <td>0.188727</td>\n",
       "      <td>0</td>\n",
       "      <td>1</td>\n",
       "    </tr>\n",
       "    <tr>\n",
       "      <th>85</th>\n",
       "      <td>0.196106</td>\n",
       "      <td>0.249405</td>\n",
       "      <td>0.343233</td>\n",
       "      <td>0.262915</td>\n",
       "      <td>0</td>\n",
       "      <td>1</td>\n",
       "    </tr>\n",
       "    <tr>\n",
       "      <th>86</th>\n",
       "      <td>0.201809</td>\n",
       "      <td>0.208480</td>\n",
       "      <td>0.128776</td>\n",
       "      <td>0.179688</td>\n",
       "      <td>0</td>\n",
       "      <td>1</td>\n",
       "    </tr>\n",
       "    <tr>\n",
       "      <th>88</th>\n",
       "      <td>0.081373</td>\n",
       "      <td>0.105110</td>\n",
       "      <td>0.029217</td>\n",
       "      <td>0.071900</td>\n",
       "      <td>0</td>\n",
       "      <td>1</td>\n",
       "    </tr>\n",
       "    <tr>\n",
       "      <th>89</th>\n",
       "      <td>0.212421</td>\n",
       "      <td>0.151824</td>\n",
       "      <td>0.046828</td>\n",
       "      <td>0.137025</td>\n",
       "      <td>0</td>\n",
       "      <td>1</td>\n",
       "    </tr>\n",
       "    <tr>\n",
       "      <th>90</th>\n",
       "      <td>0.121733</td>\n",
       "      <td>0.306692</td>\n",
       "      <td>0.547132</td>\n",
       "      <td>0.325186</td>\n",
       "      <td>0</td>\n",
       "      <td>1</td>\n",
       "    </tr>\n",
       "    <tr>\n",
       "      <th>94</th>\n",
       "      <td>0.106990</td>\n",
       "      <td>0.146981</td>\n",
       "      <td>0.351502</td>\n",
       "      <td>0.201825</td>\n",
       "      <td>0</td>\n",
       "      <td>1</td>\n",
       "    </tr>\n",
       "    <tr>\n",
       "      <th>95</th>\n",
       "      <td>0.259468</td>\n",
       "      <td>0.243654</td>\n",
       "      <td>0.074019</td>\n",
       "      <td>0.192380</td>\n",
       "      <td>0</td>\n",
       "      <td>1</td>\n",
       "    </tr>\n",
       "    <tr>\n",
       "      <th>98</th>\n",
       "      <td>0.284274</td>\n",
       "      <td>0.205215</td>\n",
       "      <td>0.227723</td>\n",
       "      <td>0.239071</td>\n",
       "      <td>0</td>\n",
       "      <td>1</td>\n",
       "    </tr>\n",
       "    <tr>\n",
       "      <th>99</th>\n",
       "      <td>0.344135</td>\n",
       "      <td>0.288501</td>\n",
       "      <td>0.188073</td>\n",
       "      <td>0.273570</td>\n",
       "      <td>0</td>\n",
       "      <td>1</td>\n",
       "    </tr>\n",
       "    <tr>\n",
       "      <th>107</th>\n",
       "      <td>0.122245</td>\n",
       "      <td>0.195937</td>\n",
       "      <td>0.094749</td>\n",
       "      <td>0.137644</td>\n",
       "      <td>0</td>\n",
       "      <td>1</td>\n",
       "    </tr>\n",
       "    <tr>\n",
       "      <th>115</th>\n",
       "      <td>0.279525</td>\n",
       "      <td>0.181481</td>\n",
       "      <td>0.072950</td>\n",
       "      <td>0.177985</td>\n",
       "      <td>0</td>\n",
       "      <td>1</td>\n",
       "    </tr>\n",
       "    <tr>\n",
       "      <th>116</th>\n",
       "      <td>0.275261</td>\n",
       "      <td>0.109035</td>\n",
       "      <td>0.092299</td>\n",
       "      <td>0.158865</td>\n",
       "      <td>0</td>\n",
       "      <td>1</td>\n",
       "    </tr>\n",
       "    <tr>\n",
       "      <th>118</th>\n",
       "      <td>0.266906</td>\n",
       "      <td>0.128573</td>\n",
       "      <td>0.402485</td>\n",
       "      <td>0.265988</td>\n",
       "      <td>0</td>\n",
       "      <td>1</td>\n",
       "    </tr>\n",
       "  </tbody>\n",
       "</table>\n",
       "</div>"
      ],
      "text/plain": [
       "     cor_pred  axl_pred  sag_pred      mean  predict  true\n",
       "42   0.104243  0.172289  0.101137  0.125890        0     1\n",
       "43   0.187495  0.138359  0.139757  0.155204        0     1\n",
       "44   0.214923  0.183419  0.560272  0.319538        0     1\n",
       "45   0.105405  0.150933  0.578622  0.278320        0     1\n",
       "46   0.164984  0.200779  0.440120  0.268628        0     1\n",
       "47   0.179478  0.257712  0.426587  0.287925        0     1\n",
       "48   0.140011  0.098169  0.194250  0.144143        0     1\n",
       "49   0.232942  0.281489  0.373825  0.296085        0     1\n",
       "51   0.148809  0.285647  0.152038  0.195498        0     1\n",
       "52   0.158048  0.174553  0.543205  0.291935        0     1\n",
       "53   0.139638  0.186393  0.046639  0.124223        0     1\n",
       "54   0.305108  0.190163  0.375911  0.290394        0     1\n",
       "55   0.142976  0.272776  0.601018  0.338923        0     1\n",
       "56   0.225129  0.129498  0.122574  0.159067        0     1\n",
       "57   0.244222  0.138166  0.113275  0.165221        0     1\n",
       "58   0.277569  0.283229  0.498351  0.353050        0     1\n",
       "60   0.181324  0.191130  0.529618  0.300691        0     1\n",
       "61   0.274866  0.309099  0.516238  0.366734        0     1\n",
       "62   0.203346  0.268281  0.081737  0.184455        0     1\n",
       "63   0.318629  0.256530  0.160077  0.245079        0     1\n",
       "64   0.166822  0.126632  0.141532  0.144996        0     1\n",
       "65   0.225872  0.150793  0.120139  0.165601        0     1\n",
       "66   0.198081  0.141377  0.330727  0.223395        0     1\n",
       "67   0.241269  0.127963  0.146820  0.172018        0     1\n",
       "68   0.426015  0.272026  0.280528  0.326190        0     1\n",
       "69   0.194957  0.263521  0.595399  0.351292        0     1\n",
       "70   0.111202  0.260268  0.073509  0.148326        0     1\n",
       "71   0.178870  0.158174  0.184880  0.173975        0     1\n",
       "72   0.321564  0.228068  0.447815  0.332482        0     1\n",
       "73   0.238763  0.226395  0.478864  0.314674        0     1\n",
       "74   0.334832  0.190399  0.626027  0.383753        0     1\n",
       "75   0.219593  0.146169  0.193658  0.186473        0     1\n",
       "76   0.257017  0.244635  0.195126  0.232259        0     1\n",
       "77   0.215497  0.296945  0.600345  0.370929        0     1\n",
       "78   0.281338  0.182352  0.226675  0.230122        0     1\n",
       "79   0.282944  0.301188  0.543561  0.375897        0     1\n",
       "80   0.290360  0.181100  0.621467  0.364309        0     1\n",
       "81   0.216946  0.154175  0.152926  0.174682        0     1\n",
       "82   0.293690  0.238905  0.173471  0.235355        0     1\n",
       "83   0.217852  0.145662  0.328202  0.230572        0     1\n",
       "84   0.242044  0.173531  0.150607  0.188727        0     1\n",
       "85   0.196106  0.249405  0.343233  0.262915        0     1\n",
       "86   0.201809  0.208480  0.128776  0.179688        0     1\n",
       "88   0.081373  0.105110  0.029217  0.071900        0     1\n",
       "89   0.212421  0.151824  0.046828  0.137025        0     1\n",
       "90   0.121733  0.306692  0.547132  0.325186        0     1\n",
       "94   0.106990  0.146981  0.351502  0.201825        0     1\n",
       "95   0.259468  0.243654  0.074019  0.192380        0     1\n",
       "98   0.284274  0.205215  0.227723  0.239071        0     1\n",
       "99   0.344135  0.288501  0.188073  0.273570        0     1\n",
       "107  0.122245  0.195937  0.094749  0.137644        0     1\n",
       "115  0.279525  0.181481  0.072950  0.177985        0     1\n",
       "116  0.275261  0.109035  0.092299  0.158865        0     1\n",
       "118  0.266906  0.128573  0.402485  0.265988        0     1"
      ]
     },
     "execution_count": 61,
     "metadata": {},
     "output_type": "execute_result"
    }
   ],
   "source": [
    "pred_acl[pred_acl['true'] != pred_acl['predict']]"
   ]
  },
  {
   "cell_type": "markdown",
   "id": "0ddc2aa8",
   "metadata": {},
   "source": [
    "**export results to csv**"
   ]
  },
  {
   "cell_type": "code",
   "execution_count": 62,
   "id": "21ea5f3c",
   "metadata": {},
   "outputs": [],
   "source": [
    "pred_ab.to_csv('../data/own_pred_ab_results.csv')\n",
    "pred_acl.to_csv('../data/own_pred_acl_results.csv')\n",
    "pred_men.to_csv('../data/own_pred_men_results.csv')"
   ]
  }
 ],
 "metadata": {
  "kernelspec": {
   "display_name": "Python 3",
   "language": "python",
   "name": "python3"
  },
  "language_info": {
   "codemirror_mode": {
    "name": "ipython",
    "version": 3
   },
   "file_extension": ".py",
   "mimetype": "text/x-python",
   "name": "python",
   "nbconvert_exporter": "python",
   "pygments_lexer": "ipython3",
   "version": "3.8.8"
  },
  "toc": {
   "base_numbering": 1,
   "nav_menu": {},
   "number_sections": true,
   "sideBar": true,
   "skip_h1_title": false,
   "title_cell": "Table of Contents",
   "title_sidebar": "Contents",
   "toc_cell": false,
   "toc_position": {
    "height": "747px",
    "left": "279px",
    "top": "323.133px",
    "width": "384px"
   },
   "toc_section_display": true,
   "toc_window_display": true
  }
 },
 "nbformat": 4,
 "nbformat_minor": 5
}
