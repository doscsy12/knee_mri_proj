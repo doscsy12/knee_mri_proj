{
 "cells": [
  {
   "cell_type": "markdown",
   "id": "4c2b325d",
   "metadata": {},
   "source": [
    "# Capstone: Development of an algorithm for automatic detection of meniscus tears in radiographic images of the knee."
   ]
  },
  {
   "cell_type": "markdown",
   "id": "dbc740b2",
   "metadata": {},
   "source": [
    "### Contents:\n",
    "- [Background](#Background)\n",
    "- [Data](#Data)\n",
    "- [Building own models](#Building-own-models)\n",
    "- [Evaluate results](#Evaluate-results)\n",
    "\n"
   ]
  },
  {
   "cell_type": "code",
   "execution_count": 1,
   "id": "63513338",
   "metadata": {},
   "outputs": [],
   "source": [
    "# from google.colab import drive\n",
    "# drive.mount('/content/drive') "
   ]
  },
  {
   "cell_type": "code",
   "execution_count": 2,
   "id": "68e9dab3",
   "metadata": {},
   "outputs": [],
   "source": [
    "# Import libraries here\n",
    "import os\n",
    "import tempfile\n",
    "import numpy as np\n",
    "import pandas as pd\n",
    "import matplotlib.pyplot as plt\n",
    "import seaborn as sns\n",
    "from glob import glob\n",
    "\n",
    "import random as random\n",
    "import imageio\n",
    "import imgaug as ia\n",
    "import tensorflow as tf\n",
    "from tensorflow import keras\n",
    "from tensorflow.keras.preprocessing.image import save_img, load_img, img_to_array\n",
    "from tensorflow.keras.models import Sequential\n",
    "from tensorflow.keras.layers import Dense, Dropout, Flatten, Conv2D, MaxPooling2D, Average, Input, Activation, Reshape, TimeDistributed\n",
    "from tensorflow.keras import regularizers, optimizers\n",
    "from tensorflow.keras.callbacks import ModelCheckpoint, TensorBoard\n",
    "from tensorflow.keras import models\n",
    "from tensorflow.keras import layers\n",
    "from tensorflow.keras import utils\n",
    "from tensorflow.keras.applications.vgg16 import VGG16, preprocess_input, decode_predictions\n",
    "from tensorflow.keras.utils import plot_model\n",
    "pd.options.mode.chained_assignment = None  # default='warn'\n",
    "\n",
    "tmpdir = tempfile.mkdtemp()\n"
   ]
  },
  {
   "cell_type": "markdown",
   "id": "4d18c603",
   "metadata": {},
   "source": [
    "**Data from [MRNet](https://stanfordmlgroup.github.io/competitions/mrnet/):** \n",
    "* Images of 1370 knee MRI exams performed at Stanford University Medical Center. The dataset contains 1,104 (80.6%) abnormal exams,  with 319 (23.3%) ACL tears and 508 (37.1%) meniscal tears; labels were obtained through manual extraction from clinical reports. \n",
    "* train set: consists of 1130 MRI images from coronal, sagittal and transverse planes\n",
    "* valdation set: consists of 120 MRI images from coronal, sagittal and transverse planes\n"
   ]
  },
  {
   "cell_type": "markdown",
   "id": "a07d701a",
   "metadata": {},
   "source": [
    "## Data import"
   ]
  },
  {
   "cell_type": "markdown",
   "id": "64823312",
   "metadata": {},
   "source": [
    "**import data and get labels**"
   ]
  },
  {
   "cell_type": "code",
   "execution_count": 3,
   "id": "7bb23e8a",
   "metadata": {},
   "outputs": [],
   "source": [
    "# !unzip drive/My\\ Drive/data.zip > /dev/null"
   ]
  },
  {
   "cell_type": "code",
   "execution_count": 4,
   "id": "9ba4edc1",
   "metadata": {},
   "outputs": [],
   "source": [
    "# /content/drive/MyDrive/Colab Notebooks/data"
   ]
  },
  {
   "cell_type": "code",
   "execution_count": 5,
   "id": "47cfdcef",
   "metadata": {},
   "outputs": [],
   "source": [
    "train_path = '../data/train/'\n",
    "valid_path = '../data/valid/'"
   ]
  },
  {
   "cell_type": "code",
   "execution_count": 6,
   "id": "293d6d9b",
   "metadata": {},
   "outputs": [],
   "source": [
    "# train_path = 'data/train/'\n",
    "# valid_path = 'data/valid/'"
   ]
  },
  {
   "cell_type": "code",
   "execution_count": 7,
   "id": "16c4233d",
   "metadata": {},
   "outputs": [],
   "source": [
    "datasets = {'train': train_path, 'valid': valid_path}\n",
    "planes = ['axial', 'coronal', 'sagittal']\n",
    "# diagnosis = ['abnormal','meniscus','acl']"
   ]
  },
  {
   "cell_type": "code",
   "execution_count": 8,
   "id": "a1693737",
   "metadata": {},
   "outputs": [],
   "source": [
    "def get_data(dataset_type, plane, diagnosis):\n",
    "    # for eg, (train, sagittal, acl)\n",
    "    if dataset_type == 'train':\n",
    "        go = train_path\n",
    "    else:\n",
    "        go = valid_path\n",
    "        \n",
    "#     img_path = glob(f'{go}/{plane}/*.npy')\n",
    "    plane_dir = f'{go}/{plane}'\n",
    "    data = os.listdir(plane_dir)\n",
    "    \n",
    "    label_path = f'../data/{dataset_type}-{diagnosis}.csv'\n",
    "#     label_path = f'data/{dataset_type}-{diagnosis}.csv'\n",
    "    label_df = pd.read_csv(label_path, names=['nr', diagnosis])\n",
    "    label_data = list(label_df[diagnosis])\n",
    "    \n",
    "    return(data, plane_dir, label_data)"
   ]
  },
  {
   "cell_type": "markdown",
   "id": "65fd590f",
   "metadata": {},
   "source": [
    "**abnormal dataset**"
   ]
  },
  {
   "cell_type": "code",
   "execution_count": 9,
   "id": "2efbef15",
   "metadata": {},
   "outputs": [],
   "source": [
    "# training data\n",
    "train_coronal_data, train_coronal_dir, train_ab_label = get_data('train', 'coronal', 'abnormal')\n",
    "train_axial_data, train_axial_dir, train_ab_label = get_data('train', 'axial', 'abnormal')\n",
    "train_sagittal_data, train_sagittal_dir, train_ab_label = get_data('train', 'sagittal', 'abnormal')"
   ]
  },
  {
   "cell_type": "code",
   "execution_count": 10,
   "id": "3dff0771",
   "metadata": {},
   "outputs": [],
   "source": [
    "# validation data\n",
    "valid_coronal_data, valid_coronal_dir, valid_ab_label = get_data('valid','coronal','abnormal')\n",
    "valid_axial_data, valid_axial_dir, valid_ab_label = get_data('valid','axial','abnormal')\n",
    "valid_sagittal_data, valid_sagittal_dir, valid_ab_label = get_data('valid','sagittal','abnormal')"
   ]
  },
  {
   "cell_type": "markdown",
   "id": "f4fbb8f0",
   "metadata": {},
   "source": [
    "**meniscus dataset**"
   ]
  },
  {
   "cell_type": "code",
   "execution_count": 11,
   "id": "ab41e366",
   "metadata": {},
   "outputs": [],
   "source": [
    "# training data\n",
    "train_coronal_data, train_coronal_dir, train_men_label = get_data('train', 'coronal', 'meniscus')\n",
    "train_axial_data, train_axial_dir, train_men_label = get_data('train', 'axial', 'meniscus')\n",
    "train_sagittal_data, train_sagittal_dir, train_men_label = get_data('train', 'sagittal', 'meniscus')"
   ]
  },
  {
   "cell_type": "code",
   "execution_count": 12,
   "id": "ceed3ce2",
   "metadata": {},
   "outputs": [],
   "source": [
    "# validation data\n",
    "valid_coronal_data, valid_coronal_dir, valid_men_label = get_data('valid','coronal','meniscus')\n",
    "valid_axial_data, valid_axial_dir, valid_men_label = get_data('valid','axial','meniscus')\n",
    "valid_sagittal_data, valid_sagittal_dir, valid_men_label = get_data('valid','sagittal','meniscus')"
   ]
  },
  {
   "cell_type": "code",
   "execution_count": 13,
   "id": "3f7d9cad",
   "metadata": {},
   "outputs": [],
   "source": [
    "# train_coronal_men_data.remove('.DS_Store')\n",
    "# train_axial_men_data.remove('.DS_Store')\n",
    "# train_sagittal_men_data.remove('.DS_Store')"
   ]
  },
  {
   "cell_type": "code",
   "execution_count": 14,
   "id": "a3a43187",
   "metadata": {},
   "outputs": [
    {
     "data": {
      "text/plain": [
       "'0000.npy'"
      ]
     },
     "execution_count": 14,
     "metadata": {},
     "output_type": "execute_result"
    }
   ],
   "source": [
    "train_coronal_data[0]"
   ]
  },
  {
   "cell_type": "code",
   "execution_count": 15,
   "id": "d2f5548e",
   "metadata": {},
   "outputs": [
    {
     "data": {
      "text/plain": [
       "'../data/train//coronal'"
      ]
     },
     "execution_count": 15,
     "metadata": {},
     "output_type": "execute_result"
    }
   ],
   "source": [
    "train_coronal_dir"
   ]
  },
  {
   "cell_type": "markdown",
   "id": "2fd097d6",
   "metadata": {},
   "source": [
    "**acl dataset**"
   ]
  },
  {
   "cell_type": "code",
   "execution_count": 16,
   "id": "bab91c83",
   "metadata": {},
   "outputs": [],
   "source": [
    "# training data\n",
    "train_coronal_data, train_coronal_dir, train_acl_label = get_data('train', 'coronal', 'acl')\n",
    "train_axial_data, train_axial_dir, train_acl_label = get_data('train', 'axial', 'acl')\n",
    "train_sagittal_data, train_sagittal_dir, train_acl_label = get_data('train', 'sagittal', 'acl')"
   ]
  },
  {
   "cell_type": "code",
   "execution_count": 17,
   "id": "28e45039",
   "metadata": {},
   "outputs": [],
   "source": [
    "# validation data\n",
    "valid_coronal_data, valid_coronal_dir, valid_acl_label = get_data('valid','coronal','acl')\n",
    "valid_axial_data, valid_axial_dir, valid_acl_label = get_data('valid','axial','acl')\n",
    "valid_sagittal_data, valid_sagittal_dir, valid_acl_label = get_data('valid','sagittal','acl')"
   ]
  },
  {
   "cell_type": "markdown",
   "id": "5530ba46",
   "metadata": {},
   "source": [
    "The dataset contains *s* x 256 x 256 images. Since middle images are the most useful, only 3 middle slides in the series are retained. \n"
   ]
  },
  {
   "cell_type": "code",
   "execution_count": 18,
   "id": "a03daa62",
   "metadata": {},
   "outputs": [],
   "source": [
    "def image_extraction(data, path, new_path): #3 images\n",
    "    '''this function extracts middle 3 slides of each scan'''\n",
    "    extract=[]\n",
    "    new_data=[]\n",
    "    for i in range(len(data)): \n",
    "        img = np.load(os.path.join(path,data[i]))\n",
    "        middle_idx = int(img.shape[0]/2)\n",
    "#         print(img.shape[0],middle_idx)\n",
    "        img = img[(middle_idx - 1) : (middle_idx + 2)]\n",
    "#         # reshape adapted for model (s x 256 x 256 x 1)\n",
    "#         img_reshape = np.repeat(img[..., np.newaxis], 1, -1)\n",
    "        img = img.reshape(256,256,3)\n",
    "        extract.extend(img)\n",
    "        new_data.append(np.array(extract))        \n",
    "        extract.clear()\n",
    "        \n",
    "#     new_data.shape(1130,256,256,3) for train\n",
    "    np.save(new_path, np.array(new_data))\n"
   ]
  },
  {
   "cell_type": "markdown",
   "id": "3c60f283",
   "metadata": {},
   "source": [
    "Note that training data for all diagnoses are the same. Only labels are different."
   ]
  },
  {
   "cell_type": "markdown",
   "id": "533f6dba",
   "metadata": {},
   "source": [
    "**image extraction for training data**"
   ]
  },
  {
   "cell_type": "code",
   "execution_count": 19,
   "id": "3e39ffd6",
   "metadata": {},
   "outputs": [],
   "source": [
    "# image extraction for 3 planes\n",
    "new_path = '../data/train_transform/coronal'\n",
    "image_extraction(train_coronal_data, train_coronal_dir, new_path)"
   ]
  },
  {
   "cell_type": "code",
   "execution_count": 20,
   "id": "f3c1a23c",
   "metadata": {},
   "outputs": [],
   "source": [
    "new_path = '../data/train_transform/axial'\n",
    "image_extraction(train_axial_data, train_axial_dir, new_path)"
   ]
  },
  {
   "cell_type": "code",
   "execution_count": 21,
   "id": "0c79ae44",
   "metadata": {},
   "outputs": [],
   "source": [
    "new_path = '../data/train_transform/sagittal'\n",
    "image_extraction(train_sagittal_data, train_sagittal_dir, new_path)"
   ]
  },
  {
   "cell_type": "code",
   "execution_count": 22,
   "id": "719671d5",
   "metadata": {},
   "outputs": [],
   "source": [
    "image = np.load('../data/train_transform/sagittal.npy')"
   ]
  },
  {
   "cell_type": "code",
   "execution_count": 23,
   "id": "f002efc4",
   "metadata": {},
   "outputs": [
    {
     "data": {
      "text/plain": [
       "(256, 256, 3)"
      ]
     },
     "execution_count": 23,
     "metadata": {},
     "output_type": "execute_result"
    }
   ],
   "source": [
    "image[0].shape"
   ]
  },
  {
   "cell_type": "markdown",
   "id": "3b4ac78b",
   "metadata": {},
   "source": [
    "**extraction for validation data**"
   ]
  },
  {
   "cell_type": "code",
   "execution_count": 24,
   "id": "5fa82965",
   "metadata": {},
   "outputs": [],
   "source": [
    "# image extraction for 3 planes\n",
    "new_path = '../data/valid_transform/coronal'\n",
    "image_extraction(valid_coronal_data, valid_coronal_dir, new_path)"
   ]
  },
  {
   "cell_type": "code",
   "execution_count": 25,
   "id": "ee2492fb",
   "metadata": {},
   "outputs": [],
   "source": [
    "new_path = '../data/valid_transform/axial'\n",
    "image_extraction(valid_axial_data, valid_axial_dir, new_path)"
   ]
  },
  {
   "cell_type": "code",
   "execution_count": 26,
   "id": "79ad09fc",
   "metadata": {},
   "outputs": [],
   "source": [
    "new_path = '../data/valid_transform/sagittal'\n",
    "image_extraction(valid_sagittal_data, valid_sagittal_dir, new_path)"
   ]
  },
  {
   "cell_type": "code",
   "execution_count": 27,
   "id": "bc75bb0e",
   "metadata": {},
   "outputs": [
    {
     "data": {
      "text/plain": [
       "(120, 256, 256, 3)"
      ]
     },
     "execution_count": 27,
     "metadata": {},
     "output_type": "execute_result"
    }
   ],
   "source": [
    "image = np.load('../data/valid_transform/sagittal.npy')\n",
    "image.shape"
   ]
  },
  {
   "cell_type": "markdown",
   "id": "f94a1929",
   "metadata": {},
   "source": [
    "**normalisation intensity**"
   ]
  },
  {
   "cell_type": "code",
   "execution_count": null,
   "id": "1a3d4605",
   "metadata": {},
   "outputs": [],
   "source": []
  },
  {
   "cell_type": "markdown",
   "id": "caab6116",
   "metadata": {},
   "source": [
    "**data generation from extracted/transformed dataset**"
   ]
  },
  {
   "cell_type": "code",
   "execution_count": 28,
   "id": "eb0bdc7d",
   "metadata": {},
   "outputs": [],
   "source": [
    "def data_gen(dataset_type, plane, diagnosis):\n",
    "    # for eg, (train, sagittal, mensicus)\n",
    "    if dataset_type == 'train':\n",
    "        go = '../data/train_transform/'\n",
    "    else:\n",
    "        go = '../data/valid_transform/'\n",
    "        \n",
    "    plane_dir = f'{go}/{plane}.npy'\n",
    "    data = np.load(plane_dir)\n",
    "    \n",
    "    label_path = f'../data/{dataset_type}-{diagnosis}.csv'\n",
    "#     label_path = f'data/{dataset_type}-{diagnosis}.csv'\n",
    "    label_df = pd.read_csv(label_path, names=['nr', diagnosis])\n",
    "    label_data = list(label_df[diagnosis])\n",
    "    \n",
    "    return(data, label_data)\n",
    "    "
   ]
  },
  {
   "cell_type": "markdown",
   "id": "495cc4fc",
   "metadata": {},
   "source": [
    "Note that training data for all diagnoses are the same. Only labels are different. But for ease as inputs into model, data generation was done for planes and all diagnoses."
   ]
  },
  {
   "cell_type": "code",
   "execution_count": 29,
   "id": "b1550b3f",
   "metadata": {},
   "outputs": [],
   "source": [
    "# meniscus\n",
    "# generate training input\n",
    "coronal_mensicus, coronal_mensicus_label = data_gen('train', 'coronal', 'meniscus')\n",
    "axial_mensicus, axial_mensicus_label = data_gen('train', 'axial', 'meniscus')\n",
    "sagittal_mensicus, sagittal_mensicus_label = data_gen('train', 'sagittal', 'meniscus')\n",
    "\n",
    "# generate validation\n",
    "coronal_mensicus_val, coronal_mensicus_label_val  = data_gen('valid', 'coronal', 'meniscus')\n",
    "axial_mensicus_val, axial_mensicus_label_val  = data_gen('valid', 'axial', 'meniscus')\n",
    "sagittal_mensicus_val, sagittal_mensicus_label_val  = data_gen('valid', 'sagittal', 'meniscus')"
   ]
  },
  {
   "cell_type": "code",
   "execution_count": 30,
   "id": "b406768b",
   "metadata": {},
   "outputs": [],
   "source": [
    "# abnormal\n",
    "# generate training input\n",
    "coronal_abnormal, coronal_abnormal_label = data_gen('train', 'coronal', 'abnormal')\n",
    "axial_abnormal, axial_abnormal_label = data_gen('train', 'axial', 'abnormal')\n",
    "sagittal_abnormal, sagittal_abnormal_label = data_gen('train', 'sagittal', 'abnormal')\n",
    "\n",
    "# generate validation\n",
    "coronal_abnormal_val, coronal_abnormal_label_val  = data_gen('valid', 'coronal', 'abnormal')\n",
    "axial_abnormal_val, axial_abnormal_label_val  = data_gen('valid', 'axial', 'abnormal')\n",
    "sagittal_abnormal_val, sagittal_abnormal_label_val  = data_gen('valid', 'sagittal', 'abnormal')"
   ]
  },
  {
   "cell_type": "code",
   "execution_count": 31,
   "id": "eb7fcc3a",
   "metadata": {},
   "outputs": [],
   "source": [
    "# acl\n",
    "# generate training input\n",
    "coronal_acl, coronal_acl_label = data_gen('train', 'coronal', 'acl')\n",
    "axial_acl, axial_acl_label = data_gen('train', 'axial', 'acl')\n",
    "sagittal_acl, sagittal_acl_label = data_gen('train', 'sagittal', 'acl')\n",
    "\n",
    "# generate validation\n",
    "coronal_acl_val, coronal_acl_label_val  = data_gen('valid', 'coronal', 'acl')\n",
    "axial_acl_val, axial_acl_label_val  = data_gen('valid', 'axial', 'acl')\n",
    "sagittal_acl_val, sagittal_acl_label_val  = data_gen('valid', 'sagittal', 'acl')"
   ]
  },
  {
   "cell_type": "markdown",
   "id": "925cfeef",
   "metadata": {},
   "source": [
    "## Building own models"
   ]
  },
  {
   "cell_type": "markdown",
   "id": "06b6753f",
   "metadata": {},
   "source": [
    "The code snippet below is the first model, a simple stack of 3 convolution layers with a ReLU activation and followed by max-pooling layers. This is very similar to the architectures that Yann LeCun built in the 1990s for image classification (with the exception of ReLU)([LeCun et al., 1998](http://yann.lecun.com/exdb/publis/pdf/lecun-01a.pdf)). In addition, two fully-connected layers were added, and end with a single unit and a sigmoid activation, which is perfect for a binary classification. \n",
    "<br>\n",
    "<br> Another reason why this was chosen as the first CNN, was because it can even be run on a CPU. "
   ]
  },
  {
   "cell_type": "code",
   "execution_count": 32,
   "id": "218bdd88",
   "metadata": {},
   "outputs": [],
   "source": [
    "def build_model():\n",
    "    model = Sequential()\n",
    "    \n",
    "    model.add(Conv2D(filters=32, \n",
    "                     kernel_size=(3, 3),\n",
    "                     activation='relu',\n",
    "                     padding='same',\n",
    "                     input_shape=(256,256,3)))\n",
    "    model.add(MaxPooling2D(pool_size=(2, 2)))\n",
    "\n",
    "    model.add(Conv2D(filters=32, \n",
    "                     kernel_size=(3, 3), \n",
    "                     activation='relu',\n",
    "                     padding='same'))\n",
    "    model.add(MaxPooling2D(pool_size=(2, 2)))\n",
    "\n",
    "    model.add(Conv2D(filters=64, \n",
    "                     kernel_size=(3, 3), \n",
    "                     activation='relu',\n",
    "                     padding='same'))\n",
    "    model.add(MaxPooling2D(pool_size=(2, 2)))\n",
    "    \n",
    "    model.add(Flatten())\n",
    "    model.add(Dense(256, activation=\"relu\"))\n",
    "    model.add(Dropout(0.5))\n",
    "    model.add(Dense(1, activation=\"sigmoid\"))\n",
    "    \n",
    "    sgd = optimizers.SGD(lr=1e-4, decay=1e-6, momentum=0.9, nesterov=True)\n",
    "    model.compile(optimizer=sgd, loss='binary_crossentropy', metrics=['accuracy'])\n",
    "    \n",
    "    return model"
   ]
  },
  {
   "cell_type": "code",
   "execution_count": 33,
   "id": "487fc35d",
   "metadata": {},
   "outputs": [
    {
     "name": "stdout",
     "output_type": "stream",
     "text": [
      "Model: \"sequential\"\n",
      "_________________________________________________________________\n",
      "Layer (type)                 Output Shape              Param #   \n",
      "=================================================================\n",
      "conv2d (Conv2D)              (None, 256, 256, 32)      896       \n",
      "_________________________________________________________________\n",
      "max_pooling2d (MaxPooling2D) (None, 128, 128, 32)      0         \n",
      "_________________________________________________________________\n",
      "conv2d_1 (Conv2D)            (None, 128, 128, 32)      9248      \n",
      "_________________________________________________________________\n",
      "max_pooling2d_1 (MaxPooling2 (None, 64, 64, 32)        0         \n",
      "_________________________________________________________________\n",
      "conv2d_2 (Conv2D)            (None, 64, 64, 64)        18496     \n",
      "_________________________________________________________________\n",
      "max_pooling2d_2 (MaxPooling2 (None, 32, 32, 64)        0         \n",
      "_________________________________________________________________\n",
      "flatten (Flatten)            (None, 65536)             0         \n",
      "_________________________________________________________________\n",
      "dense (Dense)                (None, 256)               16777472  \n",
      "_________________________________________________________________\n",
      "dropout (Dropout)            (None, 256)               0         \n",
      "_________________________________________________________________\n",
      "dense_1 (Dense)              (None, 1)                 257       \n",
      "=================================================================\n",
      "Total params: 16,806,369\n",
      "Trainable params: 16,806,369\n",
      "Non-trainable params: 0\n",
      "_________________________________________________________________\n"
     ]
    }
   ],
   "source": [
    "model = build_model()\n",
    "model.summary()"
   ]
  },
  {
   "cell_type": "code",
   "execution_count": 34,
   "id": "4b95c586",
   "metadata": {},
   "outputs": [],
   "source": [
    "# https://blog.keras.io/building-powerful-image-classification-models-using-very-little-data.html\n",
    "# training model that will be added to VGG16\n",
    "def model_train(model, model_name, num_epochs, train_data, train_labels, validation_data, validation_labels):\n",
    "    path_dir = r'C:\\Users\\USER\\DSI-roughpaper\\capstone\\data' \n",
    "    path = f'{path_dir}\\{model_name}\\weights.h5'\n",
    "\n",
    "    history = model.fit(x=train_data, y=np.array(train_labels), \n",
    "            batch_size=32, \n",
    "            validation_data=(validation_data, np.array(validation_labels)),\n",
    "            epochs=num_epochs, \n",
    "#             steps_per_epoch = 1096,  # len/batch_size\n",
    "#             validation_steps = 116,\n",
    "            verbose=1)\n",
    "\n",
    "    model.save_weights(path)\n",
    "    \n",
    "    return model, history"
   ]
  },
  {
   "cell_type": "code",
   "execution_count": 35,
   "id": "58b58f64",
   "metadata": {},
   "outputs": [],
   "source": [
    "def plot_results(model):\n",
    "    train_loss = model.history['loss']\n",
    "    test_loss = model.history['val_loss']\n",
    "    acc = model.history['accuracy']\n",
    "    val_acc = model.history['val_accuracy']\n",
    "    epoch_labels = model.epoch\n",
    "\n",
    "    fig, axes = plt.subplots(1, 2, figsize=(20, 6), sharex=True)\n",
    "\n",
    "    axes[0].plot(train_loss, label='Training Loss', color='#185fad')\n",
    "    axes[0].plot(test_loss, label='Testing Loss', color='orange')\n",
    "\n",
    "    axes[1].plot(acc, label='Training accuracy', color='blue')\n",
    "    axes[1].plot(val_acc, label='Testing accuracy', color='red')\n",
    "\n",
    "    # Set title\n",
    "    axes[0].title.set_text('Training and Testing Loss by Epoch')\n",
    "    axes[1].title.set_text('Training and Testing Accuracy by Epoch')\n",
    "    axes[0].set_xlabel('Epoch')\n",
    "    axes[1].set_xlabel('Epoch')\n",
    "    axes[0].set_ylabel('Binary Crossentropy')\n",
    "    axes[1].set_ylabel('Binary Crossentropy')\n",
    "    plt.xticks(epoch_labels, epoch_labels);    \n",
    "    axes[0].legend(fontsize=18);\n",
    "    axes[1].legend(fontsize=18);\n"
   ]
  },
  {
   "cell_type": "markdown",
   "id": "af533ab6",
   "metadata": {},
   "source": [
    "**predictions for abnormal dataset**"
   ]
  },
  {
   "cell_type": "code",
   "execution_count": 37,
   "id": "6d796e09",
   "metadata": {},
   "outputs": [
    {
     "name": "stdout",
     "output_type": "stream",
     "text": [
      "Epoch 1/5\n",
      "36/36 [==============================] - 79s 2s/step - loss: 9.6597 - accuracy: 0.7381 - val_loss: 0.4915 - val_accuracy: 0.7917\n",
      "Epoch 2/5\n",
      "36/36 [==============================] - 67s 2s/step - loss: 0.4753 - accuracy: 0.8018 - val_loss: 0.4962 - val_accuracy: 0.7917\n",
      "Epoch 3/5\n",
      "36/36 [==============================] - 70s 2s/step - loss: 0.4432 - accuracy: 0.8097 - val_loss: 0.5007 - val_accuracy: 0.7917\n",
      "Epoch 4/5\n",
      "36/36 [==============================] - 69s 2s/step - loss: 0.4385 - accuracy: 0.8150 - val_loss: 0.5071 - val_accuracy: 0.8000\n",
      "Epoch 5/5\n",
      "36/36 [==============================] - 67s 2s/step - loss: 0.4338 - accuracy: 0.8124 - val_loss: 0.5093 - val_accuracy: 0.7917\n"
     ]
    },
    {
     "data": {
      "image/png": "[encoded data removed]",
      "text/plain": [
       "<Figure size 1440x432 with 2 Axes>"
      ]
     },
     "metadata": {
      "needs_background": "light"
     },
     "output_type": "display_data"
    }
   ],
   "source": [
    "# coronal plane\n",
    "num_epochs=5\n",
    "\n",
    "cnn_model = build_model()\n",
    "cor_ab_model, hst_cab = model_train(cnn_model, 'hst_cab', num_epochs, coronal_abnormal, coronal_abnormal_label, coronal_abnormal_val, coronal_abnormal_label_val)\n",
    "\n",
    "# get/plot accuracy\n",
    "hst_cab_acc=[]\n",
    "hst_cab_acc.append(np.mean(hst_cab.history['val_accuracy']))\n",
    "plot_results(hst_cab)"
   ]
  },
  {
   "cell_type": "code",
   "execution_count": 38,
   "id": "c61387de",
   "metadata": {},
   "outputs": [
    {
     "name": "stdout",
     "output_type": "stream",
     "text": [
      "Epoch 1/5\n",
      "36/36 [==============================] - 71s 2s/step - loss: 10.3901 - accuracy: 0.7478 - val_loss: 0.5060 - val_accuracy: 0.7917\n",
      "Epoch 2/5\n",
      "36/36 [==============================] - 65s 2s/step - loss: 0.4679 - accuracy: 0.8062 - val_loss: 0.4957 - val_accuracy: 0.7917\n",
      "Epoch 3/5\n",
      "36/36 [==============================] - 66s 2s/step - loss: 0.4417 - accuracy: 0.8097 - val_loss: 0.4866 - val_accuracy: 0.7917\n",
      "Epoch 4/5\n",
      "36/36 [==============================] - 66s 2s/step - loss: 0.4146 - accuracy: 0.8168 - val_loss: 0.4772 - val_accuracy: 0.7917\n",
      "Epoch 5/5\n",
      "36/36 [==============================] - 66s 2s/step - loss: 0.3990 - accuracy: 0.8239 - val_loss: 0.4503 - val_accuracy: 0.8167\n"
     ]
    },
    {
     "data": {
      "image/png": "[encoded data removed]",
      "text/plain": [
       "<Figure size 1440x432 with 2 Axes>"
      ]
     },
     "metadata": {
      "needs_background": "light"
     },
     "output_type": "display_data"
    }
   ],
   "source": [
    "# axial plane\n",
    "num_epochs=5\n",
    "\n",
    "cnn_model = build_model()\n",
    "axl_ab_model, hst_aab = model_train(cnn_model, 'hst_aab', num_epochs, axial_abnormal, axial_abnormal_label, axial_abnormal_val, axial_abnormal_label_val)\n",
    "\n",
    "# get/plot accuracy\n",
    "hst_aab_acc=[]\n",
    "hst_aab_acc.append(np.mean(hst_aab.history['val_accuracy']))\n",
    "plot_results(hst_aab)"
   ]
  },
  {
   "cell_type": "code",
   "execution_count": 39,
   "id": "4b4cb029",
   "metadata": {},
   "outputs": [
    {
     "name": "stdout",
     "output_type": "stream",
     "text": [
      "Epoch 1/5\n",
      "36/36 [==============================] - 68s 2s/step - loss: 4.9007 - accuracy: 0.7673 - val_loss: 0.4994 - val_accuracy: 0.7750\n",
      "Epoch 2/5\n",
      "36/36 [==============================] - 67s 2s/step - loss: 0.4173 - accuracy: 0.8177 - val_loss: 0.5262 - val_accuracy: 0.7833\n",
      "Epoch 3/5\n",
      "36/36 [==============================] - 68s 2s/step - loss: 0.3755 - accuracy: 0.8336 - val_loss: 0.4891 - val_accuracy: 0.8000\n",
      "Epoch 4/5\n",
      "36/36 [==============================] - 89s 2s/step - loss: 0.3223 - accuracy: 0.8584 - val_loss: 0.4433 - val_accuracy: 0.8000\n",
      "Epoch 5/5\n",
      "36/36 [==============================] - 79s 2s/step - loss: 0.3140 - accuracy: 0.8664 - val_loss: 0.4564 - val_accuracy: 0.8333\n"
     ]
    },
    {
     "data": {
      "image/png": "[encoded data removed]",
      "text/plain": [
       "<Figure size 1440x432 with 2 Axes>"
      ]
     },
     "metadata": {
      "needs_background": "light"
     },
     "output_type": "display_data"
    }
   ],
   "source": [
    "# sagittal plane\n",
    "num_epochs=5\n",
    "\n",
    "cnn_model = build_model()\n",
    "sag_ab_model, hst_sab = model_train(cnn_model, 'hst_sab', num_epochs, sagittal_abnormal, sagittal_abnormal_label, sagittal_abnormal_val, sagittal_abnormal_label_val)\n",
    "\n",
    "# get/plot accuracy\n",
    "hst_sab_acc=[]\n",
    "hst_sab_acc.append(np.mean(hst_sab.history['val_accuracy']))\n",
    "plot_results(hst_sab)"
   ]
  },
  {
   "cell_type": "markdown",
   "id": "9501527c",
   "metadata": {},
   "source": [
    "**predictions for meniscus dataset**"
   ]
  },
  {
   "cell_type": "code",
   "execution_count": 40,
   "id": "da9009ff",
   "metadata": {},
   "outputs": [
    {
     "name": "stdout",
     "output_type": "stream",
     "text": [
      "Epoch 1/5\n",
      "36/36 [==============================] - 73s 2s/step - loss: 14.6044 - accuracy: 0.5903 - val_loss: 0.6669 - val_accuracy: 0.5917\n",
      "Epoch 2/5\n",
      "36/36 [==============================] - 66s 2s/step - loss: 0.6311 - accuracy: 0.6478 - val_loss: 0.6768 - val_accuracy: 0.5750\n",
      "Epoch 3/5\n",
      "36/36 [==============================] - 67s 2s/step - loss: 0.6306 - accuracy: 0.6425 - val_loss: 0.6776 - val_accuracy: 0.6000\n",
      "Epoch 4/5\n",
      "36/36 [==============================] - 67s 2s/step - loss: 0.6121 - accuracy: 0.6540 - val_loss: 0.6939 - val_accuracy: 0.5583\n",
      "Epoch 5/5\n",
      "36/36 [==============================] - 66s 2s/step - loss: 0.5972 - accuracy: 0.6637 - val_loss: 0.6816 - val_accuracy: 0.5750\n"
     ]
    },
    {
     "data": {
      "image/png": "[encoded data removed]",
      "text/plain": [
       "<Figure size 1440x432 with 2 Axes>"
      ]
     },
     "metadata": {
      "needs_background": "light"
     },
     "output_type": "display_data"
    }
   ],
   "source": [
    "# coronal plane\n",
    "num_epochs=5\n",
    "\n",
    "cnn_model = build_model()\n",
    "cor_men_model, hst_cmen = model_train(cnn_model, 'hst_cmen', num_epochs, coronal_mensicus, coronal_mensicus_label, coronal_mensicus_val, coronal_mensicus_label_val)\n",
    "\n",
    "# get/plot accuracy\n",
    "hst_cmen_acc=[]\n",
    "hst_cmen_acc.append(np.mean(hst_cmen.history['val_accuracy']))\n",
    "plot_results(hst_cmen)"
   ]
  },
  {
   "cell_type": "code",
   "execution_count": 41,
   "id": "3b3f5ba6",
   "metadata": {},
   "outputs": [
    {
     "name": "stdout",
     "output_type": "stream",
     "text": [
      "Epoch 1/5\n",
      "36/36 [==============================] - 71s 2s/step - loss: 10.0912 - accuracy: 0.5681 - val_loss: 0.7237 - val_accuracy: 0.5750\n",
      "Epoch 2/5\n",
      "36/36 [==============================] - 68s 2s/step - loss: 0.6298 - accuracy: 0.6549 - val_loss: 0.6434 - val_accuracy: 0.6000\n",
      "Epoch 3/5\n",
      "36/36 [==============================] - 67s 2s/step - loss: 0.6096 - accuracy: 0.6690 - val_loss: 0.6461 - val_accuracy: 0.6000\n",
      "Epoch 4/5\n",
      "36/36 [==============================] - 67s 2s/step - loss: 0.5894 - accuracy: 0.6912 - val_loss: 0.6120 - val_accuracy: 0.6750\n",
      "Epoch 5/5\n",
      "36/36 [==============================] - 67s 2s/step - loss: 0.5722 - accuracy: 0.7035 - val_loss: 0.6313 - val_accuracy: 0.6000\n"
     ]
    },
    {
     "data": {
      "image/png": "[encoded data removed]",
      "text/plain": [
       "<Figure size 1440x432 with 2 Axes>"
      ]
     },
     "metadata": {
      "needs_background": "light"
     },
     "output_type": "display_data"
    }
   ],
   "source": [
    "# axial plane\n",
    "num_epochs=5\n",
    "\n",
    "cnn_model = build_model()\n",
    "axl_men_model, hst_amen = model_train(cnn_model, 'hst_amen', num_epochs, axial_mensicus, axial_mensicus_label, axial_mensicus_val, axial_mensicus_label_val)\n",
    "\n",
    "# get/plot accuracy\n",
    "hst_amen_acc=[]\n",
    "hst_amen_acc.append(np.mean(hst_amen.history['val_accuracy']))\n",
    "plot_results(hst_cmen)"
   ]
  },
  {
   "cell_type": "code",
   "execution_count": 42,
   "id": "730db892",
   "metadata": {},
   "outputs": [
    {
     "name": "stdout",
     "output_type": "stream",
     "text": [
      "Epoch 1/5\n",
      "36/36 [==============================] - 66s 2s/step - loss: 8.0223 - accuracy: 0.5982 - val_loss: 0.6838 - val_accuracy: 0.5583\n",
      "Epoch 2/5\n",
      "36/36 [==============================] - 58s 2s/step - loss: 0.6016 - accuracy: 0.6699 - val_loss: 0.6588 - val_accuracy: 0.5917\n",
      "Epoch 3/5\n",
      "36/36 [==============================] - 58s 2s/step - loss: 0.5814 - accuracy: 0.6805 - val_loss: 0.6801 - val_accuracy: 0.5667\n",
      "Epoch 4/5\n",
      "36/36 [==============================] - 65s 2s/step - loss: 0.5534 - accuracy: 0.7000 - val_loss: 0.6707 - val_accuracy: 0.6083\n",
      "Epoch 5/5\n",
      "36/36 [==============================] - 65s 2s/step - loss: 0.5365 - accuracy: 0.7097 - val_loss: 0.6891 - val_accuracy: 0.5833\n"
     ]
    },
    {
     "data": {
      "image/png": "[encoded data removed]",
      "text/plain": [
       "<Figure size 1440x432 with 2 Axes>"
      ]
     },
     "metadata": {
      "needs_background": "light"
     },
     "output_type": "display_data"
    }
   ],
   "source": [
    "# sagittal plane\n",
    "num_epochs=5\n",
    "\n",
    "cnn_model = build_model()\n",
    "sag_men_model, hst_smen = model_train(cnn_model, 'hst_smen', num_epochs, sagittal_mensicus, sagittal_mensicus_label, sagittal_mensicus_val, sagittal_mensicus_label_val)\n",
    "\n",
    "# get/plot accuracy\n",
    "hst_smen_acc=[]\n",
    "hst_smen_acc.append(np.mean(hst_smen.history['val_accuracy']))\n",
    "plot_results(hst_cmen)"
   ]
  },
  {
   "cell_type": "markdown",
   "id": "603b10a0",
   "metadata": {},
   "source": [
    "**predictions for acl dataset**"
   ]
  },
  {
   "cell_type": "code",
   "execution_count": 43,
   "id": "86195cf9",
   "metadata": {},
   "outputs": [
    {
     "name": "stdout",
     "output_type": "stream",
     "text": [
      "Epoch 1/5\n",
      "36/36 [==============================] - 67s 2s/step - loss: 8.3818 - accuracy: 0.7434 - val_loss: 0.8245 - val_accuracy: 0.5500\n",
      "Epoch 2/5\n",
      "36/36 [==============================] - 72s 2s/step - loss: 0.4918 - accuracy: 0.8133 - val_loss: 0.7564 - val_accuracy: 0.5500\n",
      "Epoch 3/5\n",
      "36/36 [==============================] - 75s 2s/step - loss: 0.4811 - accuracy: 0.8150 - val_loss: 0.8637 - val_accuracy: 0.5500\n",
      "Epoch 4/5\n",
      "36/36 [==============================] - 67s 2s/step - loss: 0.4719 - accuracy: 0.8159 - val_loss: 0.8355 - val_accuracy: 0.5500\n",
      "Epoch 5/5\n",
      "36/36 [==============================] - 60s 2s/step - loss: 0.4553 - accuracy: 0.8159 - val_loss: 0.8742 - val_accuracy: 0.5500\n"
     ]
    },
    {
     "data": {
      "image/png": "[encoded data removed]",
      "text/plain": [
       "<Figure size 1440x432 with 2 Axes>"
      ]
     },
     "metadata": {
      "needs_background": "light"
     },
     "output_type": "display_data"
    }
   ],
   "source": [
    "# coronal plane\n",
    "num_epochs=5\n",
    "\n",
    "cnn_model = build_model()\n",
    "cor_acl_model, hst_cacl = model_train(cnn_model, 'hst_cacl', num_epochs, coronal_acl, coronal_acl_label, coronal_acl_val, coronal_acl_label_val)\n",
    "\n",
    "# get/plot accuracy\n",
    "hst_cacl_acc=[]\n",
    "hst_cacl_acc.append(np.mean(hst_cacl.history['val_accuracy']))\n",
    "plot_results(hst_cacl)"
   ]
  },
  {
   "cell_type": "code",
   "execution_count": 44,
   "id": "2b872498",
   "metadata": {},
   "outputs": [
    {
     "name": "stdout",
     "output_type": "stream",
     "text": [
      "Epoch 1/5\n",
      "36/36 [==============================] - 60s 2s/step - loss: 6.8741 - accuracy: 0.7708 - val_loss: 0.7611 - val_accuracy: 0.5500\n",
      "Epoch 2/5\n",
      "36/36 [==============================] - 65s 2s/step - loss: 0.4697 - accuracy: 0.8159 - val_loss: 0.8965 - val_accuracy: 0.5500\n",
      "Epoch 3/5\n",
      "36/36 [==============================] - 66s 2s/step - loss: 0.4415 - accuracy: 0.8195 - val_loss: 0.8440 - val_accuracy: 0.5583\n",
      "Epoch 4/5\n",
      "36/36 [==============================] - 64s 2s/step - loss: 0.4259 - accuracy: 0.8204 - val_loss: 0.6755 - val_accuracy: 0.5583\n",
      "Epoch 5/5\n",
      "36/36 [==============================] - 58s 2s/step - loss: 0.4224 - accuracy: 0.8265 - val_loss: 0.7697 - val_accuracy: 0.5500\n"
     ]
    },
    {
     "data": {
      "image/png": "[encoded data removed]",
      "text/plain": [
       "<Figure size 1440x432 with 2 Axes>"
      ]
     },
     "metadata": {
      "needs_background": "light"
     },
     "output_type": "display_data"
    }
   ],
   "source": [
    "# axial plane\n",
    "num_epochs=5\n",
    "\n",
    "cnn_model = build_model()\n",
    "axl_acl_model, hst_aacl = model_train(cnn_model, 'hst_aacl', num_epochs, axial_acl, axial_acl_label, axial_acl_val, axial_acl_label_val)\n",
    "\n",
    "# get/plot accuracy\n",
    "hst_aacl_acc=[]\n",
    "hst_aacl_acc.append(np.mean(hst_aacl.history['val_accuracy']))\n",
    "plot_results(hst_aacl)"
   ]
  },
  {
   "cell_type": "code",
   "execution_count": 45,
   "id": "a0896e11",
   "metadata": {},
   "outputs": [
    {
     "name": "stdout",
     "output_type": "stream",
     "text": [
      "Epoch 1/5\n",
      "36/36 [==============================] - 60s 2s/step - loss: 5.0454 - accuracy: 0.7602 - val_loss: 0.7214 - val_accuracy: 0.5583\n",
      "Epoch 2/5\n",
      "36/36 [==============================] - 58s 2s/step - loss: 0.4520 - accuracy: 0.8106 - val_loss: 0.8795 - val_accuracy: 0.5500\n",
      "Epoch 3/5\n",
      "36/36 [==============================] - 60s 2s/step - loss: 0.4393 - accuracy: 0.8150 - val_loss: 0.6585 - val_accuracy: 0.5917\n",
      "Epoch 4/5\n",
      "36/36 [==============================] - 61s 2s/step - loss: 0.4079 - accuracy: 0.8257 - val_loss: 0.7716 - val_accuracy: 0.5667\n",
      "Epoch 5/5\n",
      "36/36 [==============================] - 61s 2s/step - loss: 0.4034 - accuracy: 0.8310 - val_loss: 0.7482 - val_accuracy: 0.5583\n"
     ]
    },
    {
     "data": {
      "image/png": "[encoded data removed]",
      "text/plain": [
       "<Figure size 1440x432 with 2 Axes>"
      ]
     },
     "metadata": {
      "needs_background": "light"
     },
     "output_type": "display_data"
    }
   ],
   "source": [
    "# sagittal plane\n",
    "num_epochs=5\n",
    "\n",
    "cnn_model = build_model()\n",
    "sag_acl_model, hst_sacl = model_train(cnn_model, 'hst_sacl', num_epochs, sagittal_acl, sagittal_acl_label, sagittal_acl_val, sagittal_acl_label_val)\n",
    "\n",
    "# get/plot accuracy\n",
    "hst_sacl_acc=[]\n",
    "hst_sacl_acc.append(np.mean(hst_sacl.history['val_accuracy']))\n",
    "plot_results(hst_sacl)"
   ]
  },
  {
   "cell_type": "markdown",
   "id": "4be9a77d",
   "metadata": {},
   "source": [
    "**calculate average accuracy**"
   ]
  },
  {
   "cell_type": "code",
   "execution_count": 46,
   "id": "a8240d15",
   "metadata": {},
   "outputs": [
    {
     "data": {
      "text/plain": [
       "[[0.5799999952316284], [0.6100000143051147], [0.5816666603088378]]"
      ]
     },
     "execution_count": 46,
     "metadata": {},
     "output_type": "execute_result"
    }
   ],
   "source": [
    "[hst_cmen_acc, hst_amen_acc, hst_smen_acc]"
   ]
  },
  {
   "cell_type": "code",
   "execution_count": 47,
   "id": "fc700ed7",
   "metadata": {},
   "outputs": [
    {
     "data": {
      "text/plain": [
       "[[0.7933333516120911], [0.79666668176651], [0.7983333349227906]]"
      ]
     },
     "execution_count": 47,
     "metadata": {},
     "output_type": "execute_result"
    }
   ],
   "source": [
    "[hst_cab_acc, hst_aab_acc, hst_sab_acc]"
   ]
  },
  {
   "cell_type": "code",
   "execution_count": 48,
   "id": "6c655093",
   "metadata": {},
   "outputs": [
    {
     "data": {
      "text/plain": [
       "[[0.550000011920929], [0.5533333420753479], [0.5649999976158142]]"
      ]
     },
     "execution_count": 48,
     "metadata": {},
     "output_type": "execute_result"
    }
   ],
   "source": [
    "[hst_cacl_acc, hst_aacl_acc, hst_sacl_acc]"
   ]
  },
  {
   "cell_type": "markdown",
   "id": "c0cd4b11",
   "metadata": {},
   "source": [
    "## Evaluate results"
   ]
  },
  {
   "cell_type": "markdown",
   "id": "cf4b43f1",
   "metadata": {},
   "source": [
    "### meniscus dataset"
   ]
  },
  {
   "cell_type": "code",
   "execution_count": 49,
   "id": "fe816f64",
   "metadata": {},
   "outputs": [
    {
     "name": "stdout",
     "output_type": "stream",
     "text": [
      "Test loss: 0.6816322207450867\n",
      "Test accuracy: 0.574999988079071\n"
     ]
    }
   ],
   "source": [
    "cmen_scores = cor_men_model.evaluate(coronal_mensicus_val, np.array(coronal_mensicus_label_val), verbose=0)\n",
    "print('Test loss:', cmen_scores[0]) \n",
    "print('Test accuracy:', cmen_scores[1])"
   ]
  },
  {
   "cell_type": "code",
   "execution_count": 50,
   "id": "9d71ad67",
   "metadata": {},
   "outputs": [
    {
     "name": "stdout",
     "output_type": "stream",
     "text": [
      "Test loss: 0.6313028335571289\n",
      "Test accuracy: 0.6000000238418579\n"
     ]
    }
   ],
   "source": [
    "amen_scores = axl_men_model.evaluate(axial_mensicus_val, np.array(axial_mensicus_label_val), verbose=0)\n",
    "print('Test loss:', amen_scores[0]) \n",
    "print('Test accuracy:', amen_scores[1])"
   ]
  },
  {
   "cell_type": "code",
   "execution_count": 51,
   "id": "1ac08cbc",
   "metadata": {},
   "outputs": [
    {
     "name": "stdout",
     "output_type": "stream",
     "text": [
      "Test loss: 0.6890677213668823\n",
      "Test accuracy: 0.5833333134651184\n"
     ]
    }
   ],
   "source": [
    "smen_scores = sag_men_model.evaluate(sagittal_mensicus_val, np.array(sagittal_mensicus_label_val), verbose=0)\n",
    "print('Test loss:', smen_scores[0]) \n",
    "print('Test accuracy:', smen_scores[1])"
   ]
  },
  {
   "cell_type": "markdown",
   "id": "e93f6cf7",
   "metadata": {},
   "source": [
    "**Evaluate predictions**"
   ]
  },
  {
   "cell_type": "code",
   "execution_count": 52,
   "id": "a2310420",
   "metadata": {},
   "outputs": [],
   "source": [
    "cor_pred = cor_men_model.predict(coronal_mensicus_val) \n",
    "axl_pred = axl_men_model.predict(axial_mensicus_val) \n",
    "sag_pred = sag_men_model.predict(sagittal_mensicus_val) \n"
   ]
  },
  {
   "cell_type": "code",
   "execution_count": 53,
   "id": "1efdfde1",
   "metadata": {},
   "outputs": [],
   "source": [
    "pred_men = pd.DataFrame(np.column_stack([cor_pred,axl_pred,sag_pred]),columns=['cor_pred', 'axl_pred', 'sag_pred'])\n",
    "pred_men['mean'] = pred_men.mean(axis=1)"
   ]
  },
  {
   "cell_type": "code",
   "execution_count": 54,
   "id": "40b288b4",
   "metadata": {},
   "outputs": [
    {
     "data": {
      "text/plain": [
       "0      0.192767\n",
       "1      0.157533\n",
       "2      0.178166\n",
       "3      0.124196\n",
       "4      0.334195\n",
       "         ...   \n",
       "115    0.315603\n",
       "116    0.364655\n",
       "117    0.215169\n",
       "118    0.377077\n",
       "119    0.205838\n",
       "Name: mean, Length: 120, dtype: float32"
      ]
     },
     "execution_count": 54,
     "metadata": {},
     "output_type": "execute_result"
    }
   ],
   "source": [
    "# since model output is [0,1] using sigmoid activation function\n",
    "# pred is the probability\n",
    "# take average probability from all 3 planes\n",
    "pred_men['mean']"
   ]
  },
  {
   "cell_type": "code",
   "execution_count": 55,
   "id": "90f480ed",
   "metadata": {},
   "outputs": [],
   "source": [
    "# if prob<0.5, it is 0.\n",
    "pred_men['predict'] = pred_men['mean'].map(lambda x: 0 if x<0.5 else 1)"
   ]
  },
  {
   "cell_type": "code",
   "execution_count": 56,
   "id": "8d56412c",
   "metadata": {},
   "outputs": [
    {
     "data": {
      "text/plain": [
       "0    110\n",
       "1     10\n",
       "Name: predict, dtype: int64"
      ]
     },
     "execution_count": 56,
     "metadata": {},
     "output_type": "execute_result"
    }
   ],
   "source": [
    "pred_men['predict'].value_counts()"
   ]
  },
  {
   "cell_type": "code",
   "execution_count": 57,
   "id": "0ac125e4",
   "metadata": {},
   "outputs": [],
   "source": [
    "# labels are same for all planes\n",
    "pred_men['true'] = coronal_mensicus_label_val"
   ]
  },
  {
   "cell_type": "code",
   "execution_count": 59,
   "id": "157e2824",
   "metadata": {},
   "outputs": [
    {
     "data": {
      "text/plain": [
       "(46, 6)"
      ]
     },
     "execution_count": 59,
     "metadata": {},
     "output_type": "execute_result"
    }
   ],
   "source": [
    "pred_men[pred_men['true'] != pred_men['predict']].shape"
   ]
  },
  {
   "cell_type": "code",
   "execution_count": 60,
   "id": "9354b8d9",
   "metadata": {},
   "outputs": [
    {
     "data": {
      "text/html": [
       "<div>\n",
       "<style scoped>\n",
       "    .dataframe tbody tr th:only-of-type {\n",
       "        vertical-align: middle;\n",
       "    }\n",
       "\n",
       "    .dataframe tbody tr th {\n",
       "        vertical-align: top;\n",
       "    }\n",
       "\n",
       "    .dataframe thead th {\n",
       "        text-align: right;\n",
       "    }\n",
       "</style>\n",
       "<table border=\"1\" class=\"dataframe\">\n",
       "  <thead>\n",
       "    <tr style=\"text-align: right;\">\n",
       "      <th></th>\n",
       "      <th>cor_pred</th>\n",
       "      <th>axl_pred</th>\n",
       "      <th>sag_pred</th>\n",
       "      <th>mean</th>\n",
       "      <th>predict</th>\n",
       "      <th>true</th>\n",
       "    </tr>\n",
       "  </thead>\n",
       "  <tbody>\n",
       "    <tr>\n",
       "      <th>42</th>\n",
       "      <td>0.309191</td>\n",
       "      <td>0.275514</td>\n",
       "      <td>0.113772</td>\n",
       "      <td>0.232826</td>\n",
       "      <td>0</td>\n",
       "      <td>1</td>\n",
       "    </tr>\n",
       "    <tr>\n",
       "      <th>43</th>\n",
       "      <td>0.386099</td>\n",
       "      <td>0.443703</td>\n",
       "      <td>0.371318</td>\n",
       "      <td>0.400373</td>\n",
       "      <td>0</td>\n",
       "      <td>1</td>\n",
       "    </tr>\n",
       "    <tr>\n",
       "      <th>44</th>\n",
       "      <td>0.387787</td>\n",
       "      <td>0.424034</td>\n",
       "      <td>0.304621</td>\n",
       "      <td>0.372147</td>\n",
       "      <td>0</td>\n",
       "      <td>1</td>\n",
       "    </tr>\n",
       "    <tr>\n",
       "      <th>46</th>\n",
       "      <td>0.192638</td>\n",
       "      <td>0.367151</td>\n",
       "      <td>0.370285</td>\n",
       "      <td>0.310024</td>\n",
       "      <td>0</td>\n",
       "      <td>1</td>\n",
       "    </tr>\n",
       "    <tr>\n",
       "      <th>56</th>\n",
       "      <td>0.425257</td>\n",
       "      <td>0.443735</td>\n",
       "      <td>0.552238</td>\n",
       "      <td>0.473743</td>\n",
       "      <td>0</td>\n",
       "      <td>1</td>\n",
       "    </tr>\n",
       "    <tr>\n",
       "      <th>57</th>\n",
       "      <td>0.586964</td>\n",
       "      <td>0.577340</td>\n",
       "      <td>0.482105</td>\n",
       "      <td>0.548803</td>\n",
       "      <td>1</td>\n",
       "      <td>0</td>\n",
       "    </tr>\n",
       "    <tr>\n",
       "      <th>58</th>\n",
       "      <td>0.418054</td>\n",
       "      <td>0.504480</td>\n",
       "      <td>0.515138</td>\n",
       "      <td>0.479224</td>\n",
       "      <td>0</td>\n",
       "      <td>1</td>\n",
       "    </tr>\n",
       "    <tr>\n",
       "      <th>61</th>\n",
       "      <td>0.383368</td>\n",
       "      <td>0.496610</td>\n",
       "      <td>0.476318</td>\n",
       "      <td>0.452099</td>\n",
       "      <td>0</td>\n",
       "      <td>1</td>\n",
       "    </tr>\n",
       "    <tr>\n",
       "      <th>62</th>\n",
       "      <td>0.372873</td>\n",
       "      <td>0.359774</td>\n",
       "      <td>0.166199</td>\n",
       "      <td>0.299616</td>\n",
       "      <td>0</td>\n",
       "      <td>1</td>\n",
       "    </tr>\n",
       "    <tr>\n",
       "      <th>64</th>\n",
       "      <td>0.435959</td>\n",
       "      <td>0.369502</td>\n",
       "      <td>0.238720</td>\n",
       "      <td>0.348060</td>\n",
       "      <td>0</td>\n",
       "      <td>1</td>\n",
       "    </tr>\n",
       "    <tr>\n",
       "      <th>65</th>\n",
       "      <td>0.285853</td>\n",
       "      <td>0.266374</td>\n",
       "      <td>0.227882</td>\n",
       "      <td>0.260036</td>\n",
       "      <td>0</td>\n",
       "      <td>1</td>\n",
       "    </tr>\n",
       "    <tr>\n",
       "      <th>67</th>\n",
       "      <td>0.170361</td>\n",
       "      <td>0.241730</td>\n",
       "      <td>0.069450</td>\n",
       "      <td>0.160514</td>\n",
       "      <td>0</td>\n",
       "      <td>1</td>\n",
       "    </tr>\n",
       "    <tr>\n",
       "      <th>69</th>\n",
       "      <td>0.194903</td>\n",
       "      <td>0.484069</td>\n",
       "      <td>0.540794</td>\n",
       "      <td>0.406589</td>\n",
       "      <td>0</td>\n",
       "      <td>1</td>\n",
       "    </tr>\n",
       "    <tr>\n",
       "      <th>71</th>\n",
       "      <td>0.427798</td>\n",
       "      <td>0.372250</td>\n",
       "      <td>0.393103</td>\n",
       "      <td>0.397717</td>\n",
       "      <td>0</td>\n",
       "      <td>1</td>\n",
       "    </tr>\n",
       "    <tr>\n",
       "      <th>72</th>\n",
       "      <td>0.311035</td>\n",
       "      <td>0.386293</td>\n",
       "      <td>0.249819</td>\n",
       "      <td>0.315716</td>\n",
       "      <td>0</td>\n",
       "      <td>1</td>\n",
       "    </tr>\n",
       "    <tr>\n",
       "      <th>75</th>\n",
       "      <td>0.261167</td>\n",
       "      <td>0.494367</td>\n",
       "      <td>0.268801</td>\n",
       "      <td>0.341445</td>\n",
       "      <td>0</td>\n",
       "      <td>1</td>\n",
       "    </tr>\n",
       "    <tr>\n",
       "      <th>77</th>\n",
       "      <td>0.226705</td>\n",
       "      <td>0.352345</td>\n",
       "      <td>0.187629</td>\n",
       "      <td>0.255560</td>\n",
       "      <td>0</td>\n",
       "      <td>1</td>\n",
       "    </tr>\n",
       "    <tr>\n",
       "      <th>79</th>\n",
       "      <td>0.564947</td>\n",
       "      <td>0.600701</td>\n",
       "      <td>0.373240</td>\n",
       "      <td>0.512963</td>\n",
       "      <td>1</td>\n",
       "      <td>0</td>\n",
       "    </tr>\n",
       "    <tr>\n",
       "      <th>81</th>\n",
       "      <td>0.479553</td>\n",
       "      <td>0.413124</td>\n",
       "      <td>0.387011</td>\n",
       "      <td>0.426563</td>\n",
       "      <td>0</td>\n",
       "      <td>1</td>\n",
       "    </tr>\n",
       "    <tr>\n",
       "      <th>86</th>\n",
       "      <td>0.443867</td>\n",
       "      <td>0.373378</td>\n",
       "      <td>0.399060</td>\n",
       "      <td>0.405435</td>\n",
       "      <td>0</td>\n",
       "      <td>1</td>\n",
       "    </tr>\n",
       "    <tr>\n",
       "      <th>90</th>\n",
       "      <td>0.127628</td>\n",
       "      <td>0.387929</td>\n",
       "      <td>0.315884</td>\n",
       "      <td>0.277147</td>\n",
       "      <td>0</td>\n",
       "      <td>1</td>\n",
       "    </tr>\n",
       "    <tr>\n",
       "      <th>91</th>\n",
       "      <td>0.531296</td>\n",
       "      <td>0.619996</td>\n",
       "      <td>0.270286</td>\n",
       "      <td>0.473859</td>\n",
       "      <td>0</td>\n",
       "      <td>1</td>\n",
       "    </tr>\n",
       "    <tr>\n",
       "      <th>92</th>\n",
       "      <td>0.449368</td>\n",
       "      <td>0.433602</td>\n",
       "      <td>0.272686</td>\n",
       "      <td>0.385219</td>\n",
       "      <td>0</td>\n",
       "      <td>1</td>\n",
       "    </tr>\n",
       "    <tr>\n",
       "      <th>93</th>\n",
       "      <td>0.488074</td>\n",
       "      <td>0.474568</td>\n",
       "      <td>0.348336</td>\n",
       "      <td>0.436993</td>\n",
       "      <td>0</td>\n",
       "      <td>1</td>\n",
       "    </tr>\n",
       "    <tr>\n",
       "      <th>94</th>\n",
       "      <td>0.521934</td>\n",
       "      <td>0.423744</td>\n",
       "      <td>0.475404</td>\n",
       "      <td>0.473694</td>\n",
       "      <td>0</td>\n",
       "      <td>1</td>\n",
       "    </tr>\n",
       "    <tr>\n",
       "      <th>95</th>\n",
       "      <td>0.268166</td>\n",
       "      <td>0.457413</td>\n",
       "      <td>0.344716</td>\n",
       "      <td>0.356765</td>\n",
       "      <td>0</td>\n",
       "      <td>1</td>\n",
       "    </tr>\n",
       "    <tr>\n",
       "      <th>97</th>\n",
       "      <td>0.460565</td>\n",
       "      <td>0.449104</td>\n",
       "      <td>0.234016</td>\n",
       "      <td>0.381228</td>\n",
       "      <td>0</td>\n",
       "      <td>1</td>\n",
       "    </tr>\n",
       "    <tr>\n",
       "      <th>98</th>\n",
       "      <td>0.354843</td>\n",
       "      <td>0.296000</td>\n",
       "      <td>0.268452</td>\n",
       "      <td>0.306432</td>\n",
       "      <td>0</td>\n",
       "      <td>1</td>\n",
       "    </tr>\n",
       "    <tr>\n",
       "      <th>100</th>\n",
       "      <td>0.500665</td>\n",
       "      <td>0.617899</td>\n",
       "      <td>0.177088</td>\n",
       "      <td>0.431884</td>\n",
       "      <td>0</td>\n",
       "      <td>1</td>\n",
       "    </tr>\n",
       "    <tr>\n",
       "      <th>102</th>\n",
       "      <td>0.494207</td>\n",
       "      <td>0.397182</td>\n",
       "      <td>0.405720</td>\n",
       "      <td>0.432370</td>\n",
       "      <td>0</td>\n",
       "      <td>1</td>\n",
       "    </tr>\n",
       "    <tr>\n",
       "      <th>103</th>\n",
       "      <td>0.399707</td>\n",
       "      <td>0.524286</td>\n",
       "      <td>0.358869</td>\n",
       "      <td>0.427621</td>\n",
       "      <td>0</td>\n",
       "      <td>1</td>\n",
       "    </tr>\n",
       "    <tr>\n",
       "      <th>104</th>\n",
       "      <td>0.206783</td>\n",
       "      <td>0.311497</td>\n",
       "      <td>0.511463</td>\n",
       "      <td>0.343248</td>\n",
       "      <td>0</td>\n",
       "      <td>1</td>\n",
       "    </tr>\n",
       "    <tr>\n",
       "      <th>105</th>\n",
       "      <td>0.482565</td>\n",
       "      <td>0.318876</td>\n",
       "      <td>0.254496</td>\n",
       "      <td>0.351979</td>\n",
       "      <td>0</td>\n",
       "      <td>1</td>\n",
       "    </tr>\n",
       "    <tr>\n",
       "      <th>106</th>\n",
       "      <td>0.166889</td>\n",
       "      <td>0.354069</td>\n",
       "      <td>0.425846</td>\n",
       "      <td>0.315601</td>\n",
       "      <td>0</td>\n",
       "      <td>1</td>\n",
       "    </tr>\n",
       "    <tr>\n",
       "      <th>107</th>\n",
       "      <td>0.241030</td>\n",
       "      <td>0.335664</td>\n",
       "      <td>0.252927</td>\n",
       "      <td>0.276540</td>\n",
       "      <td>0</td>\n",
       "      <td>1</td>\n",
       "    </tr>\n",
       "    <tr>\n",
       "      <th>108</th>\n",
       "      <td>0.392303</td>\n",
       "      <td>0.208924</td>\n",
       "      <td>0.240251</td>\n",
       "      <td>0.280493</td>\n",
       "      <td>0</td>\n",
       "      <td>1</td>\n",
       "    </tr>\n",
       "    <tr>\n",
       "      <th>110</th>\n",
       "      <td>0.437515</td>\n",
       "      <td>0.414686</td>\n",
       "      <td>0.200040</td>\n",
       "      <td>0.350747</td>\n",
       "      <td>0</td>\n",
       "      <td>1</td>\n",
       "    </tr>\n",
       "    <tr>\n",
       "      <th>111</th>\n",
       "      <td>0.393699</td>\n",
       "      <td>0.190984</td>\n",
       "      <td>0.238097</td>\n",
       "      <td>0.274260</td>\n",
       "      <td>0</td>\n",
       "      <td>1</td>\n",
       "    </tr>\n",
       "    <tr>\n",
       "      <th>112</th>\n",
       "      <td>0.309518</td>\n",
       "      <td>0.480486</td>\n",
       "      <td>0.261618</td>\n",
       "      <td>0.350540</td>\n",
       "      <td>0</td>\n",
       "      <td>1</td>\n",
       "    </tr>\n",
       "    <tr>\n",
       "      <th>113</th>\n",
       "      <td>0.440522</td>\n",
       "      <td>0.354944</td>\n",
       "      <td>0.450286</td>\n",
       "      <td>0.415251</td>\n",
       "      <td>0</td>\n",
       "      <td>1</td>\n",
       "    </tr>\n",
       "    <tr>\n",
       "      <th>114</th>\n",
       "      <td>0.459198</td>\n",
       "      <td>0.352858</td>\n",
       "      <td>0.310710</td>\n",
       "      <td>0.374255</td>\n",
       "      <td>0</td>\n",
       "      <td>1</td>\n",
       "    </tr>\n",
       "    <tr>\n",
       "      <th>115</th>\n",
       "      <td>0.496509</td>\n",
       "      <td>0.303963</td>\n",
       "      <td>0.146338</td>\n",
       "      <td>0.315603</td>\n",
       "      <td>0</td>\n",
       "      <td>1</td>\n",
       "    </tr>\n",
       "    <tr>\n",
       "      <th>116</th>\n",
       "      <td>0.544567</td>\n",
       "      <td>0.387806</td>\n",
       "      <td>0.161592</td>\n",
       "      <td>0.364655</td>\n",
       "      <td>0</td>\n",
       "      <td>1</td>\n",
       "    </tr>\n",
       "    <tr>\n",
       "      <th>117</th>\n",
       "      <td>0.338355</td>\n",
       "      <td>0.174744</td>\n",
       "      <td>0.132409</td>\n",
       "      <td>0.215169</td>\n",
       "      <td>0</td>\n",
       "      <td>1</td>\n",
       "    </tr>\n",
       "    <tr>\n",
       "      <th>118</th>\n",
       "      <td>0.463986</td>\n",
       "      <td>0.297392</td>\n",
       "      <td>0.369854</td>\n",
       "      <td>0.377077</td>\n",
       "      <td>0</td>\n",
       "      <td>1</td>\n",
       "    </tr>\n",
       "    <tr>\n",
       "      <th>119</th>\n",
       "      <td>0.239254</td>\n",
       "      <td>0.318487</td>\n",
       "      <td>0.059774</td>\n",
       "      <td>0.205838</td>\n",
       "      <td>0</td>\n",
       "      <td>1</td>\n",
       "    </tr>\n",
       "  </tbody>\n",
       "</table>\n",
       "</div>"
      ],
      "text/plain": [
       "     cor_pred  axl_pred  sag_pred      mean  predict  true\n",
       "42   0.309191  0.275514  0.113772  0.232826        0     1\n",
       "43   0.386099  0.443703  0.371318  0.400373        0     1\n",
       "44   0.387787  0.424034  0.304621  0.372147        0     1\n",
       "46   0.192638  0.367151  0.370285  0.310024        0     1\n",
       "56   0.425257  0.443735  0.552238  0.473743        0     1\n",
       "57   0.586964  0.577340  0.482105  0.548803        1     0\n",
       "58   0.418054  0.504480  0.515138  0.479224        0     1\n",
       "61   0.383368  0.496610  0.476318  0.452099        0     1\n",
       "62   0.372873  0.359774  0.166199  0.299616        0     1\n",
       "64   0.435959  0.369502  0.238720  0.348060        0     1\n",
       "65   0.285853  0.266374  0.227882  0.260036        0     1\n",
       "67   0.170361  0.241730  0.069450  0.160514        0     1\n",
       "69   0.194903  0.484069  0.540794  0.406589        0     1\n",
       "71   0.427798  0.372250  0.393103  0.397717        0     1\n",
       "72   0.311035  0.386293  0.249819  0.315716        0     1\n",
       "75   0.261167  0.494367  0.268801  0.341445        0     1\n",
       "77   0.226705  0.352345  0.187629  0.255560        0     1\n",
       "79   0.564947  0.600701  0.373240  0.512963        1     0\n",
       "81   0.479553  0.413124  0.387011  0.426563        0     1\n",
       "86   0.443867  0.373378  0.399060  0.405435        0     1\n",
       "90   0.127628  0.387929  0.315884  0.277147        0     1\n",
       "91   0.531296  0.619996  0.270286  0.473859        0     1\n",
       "92   0.449368  0.433602  0.272686  0.385219        0     1\n",
       "93   0.488074  0.474568  0.348336  0.436993        0     1\n",
       "94   0.521934  0.423744  0.475404  0.473694        0     1\n",
       "95   0.268166  0.457413  0.344716  0.356765        0     1\n",
       "97   0.460565  0.449104  0.234016  0.381228        0     1\n",
       "98   0.354843  0.296000  0.268452  0.306432        0     1\n",
       "100  0.500665  0.617899  0.177088  0.431884        0     1\n",
       "102  0.494207  0.397182  0.405720  0.432370        0     1\n",
       "103  0.399707  0.524286  0.358869  0.427621        0     1\n",
       "104  0.206783  0.311497  0.511463  0.343248        0     1\n",
       "105  0.482565  0.318876  0.254496  0.351979        0     1\n",
       "106  0.166889  0.354069  0.425846  0.315601        0     1\n",
       "107  0.241030  0.335664  0.252927  0.276540        0     1\n",
       "108  0.392303  0.208924  0.240251  0.280493        0     1\n",
       "110  0.437515  0.414686  0.200040  0.350747        0     1\n",
       "111  0.393699  0.190984  0.238097  0.274260        0     1\n",
       "112  0.309518  0.480486  0.261618  0.350540        0     1\n",
       "113  0.440522  0.354944  0.450286  0.415251        0     1\n",
       "114  0.459198  0.352858  0.310710  0.374255        0     1\n",
       "115  0.496509  0.303963  0.146338  0.315603        0     1\n",
       "116  0.544567  0.387806  0.161592  0.364655        0     1\n",
       "117  0.338355  0.174744  0.132409  0.215169        0     1\n",
       "118  0.463986  0.297392  0.369854  0.377077        0     1\n",
       "119  0.239254  0.318487  0.059774  0.205838        0     1"
      ]
     },
     "execution_count": 60,
     "metadata": {},
     "output_type": "execute_result"
    }
   ],
   "source": [
    "pred_men[pred_men['true'] != pred_men['predict']]"
   ]
  },
  {
   "cell_type": "markdown",
   "id": "4b78fff7",
   "metadata": {},
   "source": [
    "### abnormal dataset"
   ]
  },
  {
   "cell_type": "code",
   "execution_count": 61,
   "id": "5f8117f1",
   "metadata": {},
   "outputs": [],
   "source": [
    "cor_pred = cor_ab_model.predict(coronal_abnormal_val) \n",
    "axl_pred = axl_ab_model.predict(axial_abnormal_val) \n",
    "sag_pred = sag_ab_model.predict(sagittal_abnormal_val) \n",
    "\n",
    "pred_ab = pd.DataFrame(np.column_stack([cor_pred,axl_pred,sag_pred]),columns=['cor_pred', 'axl_pred', 'sag_pred'])\n",
    "pred_ab['mean'] = pred_ab.mean(axis=1)"
   ]
  },
  {
   "cell_type": "code",
   "execution_count": 62,
   "id": "d1c5793b",
   "metadata": {},
   "outputs": [
    {
     "data": {
      "text/plain": [
       "1    117\n",
       "0      3\n",
       "Name: predict, dtype: int64"
      ]
     },
     "execution_count": 62,
     "metadata": {},
     "output_type": "execute_result"
    }
   ],
   "source": [
    "# since model output is [0,1] using sigmoid activation function\n",
    "# pred is the probability\n",
    "# take average probability from all 3 planes\n",
    "\n",
    "# if prob<0.5, it is 0.\n",
    "pred_ab['predict'] = pred_ab['mean'].map(lambda x: 0 if x<0.5 else 1)\n",
    "pred_ab['predict'].value_counts()"
   ]
  },
  {
   "cell_type": "code",
   "execution_count": 63,
   "id": "2142f4f7",
   "metadata": {},
   "outputs": [
    {
     "data": {
      "text/plain": [
       "(24, 6)"
      ]
     },
     "execution_count": 63,
     "metadata": {},
     "output_type": "execute_result"
    }
   ],
   "source": [
    "pred_ab['true'] = coronal_abnormal_label_val \n",
    "pred_ab[pred_ab['true'] != pred_ab['predict']].shape"
   ]
  },
  {
   "cell_type": "code",
   "execution_count": 64,
   "id": "ebafc47d",
   "metadata": {},
   "outputs": [
    {
     "data": {
      "text/html": [
       "<div>\n",
       "<style scoped>\n",
       "    .dataframe tbody tr th:only-of-type {\n",
       "        vertical-align: middle;\n",
       "    }\n",
       "\n",
       "    .dataframe tbody tr th {\n",
       "        vertical-align: top;\n",
       "    }\n",
       "\n",
       "    .dataframe thead th {\n",
       "        text-align: right;\n",
       "    }\n",
       "</style>\n",
       "<table border=\"1\" class=\"dataframe\">\n",
       "  <thead>\n",
       "    <tr style=\"text-align: right;\">\n",
       "      <th></th>\n",
       "      <th>cor_pred</th>\n",
       "      <th>axl_pred</th>\n",
       "      <th>sag_pred</th>\n",
       "      <th>mean</th>\n",
       "      <th>predict</th>\n",
       "      <th>true</th>\n",
       "    </tr>\n",
       "  </thead>\n",
       "  <tbody>\n",
       "    <tr>\n",
       "      <th>0</th>\n",
       "      <td>0.689411</td>\n",
       "      <td>0.450572</td>\n",
       "      <td>0.488980</td>\n",
       "      <td>0.542988</td>\n",
       "      <td>1</td>\n",
       "      <td>0</td>\n",
       "    </tr>\n",
       "    <tr>\n",
       "      <th>1</th>\n",
       "      <td>0.666645</td>\n",
       "      <td>0.618866</td>\n",
       "      <td>0.293302</td>\n",
       "      <td>0.526271</td>\n",
       "      <td>1</td>\n",
       "      <td>0</td>\n",
       "    </tr>\n",
       "    <tr>\n",
       "      <th>2</th>\n",
       "      <td>0.904423</td>\n",
       "      <td>0.625918</td>\n",
       "      <td>0.531966</td>\n",
       "      <td>0.687435</td>\n",
       "      <td>1</td>\n",
       "      <td>0</td>\n",
       "    </tr>\n",
       "    <tr>\n",
       "      <th>4</th>\n",
       "      <td>0.909033</td>\n",
       "      <td>0.951698</td>\n",
       "      <td>0.805009</td>\n",
       "      <td>0.888580</td>\n",
       "      <td>1</td>\n",
       "      <td>0</td>\n",
       "    </tr>\n",
       "    <tr>\n",
       "      <th>5</th>\n",
       "      <td>0.900971</td>\n",
       "      <td>0.922002</td>\n",
       "      <td>0.865969</td>\n",
       "      <td>0.896314</td>\n",
       "      <td>1</td>\n",
       "      <td>0</td>\n",
       "    </tr>\n",
       "    <tr>\n",
       "      <th>6</th>\n",
       "      <td>0.561579</td>\n",
       "      <td>0.630221</td>\n",
       "      <td>0.429743</td>\n",
       "      <td>0.540514</td>\n",
       "      <td>1</td>\n",
       "      <td>0</td>\n",
       "    </tr>\n",
       "    <tr>\n",
       "      <th>7</th>\n",
       "      <td>0.785168</td>\n",
       "      <td>0.757878</td>\n",
       "      <td>0.964242</td>\n",
       "      <td>0.835763</td>\n",
       "      <td>1</td>\n",
       "      <td>0</td>\n",
       "    </tr>\n",
       "    <tr>\n",
       "      <th>8</th>\n",
       "      <td>0.633378</td>\n",
       "      <td>0.552240</td>\n",
       "      <td>0.681387</td>\n",
       "      <td>0.622335</td>\n",
       "      <td>1</td>\n",
       "      <td>0</td>\n",
       "    </tr>\n",
       "    <tr>\n",
       "      <th>9</th>\n",
       "      <td>0.824734</td>\n",
       "      <td>0.789842</td>\n",
       "      <td>0.433798</td>\n",
       "      <td>0.682791</td>\n",
       "      <td>1</td>\n",
       "      <td>0</td>\n",
       "    </tr>\n",
       "    <tr>\n",
       "      <th>10</th>\n",
       "      <td>0.901651</td>\n",
       "      <td>0.921345</td>\n",
       "      <td>0.960586</td>\n",
       "      <td>0.927861</td>\n",
       "      <td>1</td>\n",
       "      <td>0</td>\n",
       "    </tr>\n",
       "    <tr>\n",
       "      <th>11</th>\n",
       "      <td>0.928408</td>\n",
       "      <td>0.851049</td>\n",
       "      <td>0.918992</td>\n",
       "      <td>0.899483</td>\n",
       "      <td>1</td>\n",
       "      <td>0</td>\n",
       "    </tr>\n",
       "    <tr>\n",
       "      <th>12</th>\n",
       "      <td>0.828541</td>\n",
       "      <td>0.911850</td>\n",
       "      <td>0.968451</td>\n",
       "      <td>0.902947</td>\n",
       "      <td>1</td>\n",
       "      <td>0</td>\n",
       "    </tr>\n",
       "    <tr>\n",
       "      <th>13</th>\n",
       "      <td>0.812353</td>\n",
       "      <td>0.891883</td>\n",
       "      <td>0.873027</td>\n",
       "      <td>0.859087</td>\n",
       "      <td>1</td>\n",
       "      <td>0</td>\n",
       "    </tr>\n",
       "    <tr>\n",
       "      <th>14</th>\n",
       "      <td>0.918315</td>\n",
       "      <td>0.966976</td>\n",
       "      <td>0.806172</td>\n",
       "      <td>0.897155</td>\n",
       "      <td>1</td>\n",
       "      <td>0</td>\n",
       "    </tr>\n",
       "    <tr>\n",
       "      <th>15</th>\n",
       "      <td>0.853822</td>\n",
       "      <td>0.719697</td>\n",
       "      <td>0.928221</td>\n",
       "      <td>0.833913</td>\n",
       "      <td>1</td>\n",
       "      <td>0</td>\n",
       "    </tr>\n",
       "    <tr>\n",
       "      <th>17</th>\n",
       "      <td>0.663396</td>\n",
       "      <td>0.454009</td>\n",
       "      <td>0.441481</td>\n",
       "      <td>0.519629</td>\n",
       "      <td>1</td>\n",
       "      <td>0</td>\n",
       "    </tr>\n",
       "    <tr>\n",
       "      <th>18</th>\n",
       "      <td>0.819317</td>\n",
       "      <td>0.850062</td>\n",
       "      <td>0.812594</td>\n",
       "      <td>0.827324</td>\n",
       "      <td>1</td>\n",
       "      <td>0</td>\n",
       "    </tr>\n",
       "    <tr>\n",
       "      <th>19</th>\n",
       "      <td>0.780467</td>\n",
       "      <td>0.585309</td>\n",
       "      <td>0.315234</td>\n",
       "      <td>0.560337</td>\n",
       "      <td>1</td>\n",
       "      <td>0</td>\n",
       "    </tr>\n",
       "    <tr>\n",
       "      <th>20</th>\n",
       "      <td>0.949860</td>\n",
       "      <td>0.623639</td>\n",
       "      <td>0.352712</td>\n",
       "      <td>0.642070</td>\n",
       "      <td>1</td>\n",
       "      <td>0</td>\n",
       "    </tr>\n",
       "    <tr>\n",
       "      <th>21</th>\n",
       "      <td>0.957702</td>\n",
       "      <td>0.650786</td>\n",
       "      <td>0.926384</td>\n",
       "      <td>0.844958</td>\n",
       "      <td>1</td>\n",
       "      <td>0</td>\n",
       "    </tr>\n",
       "    <tr>\n",
       "      <th>22</th>\n",
       "      <td>0.713410</td>\n",
       "      <td>0.593181</td>\n",
       "      <td>0.521232</td>\n",
       "      <td>0.609274</td>\n",
       "      <td>1</td>\n",
       "      <td>0</td>\n",
       "    </tr>\n",
       "    <tr>\n",
       "      <th>23</th>\n",
       "      <td>0.614061</td>\n",
       "      <td>0.602704</td>\n",
       "      <td>0.454140</td>\n",
       "      <td>0.556969</td>\n",
       "      <td>1</td>\n",
       "      <td>0</td>\n",
       "    </tr>\n",
       "    <tr>\n",
       "      <th>34</th>\n",
       "      <td>0.564700</td>\n",
       "      <td>0.547562</td>\n",
       "      <td>0.189521</td>\n",
       "      <td>0.433928</td>\n",
       "      <td>0</td>\n",
       "      <td>1</td>\n",
       "    </tr>\n",
       "    <tr>\n",
       "      <th>87</th>\n",
       "      <td>0.687958</td>\n",
       "      <td>0.786880</td>\n",
       "      <td>0.824687</td>\n",
       "      <td>0.766508</td>\n",
       "      <td>1</td>\n",
       "      <td>0</td>\n",
       "    </tr>\n",
       "  </tbody>\n",
       "</table>\n",
       "</div>"
      ],
      "text/plain": [
       "    cor_pred  axl_pred  sag_pred      mean  predict  true\n",
       "0   0.689411  0.450572  0.488980  0.542988        1     0\n",
       "1   0.666645  0.618866  0.293302  0.526271        1     0\n",
       "2   0.904423  0.625918  0.531966  0.687435        1     0\n",
       "4   0.909033  0.951698  0.805009  0.888580        1     0\n",
       "5   0.900971  0.922002  0.865969  0.896314        1     0\n",
       "6   0.561579  0.630221  0.429743  0.540514        1     0\n",
       "7   0.785168  0.757878  0.964242  0.835763        1     0\n",
       "8   0.633378  0.552240  0.681387  0.622335        1     0\n",
       "9   0.824734  0.789842  0.433798  0.682791        1     0\n",
       "10  0.901651  0.921345  0.960586  0.927861        1     0\n",
       "11  0.928408  0.851049  0.918992  0.899483        1     0\n",
       "12  0.828541  0.911850  0.968451  0.902947        1     0\n",
       "13  0.812353  0.891883  0.873027  0.859087        1     0\n",
       "14  0.918315  0.966976  0.806172  0.897155        1     0\n",
       "15  0.853822  0.719697  0.928221  0.833913        1     0\n",
       "17  0.663396  0.454009  0.441481  0.519629        1     0\n",
       "18  0.819317  0.850062  0.812594  0.827324        1     0\n",
       "19  0.780467  0.585309  0.315234  0.560337        1     0\n",
       "20  0.949860  0.623639  0.352712  0.642070        1     0\n",
       "21  0.957702  0.650786  0.926384  0.844958        1     0\n",
       "22  0.713410  0.593181  0.521232  0.609274        1     0\n",
       "23  0.614061  0.602704  0.454140  0.556969        1     0\n",
       "34  0.564700  0.547562  0.189521  0.433928        0     1\n",
       "87  0.687958  0.786880  0.824687  0.766508        1     0"
      ]
     },
     "execution_count": 64,
     "metadata": {},
     "output_type": "execute_result"
    }
   ],
   "source": [
    "pred_ab[pred_ab['true'] != pred_ab['predict']]"
   ]
  },
  {
   "cell_type": "markdown",
   "id": "f0047aaa",
   "metadata": {},
   "source": [
    "### acl dataset"
   ]
  },
  {
   "cell_type": "code",
   "execution_count": 65,
   "id": "3ee563ac",
   "metadata": {},
   "outputs": [],
   "source": [
    "cor_pred = cor_acl_model.predict(coronal_acl_val) \n",
    "axl_pred = axl_acl_model.predict(axial_acl_val) \n",
    "sag_pred = sag_acl_model.predict(sagittal_acl_val) \n",
    "\n",
    "pred_acl = pd.DataFrame(np.column_stack([cor_pred,axl_pred,sag_pred]),columns=['cor_pred', 'axl_pred', 'sag_pred'])\n",
    "pred_acl['mean'] = pred_acl.mean(axis=1)"
   ]
  },
  {
   "cell_type": "code",
   "execution_count": 66,
   "id": "8be48c3b",
   "metadata": {},
   "outputs": [
    {
     "data": {
      "text/plain": [
       "0    120\n",
       "Name: predict, dtype: int64"
      ]
     },
     "execution_count": 66,
     "metadata": {},
     "output_type": "execute_result"
    }
   ],
   "source": [
    "# if prob<0.5, it is 0.\n",
    "pred_acl['predict'] = pred_acl['mean'].map(lambda x: 0 if x<0.5 else 1)\n",
    "pred_acl['predict'].value_counts()"
   ]
  },
  {
   "cell_type": "code",
   "execution_count": 67,
   "id": "caa4aa6d",
   "metadata": {},
   "outputs": [
    {
     "data": {
      "text/plain": [
       "(54, 6)"
      ]
     },
     "execution_count": 67,
     "metadata": {},
     "output_type": "execute_result"
    }
   ],
   "source": [
    "pred_acl['true'] = coronal_acl_label_val \n",
    "pred_acl[pred_acl['true'] != pred_acl['predict']].shape"
   ]
  },
  {
   "cell_type": "code",
   "execution_count": 68,
   "id": "07dd3b10",
   "metadata": {},
   "outputs": [
    {
     "data": {
      "text/html": [
       "<div>\n",
       "<style scoped>\n",
       "    .dataframe tbody tr th:only-of-type {\n",
       "        vertical-align: middle;\n",
       "    }\n",
       "\n",
       "    .dataframe tbody tr th {\n",
       "        vertical-align: top;\n",
       "    }\n",
       "\n",
       "    .dataframe thead th {\n",
       "        text-align: right;\n",
       "    }\n",
       "</style>\n",
       "<table border=\"1\" class=\"dataframe\">\n",
       "  <thead>\n",
       "    <tr style=\"text-align: right;\">\n",
       "      <th></th>\n",
       "      <th>cor_pred</th>\n",
       "      <th>axl_pred</th>\n",
       "      <th>sag_pred</th>\n",
       "      <th>mean</th>\n",
       "      <th>predict</th>\n",
       "      <th>true</th>\n",
       "    </tr>\n",
       "  </thead>\n",
       "  <tbody>\n",
       "    <tr>\n",
       "      <th>42</th>\n",
       "      <td>0.137145</td>\n",
       "      <td>0.178535</td>\n",
       "      <td>0.157494</td>\n",
       "      <td>0.157725</td>\n",
       "      <td>0</td>\n",
       "      <td>1</td>\n",
       "    </tr>\n",
       "    <tr>\n",
       "      <th>43</th>\n",
       "      <td>0.125570</td>\n",
       "      <td>0.117368</td>\n",
       "      <td>0.251898</td>\n",
       "      <td>0.164945</td>\n",
       "      <td>0</td>\n",
       "      <td>1</td>\n",
       "    </tr>\n",
       "    <tr>\n",
       "      <th>44</th>\n",
       "      <td>0.258837</td>\n",
       "      <td>0.154589</td>\n",
       "      <td>0.415517</td>\n",
       "      <td>0.276314</td>\n",
       "      <td>0</td>\n",
       "      <td>1</td>\n",
       "    </tr>\n",
       "    <tr>\n",
       "      <th>45</th>\n",
       "      <td>0.106017</td>\n",
       "      <td>0.200667</td>\n",
       "      <td>0.481255</td>\n",
       "      <td>0.262646</td>\n",
       "      <td>0</td>\n",
       "      <td>1</td>\n",
       "    </tr>\n",
       "    <tr>\n",
       "      <th>46</th>\n",
       "      <td>0.165331</td>\n",
       "      <td>0.215138</td>\n",
       "      <td>0.394943</td>\n",
       "      <td>0.258471</td>\n",
       "      <td>0</td>\n",
       "      <td>1</td>\n",
       "    </tr>\n",
       "    <tr>\n",
       "      <th>47</th>\n",
       "      <td>0.254903</td>\n",
       "      <td>0.278855</td>\n",
       "      <td>0.326611</td>\n",
       "      <td>0.286790</td>\n",
       "      <td>0</td>\n",
       "      <td>1</td>\n",
       "    </tr>\n",
       "    <tr>\n",
       "      <th>48</th>\n",
       "      <td>0.152573</td>\n",
       "      <td>0.075827</td>\n",
       "      <td>0.243192</td>\n",
       "      <td>0.157197</td>\n",
       "      <td>0</td>\n",
       "      <td>1</td>\n",
       "    </tr>\n",
       "    <tr>\n",
       "      <th>49</th>\n",
       "      <td>0.192666</td>\n",
       "      <td>0.126829</td>\n",
       "      <td>0.479620</td>\n",
       "      <td>0.266371</td>\n",
       "      <td>0</td>\n",
       "      <td>1</td>\n",
       "    </tr>\n",
       "    <tr>\n",
       "      <th>51</th>\n",
       "      <td>0.134354</td>\n",
       "      <td>0.170120</td>\n",
       "      <td>0.215259</td>\n",
       "      <td>0.173244</td>\n",
       "      <td>0</td>\n",
       "      <td>1</td>\n",
       "    </tr>\n",
       "    <tr>\n",
       "      <th>52</th>\n",
       "      <td>0.156768</td>\n",
       "      <td>0.045618</td>\n",
       "      <td>0.438108</td>\n",
       "      <td>0.213498</td>\n",
       "      <td>0</td>\n",
       "      <td>1</td>\n",
       "    </tr>\n",
       "    <tr>\n",
       "      <th>53</th>\n",
       "      <td>0.215276</td>\n",
       "      <td>0.240015</td>\n",
       "      <td>0.038708</td>\n",
       "      <td>0.164666</td>\n",
       "      <td>0</td>\n",
       "      <td>1</td>\n",
       "    </tr>\n",
       "    <tr>\n",
       "      <th>54</th>\n",
       "      <td>0.228513</td>\n",
       "      <td>0.374530</td>\n",
       "      <td>0.431486</td>\n",
       "      <td>0.344843</td>\n",
       "      <td>0</td>\n",
       "      <td>1</td>\n",
       "    </tr>\n",
       "    <tr>\n",
       "      <th>55</th>\n",
       "      <td>0.152202</td>\n",
       "      <td>0.469864</td>\n",
       "      <td>0.490577</td>\n",
       "      <td>0.370881</td>\n",
       "      <td>0</td>\n",
       "      <td>1</td>\n",
       "    </tr>\n",
       "    <tr>\n",
       "      <th>56</th>\n",
       "      <td>0.160583</td>\n",
       "      <td>0.167232</td>\n",
       "      <td>0.145307</td>\n",
       "      <td>0.157707</td>\n",
       "      <td>0</td>\n",
       "      <td>1</td>\n",
       "    </tr>\n",
       "    <tr>\n",
       "      <th>57</th>\n",
       "      <td>0.291412</td>\n",
       "      <td>0.138055</td>\n",
       "      <td>0.070457</td>\n",
       "      <td>0.166641</td>\n",
       "      <td>0</td>\n",
       "      <td>1</td>\n",
       "    </tr>\n",
       "    <tr>\n",
       "      <th>58</th>\n",
       "      <td>0.257129</td>\n",
       "      <td>0.469961</td>\n",
       "      <td>0.555897</td>\n",
       "      <td>0.427663</td>\n",
       "      <td>0</td>\n",
       "      <td>1</td>\n",
       "    </tr>\n",
       "    <tr>\n",
       "      <th>60</th>\n",
       "      <td>0.074931</td>\n",
       "      <td>0.330189</td>\n",
       "      <td>0.414083</td>\n",
       "      <td>0.273068</td>\n",
       "      <td>0</td>\n",
       "      <td>1</td>\n",
       "    </tr>\n",
       "    <tr>\n",
       "      <th>61</th>\n",
       "      <td>0.217181</td>\n",
       "      <td>0.483057</td>\n",
       "      <td>0.386113</td>\n",
       "      <td>0.362117</td>\n",
       "      <td>0</td>\n",
       "      <td>1</td>\n",
       "    </tr>\n",
       "    <tr>\n",
       "      <th>62</th>\n",
       "      <td>0.162036</td>\n",
       "      <td>0.315263</td>\n",
       "      <td>0.111042</td>\n",
       "      <td>0.196113</td>\n",
       "      <td>0</td>\n",
       "      <td>1</td>\n",
       "    </tr>\n",
       "    <tr>\n",
       "      <th>63</th>\n",
       "      <td>0.295043</td>\n",
       "      <td>0.189714</td>\n",
       "      <td>0.210089</td>\n",
       "      <td>0.231616</td>\n",
       "      <td>0</td>\n",
       "      <td>1</td>\n",
       "    </tr>\n",
       "    <tr>\n",
       "      <th>64</th>\n",
       "      <td>0.125250</td>\n",
       "      <td>0.124859</td>\n",
       "      <td>0.084086</td>\n",
       "      <td>0.111399</td>\n",
       "      <td>0</td>\n",
       "      <td>1</td>\n",
       "    </tr>\n",
       "    <tr>\n",
       "      <th>65</th>\n",
       "      <td>0.187545</td>\n",
       "      <td>0.080662</td>\n",
       "      <td>0.125577</td>\n",
       "      <td>0.131261</td>\n",
       "      <td>0</td>\n",
       "      <td>1</td>\n",
       "    </tr>\n",
       "    <tr>\n",
       "      <th>66</th>\n",
       "      <td>0.167164</td>\n",
       "      <td>0.281853</td>\n",
       "      <td>0.293133</td>\n",
       "      <td>0.247383</td>\n",
       "      <td>0</td>\n",
       "      <td>1</td>\n",
       "    </tr>\n",
       "    <tr>\n",
       "      <th>67</th>\n",
       "      <td>0.180178</td>\n",
       "      <td>0.136074</td>\n",
       "      <td>0.163457</td>\n",
       "      <td>0.159903</td>\n",
       "      <td>0</td>\n",
       "      <td>1</td>\n",
       "    </tr>\n",
       "    <tr>\n",
       "      <th>68</th>\n",
       "      <td>0.235667</td>\n",
       "      <td>0.546737</td>\n",
       "      <td>0.157313</td>\n",
       "      <td>0.313239</td>\n",
       "      <td>0</td>\n",
       "      <td>1</td>\n",
       "    </tr>\n",
       "    <tr>\n",
       "      <th>69</th>\n",
       "      <td>0.132541</td>\n",
       "      <td>0.317238</td>\n",
       "      <td>0.394008</td>\n",
       "      <td>0.281262</td>\n",
       "      <td>0</td>\n",
       "      <td>1</td>\n",
       "    </tr>\n",
       "    <tr>\n",
       "      <th>70</th>\n",
       "      <td>0.204344</td>\n",
       "      <td>0.386694</td>\n",
       "      <td>0.130750</td>\n",
       "      <td>0.240596</td>\n",
       "      <td>0</td>\n",
       "      <td>1</td>\n",
       "    </tr>\n",
       "    <tr>\n",
       "      <th>71</th>\n",
       "      <td>0.191758</td>\n",
       "      <td>0.195390</td>\n",
       "      <td>0.129043</td>\n",
       "      <td>0.172064</td>\n",
       "      <td>0</td>\n",
       "      <td>1</td>\n",
       "    </tr>\n",
       "    <tr>\n",
       "      <th>72</th>\n",
       "      <td>0.239221</td>\n",
       "      <td>0.394890</td>\n",
       "      <td>0.473088</td>\n",
       "      <td>0.369066</td>\n",
       "      <td>0</td>\n",
       "      <td>1</td>\n",
       "    </tr>\n",
       "    <tr>\n",
       "      <th>73</th>\n",
       "      <td>0.239583</td>\n",
       "      <td>0.340986</td>\n",
       "      <td>0.422708</td>\n",
       "      <td>0.334426</td>\n",
       "      <td>0</td>\n",
       "      <td>1</td>\n",
       "    </tr>\n",
       "    <tr>\n",
       "      <th>74</th>\n",
       "      <td>0.226173</td>\n",
       "      <td>0.318249</td>\n",
       "      <td>0.366882</td>\n",
       "      <td>0.303768</td>\n",
       "      <td>0</td>\n",
       "      <td>1</td>\n",
       "    </tr>\n",
       "    <tr>\n",
       "      <th>75</th>\n",
       "      <td>0.144914</td>\n",
       "      <td>0.343237</td>\n",
       "      <td>0.239477</td>\n",
       "      <td>0.242543</td>\n",
       "      <td>0</td>\n",
       "      <td>1</td>\n",
       "    </tr>\n",
       "    <tr>\n",
       "      <th>76</th>\n",
       "      <td>0.170943</td>\n",
       "      <td>0.326249</td>\n",
       "      <td>0.166769</td>\n",
       "      <td>0.221320</td>\n",
       "      <td>0</td>\n",
       "      <td>1</td>\n",
       "    </tr>\n",
       "    <tr>\n",
       "      <th>77</th>\n",
       "      <td>0.172518</td>\n",
       "      <td>0.356115</td>\n",
       "      <td>0.463340</td>\n",
       "      <td>0.330658</td>\n",
       "      <td>0</td>\n",
       "      <td>1</td>\n",
       "    </tr>\n",
       "    <tr>\n",
       "      <th>78</th>\n",
       "      <td>0.214728</td>\n",
       "      <td>0.201183</td>\n",
       "      <td>0.179242</td>\n",
       "      <td>0.198384</td>\n",
       "      <td>0</td>\n",
       "      <td>1</td>\n",
       "    </tr>\n",
       "    <tr>\n",
       "      <th>79</th>\n",
       "      <td>0.269450</td>\n",
       "      <td>0.322583</td>\n",
       "      <td>0.487328</td>\n",
       "      <td>0.359787</td>\n",
       "      <td>0</td>\n",
       "      <td>1</td>\n",
       "    </tr>\n",
       "    <tr>\n",
       "      <th>80</th>\n",
       "      <td>0.265135</td>\n",
       "      <td>0.297125</td>\n",
       "      <td>0.424144</td>\n",
       "      <td>0.328801</td>\n",
       "      <td>0</td>\n",
       "      <td>1</td>\n",
       "    </tr>\n",
       "    <tr>\n",
       "      <th>81</th>\n",
       "      <td>0.229035</td>\n",
       "      <td>0.286951</td>\n",
       "      <td>0.219951</td>\n",
       "      <td>0.245313</td>\n",
       "      <td>0</td>\n",
       "      <td>1</td>\n",
       "    </tr>\n",
       "    <tr>\n",
       "      <th>82</th>\n",
       "      <td>0.178876</td>\n",
       "      <td>0.179647</td>\n",
       "      <td>0.162988</td>\n",
       "      <td>0.173837</td>\n",
       "      <td>0</td>\n",
       "      <td>1</td>\n",
       "    </tr>\n",
       "    <tr>\n",
       "      <th>83</th>\n",
       "      <td>0.247891</td>\n",
       "      <td>0.368488</td>\n",
       "      <td>0.426770</td>\n",
       "      <td>0.347716</td>\n",
       "      <td>0</td>\n",
       "      <td>1</td>\n",
       "    </tr>\n",
       "    <tr>\n",
       "      <th>84</th>\n",
       "      <td>0.166685</td>\n",
       "      <td>0.147512</td>\n",
       "      <td>0.198423</td>\n",
       "      <td>0.170873</td>\n",
       "      <td>0</td>\n",
       "      <td>1</td>\n",
       "    </tr>\n",
       "    <tr>\n",
       "      <th>85</th>\n",
       "      <td>0.124919</td>\n",
       "      <td>0.227267</td>\n",
       "      <td>0.341811</td>\n",
       "      <td>0.231332</td>\n",
       "      <td>0</td>\n",
       "      <td>1</td>\n",
       "    </tr>\n",
       "    <tr>\n",
       "      <th>86</th>\n",
       "      <td>0.232683</td>\n",
       "      <td>0.175153</td>\n",
       "      <td>0.182024</td>\n",
       "      <td>0.196620</td>\n",
       "      <td>0</td>\n",
       "      <td>1</td>\n",
       "    </tr>\n",
       "    <tr>\n",
       "      <th>88</th>\n",
       "      <td>0.124227</td>\n",
       "      <td>0.105888</td>\n",
       "      <td>0.048640</td>\n",
       "      <td>0.092918</td>\n",
       "      <td>0</td>\n",
       "      <td>1</td>\n",
       "    </tr>\n",
       "    <tr>\n",
       "      <th>89</th>\n",
       "      <td>0.195213</td>\n",
       "      <td>0.124937</td>\n",
       "      <td>0.081025</td>\n",
       "      <td>0.133725</td>\n",
       "      <td>0</td>\n",
       "      <td>1</td>\n",
       "    </tr>\n",
       "    <tr>\n",
       "      <th>90</th>\n",
       "      <td>0.147137</td>\n",
       "      <td>0.333716</td>\n",
       "      <td>0.359380</td>\n",
       "      <td>0.280078</td>\n",
       "      <td>0</td>\n",
       "      <td>1</td>\n",
       "    </tr>\n",
       "    <tr>\n",
       "      <th>94</th>\n",
       "      <td>0.114476</td>\n",
       "      <td>0.242806</td>\n",
       "      <td>0.339269</td>\n",
       "      <td>0.232184</td>\n",
       "      <td>0</td>\n",
       "      <td>1</td>\n",
       "    </tr>\n",
       "    <tr>\n",
       "      <th>95</th>\n",
       "      <td>0.183700</td>\n",
       "      <td>0.447711</td>\n",
       "      <td>0.078601</td>\n",
       "      <td>0.236671</td>\n",
       "      <td>0</td>\n",
       "      <td>1</td>\n",
       "    </tr>\n",
       "    <tr>\n",
       "      <th>98</th>\n",
       "      <td>0.259240</td>\n",
       "      <td>0.290731</td>\n",
       "      <td>0.242999</td>\n",
       "      <td>0.264323</td>\n",
       "      <td>0</td>\n",
       "      <td>1</td>\n",
       "    </tr>\n",
       "    <tr>\n",
       "      <th>99</th>\n",
       "      <td>0.202102</td>\n",
       "      <td>0.277541</td>\n",
       "      <td>0.213190</td>\n",
       "      <td>0.230944</td>\n",
       "      <td>0</td>\n",
       "      <td>1</td>\n",
       "    </tr>\n",
       "    <tr>\n",
       "      <th>107</th>\n",
       "      <td>0.115658</td>\n",
       "      <td>0.117867</td>\n",
       "      <td>0.120804</td>\n",
       "      <td>0.118110</td>\n",
       "      <td>0</td>\n",
       "      <td>1</td>\n",
       "    </tr>\n",
       "    <tr>\n",
       "      <th>115</th>\n",
       "      <td>0.257199</td>\n",
       "      <td>0.154714</td>\n",
       "      <td>0.109590</td>\n",
       "      <td>0.173834</td>\n",
       "      <td>0</td>\n",
       "      <td>1</td>\n",
       "    </tr>\n",
       "    <tr>\n",
       "      <th>116</th>\n",
       "      <td>0.245387</td>\n",
       "      <td>0.201503</td>\n",
       "      <td>0.119244</td>\n",
       "      <td>0.188711</td>\n",
       "      <td>0</td>\n",
       "      <td>1</td>\n",
       "    </tr>\n",
       "    <tr>\n",
       "      <th>118</th>\n",
       "      <td>0.215502</td>\n",
       "      <td>0.214470</td>\n",
       "      <td>0.310059</td>\n",
       "      <td>0.246677</td>\n",
       "      <td>0</td>\n",
       "      <td>1</td>\n",
       "    </tr>\n",
       "  </tbody>\n",
       "</table>\n",
       "</div>"
      ],
      "text/plain": [
       "     cor_pred  axl_pred  sag_pred      mean  predict  true\n",
       "42   0.137145  0.178535  0.157494  0.157725        0     1\n",
       "43   0.125570  0.117368  0.251898  0.164945        0     1\n",
       "44   0.258837  0.154589  0.415517  0.276314        0     1\n",
       "45   0.106017  0.200667  0.481255  0.262646        0     1\n",
       "46   0.165331  0.215138  0.394943  0.258471        0     1\n",
       "47   0.254903  0.278855  0.326611  0.286790        0     1\n",
       "48   0.152573  0.075827  0.243192  0.157197        0     1\n",
       "49   0.192666  0.126829  0.479620  0.266371        0     1\n",
       "51   0.134354  0.170120  0.215259  0.173244        0     1\n",
       "52   0.156768  0.045618  0.438108  0.213498        0     1\n",
       "53   0.215276  0.240015  0.038708  0.164666        0     1\n",
       "54   0.228513  0.374530  0.431486  0.344843        0     1\n",
       "55   0.152202  0.469864  0.490577  0.370881        0     1\n",
       "56   0.160583  0.167232  0.145307  0.157707        0     1\n",
       "57   0.291412  0.138055  0.070457  0.166641        0     1\n",
       "58   0.257129  0.469961  0.555897  0.427663        0     1\n",
       "60   0.074931  0.330189  0.414083  0.273068        0     1\n",
       "61   0.217181  0.483057  0.386113  0.362117        0     1\n",
       "62   0.162036  0.315263  0.111042  0.196113        0     1\n",
       "63   0.295043  0.189714  0.210089  0.231616        0     1\n",
       "64   0.125250  0.124859  0.084086  0.111399        0     1\n",
       "65   0.187545  0.080662  0.125577  0.131261        0     1\n",
       "66   0.167164  0.281853  0.293133  0.247383        0     1\n",
       "67   0.180178  0.136074  0.163457  0.159903        0     1\n",
       "68   0.235667  0.546737  0.157313  0.313239        0     1\n",
       "69   0.132541  0.317238  0.394008  0.281262        0     1\n",
       "70   0.204344  0.386694  0.130750  0.240596        0     1\n",
       "71   0.191758  0.195390  0.129043  0.172064        0     1\n",
       "72   0.239221  0.394890  0.473088  0.369066        0     1\n",
       "73   0.239583  0.340986  0.422708  0.334426        0     1\n",
       "74   0.226173  0.318249  0.366882  0.303768        0     1\n",
       "75   0.144914  0.343237  0.239477  0.242543        0     1\n",
       "76   0.170943  0.326249  0.166769  0.221320        0     1\n",
       "77   0.172518  0.356115  0.463340  0.330658        0     1\n",
       "78   0.214728  0.201183  0.179242  0.198384        0     1\n",
       "79   0.269450  0.322583  0.487328  0.359787        0     1\n",
       "80   0.265135  0.297125  0.424144  0.328801        0     1\n",
       "81   0.229035  0.286951  0.219951  0.245313        0     1\n",
       "82   0.178876  0.179647  0.162988  0.173837        0     1\n",
       "83   0.247891  0.368488  0.426770  0.347716        0     1\n",
       "84   0.166685  0.147512  0.198423  0.170873        0     1\n",
       "85   0.124919  0.227267  0.341811  0.231332        0     1\n",
       "86   0.232683  0.175153  0.182024  0.196620        0     1\n",
       "88   0.124227  0.105888  0.048640  0.092918        0     1\n",
       "89   0.195213  0.124937  0.081025  0.133725        0     1\n",
       "90   0.147137  0.333716  0.359380  0.280078        0     1\n",
       "94   0.114476  0.242806  0.339269  0.232184        0     1\n",
       "95   0.183700  0.447711  0.078601  0.236671        0     1\n",
       "98   0.259240  0.290731  0.242999  0.264323        0     1\n",
       "99   0.202102  0.277541  0.213190  0.230944        0     1\n",
       "107  0.115658  0.117867  0.120804  0.118110        0     1\n",
       "115  0.257199  0.154714  0.109590  0.173834        0     1\n",
       "116  0.245387  0.201503  0.119244  0.188711        0     1\n",
       "118  0.215502  0.214470  0.310059  0.246677        0     1"
      ]
     },
     "execution_count": 68,
     "metadata": {},
     "output_type": "execute_result"
    }
   ],
   "source": [
    "pred_acl[pred_acl['true'] != pred_acl['predict']]"
   ]
  },
  {
   "cell_type": "code",
   "execution_count": null,
   "id": "21ea5f3c",
   "metadata": {},
   "outputs": [],
   "source": []
  }
 ],
 "metadata": {
  "kernelspec": {
   "display_name": "Python 3",
   "language": "python",
   "name": "python3"
  },
  "language_info": {
   "codemirror_mode": {
    "name": "ipython",
    "version": 3
   },
   "file_extension": ".py",
   "mimetype": "text/x-python",
   "name": "python",
   "nbconvert_exporter": "python",
   "pygments_lexer": "ipython3",
   "version": "3.8.8"
  },
  "toc": {
   "base_numbering": 1,
   "nav_menu": {},
   "number_sections": true,
   "sideBar": true,
   "skip_h1_title": false,
   "title_cell": "Table of Contents",
   "title_sidebar": "Contents",
   "toc_cell": false,
   "toc_position": {
    "height": "747px",
    "left": "279px",
    "top": "323.133px",
    "width": "384px"
   },
   "toc_section_display": true,
   "toc_window_display": true
  }
 },
 "nbformat": 4,
 "nbformat_minor": 5
}
