{
 "cells": [
  {
   "cell_type": "markdown",
   "id": "4c2b325d",
   "metadata": {},
   "source": [
    "# Capstone: Development of an algorithm for automatic detection of meniscus tears in radiographic images of the knee."
   ]
  },
  {
   "cell_type": "markdown",
   "id": "dbc740b2",
   "metadata": {},
   "source": [
    "### Contents:\n",
    "- [Background](#Background)\n",
    "- [Data](#Data)\n",
    "- [Building own models](#Building-own-models)\n",
    "- [Evaluate results](#Evaluate-results)\n",
    "\n"
   ]
  },
  {
   "cell_type": "code",
   "execution_count": 1,
   "id": "68e9dab3",
   "metadata": {},
   "outputs": [],
   "source": [
    "# Import libraries here\n",
    "import os\n",
    "import tempfile\n",
    "import numpy as np\n",
    "import pandas as pd\n",
    "import matplotlib.pyplot as plt\n",
    "import seaborn as sns\n",
    "from glob import glob\n",
    "\n",
    "import random as random\n",
    "import imageio\n",
    "import imgaug as ia\n",
    "import tensorflow as tf\n",
    "from tensorflow import keras\n",
    "from tensorflow.keras.preprocessing.image import save_img, load_img, img_to_array\n",
    "from tensorflow.keras.models import Sequential\n",
    "from tensorflow.keras.layers import Dense, Dropout, Flatten, Conv2D, MaxPooling2D, Average, Input, Activation, Reshape, TimeDistributed\n",
    "from tensorflow.keras import regularizers, optimizers\n",
    "from tensorflow.keras.callbacks import ModelCheckpoint, EarlyStopping, TensorBoard\n",
    "from tensorflow.keras import models\n",
    "from tensorflow.keras import layers\n",
    "from tensorflow.keras import utils\n",
    "from tensorflow.keras.applications.vgg16 import VGG16, preprocess_input, decode_predictions\n",
    "from tensorflow.keras.utils import plot_model\n",
    "pd.options.mode.chained_assignment = None  # default='warn'\n",
    "\n",
    "tmpdir = tempfile.mkdtemp()\n"
   ]
  },
  {
   "cell_type": "markdown",
   "id": "4d18c603",
   "metadata": {},
   "source": [
    "**Data from [MRNet](https://stanfordmlgroup.github.io/competitions/mrnet/):** \n",
    "* Images of 1370 knee MRI exams performed at Stanford University Medical Center. The dataset contains 1,104 (80.6%) abnormal exams,  with 319 (23.3%) ACL tears and 508 (37.1%) meniscal tears; labels were obtained through manual extraction from clinical reports. \n",
    "* train set: consists of 1130 MRI images from coronal, sagittal and transverse planes\n",
    "* valdation set: consists of 120 MRI images from coronal, sagittal and transverse planes\n"
   ]
  },
  {
   "cell_type": "markdown",
   "id": "a07d701a",
   "metadata": {},
   "source": [
    "## Data import"
   ]
  },
  {
   "cell_type": "markdown",
   "id": "64823312",
   "metadata": {},
   "source": [
    "**import data and get labels**"
   ]
  },
  {
   "cell_type": "code",
   "execution_count": 2,
   "id": "47cfdcef",
   "metadata": {},
   "outputs": [],
   "source": [
    "train_path = '../data/train/'\n",
    "valid_path = '../data/valid/'"
   ]
  },
  {
   "cell_type": "code",
   "execution_count": 3,
   "id": "16c4233d",
   "metadata": {},
   "outputs": [],
   "source": [
    "datasets = {'train': train_path, 'valid': valid_path}\n",
    "planes = ['axial', 'coronal', 'sagittal']\n",
    "# diagnosis = ['abnormal','meniscus','acl']"
   ]
  },
  {
   "cell_type": "code",
   "execution_count": 4,
   "id": "a1693737",
   "metadata": {},
   "outputs": [],
   "source": [
    "def get_data(dataset_type, plane, diagnosis):\n",
    "    # for eg, (train, sagittal, acl)\n",
    "    if dataset_type == 'train':\n",
    "        go = train_path\n",
    "    else:\n",
    "        go = valid_path\n",
    "        \n",
    "#     img_path = glob(f'{go}/{plane}/*.npy')\n",
    "    plane_dir = f'{go}/{plane}'\n",
    "    data = os.listdir(plane_dir)\n",
    "    \n",
    "    label_path = f'../data/{dataset_type}-{diagnosis}.csv'\n",
    "#     label_path = f'data/{dataset_type}-{diagnosis}.csv'\n",
    "    label_df = pd.read_csv(label_path, names=['nr', diagnosis])\n",
    "    label_data = list(label_df[diagnosis])\n",
    "    \n",
    "    return(data, plane_dir, label_data)"
   ]
  },
  {
   "cell_type": "markdown",
   "id": "65fd590f",
   "metadata": {},
   "source": [
    "**abnormal dataset**"
   ]
  },
  {
   "cell_type": "code",
   "execution_count": 5,
   "id": "2efbef15",
   "metadata": {},
   "outputs": [],
   "source": [
    "# training data\n",
    "train_coronal_data, train_coronal_dir, train_ab_label = get_data('train', 'coronal', 'abnormal')\n",
    "train_axial_data, train_axial_dir, train_ab_label = get_data('train', 'axial', 'abnormal')\n",
    "train_sagittal_data, train_sagittal_dir, train_ab_label = get_data('train', 'sagittal', 'abnormal')"
   ]
  },
  {
   "cell_type": "code",
   "execution_count": 6,
   "id": "3dff0771",
   "metadata": {},
   "outputs": [],
   "source": [
    "# validation data\n",
    "valid_coronal_data, valid_coronal_dir, valid_ab_label = get_data('valid','coronal','abnormal')\n",
    "valid_axial_data, valid_axial_dir, valid_ab_label = get_data('valid','axial','abnormal')\n",
    "valid_sagittal_data, valid_sagittal_dir, valid_ab_label = get_data('valid','sagittal','abnormal')"
   ]
  },
  {
   "cell_type": "markdown",
   "id": "f4fbb8f0",
   "metadata": {},
   "source": [
    "**meniscus dataset**"
   ]
  },
  {
   "cell_type": "code",
   "execution_count": 7,
   "id": "ab41e366",
   "metadata": {},
   "outputs": [],
   "source": [
    "# training data\n",
    "train_coronal_data, train_coronal_dir, train_men_label = get_data('train', 'coronal', 'meniscus')\n",
    "train_axial_data, train_axial_dir, train_men_label = get_data('train', 'axial', 'meniscus')\n",
    "train_sagittal_data, train_sagittal_dir, train_men_label = get_data('train', 'sagittal', 'meniscus')"
   ]
  },
  {
   "cell_type": "code",
   "execution_count": 8,
   "id": "ceed3ce2",
   "metadata": {},
   "outputs": [],
   "source": [
    "# validation data\n",
    "valid_coronal_data, valid_coronal_dir, valid_men_label = get_data('valid','coronal','meniscus')\n",
    "valid_axial_data, valid_axial_dir, valid_men_label = get_data('valid','axial','meniscus')\n",
    "valid_sagittal_data, valid_sagittal_dir, valid_men_label = get_data('valid','sagittal','meniscus')"
   ]
  },
  {
   "cell_type": "code",
   "execution_count": 9,
   "id": "3f7d9cad",
   "metadata": {},
   "outputs": [],
   "source": [
    "# train_coronal_men_data.remove('.DS_Store')\n",
    "# train_axial_men_data.remove('.DS_Store')\n",
    "# train_sagittal_men_data.remove('.DS_Store')"
   ]
  },
  {
   "cell_type": "code",
   "execution_count": 10,
   "id": "a3a43187",
   "metadata": {},
   "outputs": [
    {
     "data": {
      "text/plain": [
       "'0000.npy'"
      ]
     },
     "execution_count": 10,
     "metadata": {},
     "output_type": "execute_result"
    }
   ],
   "source": [
    "train_coronal_data[0]"
   ]
  },
  {
   "cell_type": "code",
   "execution_count": 11,
   "id": "d2f5548e",
   "metadata": {},
   "outputs": [
    {
     "data": {
      "text/plain": [
       "'../data/train//coronal'"
      ]
     },
     "execution_count": 11,
     "metadata": {},
     "output_type": "execute_result"
    }
   ],
   "source": [
    "train_coronal_dir"
   ]
  },
  {
   "cell_type": "markdown",
   "id": "2fd097d6",
   "metadata": {},
   "source": [
    "**acl dataset**"
   ]
  },
  {
   "cell_type": "code",
   "execution_count": 12,
   "id": "bab91c83",
   "metadata": {},
   "outputs": [],
   "source": [
    "# training data\n",
    "train_coronal_data, train_coronal_dir, train_acl_label = get_data('train', 'coronal', 'acl')\n",
    "train_axial_data, train_axial_dir, train_acl_label = get_data('train', 'axial', 'acl')\n",
    "train_sagittal_data, train_sagittal_dir, train_acl_label = get_data('train', 'sagittal', 'acl')"
   ]
  },
  {
   "cell_type": "code",
   "execution_count": 13,
   "id": "28e45039",
   "metadata": {},
   "outputs": [],
   "source": [
    "# validation data\n",
    "valid_coronal_data, valid_coronal_dir, valid_acl_label = get_data('valid','coronal','acl')\n",
    "valid_axial_data, valid_axial_dir, valid_acl_label = get_data('valid','axial','acl')\n",
    "valid_sagittal_data, valid_sagittal_dir, valid_acl_label = get_data('valid','sagittal','acl')"
   ]
  },
  {
   "cell_type": "markdown",
   "id": "5530ba46",
   "metadata": {},
   "source": [
    "The dataset contains *s* x 256 x 256 images. Since middle images are the most useful, only 3 middle slides in the series are retained. \n"
   ]
  },
  {
   "cell_type": "code",
   "execution_count": 14,
   "id": "a03daa62",
   "metadata": {},
   "outputs": [],
   "source": [
    "def image_extraction(data, path, new_path): #3 images\n",
    "    '''this function extracts middle 3 slides of each scan'''\n",
    "    extract=[]\n",
    "    new_data=[]\n",
    "    for i in range(len(data)): \n",
    "        img = np.load(os.path.join(path,data[i]))\n",
    "        middle_idx = int(img.shape[0]/2)\n",
    "#         print(img.shape[0],middle_idx)\n",
    "        img = img[(middle_idx - 1) : (middle_idx + 2)]\n",
    "#         # reshape adapted for model (s x 256 x 256 x 1)\n",
    "#         img_reshape = np.repeat(img[..., np.newaxis], 1, -1)\n",
    "        img = img.reshape(256,256,3)\n",
    "        extract.extend(img)\n",
    "        new_data.append(np.array(extract))        \n",
    "        extract.clear()\n",
    "        \n",
    "#     new_data.shape(1130,256,256,3) for train\n",
    "    np.save(new_path, np.array(new_data))\n"
   ]
  },
  {
   "cell_type": "markdown",
   "id": "3c60f283",
   "metadata": {},
   "source": [
    "Note that training data for all diagnoses are the same. Only labels are different."
   ]
  },
  {
   "cell_type": "markdown",
   "id": "533f6dba",
   "metadata": {},
   "source": [
    "**image extraction for training data**"
   ]
  },
  {
   "cell_type": "code",
   "execution_count": 15,
   "id": "3e39ffd6",
   "metadata": {},
   "outputs": [],
   "source": [
    "# image extraction for 3 planes\n",
    "new_path = '../data/train_transform/coronal'\n",
    "image_extraction(train_coronal_data, train_coronal_dir, new_path)"
   ]
  },
  {
   "cell_type": "code",
   "execution_count": 16,
   "id": "f3c1a23c",
   "metadata": {},
   "outputs": [],
   "source": [
    "new_path = '../data/train_transform/axial'\n",
    "image_extraction(train_axial_data, train_axial_dir, new_path)"
   ]
  },
  {
   "cell_type": "code",
   "execution_count": 17,
   "id": "0c79ae44",
   "metadata": {},
   "outputs": [],
   "source": [
    "new_path = '../data/train_transform/sagittal'\n",
    "image_extraction(train_sagittal_data, train_sagittal_dir, new_path)"
   ]
  },
  {
   "cell_type": "code",
   "execution_count": 18,
   "id": "719671d5",
   "metadata": {},
   "outputs": [],
   "source": [
    "image = np.load('../data/train_transform/sagittal.npy')"
   ]
  },
  {
   "cell_type": "code",
   "execution_count": 19,
   "id": "f002efc4",
   "metadata": {},
   "outputs": [
    {
     "data": {
      "text/plain": [
       "(256, 256, 3)"
      ]
     },
     "execution_count": 19,
     "metadata": {},
     "output_type": "execute_result"
    }
   ],
   "source": [
    "image[0].shape"
   ]
  },
  {
   "cell_type": "markdown",
   "id": "3b4ac78b",
   "metadata": {},
   "source": [
    "**extraction for validation data**"
   ]
  },
  {
   "cell_type": "code",
   "execution_count": 20,
   "id": "5fa82965",
   "metadata": {},
   "outputs": [],
   "source": [
    "# image extraction for 3 planes\n",
    "new_path = '../data/valid_transform/coronal'\n",
    "image_extraction(valid_coronal_data, valid_coronal_dir, new_path)"
   ]
  },
  {
   "cell_type": "code",
   "execution_count": 21,
   "id": "ee2492fb",
   "metadata": {},
   "outputs": [],
   "source": [
    "new_path = '../data/valid_transform/axial'\n",
    "image_extraction(valid_axial_data, valid_axial_dir, new_path)"
   ]
  },
  {
   "cell_type": "code",
   "execution_count": 22,
   "id": "79ad09fc",
   "metadata": {},
   "outputs": [],
   "source": [
    "new_path = '../data/valid_transform/sagittal'\n",
    "image_extraction(valid_sagittal_data, valid_sagittal_dir, new_path)"
   ]
  },
  {
   "cell_type": "code",
   "execution_count": 23,
   "id": "bc75bb0e",
   "metadata": {},
   "outputs": [
    {
     "data": {
      "text/plain": [
       "(120, 256, 256, 3)"
      ]
     },
     "execution_count": 23,
     "metadata": {},
     "output_type": "execute_result"
    }
   ],
   "source": [
    "image = np.load('../data/valid_transform/sagittal.npy')\n",
    "image.shape"
   ]
  },
  {
   "cell_type": "markdown",
   "id": "caab6116",
   "metadata": {},
   "source": [
    "**data generation from extracted/transformed dataset**"
   ]
  },
  {
   "cell_type": "code",
   "execution_count": 24,
   "id": "eb0bdc7d",
   "metadata": {},
   "outputs": [],
   "source": [
    "def data_gen(dataset_type, plane, diagnosis):\n",
    "    # for eg, (train, sagittal, mensicus)\n",
    "    if dataset_type == 'train':\n",
    "        go = '../data/train_transform/'\n",
    "    else:\n",
    "        go = '../data/valid_transform/'\n",
    "        \n",
    "    plane_dir = f'{go}/{plane}.npy'\n",
    "    data = np.load(plane_dir)\n",
    "    \n",
    "    label_path = f'../data/{dataset_type}-{diagnosis}.csv'\n",
    "#     label_path = f'data/{dataset_type}-{diagnosis}.csv'\n",
    "    label_df = pd.read_csv(label_path, names=['nr', diagnosis])\n",
    "    label_data = list(label_df[diagnosis])\n",
    "    \n",
    "    return(data, label_data)\n",
    "    "
   ]
  },
  {
   "cell_type": "markdown",
   "id": "495cc4fc",
   "metadata": {},
   "source": [
    "Note that training data for all diagnoses are the same. Only labels are different. But for ease as inputs into model, data generation was done for planes and all diagnoses."
   ]
  },
  {
   "cell_type": "code",
   "execution_count": 25,
   "id": "b1550b3f",
   "metadata": {},
   "outputs": [],
   "source": [
    "# meniscus\n",
    "# generate training input\n",
    "coronal_mensicus, coronal_mensicus_label = data_gen('train', 'coronal', 'meniscus')\n",
    "axial_mensicus, axial_mensicus_label = data_gen('train', 'axial', 'meniscus')\n",
    "sagittal_mensicus, sagittal_mensicus_label = data_gen('train', 'sagittal', 'meniscus')\n",
    "\n",
    "# generate validation\n",
    "coronal_mensicus_val, coronal_mensicus_label_val  = data_gen('valid', 'coronal', 'meniscus')\n",
    "axial_mensicus_val, axial_mensicus_label_val  = data_gen('valid', 'axial', 'meniscus')\n",
    "sagittal_mensicus_val, sagittal_mensicus_label_val  = data_gen('valid', 'sagittal', 'meniscus')"
   ]
  },
  {
   "cell_type": "code",
   "execution_count": 26,
   "id": "b406768b",
   "metadata": {},
   "outputs": [],
   "source": [
    "# abnormal\n",
    "# generate training input\n",
    "coronal_abnormal, coronal_abnormal_label = data_gen('train', 'coronal', 'abnormal')\n",
    "axial_abnormal, axial_abnormal_label = data_gen('train', 'axial', 'abnormal')\n",
    "sagittal_abnormal, sagittal_abnormal_label = data_gen('train', 'sagittal', 'abnormal')\n",
    "\n",
    "# generate validation\n",
    "coronal_abnormal_val, coronal_abnormal_label_val  = data_gen('valid', 'coronal', 'abnormal')\n",
    "axial_abnormal_val, axial_abnormal_label_val  = data_gen('valid', 'axial', 'abnormal')\n",
    "sagittal_abnormal_val, sagittal_abnormal_label_val  = data_gen('valid', 'sagittal', 'abnormal')"
   ]
  },
  {
   "cell_type": "code",
   "execution_count": 27,
   "id": "eb7fcc3a",
   "metadata": {},
   "outputs": [],
   "source": [
    "# acl\n",
    "# generate training input\n",
    "coronal_acl, coronal_acl_label = data_gen('train', 'coronal', 'acl')\n",
    "axial_acl, axial_acl_label = data_gen('train', 'axial', 'acl')\n",
    "sagittal_acl, sagittal_acl_label = data_gen('train', 'sagittal', 'acl')\n",
    "\n",
    "# generate validation\n",
    "coronal_acl_val, coronal_acl_label_val  = data_gen('valid', 'coronal', 'acl')\n",
    "axial_acl_val, axial_acl_label_val  = data_gen('valid', 'axial', 'acl')\n",
    "sagittal_acl_val, sagittal_acl_label_val  = data_gen('valid', 'sagittal', 'acl')"
   ]
  },
  {
   "cell_type": "markdown",
   "id": "925cfeef",
   "metadata": {},
   "source": [
    "## Building own models"
   ]
  },
  {
   "cell_type": "markdown",
   "id": "06b6753f",
   "metadata": {},
   "source": [
    "The code snippet below is the first model, a simple stack of 3 convolution layers with a ReLU activation and followed by max-pooling layers. This is very similar to the architectures that Yann LeCun built in the 1990s for image classification (with the exception of ReLU)([LeCun et al., 1998](http://yann.lecun.com/exdb/publis/pdf/lecun-01a.pdf)). In addition, two fully-connected layers were added, and end with a single unit and a sigmoid activation, which is perfect for a binary classification. \n",
    "<br>\n",
    "<br> Another reason why this was chosen as the first CNN, was because it can even be run on a CPU. "
   ]
  },
  {
   "cell_type": "code",
   "execution_count": 28,
   "id": "218bdd88",
   "metadata": {},
   "outputs": [],
   "source": [
    "def build_model():\n",
    "    model = Sequential()\n",
    "    \n",
    "    model.add(Conv2D(filters=32, \n",
    "                     kernel_size=(3, 3),\n",
    "                     activation='relu',\n",
    "                     padding='same',\n",
    "                     input_shape=(256,256,3)))\n",
    "    model.add(MaxPooling2D(pool_size=(2, 2)))\n",
    "\n",
    "    model.add(Conv2D(filters=32, \n",
    "                     kernel_size=(3, 3), \n",
    "                     activation='relu',\n",
    "                     padding='same'))\n",
    "    model.add(MaxPooling2D(pool_size=(2, 2)))\n",
    "\n",
    "    model.add(Conv2D(filters=64, \n",
    "                     kernel_size=(3, 3), \n",
    "                     activation='relu',\n",
    "                     padding='same'))\n",
    "    model.add(MaxPooling2D(pool_size=(2, 2)))\n",
    "    \n",
    "    model.add(Flatten())\n",
    "    model.add(Dense(256, activation=\"relu\"))\n",
    "    model.add(Dropout(0.5))\n",
    "    model.add(Dense(1, activation=\"sigmoid\"))\n",
    "    \n",
    "    sgd = optimizers.SGD(lr=1e-4, decay=1e-6, momentum=0.9, nesterov=True)\n",
    "    model.compile(optimizer=sgd, loss='binary_crossentropy', metrics=['accuracy'])\n",
    "    \n",
    "    return model"
   ]
  },
  {
   "cell_type": "code",
   "execution_count": 29,
   "id": "487fc35d",
   "metadata": {},
   "outputs": [
    {
     "name": "stdout",
     "output_type": "stream",
     "text": [
      "Model: \"sequential\"\n",
      "_________________________________________________________________\n",
      "Layer (type)                 Output Shape              Param #   \n",
      "=================================================================\n",
      "conv2d (Conv2D)              (None, 256, 256, 32)      896       \n",
      "_________________________________________________________________\n",
      "max_pooling2d (MaxPooling2D) (None, 128, 128, 32)      0         \n",
      "_________________________________________________________________\n",
      "conv2d_1 (Conv2D)            (None, 128, 128, 32)      9248      \n",
      "_________________________________________________________________\n",
      "max_pooling2d_1 (MaxPooling2 (None, 64, 64, 32)        0         \n",
      "_________________________________________________________________\n",
      "conv2d_2 (Conv2D)            (None, 64, 64, 64)        18496     \n",
      "_________________________________________________________________\n",
      "max_pooling2d_2 (MaxPooling2 (None, 32, 32, 64)        0         \n",
      "_________________________________________________________________\n",
      "flatten (Flatten)            (None, 65536)             0         \n",
      "_________________________________________________________________\n",
      "dense (Dense)                (None, 256)               16777472  \n",
      "_________________________________________________________________\n",
      "dropout (Dropout)            (None, 256)               0         \n",
      "_________________________________________________________________\n",
      "dense_1 (Dense)              (None, 1)                 257       \n",
      "=================================================================\n",
      "Total params: 16,806,369\n",
      "Trainable params: 16,806,369\n",
      "Non-trainable params: 0\n",
      "_________________________________________________________________\n"
     ]
    }
   ],
   "source": [
    "model = build_model()\n",
    "model.summary()"
   ]
  },
  {
   "cell_type": "code",
   "execution_count": 30,
   "id": "4b95c586",
   "metadata": {},
   "outputs": [],
   "source": [
    "# https://blog.keras.io/building-powerful-image-classification-models-using-very-little-data.html\n",
    "# training model that will be added to VGG16\n",
    "def model_train(model, model_name, num_epochs, train_data, train_labels, validation_data, validation_labels):\n",
    "    path_dir = r'C:\\Users\\USER\\DSI-roughpaper\\capstone\\data' \n",
    "    path = f'{path_dir}\\{model_name}\\weights.h5'\n",
    "\n",
    "    history = model.fit(x=train_data, y=np.array(train_labels), \n",
    "            batch_size=32, \n",
    "            validation_data=(validation_data, np.array(validation_labels)),\n",
    "            epochs=num_epochs, \n",
    "            callbacks = [EarlyStopping(patience=3, monitor = 'val_loss', mode = 'min')],\n",
    "            verbose=1)\n",
    "\n",
    "    model.save_weights(path)\n",
    "    \n",
    "    return model, history"
   ]
  },
  {
   "cell_type": "code",
   "execution_count": 31,
   "id": "58b58f64",
   "metadata": {},
   "outputs": [],
   "source": [
    "def plot_results(model):\n",
    "    train_loss = model.history['loss']\n",
    "    test_loss = model.history['val_loss']\n",
    "    acc = model.history['accuracy']\n",
    "    val_acc = model.history['val_accuracy']\n",
    "    epoch_labels = model.epoch\n",
    "\n",
    "    fig, axes = plt.subplots(1, 2, figsize=(20, 6), sharex=True)\n",
    "\n",
    "    axes[0].plot(train_loss, label='Training Loss', color='#185fad')\n",
    "    axes[0].plot(test_loss, label='Testing Loss', color='orange')\n",
    "\n",
    "    axes[1].plot(acc, label='Training accuracy', color='blue')\n",
    "    axes[1].plot(val_acc, label='Testing accuracy', color='red')\n",
    "\n",
    "    # Set title\n",
    "    axes[0].title.set_text('Training and Testing Loss by Epoch')\n",
    "    axes[1].title.set_text('Training and Testing Accuracy by Epoch')\n",
    "    axes[0].set_xlabel('Epoch')\n",
    "    axes[1].set_xlabel('Epoch')\n",
    "    axes[0].set_ylabel('Binary Crossentropy')\n",
    "    axes[1].set_ylabel('Binary Crossentropy')\n",
    "    plt.xticks(epoch_labels, epoch_labels);    \n",
    "    axes[0].legend(fontsize=18);\n",
    "    axes[1].legend(fontsize=18);\n"
   ]
  },
  {
   "cell_type": "markdown",
   "id": "af533ab6",
   "metadata": {},
   "source": [
    "**predictions for abnormal dataset**"
   ]
  },
  {
   "cell_type": "code",
   "execution_count": 32,
   "id": "6d796e09",
   "metadata": {},
   "outputs": [
    {
     "name": "stdout",
     "output_type": "stream",
     "text": [
      "Epoch 1/20\n",
      "36/36 [==============================] - 69s 2s/step - loss: 4.3948 - accuracy: 0.7407 - val_loss: 0.5352 - val_accuracy: 0.7917\n",
      "Epoch 2/20\n",
      "36/36 [==============================] - 74s 2s/step - loss: 0.4647 - accuracy: 0.7982 - val_loss: 0.5127 - val_accuracy: 0.7833\n",
      "Epoch 3/20\n",
      "36/36 [==============================] - 68s 2s/step - loss: 0.4354 - accuracy: 0.7982 - val_loss: 0.5286 - val_accuracy: 0.7917\n",
      "Epoch 4/20\n",
      "36/36 [==============================] - 69s 2s/step - loss: 0.4177 - accuracy: 0.8115 - val_loss: 0.5499 - val_accuracy: 0.7917\n",
      "Epoch 5/20\n",
      "36/36 [==============================] - 67s 2s/step - loss: 0.4085 - accuracy: 0.8230 - val_loss: 0.5633 - val_accuracy: 0.7917\n"
     ]
    },
    {
     "data": {
      "image/png": "[encoded data removed]",
      "text/plain": [
       "<Figure size 1440x432 with 2 Axes>"
      ]
     },
     "metadata": {
      "needs_background": "light"
     },
     "output_type": "display_data"
    }
   ],
   "source": [
    "# coronal plane\n",
    "num_epochs=20\n",
    "\n",
    "cnn_model = build_model()\n",
    "cor_ab_model, hst_cab = model_train(cnn_model, 'hst_cab', num_epochs, coronal_abnormal, coronal_abnormal_label, coronal_abnormal_val, coronal_abnormal_label_val)\n",
    "\n",
    "# get/plot accuracy\n",
    "hst_cab_acc=[]\n",
    "hst_cab_acc.append(np.mean(hst_cab.history['val_accuracy']))\n",
    "plot_results(hst_cab)"
   ]
  },
  {
   "cell_type": "code",
   "execution_count": 33,
   "id": "c61387de",
   "metadata": {},
   "outputs": [
    {
     "name": "stdout",
     "output_type": "stream",
     "text": [
      "Epoch 1/20\n",
      "36/36 [==============================] - 64s 2s/step - loss: 6.3161 - accuracy: 0.7513 - val_loss: 0.4924 - val_accuracy: 0.8000\n",
      "Epoch 2/20\n",
      "36/36 [==============================] - 68s 2s/step - loss: 0.4435 - accuracy: 0.8115 - val_loss: 0.4796 - val_accuracy: 0.8000\n",
      "Epoch 3/20\n",
      "36/36 [==============================] - 68s 2s/step - loss: 0.4069 - accuracy: 0.8168 - val_loss: 0.4746 - val_accuracy: 0.8000\n",
      "Epoch 4/20\n",
      "36/36 [==============================] - 68s 2s/step - loss: 0.3934 - accuracy: 0.8301 - val_loss: 0.4726 - val_accuracy: 0.8167\n",
      "Epoch 5/20\n",
      "36/36 [==============================] - 67s 2s/step - loss: 0.3718 - accuracy: 0.8363 - val_loss: 0.4842 - val_accuracy: 0.8000\n",
      "Epoch 6/20\n",
      "36/36 [==============================] - 58s 2s/step - loss: 0.3670 - accuracy: 0.8372 - val_loss: 0.4289 - val_accuracy: 0.8333\n",
      "Epoch 7/20\n",
      "36/36 [==============================] - 59s 2s/step - loss: 0.3537 - accuracy: 0.8425 - val_loss: 0.4842 - val_accuracy: 0.8167\n",
      "Epoch 8/20\n",
      "36/36 [==============================] - 58s 2s/step - loss: 0.3448 - accuracy: 0.8504 - val_loss: 0.4482 - val_accuracy: 0.8250\n",
      "Epoch 9/20\n",
      "36/36 [==============================] - 60s 2s/step - loss: 0.3281 - accuracy: 0.8628 - val_loss: 0.4634 - val_accuracy: 0.8167\n"
     ]
    },
    {
     "data": {
      "image/png": "[encoded data removed]",
      "text/plain": [
       "<Figure size 1440x432 with 2 Axes>"
      ]
     },
     "metadata": {
      "needs_background": "light"
     },
     "output_type": "display_data"
    }
   ],
   "source": [
    "# axial plane\n",
    "num_epochs=20\n",
    "\n",
    "cnn_model = build_model()\n",
    "axl_ab_model, hst_aab = model_train(cnn_model, 'hst_aab', num_epochs, axial_abnormal, axial_abnormal_label, axial_abnormal_val, axial_abnormal_label_val)\n",
    "\n",
    "# get/plot accuracy\n",
    "hst_aab_acc=[]\n",
    "hst_aab_acc.append(np.mean(hst_aab.history['val_accuracy']))\n",
    "plot_results(hst_aab)"
   ]
  },
  {
   "cell_type": "code",
   "execution_count": 34,
   "id": "4b4cb029",
   "metadata": {},
   "outputs": [
    {
     "name": "stdout",
     "output_type": "stream",
     "text": [
      "Epoch 1/20\n",
      "36/36 [==============================] - 62s 2s/step - loss: 4.4970 - accuracy: 0.7779 - val_loss: 0.4610 - val_accuracy: 0.8000\n",
      "Epoch 2/20\n",
      "36/36 [==============================] - 60s 2s/step - loss: 0.4069 - accuracy: 0.8133 - val_loss: 0.4599 - val_accuracy: 0.8083\n",
      "Epoch 3/20\n",
      "36/36 [==============================] - 61s 2s/step - loss: 0.3613 - accuracy: 0.8478 - val_loss: 0.4708 - val_accuracy: 0.7917\n",
      "Epoch 4/20\n",
      "36/36 [==============================] - 60s 2s/step - loss: 0.3194 - accuracy: 0.8593 - val_loss: 0.4580 - val_accuracy: 0.7833\n",
      "Epoch 5/20\n",
      "36/36 [==============================] - 79s 2s/step - loss: 0.3017 - accuracy: 0.8717 - val_loss: 0.4527 - val_accuracy: 0.8083\n",
      "Epoch 6/20\n",
      "36/36 [==============================] - 85s 2s/step - loss: 0.2652 - accuracy: 0.8885 - val_loss: 0.4473 - val_accuracy: 0.8000\n",
      "Epoch 7/20\n",
      "36/36 [==============================] - 75s 2s/step - loss: 0.2457 - accuracy: 0.9027 - val_loss: 0.4407 - val_accuracy: 0.7917\n",
      "Epoch 8/20\n",
      "36/36 [==============================] - 73s 2s/step - loss: 0.2084 - accuracy: 0.9177 - val_loss: 0.5011 - val_accuracy: 0.8083\n",
      "Epoch 9/20\n",
      "36/36 [==============================] - 70s 2s/step - loss: 0.1916 - accuracy: 0.9221 - val_loss: 0.4889 - val_accuracy: 0.8083\n",
      "Epoch 10/20\n",
      "36/36 [==============================] - 70s 2s/step - loss: 0.1758 - accuracy: 0.9265 - val_loss: 0.4552 - val_accuracy: 0.8083\n"
     ]
    },
    {
     "data": {
      "image/png": "[encoded data removed]",
      "text/plain": [
       "<Figure size 1440x432 with 2 Axes>"
      ]
     },
     "metadata": {
      "needs_background": "light"
     },
     "output_type": "display_data"
    }
   ],
   "source": [
    "# sagittal plane\n",
    "num_epochs=20\n",
    "\n",
    "cnn_model = build_model()\n",
    "sag_ab_model, hst_sab = model_train(cnn_model, 'hst_sab', num_epochs, sagittal_abnormal, sagittal_abnormal_label, sagittal_abnormal_val, sagittal_abnormal_label_val)\n",
    "\n",
    "# get/plot accuracy\n",
    "hst_sab_acc=[]\n",
    "hst_sab_acc.append(np.mean(hst_sab.history['val_accuracy']))\n",
    "plot_results(hst_sab)"
   ]
  },
  {
   "cell_type": "markdown",
   "id": "9501527c",
   "metadata": {},
   "source": [
    "**predictions for meniscus dataset**"
   ]
  },
  {
   "cell_type": "code",
   "execution_count": 35,
   "id": "da9009ff",
   "metadata": {},
   "outputs": [
    {
     "name": "stdout",
     "output_type": "stream",
     "text": [
      "Epoch 1/20\n",
      "36/36 [==============================] - 73s 2s/step - loss: 5.4654 - accuracy: 0.5735 - val_loss: 0.6838 - val_accuracy: 0.5583\n",
      "Epoch 2/20\n",
      "36/36 [==============================] - 69s 2s/step - loss: 0.6268 - accuracy: 0.6451 - val_loss: 0.6777 - val_accuracy: 0.5833\n",
      "Epoch 3/20\n",
      "36/36 [==============================] - 70s 2s/step - loss: 0.6109 - accuracy: 0.6540 - val_loss: 0.6653 - val_accuracy: 0.5750\n",
      "Epoch 4/20\n",
      "36/36 [==============================] - 68s 2s/step - loss: 0.5965 - accuracy: 0.6717 - val_loss: 0.6795 - val_accuracy: 0.5583\n",
      "Epoch 5/20\n",
      "36/36 [==============================] - 69s 2s/step - loss: 0.5855 - accuracy: 0.6788 - val_loss: 0.6813 - val_accuracy: 0.5417\n",
      "Epoch 6/20\n",
      "36/36 [==============================] - 69s 2s/step - loss: 0.5808 - accuracy: 0.6823 - val_loss: 0.6923 - val_accuracy: 0.5667\n"
     ]
    },
    {
     "data": {
      "image/png": "[encoded data removed]",
      "text/plain": [
       "<Figure size 1440x432 with 2 Axes>"
      ]
     },
     "metadata": {
      "needs_background": "light"
     },
     "output_type": "display_data"
    }
   ],
   "source": [
    "# coronal plane\n",
    "num_epochs=20\n",
    "\n",
    "cnn_model = build_model()\n",
    "cor_men_model, hst_cmen = model_train(cnn_model, 'hst_cmen', num_epochs, coronal_mensicus, coronal_mensicus_label, coronal_mensicus_val, coronal_mensicus_label_val)\n",
    "\n",
    "# get/plot accuracy\n",
    "hst_cmen_acc=[]\n",
    "hst_cmen_acc.append(np.mean(hst_cmen.history['val_accuracy']))\n",
    "plot_results(hst_cmen)"
   ]
  },
  {
   "cell_type": "code",
   "execution_count": 36,
   "id": "3b3f5ba6",
   "metadata": {},
   "outputs": [
    {
     "name": "stdout",
     "output_type": "stream",
     "text": [
      "Epoch 1/20\n",
      "36/36 [==============================] - 74s 2s/step - loss: 11.2390 - accuracy: 0.6097 - val_loss: 0.6697 - val_accuracy: 0.5667\n",
      "Epoch 2/20\n",
      "36/36 [==============================] - 69s 2s/step - loss: 0.6332 - accuracy: 0.6416 - val_loss: 0.6542 - val_accuracy: 0.5750\n",
      "Epoch 3/20\n",
      "36/36 [==============================] - 67s 2s/step - loss: 0.6231 - accuracy: 0.6690 - val_loss: 0.6425 - val_accuracy: 0.5750\n",
      "Epoch 4/20\n",
      "36/36 [==============================] - 68s 2s/step - loss: 0.6061 - accuracy: 0.6779 - val_loss: 0.6415 - val_accuracy: 0.5750\n",
      "Epoch 5/20\n",
      "36/36 [==============================] - 74s 2s/step - loss: 0.6048 - accuracy: 0.6965 - val_loss: 0.6429 - val_accuracy: 0.5833\n",
      "Epoch 6/20\n",
      "36/36 [==============================] - 68s 2s/step - loss: 0.5884 - accuracy: 0.6973 - val_loss: 0.6438 - val_accuracy: 0.5833\n",
      "Epoch 7/20\n",
      "36/36 [==============================] - 71s 2s/step - loss: 0.5942 - accuracy: 0.6929 - val_loss: 0.6321 - val_accuracy: 0.6583\n",
      "Epoch 8/20\n",
      "36/36 [==============================] - 78s 2s/step - loss: 0.5761 - accuracy: 0.6973 - val_loss: 0.6354 - val_accuracy: 0.6000\n",
      "Epoch 9/20\n",
      "36/36 [==============================] - 63s 2s/step - loss: 0.5811 - accuracy: 0.6938 - val_loss: 0.6531 - val_accuracy: 0.5750\n",
      "Epoch 10/20\n",
      "36/36 [==============================] - 68s 2s/step - loss: 0.5679 - accuracy: 0.7071 - val_loss: 0.6314 - val_accuracy: 0.6250\n",
      "Epoch 11/20\n",
      "36/36 [==============================] - 75s 2s/step - loss: 0.5590 - accuracy: 0.7168 - val_loss: 0.6372 - val_accuracy: 0.5917\n",
      "Epoch 12/20\n",
      "36/36 [==============================] - 68s 2s/step - loss: 0.5368 - accuracy: 0.7212 - val_loss: 0.6317 - val_accuracy: 0.6167\n",
      "Epoch 13/20\n",
      "36/36 [==============================] - 70s 2s/step - loss: 0.5352 - accuracy: 0.7398 - val_loss: 0.6269 - val_accuracy: 0.6417\n",
      "Epoch 14/20\n",
      "36/36 [==============================] - 68s 2s/step - loss: 0.5242 - accuracy: 0.7531 - val_loss: 0.6619 - val_accuracy: 0.6250\n",
      "Epoch 15/20\n",
      "36/36 [==============================] - 71s 2s/step - loss: 0.5272 - accuracy: 0.7442 - val_loss: 0.6303 - val_accuracy: 0.6583\n",
      "Epoch 16/20\n",
      "36/36 [==============================] - 67s 2s/step - loss: 0.5069 - accuracy: 0.7513 - val_loss: 0.6366 - val_accuracy: 0.6417\n"
     ]
    },
    {
     "data": {
      "image/png": "[encoded data removed]",
      "text/plain": [
       "<Figure size 1440x432 with 2 Axes>"
      ]
     },
     "metadata": {
      "needs_background": "light"
     },
     "output_type": "display_data"
    }
   ],
   "source": [
    "# axial plane\n",
    "num_epochs=20\n",
    "\n",
    "cnn_model = build_model()\n",
    "axl_men_model, hst_amen = model_train(cnn_model, 'hst_amen', num_epochs, axial_mensicus, axial_mensicus_label, axial_mensicus_val, axial_mensicus_label_val)\n",
    "\n",
    "# get/plot accuracy\n",
    "hst_amen_acc=[]\n",
    "hst_amen_acc.append(np.mean(hst_amen.history['val_accuracy']))\n",
    "plot_results(hst_amen)"
   ]
  },
  {
   "cell_type": "code",
   "execution_count": 37,
   "id": "730db892",
   "metadata": {},
   "outputs": [
    {
     "name": "stdout",
     "output_type": "stream",
     "text": [
      "Epoch 1/20\n",
      "36/36 [==============================] - 70s 2s/step - loss: 30.8604 - accuracy: 0.6009 - val_loss: 0.6565 - val_accuracy: 0.6000\n",
      "Epoch 2/20\n",
      "36/36 [==============================] - 67s 2s/step - loss: 0.6143 - accuracy: 0.6717 - val_loss: 0.6267 - val_accuracy: 0.6583\n",
      "Epoch 3/20\n",
      "36/36 [==============================] - 70s 2s/step - loss: 0.5735 - accuracy: 0.6956 - val_loss: 0.5989 - val_accuracy: 0.6083\n",
      "Epoch 4/20\n",
      "36/36 [==============================] - 69s 2s/step - loss: 0.5522 - accuracy: 0.7106 - val_loss: 0.6078 - val_accuracy: 0.6500\n",
      "Epoch 5/20\n",
      "36/36 [==============================] - 67s 2s/step - loss: 0.5429 - accuracy: 0.7133 - val_loss: 0.6005 - val_accuracy: 0.6583\n",
      "Epoch 6/20\n",
      "36/36 [==============================] - 71s 2s/step - loss: 0.5171 - accuracy: 0.7345 - val_loss: 0.5994 - val_accuracy: 0.6333\n"
     ]
    },
    {
     "data": {
      "image/png": "[encoded data removed]",
      "text/plain": [
       "<Figure size 1440x432 with 2 Axes>"
      ]
     },
     "metadata": {
      "needs_background": "light"
     },
     "output_type": "display_data"
    }
   ],
   "source": [
    "# sagittal plane\n",
    "num_epochs=20\n",
    "\n",
    "cnn_model = build_model()\n",
    "sag_men_model, hst_smen = model_train(cnn_model, 'hst_smen', num_epochs, sagittal_mensicus, sagittal_mensicus_label, sagittal_mensicus_val, sagittal_mensicus_label_val)\n",
    "\n",
    "# get/plot accuracy\n",
    "hst_smen_acc=[]\n",
    "hst_smen_acc.append(np.mean(hst_smen.history['val_accuracy']))\n",
    "plot_results(hst_smen)"
   ]
  },
  {
   "cell_type": "markdown",
   "id": "603b10a0",
   "metadata": {},
   "source": [
    "**predictions for acl dataset**"
   ]
  },
  {
   "cell_type": "code",
   "execution_count": 38,
   "id": "86195cf9",
   "metadata": {},
   "outputs": [
    {
     "name": "stdout",
     "output_type": "stream",
     "text": [
      "Epoch 1/20\n",
      "36/36 [==============================] - 81s 2s/step - loss: 6.3109 - accuracy: 0.7301 - val_loss: 1.2247 - val_accuracy: 0.5500\n",
      "Epoch 2/20\n",
      "36/36 [==============================] - 79s 2s/step - loss: 0.5066 - accuracy: 0.8088 - val_loss: 0.7410 - val_accuracy: 0.5500\n",
      "Epoch 3/20\n",
      "36/36 [==============================] - 78s 2s/step - loss: 0.4824 - accuracy: 0.8159 - val_loss: 0.9285 - val_accuracy: 0.5500\n",
      "Epoch 4/20\n",
      "36/36 [==============================] - 76s 2s/step - loss: 0.4769 - accuracy: 0.8159 - val_loss: 0.8602 - val_accuracy: 0.5500\n",
      "Epoch 5/20\n",
      "36/36 [==============================] - 70s 2s/step - loss: 0.4676 - accuracy: 0.8159 - val_loss: 0.8773 - val_accuracy: 0.5500\n"
     ]
    },
    {
     "data": {
      "image/png": "[encoded data removed]",
      "text/plain": [
       "<Figure size 1440x432 with 2 Axes>"
      ]
     },
     "metadata": {
      "needs_background": "light"
     },
     "output_type": "display_data"
    }
   ],
   "source": [
    "# coronal plane\n",
    "num_epochs=20\n",
    "\n",
    "cnn_model = build_model()\n",
    "cor_acl_model, hst_cacl = model_train(cnn_model, 'hst_cacl', num_epochs, coronal_acl, coronal_acl_label, coronal_acl_val, coronal_acl_label_val)\n",
    "\n",
    "# get/plot accuracy\n",
    "hst_cacl_acc=[]\n",
    "hst_cacl_acc.append(np.mean(hst_cacl.history['val_accuracy']))\n",
    "plot_results(hst_cacl)"
   ]
  },
  {
   "cell_type": "code",
   "execution_count": 39,
   "id": "2b872498",
   "metadata": {},
   "outputs": [
    {
     "name": "stdout",
     "output_type": "stream",
     "text": [
      "Epoch 1/20\n",
      "36/36 [==============================] - 65s 2s/step - loss: 5.1288 - accuracy: 0.7310 - val_loss: 0.8216 - val_accuracy: 0.5500\n",
      "Epoch 2/20\n",
      "36/36 [==============================] - 60s 2s/step - loss: 0.4763 - accuracy: 0.8150 - val_loss: 0.8092 - val_accuracy: 0.5500\n",
      "Epoch 3/20\n",
      "36/36 [==============================] - 61s 2s/step - loss: 0.4554 - accuracy: 0.8159 - val_loss: 0.7390 - val_accuracy: 0.5500\n",
      "Epoch 4/20\n",
      "36/36 [==============================] - 60s 2s/step - loss: 0.4400 - accuracy: 0.8159 - val_loss: 0.8534 - val_accuracy: 0.5500\n",
      "Epoch 5/20\n",
      "36/36 [==============================] - 61s 2s/step - loss: 0.4095 - accuracy: 0.8168 - val_loss: 0.7367 - val_accuracy: 0.5583\n",
      "Epoch 6/20\n",
      "36/36 [==============================] - 60s 2s/step - loss: 0.4060 - accuracy: 0.8301 - val_loss: 0.7887 - val_accuracy: 0.5667\n",
      "Epoch 7/20\n",
      "36/36 [==============================] - 60s 2s/step - loss: 0.3899 - accuracy: 0.8239 - val_loss: 0.7423 - val_accuracy: 0.5833\n",
      "Epoch 8/20\n",
      "36/36 [==============================] - 61s 2s/step - loss: 0.3709 - accuracy: 0.8363 - val_loss: 0.7227 - val_accuracy: 0.5917\n",
      "Epoch 9/20\n",
      "36/36 [==============================] - 61s 2s/step - loss: 0.3709 - accuracy: 0.8425 - val_loss: 0.7062 - val_accuracy: 0.6000\n",
      "Epoch 10/20\n",
      "36/36 [==============================] - 60s 2s/step - loss: 0.3460 - accuracy: 0.8434 - val_loss: 0.6764 - val_accuracy: 0.6500\n",
      "Epoch 11/20\n",
      "36/36 [==============================] - 60s 2s/step - loss: 0.3259 - accuracy: 0.8602 - val_loss: 0.6609 - val_accuracy: 0.6583\n",
      "Epoch 12/20\n",
      "36/36 [==============================] - 60s 2s/step - loss: 0.3358 - accuracy: 0.8619 - val_loss: 0.8915 - val_accuracy: 0.6000\n",
      "Epoch 13/20\n",
      "36/36 [==============================] - 64s 2s/step - loss: 0.3058 - accuracy: 0.8708 - val_loss: 0.8198 - val_accuracy: 0.5833\n",
      "Epoch 14/20\n",
      "36/36 [==============================] - 60s 2s/step - loss: 0.3097 - accuracy: 0.8549 - val_loss: 0.6025 - val_accuracy: 0.6750\n",
      "Epoch 15/20\n",
      "36/36 [==============================] - 59s 2s/step - loss: 0.2995 - accuracy: 0.8796 - val_loss: 0.7715 - val_accuracy: 0.6583\n",
      "Epoch 16/20\n",
      "36/36 [==============================] - 60s 2s/step - loss: 0.2788 - accuracy: 0.8726 - val_loss: 0.7007 - val_accuracy: 0.6833\n",
      "Epoch 17/20\n",
      "36/36 [==============================] - 61s 2s/step - loss: 0.2644 - accuracy: 0.8956 - val_loss: 0.8056 - val_accuracy: 0.6667\n"
     ]
    },
    {
     "data": {
      "image/png": "[encoded data removed]",
      "text/plain": [
       "<Figure size 1440x432 with 2 Axes>"
      ]
     },
     "metadata": {
      "needs_background": "light"
     },
     "output_type": "display_data"
    }
   ],
   "source": [
    "# axial plane\n",
    "num_epochs=20\n",
    "\n",
    "cnn_model = build_model()\n",
    "axl_acl_model, hst_aacl = model_train(cnn_model, 'hst_aacl', num_epochs, axial_acl, axial_acl_label, axial_acl_val, axial_acl_label_val)\n",
    "\n",
    "# get/plot accuracy\n",
    "hst_aacl_acc=[]\n",
    "hst_aacl_acc.append(np.mean(hst_aacl.history['val_accuracy']))\n",
    "plot_results(hst_aacl)"
   ]
  },
  {
   "cell_type": "code",
   "execution_count": 40,
   "id": "a0896e11",
   "metadata": {},
   "outputs": [
    {
     "name": "stdout",
     "output_type": "stream",
     "text": [
      "Epoch 1/20\n",
      "36/36 [==============================] - 64s 2s/step - loss: 7.1335 - accuracy: 0.7257 - val_loss: 0.8307 - val_accuracy: 0.5500\n",
      "Epoch 2/20\n",
      "36/36 [==============================] - 60s 2s/step - loss: 0.4537 - accuracy: 0.8115 - val_loss: 0.8174 - val_accuracy: 0.5500\n",
      "Epoch 3/20\n",
      "36/36 [==============================] - 60s 2s/step - loss: 0.4360 - accuracy: 0.8204 - val_loss: 0.7823 - val_accuracy: 0.5500\n",
      "Epoch 4/20\n",
      "36/36 [==============================] - 59s 2s/step - loss: 0.4155 - accuracy: 0.8186 - val_loss: 0.7753 - val_accuracy: 0.5583\n",
      "Epoch 5/20\n",
      "36/36 [==============================] - 59s 2s/step - loss: 0.4120 - accuracy: 0.8292 - val_loss: 0.8474 - val_accuracy: 0.5667\n",
      "Epoch 6/20\n",
      "36/36 [==============================] - 58s 2s/step - loss: 0.4036 - accuracy: 0.8265 - val_loss: 0.7998 - val_accuracy: 0.5833\n",
      "Epoch 7/20\n",
      "36/36 [==============================] - 59s 2s/step - loss: 0.3781 - accuracy: 0.8283 - val_loss: 0.7477 - val_accuracy: 0.6083\n",
      "Epoch 8/20\n",
      "36/36 [==============================] - 58s 2s/step - loss: 0.3684 - accuracy: 0.8434 - val_loss: 0.6503 - val_accuracy: 0.6833\n",
      "Epoch 9/20\n",
      "36/36 [==============================] - 59s 2s/step - loss: 0.3621 - accuracy: 0.8398 - val_loss: 0.7234 - val_accuracy: 0.6417\n",
      "Epoch 10/20\n",
      "36/36 [==============================] - 59s 2s/step - loss: 0.3365 - accuracy: 0.8513 - val_loss: 0.7184 - val_accuracy: 0.6333\n",
      "Epoch 11/20\n",
      "36/36 [==============================] - 60s 2s/step - loss: 0.3248 - accuracy: 0.8655 - val_loss: 0.6587 - val_accuracy: 0.6500\n"
     ]
    },
    {
     "data": {
      "image/png": "[encoded data removed]",
      "text/plain": [
       "<Figure size 1440x432 with 2 Axes>"
      ]
     },
     "metadata": {
      "needs_background": "light"
     },
     "output_type": "display_data"
    }
   ],
   "source": [
    "# sagittal plane\n",
    "num_epochs=20\n",
    "\n",
    "cnn_model = build_model()\n",
    "sag_acl_model, hst_sacl = model_train(cnn_model, 'hst_sacl', num_epochs, sagittal_acl, sagittal_acl_label, sagittal_acl_val, sagittal_acl_label_val)\n",
    "\n",
    "# get/plot accuracy\n",
    "hst_sacl_acc=[]\n",
    "hst_sacl_acc.append(np.mean(hst_sacl.history['val_accuracy']))\n",
    "plot_results(hst_sacl)"
   ]
  },
  {
   "cell_type": "markdown",
   "id": "4be9a77d",
   "metadata": {},
   "source": [
    "**calculate average accuracy**"
   ]
  },
  {
   "cell_type": "code",
   "execution_count": 41,
   "id": "a8240d15",
   "metadata": {},
   "outputs": [
    {
     "data": {
      "text/plain": [
       "[[0.5638888875643412], [0.6057291626930237], [0.6347222328186035]]"
      ]
     },
     "execution_count": 41,
     "metadata": {},
     "output_type": "execute_result"
    }
   ],
   "source": [
    "[hst_cmen_acc, hst_amen_acc, hst_smen_acc]"
   ]
  },
  {
   "cell_type": "code",
   "execution_count": 42,
   "id": "fc700ed7",
   "metadata": {},
   "outputs": [
    {
     "data": {
      "text/plain": [
       "[[0.7900000214576721], [0.8120370374785529], [0.8008333444595337]]"
      ]
     },
     "execution_count": 42,
     "metadata": {},
     "output_type": "execute_result"
    }
   ],
   "source": [
    "[hst_cab_acc, hst_aab_acc, hst_sab_acc]"
   ]
  },
  {
   "cell_type": "code",
   "execution_count": 43,
   "id": "6c655093",
   "metadata": {},
   "outputs": [
    {
     "data": {
      "text/plain": [
       "[[0.550000011920929], [0.6044117703157312], [0.5977272716435519]]"
      ]
     },
     "execution_count": 43,
     "metadata": {},
     "output_type": "execute_result"
    }
   ],
   "source": [
    "[hst_cacl_acc, hst_aacl_acc, hst_sacl_acc]"
   ]
  },
  {
   "cell_type": "markdown",
   "id": "c0cd4b11",
   "metadata": {},
   "source": [
    "## Evaluate results"
   ]
  },
  {
   "cell_type": "markdown",
   "id": "cf4b43f1",
   "metadata": {},
   "source": [
    "### meniscus dataset"
   ]
  },
  {
   "cell_type": "code",
   "execution_count": 44,
   "id": "fe816f64",
   "metadata": {},
   "outputs": [
    {
     "name": "stdout",
     "output_type": "stream",
     "text": [
      "Test loss: 0.6923257112503052\n",
      "Test accuracy: 0.5666666626930237\n"
     ]
    }
   ],
   "source": [
    "cmen_scores = cor_men_model.evaluate(coronal_mensicus_val, np.array(coronal_mensicus_label_val), verbose=0)\n",
    "print('Test loss:', cmen_scores[0]) \n",
    "print('Test accuracy:', cmen_scores[1])"
   ]
  },
  {
   "cell_type": "code",
   "execution_count": 45,
   "id": "9d71ad67",
   "metadata": {},
   "outputs": [
    {
     "name": "stdout",
     "output_type": "stream",
     "text": [
      "Test loss: 0.6365991234779358\n",
      "Test accuracy: 0.6416666507720947\n"
     ]
    }
   ],
   "source": [
    "amen_scores = axl_men_model.evaluate(axial_mensicus_val, np.array(axial_mensicus_label_val), verbose=0)\n",
    "print('Test loss:', amen_scores[0]) \n",
    "print('Test accuracy:', amen_scores[1])"
   ]
  },
  {
   "cell_type": "code",
   "execution_count": 46,
   "id": "1ac08cbc",
   "metadata": {},
   "outputs": [
    {
     "name": "stdout",
     "output_type": "stream",
     "text": [
      "Test loss: 0.5994209051132202\n",
      "Test accuracy: 0.6333333253860474\n"
     ]
    }
   ],
   "source": [
    "smen_scores = sag_men_model.evaluate(sagittal_mensicus_val, np.array(sagittal_mensicus_label_val), verbose=0)\n",
    "print('Test loss:', smen_scores[0]) \n",
    "print('Test accuracy:', smen_scores[1])"
   ]
  },
  {
   "cell_type": "markdown",
   "id": "e93f6cf7",
   "metadata": {},
   "source": [
    "**Evaluate predictions**"
   ]
  },
  {
   "cell_type": "code",
   "execution_count": 47,
   "id": "a2310420",
   "metadata": {},
   "outputs": [],
   "source": [
    "cor_pred = cor_men_model.predict(coronal_mensicus_val) \n",
    "axl_pred = axl_men_model.predict(axial_mensicus_val) \n",
    "sag_pred = sag_men_model.predict(sagittal_mensicus_val) \n"
   ]
  },
  {
   "cell_type": "code",
   "execution_count": 48,
   "id": "1efdfde1",
   "metadata": {},
   "outputs": [],
   "source": [
    "pred_men = pd.DataFrame(np.column_stack([cor_pred,axl_pred,sag_pred]),columns=['cor_pred', 'axl_pred', 'sag_pred'])\n",
    "pred_men['mean'] = pred_men.mean(axis=1)"
   ]
  },
  {
   "cell_type": "code",
   "execution_count": 49,
   "id": "40b288b4",
   "metadata": {},
   "outputs": [
    {
     "data": {
      "text/plain": [
       "0      0.185468\n",
       "1      0.152971\n",
       "2      0.253264\n",
       "3      0.115711\n",
       "4      0.400948\n",
       "         ...   \n",
       "115    0.319742\n",
       "116    0.371087\n",
       "117    0.281780\n",
       "118    0.411436\n",
       "119    0.177706\n",
       "Name: mean, Length: 120, dtype: float32"
      ]
     },
     "execution_count": 49,
     "metadata": {},
     "output_type": "execute_result"
    }
   ],
   "source": [
    "# since model output is [0,1] using sigmoid activation function\n",
    "# pred is the probability\n",
    "# take average probability from all 3 planes\n",
    "pred_men['mean']"
   ]
  },
  {
   "cell_type": "code",
   "execution_count": 50,
   "id": "90f480ed",
   "metadata": {},
   "outputs": [],
   "source": [
    "# if prob<0.5, it is 0.\n",
    "pred_men['predict'] = pred_men['mean'].map(lambda x: 0 if x<0.5 else 1)"
   ]
  },
  {
   "cell_type": "code",
   "execution_count": 51,
   "id": "8d56412c",
   "metadata": {},
   "outputs": [
    {
     "data": {
      "text/plain": [
       "0    95\n",
       "1    25\n",
       "Name: predict, dtype: int64"
      ]
     },
     "execution_count": 51,
     "metadata": {},
     "output_type": "execute_result"
    }
   ],
   "source": [
    "pred_men['predict'].value_counts()"
   ]
  },
  {
   "cell_type": "code",
   "execution_count": 52,
   "id": "0ac125e4",
   "metadata": {},
   "outputs": [],
   "source": [
    "# labels are same for all planes\n",
    "pred_men['true'] = coronal_mensicus_label_val"
   ]
  },
  {
   "cell_type": "code",
   "execution_count": 53,
   "id": "157e2824",
   "metadata": {},
   "outputs": [
    {
     "data": {
      "text/plain": [
       "(43, 6)"
      ]
     },
     "execution_count": 53,
     "metadata": {},
     "output_type": "execute_result"
    }
   ],
   "source": [
    "pred_men[pred_men['true'] != pred_men['predict']].shape"
   ]
  },
  {
   "cell_type": "code",
   "execution_count": 54,
   "id": "9354b8d9",
   "metadata": {},
   "outputs": [
    {
     "data": {
      "text/html": [
       "<div>\n",
       "<style scoped>\n",
       "    .dataframe tbody tr th:only-of-type {\n",
       "        vertical-align: middle;\n",
       "    }\n",
       "\n",
       "    .dataframe tbody tr th {\n",
       "        vertical-align: top;\n",
       "    }\n",
       "\n",
       "    .dataframe thead th {\n",
       "        text-align: right;\n",
       "    }\n",
       "</style>\n",
       "<table border=\"1\" class=\"dataframe\">\n",
       "  <thead>\n",
       "    <tr style=\"text-align: right;\">\n",
       "      <th></th>\n",
       "      <th>cor_pred</th>\n",
       "      <th>axl_pred</th>\n",
       "      <th>sag_pred</th>\n",
       "      <th>mean</th>\n",
       "      <th>predict</th>\n",
       "      <th>true</th>\n",
       "    </tr>\n",
       "  </thead>\n",
       "  <tbody>\n",
       "    <tr>\n",
       "      <th>5</th>\n",
       "      <td>0.654979</td>\n",
       "      <td>0.597608</td>\n",
       "      <td>0.358514</td>\n",
       "      <td>0.537034</td>\n",
       "      <td>1</td>\n",
       "      <td>0</td>\n",
       "    </tr>\n",
       "    <tr>\n",
       "      <th>10</th>\n",
       "      <td>0.640964</td>\n",
       "      <td>0.444063</td>\n",
       "      <td>0.556146</td>\n",
       "      <td>0.547058</td>\n",
       "      <td>1</td>\n",
       "      <td>0</td>\n",
       "    </tr>\n",
       "    <tr>\n",
       "      <th>28</th>\n",
       "      <td>0.671307</td>\n",
       "      <td>0.408484</td>\n",
       "      <td>0.505326</td>\n",
       "      <td>0.528372</td>\n",
       "      <td>1</td>\n",
       "      <td>0</td>\n",
       "    </tr>\n",
       "    <tr>\n",
       "      <th>42</th>\n",
       "      <td>0.338288</td>\n",
       "      <td>0.242353</td>\n",
       "      <td>0.200433</td>\n",
       "      <td>0.260358</td>\n",
       "      <td>0</td>\n",
       "      <td>1</td>\n",
       "    </tr>\n",
       "    <tr>\n",
       "      <th>43</th>\n",
       "      <td>0.382337</td>\n",
       "      <td>0.290186</td>\n",
       "      <td>0.308420</td>\n",
       "      <td>0.326981</td>\n",
       "      <td>0</td>\n",
       "      <td>1</td>\n",
       "    </tr>\n",
       "    <tr>\n",
       "      <th>44</th>\n",
       "      <td>0.379246</td>\n",
       "      <td>0.271119</td>\n",
       "      <td>0.507190</td>\n",
       "      <td>0.385852</td>\n",
       "      <td>0</td>\n",
       "      <td>1</td>\n",
       "    </tr>\n",
       "    <tr>\n",
       "      <th>46</th>\n",
       "      <td>0.199169</td>\n",
       "      <td>0.337980</td>\n",
       "      <td>0.720356</td>\n",
       "      <td>0.419168</td>\n",
       "      <td>0</td>\n",
       "      <td>1</td>\n",
       "    </tr>\n",
       "    <tr>\n",
       "      <th>53</th>\n",
       "      <td>0.652041</td>\n",
       "      <td>0.787613</td>\n",
       "      <td>0.550019</td>\n",
       "      <td>0.663224</td>\n",
       "      <td>1</td>\n",
       "      <td>0</td>\n",
       "    </tr>\n",
       "    <tr>\n",
       "      <th>56</th>\n",
       "      <td>0.416647</td>\n",
       "      <td>0.268436</td>\n",
       "      <td>0.591191</td>\n",
       "      <td>0.425425</td>\n",
       "      <td>0</td>\n",
       "      <td>1</td>\n",
       "    </tr>\n",
       "    <tr>\n",
       "      <th>57</th>\n",
       "      <td>0.515043</td>\n",
       "      <td>0.755600</td>\n",
       "      <td>0.599867</td>\n",
       "      <td>0.623503</td>\n",
       "      <td>1</td>\n",
       "      <td>0</td>\n",
       "    </tr>\n",
       "    <tr>\n",
       "      <th>62</th>\n",
       "      <td>0.391016</td>\n",
       "      <td>0.582202</td>\n",
       "      <td>0.238712</td>\n",
       "      <td>0.403977</td>\n",
       "      <td>0</td>\n",
       "      <td>1</td>\n",
       "    </tr>\n",
       "    <tr>\n",
       "      <th>65</th>\n",
       "      <td>0.364461</td>\n",
       "      <td>0.262007</td>\n",
       "      <td>0.401927</td>\n",
       "      <td>0.342798</td>\n",
       "      <td>0</td>\n",
       "      <td>1</td>\n",
       "    </tr>\n",
       "    <tr>\n",
       "      <th>67</th>\n",
       "      <td>0.221271</td>\n",
       "      <td>0.163449</td>\n",
       "      <td>0.228603</td>\n",
       "      <td>0.204441</td>\n",
       "      <td>0</td>\n",
       "      <td>1</td>\n",
       "    </tr>\n",
       "    <tr>\n",
       "      <th>69</th>\n",
       "      <td>0.197251</td>\n",
       "      <td>0.635152</td>\n",
       "      <td>0.549009</td>\n",
       "      <td>0.460471</td>\n",
       "      <td>0</td>\n",
       "      <td>1</td>\n",
       "    </tr>\n",
       "    <tr>\n",
       "      <th>71</th>\n",
       "      <td>0.484626</td>\n",
       "      <td>0.239197</td>\n",
       "      <td>0.487993</td>\n",
       "      <td>0.403938</td>\n",
       "      <td>0</td>\n",
       "      <td>1</td>\n",
       "    </tr>\n",
       "    <tr>\n",
       "      <th>72</th>\n",
       "      <td>0.351075</td>\n",
       "      <td>0.216793</td>\n",
       "      <td>0.289186</td>\n",
       "      <td>0.285685</td>\n",
       "      <td>0</td>\n",
       "      <td>1</td>\n",
       "    </tr>\n",
       "    <tr>\n",
       "      <th>74</th>\n",
       "      <td>0.459673</td>\n",
       "      <td>0.295499</td>\n",
       "      <td>0.779909</td>\n",
       "      <td>0.511694</td>\n",
       "      <td>1</td>\n",
       "      <td>0</td>\n",
       "    </tr>\n",
       "    <tr>\n",
       "      <th>75</th>\n",
       "      <td>0.393903</td>\n",
       "      <td>0.357682</td>\n",
       "      <td>0.337590</td>\n",
       "      <td>0.363059</td>\n",
       "      <td>0</td>\n",
       "      <td>1</td>\n",
       "    </tr>\n",
       "    <tr>\n",
       "      <th>77</th>\n",
       "      <td>0.204211</td>\n",
       "      <td>0.271059</td>\n",
       "      <td>0.209008</td>\n",
       "      <td>0.228093</td>\n",
       "      <td>0</td>\n",
       "      <td>1</td>\n",
       "    </tr>\n",
       "    <tr>\n",
       "      <th>79</th>\n",
       "      <td>0.609169</td>\n",
       "      <td>0.506691</td>\n",
       "      <td>0.620707</td>\n",
       "      <td>0.578855</td>\n",
       "      <td>1</td>\n",
       "      <td>0</td>\n",
       "    </tr>\n",
       "    <tr>\n",
       "      <th>80</th>\n",
       "      <td>0.534243</td>\n",
       "      <td>0.453105</td>\n",
       "      <td>0.685507</td>\n",
       "      <td>0.557618</td>\n",
       "      <td>1</td>\n",
       "      <td>0</td>\n",
       "    </tr>\n",
       "    <tr>\n",
       "      <th>86</th>\n",
       "      <td>0.330778</td>\n",
       "      <td>0.415959</td>\n",
       "      <td>0.646119</td>\n",
       "      <td>0.464285</td>\n",
       "      <td>0</td>\n",
       "      <td>1</td>\n",
       "    </tr>\n",
       "    <tr>\n",
       "      <th>90</th>\n",
       "      <td>0.137095</td>\n",
       "      <td>0.320355</td>\n",
       "      <td>0.423078</td>\n",
       "      <td>0.293509</td>\n",
       "      <td>0</td>\n",
       "      <td>1</td>\n",
       "    </tr>\n",
       "    <tr>\n",
       "      <th>92</th>\n",
       "      <td>0.407723</td>\n",
       "      <td>0.585260</td>\n",
       "      <td>0.330411</td>\n",
       "      <td>0.441132</td>\n",
       "      <td>0</td>\n",
       "      <td>1</td>\n",
       "    </tr>\n",
       "    <tr>\n",
       "      <th>95</th>\n",
       "      <td>0.268039</td>\n",
       "      <td>0.502405</td>\n",
       "      <td>0.444139</td>\n",
       "      <td>0.404861</td>\n",
       "      <td>0</td>\n",
       "      <td>1</td>\n",
       "    </tr>\n",
       "    <tr>\n",
       "      <th>97</th>\n",
       "      <td>0.454924</td>\n",
       "      <td>0.225805</td>\n",
       "      <td>0.274327</td>\n",
       "      <td>0.318352</td>\n",
       "      <td>0</td>\n",
       "      <td>1</td>\n",
       "    </tr>\n",
       "    <tr>\n",
       "      <th>98</th>\n",
       "      <td>0.397542</td>\n",
       "      <td>0.246126</td>\n",
       "      <td>0.417003</td>\n",
       "      <td>0.353557</td>\n",
       "      <td>0</td>\n",
       "      <td>1</td>\n",
       "    </tr>\n",
       "    <tr>\n",
       "      <th>102</th>\n",
       "      <td>0.567134</td>\n",
       "      <td>0.417222</td>\n",
       "      <td>0.501033</td>\n",
       "      <td>0.495130</td>\n",
       "      <td>0</td>\n",
       "      <td>1</td>\n",
       "    </tr>\n",
       "    <tr>\n",
       "      <th>103</th>\n",
       "      <td>0.313093</td>\n",
       "      <td>0.580783</td>\n",
       "      <td>0.553527</td>\n",
       "      <td>0.482468</td>\n",
       "      <td>0</td>\n",
       "      <td>1</td>\n",
       "    </tr>\n",
       "    <tr>\n",
       "      <th>104</th>\n",
       "      <td>0.139975</td>\n",
       "      <td>0.253207</td>\n",
       "      <td>0.887892</td>\n",
       "      <td>0.427025</td>\n",
       "      <td>0</td>\n",
       "      <td>1</td>\n",
       "    </tr>\n",
       "    <tr>\n",
       "      <th>105</th>\n",
       "      <td>0.512552</td>\n",
       "      <td>0.338644</td>\n",
       "      <td>0.440862</td>\n",
       "      <td>0.430686</td>\n",
       "      <td>0</td>\n",
       "      <td>1</td>\n",
       "    </tr>\n",
       "    <tr>\n",
       "      <th>106</th>\n",
       "      <td>0.161924</td>\n",
       "      <td>0.291330</td>\n",
       "      <td>0.562937</td>\n",
       "      <td>0.338730</td>\n",
       "      <td>0</td>\n",
       "      <td>1</td>\n",
       "    </tr>\n",
       "    <tr>\n",
       "      <th>107</th>\n",
       "      <td>0.280009</td>\n",
       "      <td>0.386504</td>\n",
       "      <td>0.570566</td>\n",
       "      <td>0.412359</td>\n",
       "      <td>0</td>\n",
       "      <td>1</td>\n",
       "    </tr>\n",
       "    <tr>\n",
       "      <th>108</th>\n",
       "      <td>0.242586</td>\n",
       "      <td>0.268196</td>\n",
       "      <td>0.562044</td>\n",
       "      <td>0.357609</td>\n",
       "      <td>0</td>\n",
       "      <td>1</td>\n",
       "    </tr>\n",
       "    <tr>\n",
       "      <th>110</th>\n",
       "      <td>0.467789</td>\n",
       "      <td>0.512159</td>\n",
       "      <td>0.346565</td>\n",
       "      <td>0.442171</td>\n",
       "      <td>0</td>\n",
       "      <td>1</td>\n",
       "    </tr>\n",
       "    <tr>\n",
       "      <th>111</th>\n",
       "      <td>0.311011</td>\n",
       "      <td>0.210744</td>\n",
       "      <td>0.341489</td>\n",
       "      <td>0.287748</td>\n",
       "      <td>0</td>\n",
       "      <td>1</td>\n",
       "    </tr>\n",
       "    <tr>\n",
       "      <th>112</th>\n",
       "      <td>0.494781</td>\n",
       "      <td>0.272816</td>\n",
       "      <td>0.331971</td>\n",
       "      <td>0.366523</td>\n",
       "      <td>0</td>\n",
       "      <td>1</td>\n",
       "    </tr>\n",
       "    <tr>\n",
       "      <th>114</th>\n",
       "      <td>0.517637</td>\n",
       "      <td>0.376749</td>\n",
       "      <td>0.482864</td>\n",
       "      <td>0.459083</td>\n",
       "      <td>0</td>\n",
       "      <td>1</td>\n",
       "    </tr>\n",
       "    <tr>\n",
       "      <th>115</th>\n",
       "      <td>0.480452</td>\n",
       "      <td>0.224486</td>\n",
       "      <td>0.254288</td>\n",
       "      <td>0.319742</td>\n",
       "      <td>0</td>\n",
       "      <td>1</td>\n",
       "    </tr>\n",
       "    <tr>\n",
       "      <th>116</th>\n",
       "      <td>0.425525</td>\n",
       "      <td>0.332091</td>\n",
       "      <td>0.355646</td>\n",
       "      <td>0.371087</td>\n",
       "      <td>0</td>\n",
       "      <td>1</td>\n",
       "    </tr>\n",
       "    <tr>\n",
       "      <th>117</th>\n",
       "      <td>0.398770</td>\n",
       "      <td>0.117946</td>\n",
       "      <td>0.328624</td>\n",
       "      <td>0.281780</td>\n",
       "      <td>0</td>\n",
       "      <td>1</td>\n",
       "    </tr>\n",
       "    <tr>\n",
       "      <th>118</th>\n",
       "      <td>0.475907</td>\n",
       "      <td>0.174046</td>\n",
       "      <td>0.584357</td>\n",
       "      <td>0.411436</td>\n",
       "      <td>0</td>\n",
       "      <td>1</td>\n",
       "    </tr>\n",
       "    <tr>\n",
       "      <th>119</th>\n",
       "      <td>0.226753</td>\n",
       "      <td>0.218979</td>\n",
       "      <td>0.087387</td>\n",
       "      <td>0.177706</td>\n",
       "      <td>0</td>\n",
       "      <td>1</td>\n",
       "    </tr>\n",
       "  </tbody>\n",
       "</table>\n",
       "</div>"
      ],
      "text/plain": [
       "     cor_pred  axl_pred  sag_pred      mean  predict  true\n",
       "5    0.654979  0.597608  0.358514  0.537034        1     0\n",
       "10   0.640964  0.444063  0.556146  0.547058        1     0\n",
       "28   0.671307  0.408484  0.505326  0.528372        1     0\n",
       "42   0.338288  0.242353  0.200433  0.260358        0     1\n",
       "43   0.382337  0.290186  0.308420  0.326981        0     1\n",
       "44   0.379246  0.271119  0.507190  0.385852        0     1\n",
       "46   0.199169  0.337980  0.720356  0.419168        0     1\n",
       "53   0.652041  0.787613  0.550019  0.663224        1     0\n",
       "56   0.416647  0.268436  0.591191  0.425425        0     1\n",
       "57   0.515043  0.755600  0.599867  0.623503        1     0\n",
       "62   0.391016  0.582202  0.238712  0.403977        0     1\n",
       "65   0.364461  0.262007  0.401927  0.342798        0     1\n",
       "67   0.221271  0.163449  0.228603  0.204441        0     1\n",
       "69   0.197251  0.635152  0.549009  0.460471        0     1\n",
       "71   0.484626  0.239197  0.487993  0.403938        0     1\n",
       "72   0.351075  0.216793  0.289186  0.285685        0     1\n",
       "74   0.459673  0.295499  0.779909  0.511694        1     0\n",
       "75   0.393903  0.357682  0.337590  0.363059        0     1\n",
       "77   0.204211  0.271059  0.209008  0.228093        0     1\n",
       "79   0.609169  0.506691  0.620707  0.578855        1     0\n",
       "80   0.534243  0.453105  0.685507  0.557618        1     0\n",
       "86   0.330778  0.415959  0.646119  0.464285        0     1\n",
       "90   0.137095  0.320355  0.423078  0.293509        0     1\n",
       "92   0.407723  0.585260  0.330411  0.441132        0     1\n",
       "95   0.268039  0.502405  0.444139  0.404861        0     1\n",
       "97   0.454924  0.225805  0.274327  0.318352        0     1\n",
       "98   0.397542  0.246126  0.417003  0.353557        0     1\n",
       "102  0.567134  0.417222  0.501033  0.495130        0     1\n",
       "103  0.313093  0.580783  0.553527  0.482468        0     1\n",
       "104  0.139975  0.253207  0.887892  0.427025        0     1\n",
       "105  0.512552  0.338644  0.440862  0.430686        0     1\n",
       "106  0.161924  0.291330  0.562937  0.338730        0     1\n",
       "107  0.280009  0.386504  0.570566  0.412359        0     1\n",
       "108  0.242586  0.268196  0.562044  0.357609        0     1\n",
       "110  0.467789  0.512159  0.346565  0.442171        0     1\n",
       "111  0.311011  0.210744  0.341489  0.287748        0     1\n",
       "112  0.494781  0.272816  0.331971  0.366523        0     1\n",
       "114  0.517637  0.376749  0.482864  0.459083        0     1\n",
       "115  0.480452  0.224486  0.254288  0.319742        0     1\n",
       "116  0.425525  0.332091  0.355646  0.371087        0     1\n",
       "117  0.398770  0.117946  0.328624  0.281780        0     1\n",
       "118  0.475907  0.174046  0.584357  0.411436        0     1\n",
       "119  0.226753  0.218979  0.087387  0.177706        0     1"
      ]
     },
     "execution_count": 54,
     "metadata": {},
     "output_type": "execute_result"
    }
   ],
   "source": [
    "pred_men[pred_men['true'] != pred_men['predict']]"
   ]
  },
  {
   "cell_type": "markdown",
   "id": "4b78fff7",
   "metadata": {},
   "source": [
    "### abnormal dataset"
   ]
  },
  {
   "cell_type": "code",
   "execution_count": 55,
   "id": "5f8117f1",
   "metadata": {},
   "outputs": [],
   "source": [
    "cor_pred = cor_ab_model.predict(coronal_abnormal_val) \n",
    "axl_pred = axl_ab_model.predict(axial_abnormal_val) \n",
    "sag_pred = sag_ab_model.predict(sagittal_abnormal_val) \n",
    "\n",
    "pred_ab = pd.DataFrame(np.column_stack([cor_pred,axl_pred,sag_pred]),columns=['cor_pred', 'axl_pred', 'sag_pred'])\n",
    "pred_ab['mean'] = pred_ab.mean(axis=1)"
   ]
  },
  {
   "cell_type": "code",
   "execution_count": 56,
   "id": "d1c5793b",
   "metadata": {},
   "outputs": [
    {
     "data": {
      "text/plain": [
       "1    116\n",
       "0      4\n",
       "Name: predict, dtype: int64"
      ]
     },
     "execution_count": 56,
     "metadata": {},
     "output_type": "execute_result"
    }
   ],
   "source": [
    "# since model output is [0,1] using sigmoid activation function\n",
    "# pred is the probability\n",
    "# take average probability from all 3 planes\n",
    "\n",
    "# if prob<0.5, it is 0.\n",
    "pred_ab['predict'] = pred_ab['mean'].map(lambda x: 0 if x<0.5 else 1)\n",
    "pred_ab['predict'].value_counts()"
   ]
  },
  {
   "cell_type": "code",
   "execution_count": 57,
   "id": "2142f4f7",
   "metadata": {},
   "outputs": [
    {
     "data": {
      "text/plain": [
       "(23, 6)"
      ]
     },
     "execution_count": 57,
     "metadata": {},
     "output_type": "execute_result"
    }
   ],
   "source": [
    "pred_ab['true'] = coronal_abnormal_label_val \n",
    "pred_ab[pred_ab['true'] != pred_ab['predict']].shape"
   ]
  },
  {
   "cell_type": "code",
   "execution_count": 58,
   "id": "ebafc47d",
   "metadata": {},
   "outputs": [
    {
     "data": {
      "text/html": [
       "<div>\n",
       "<style scoped>\n",
       "    .dataframe tbody tr th:only-of-type {\n",
       "        vertical-align: middle;\n",
       "    }\n",
       "\n",
       "    .dataframe tbody tr th {\n",
       "        vertical-align: top;\n",
       "    }\n",
       "\n",
       "    .dataframe thead th {\n",
       "        text-align: right;\n",
       "    }\n",
       "</style>\n",
       "<table border=\"1\" class=\"dataframe\">\n",
       "  <thead>\n",
       "    <tr style=\"text-align: right;\">\n",
       "      <th></th>\n",
       "      <th>cor_pred</th>\n",
       "      <th>axl_pred</th>\n",
       "      <th>sag_pred</th>\n",
       "      <th>mean</th>\n",
       "      <th>predict</th>\n",
       "      <th>true</th>\n",
       "    </tr>\n",
       "  </thead>\n",
       "  <tbody>\n",
       "    <tr>\n",
       "      <th>0</th>\n",
       "      <td>0.833905</td>\n",
       "      <td>0.335221</td>\n",
       "      <td>0.371288</td>\n",
       "      <td>0.513471</td>\n",
       "      <td>1</td>\n",
       "      <td>0</td>\n",
       "    </tr>\n",
       "    <tr>\n",
       "      <th>1</th>\n",
       "      <td>0.744632</td>\n",
       "      <td>0.675251</td>\n",
       "      <td>0.855387</td>\n",
       "      <td>0.758423</td>\n",
       "      <td>1</td>\n",
       "      <td>0</td>\n",
       "    </tr>\n",
       "    <tr>\n",
       "      <th>2</th>\n",
       "      <td>0.908022</td>\n",
       "      <td>0.639049</td>\n",
       "      <td>0.519402</td>\n",
       "      <td>0.688824</td>\n",
       "      <td>1</td>\n",
       "      <td>0</td>\n",
       "    </tr>\n",
       "    <tr>\n",
       "      <th>4</th>\n",
       "      <td>0.977487</td>\n",
       "      <td>0.960933</td>\n",
       "      <td>0.938707</td>\n",
       "      <td>0.959042</td>\n",
       "      <td>1</td>\n",
       "      <td>0</td>\n",
       "    </tr>\n",
       "    <tr>\n",
       "      <th>5</th>\n",
       "      <td>0.937433</td>\n",
       "      <td>0.905104</td>\n",
       "      <td>0.867707</td>\n",
       "      <td>0.903415</td>\n",
       "      <td>1</td>\n",
       "      <td>0</td>\n",
       "    </tr>\n",
       "    <tr>\n",
       "      <th>7</th>\n",
       "      <td>0.902605</td>\n",
       "      <td>0.867354</td>\n",
       "      <td>0.974948</td>\n",
       "      <td>0.914969</td>\n",
       "      <td>1</td>\n",
       "      <td>0</td>\n",
       "    </tr>\n",
       "    <tr>\n",
       "      <th>8</th>\n",
       "      <td>0.625386</td>\n",
       "      <td>0.697828</td>\n",
       "      <td>0.903514</td>\n",
       "      <td>0.742243</td>\n",
       "      <td>1</td>\n",
       "      <td>0</td>\n",
       "    </tr>\n",
       "    <tr>\n",
       "      <th>9</th>\n",
       "      <td>0.865099</td>\n",
       "      <td>0.794973</td>\n",
       "      <td>0.654576</td>\n",
       "      <td>0.771549</td>\n",
       "      <td>1</td>\n",
       "      <td>0</td>\n",
       "    </tr>\n",
       "    <tr>\n",
       "      <th>10</th>\n",
       "      <td>0.966500</td>\n",
       "      <td>0.986012</td>\n",
       "      <td>0.984901</td>\n",
       "      <td>0.979138</td>\n",
       "      <td>1</td>\n",
       "      <td>0</td>\n",
       "    </tr>\n",
       "    <tr>\n",
       "      <th>11</th>\n",
       "      <td>0.949345</td>\n",
       "      <td>0.904576</td>\n",
       "      <td>0.962650</td>\n",
       "      <td>0.938857</td>\n",
       "      <td>1</td>\n",
       "      <td>0</td>\n",
       "    </tr>\n",
       "    <tr>\n",
       "      <th>12</th>\n",
       "      <td>0.916585</td>\n",
       "      <td>0.940988</td>\n",
       "      <td>0.727531</td>\n",
       "      <td>0.861701</td>\n",
       "      <td>1</td>\n",
       "      <td>0</td>\n",
       "    </tr>\n",
       "    <tr>\n",
       "      <th>13</th>\n",
       "      <td>0.898446</td>\n",
       "      <td>0.930900</td>\n",
       "      <td>0.868999</td>\n",
       "      <td>0.899448</td>\n",
       "      <td>1</td>\n",
       "      <td>0</td>\n",
       "    </tr>\n",
       "    <tr>\n",
       "      <th>14</th>\n",
       "      <td>0.985443</td>\n",
       "      <td>0.998498</td>\n",
       "      <td>0.823402</td>\n",
       "      <td>0.935781</td>\n",
       "      <td>1</td>\n",
       "      <td>0</td>\n",
       "    </tr>\n",
       "    <tr>\n",
       "      <th>15</th>\n",
       "      <td>0.942969</td>\n",
       "      <td>0.762545</td>\n",
       "      <td>0.986826</td>\n",
       "      <td>0.897447</td>\n",
       "      <td>1</td>\n",
       "      <td>0</td>\n",
       "    </tr>\n",
       "    <tr>\n",
       "      <th>17</th>\n",
       "      <td>0.659992</td>\n",
       "      <td>0.683749</td>\n",
       "      <td>0.440179</td>\n",
       "      <td>0.594640</td>\n",
       "      <td>1</td>\n",
       "      <td>0</td>\n",
       "    </tr>\n",
       "    <tr>\n",
       "      <th>18</th>\n",
       "      <td>0.888271</td>\n",
       "      <td>0.964645</td>\n",
       "      <td>0.920021</td>\n",
       "      <td>0.924312</td>\n",
       "      <td>1</td>\n",
       "      <td>0</td>\n",
       "    </tr>\n",
       "    <tr>\n",
       "      <th>19</th>\n",
       "      <td>0.746273</td>\n",
       "      <td>0.591953</td>\n",
       "      <td>0.542144</td>\n",
       "      <td>0.626790</td>\n",
       "      <td>1</td>\n",
       "      <td>0</td>\n",
       "    </tr>\n",
       "    <tr>\n",
       "      <th>20</th>\n",
       "      <td>0.938037</td>\n",
       "      <td>0.684935</td>\n",
       "      <td>0.694813</td>\n",
       "      <td>0.772595</td>\n",
       "      <td>1</td>\n",
       "      <td>0</td>\n",
       "    </tr>\n",
       "    <tr>\n",
       "      <th>21</th>\n",
       "      <td>0.990512</td>\n",
       "      <td>0.891509</td>\n",
       "      <td>0.920089</td>\n",
       "      <td>0.934037</td>\n",
       "      <td>1</td>\n",
       "      <td>0</td>\n",
       "    </tr>\n",
       "    <tr>\n",
       "      <th>22</th>\n",
       "      <td>0.728342</td>\n",
       "      <td>0.783792</td>\n",
       "      <td>0.705507</td>\n",
       "      <td>0.739213</td>\n",
       "      <td>1</td>\n",
       "      <td>0</td>\n",
       "    </tr>\n",
       "    <tr>\n",
       "      <th>23</th>\n",
       "      <td>0.787461</td>\n",
       "      <td>0.429282</td>\n",
       "      <td>0.464743</td>\n",
       "      <td>0.560495</td>\n",
       "      <td>1</td>\n",
       "      <td>0</td>\n",
       "    </tr>\n",
       "    <tr>\n",
       "      <th>34</th>\n",
       "      <td>0.524897</td>\n",
       "      <td>0.536969</td>\n",
       "      <td>0.326937</td>\n",
       "      <td>0.462934</td>\n",
       "      <td>0</td>\n",
       "      <td>1</td>\n",
       "    </tr>\n",
       "    <tr>\n",
       "      <th>87</th>\n",
       "      <td>0.883853</td>\n",
       "      <td>0.868096</td>\n",
       "      <td>0.651847</td>\n",
       "      <td>0.801266</td>\n",
       "      <td>1</td>\n",
       "      <td>0</td>\n",
       "    </tr>\n",
       "  </tbody>\n",
       "</table>\n",
       "</div>"
      ],
      "text/plain": [
       "    cor_pred  axl_pred  sag_pred      mean  predict  true\n",
       "0   0.833905  0.335221  0.371288  0.513471        1     0\n",
       "1   0.744632  0.675251  0.855387  0.758423        1     0\n",
       "2   0.908022  0.639049  0.519402  0.688824        1     0\n",
       "4   0.977487  0.960933  0.938707  0.959042        1     0\n",
       "5   0.937433  0.905104  0.867707  0.903415        1     0\n",
       "7   0.902605  0.867354  0.974948  0.914969        1     0\n",
       "8   0.625386  0.697828  0.903514  0.742243        1     0\n",
       "9   0.865099  0.794973  0.654576  0.771549        1     0\n",
       "10  0.966500  0.986012  0.984901  0.979138        1     0\n",
       "11  0.949345  0.904576  0.962650  0.938857        1     0\n",
       "12  0.916585  0.940988  0.727531  0.861701        1     0\n",
       "13  0.898446  0.930900  0.868999  0.899448        1     0\n",
       "14  0.985443  0.998498  0.823402  0.935781        1     0\n",
       "15  0.942969  0.762545  0.986826  0.897447        1     0\n",
       "17  0.659992  0.683749  0.440179  0.594640        1     0\n",
       "18  0.888271  0.964645  0.920021  0.924312        1     0\n",
       "19  0.746273  0.591953  0.542144  0.626790        1     0\n",
       "20  0.938037  0.684935  0.694813  0.772595        1     0\n",
       "21  0.990512  0.891509  0.920089  0.934037        1     0\n",
       "22  0.728342  0.783792  0.705507  0.739213        1     0\n",
       "23  0.787461  0.429282  0.464743  0.560495        1     0\n",
       "34  0.524897  0.536969  0.326937  0.462934        0     1\n",
       "87  0.883853  0.868096  0.651847  0.801266        1     0"
      ]
     },
     "execution_count": 58,
     "metadata": {},
     "output_type": "execute_result"
    }
   ],
   "source": [
    "pred_ab[pred_ab['true'] != pred_ab['predict']]"
   ]
  },
  {
   "cell_type": "markdown",
   "id": "f0047aaa",
   "metadata": {},
   "source": [
    "### acl dataset"
   ]
  },
  {
   "cell_type": "code",
   "execution_count": 59,
   "id": "3ee563ac",
   "metadata": {},
   "outputs": [],
   "source": [
    "cor_pred = cor_acl_model.predict(coronal_acl_val) \n",
    "axl_pred = axl_acl_model.predict(axial_acl_val) \n",
    "sag_pred = sag_acl_model.predict(sagittal_acl_val) \n",
    "\n",
    "pred_acl = pd.DataFrame(np.column_stack([cor_pred,axl_pred,sag_pred]),columns=['cor_pred', 'axl_pred', 'sag_pred'])\n",
    "pred_acl['mean'] = pred_acl.mean(axis=1)"
   ]
  },
  {
   "cell_type": "code",
   "execution_count": 60,
   "id": "8be48c3b",
   "metadata": {},
   "outputs": [
    {
     "data": {
      "text/plain": [
       "0    117\n",
       "1      3\n",
       "Name: predict, dtype: int64"
      ]
     },
     "execution_count": 60,
     "metadata": {},
     "output_type": "execute_result"
    }
   ],
   "source": [
    "# if prob<0.5, it is 0.\n",
    "pred_acl['predict'] = pred_acl['mean'].map(lambda x: 0 if x<0.5 else 1)\n",
    "pred_acl['predict'].value_counts()"
   ]
  },
  {
   "cell_type": "code",
   "execution_count": 61,
   "id": "caa4aa6d",
   "metadata": {},
   "outputs": [
    {
     "data": {
      "text/plain": [
       "(51, 6)"
      ]
     },
     "execution_count": 61,
     "metadata": {},
     "output_type": "execute_result"
    }
   ],
   "source": [
    "pred_acl['true'] = coronal_acl_label_val \n",
    "pred_acl[pred_acl['true'] != pred_acl['predict']].shape"
   ]
  },
  {
   "cell_type": "code",
   "execution_count": 62,
   "id": "07dd3b10",
   "metadata": {},
   "outputs": [
    {
     "data": {
      "text/html": [
       "<div>\n",
       "<style scoped>\n",
       "    .dataframe tbody tr th:only-of-type {\n",
       "        vertical-align: middle;\n",
       "    }\n",
       "\n",
       "    .dataframe tbody tr th {\n",
       "        vertical-align: top;\n",
       "    }\n",
       "\n",
       "    .dataframe thead th {\n",
       "        text-align: right;\n",
       "    }\n",
       "</style>\n",
       "<table border=\"1\" class=\"dataframe\">\n",
       "  <thead>\n",
       "    <tr style=\"text-align: right;\">\n",
       "      <th></th>\n",
       "      <th>cor_pred</th>\n",
       "      <th>axl_pred</th>\n",
       "      <th>sag_pred</th>\n",
       "      <th>mean</th>\n",
       "      <th>predict</th>\n",
       "      <th>true</th>\n",
       "    </tr>\n",
       "  </thead>\n",
       "  <tbody>\n",
       "    <tr>\n",
       "      <th>42</th>\n",
       "      <td>0.158840</td>\n",
       "      <td>0.097079</td>\n",
       "      <td>0.246321</td>\n",
       "      <td>0.167413</td>\n",
       "      <td>0</td>\n",
       "      <td>1</td>\n",
       "    </tr>\n",
       "    <tr>\n",
       "      <th>43</th>\n",
       "      <td>0.173407</td>\n",
       "      <td>0.153545</td>\n",
       "      <td>0.117432</td>\n",
       "      <td>0.148128</td>\n",
       "      <td>0</td>\n",
       "      <td>1</td>\n",
       "    </tr>\n",
       "    <tr>\n",
       "      <th>44</th>\n",
       "      <td>0.185602</td>\n",
       "      <td>0.471395</td>\n",
       "      <td>0.516063</td>\n",
       "      <td>0.391020</td>\n",
       "      <td>0</td>\n",
       "      <td>1</td>\n",
       "    </tr>\n",
       "    <tr>\n",
       "      <th>45</th>\n",
       "      <td>0.088944</td>\n",
       "      <td>0.220149</td>\n",
       "      <td>0.634968</td>\n",
       "      <td>0.314687</td>\n",
       "      <td>0</td>\n",
       "      <td>1</td>\n",
       "    </tr>\n",
       "    <tr>\n",
       "      <th>46</th>\n",
       "      <td>0.142490</td>\n",
       "      <td>0.104702</td>\n",
       "      <td>0.501313</td>\n",
       "      <td>0.249501</td>\n",
       "      <td>0</td>\n",
       "      <td>1</td>\n",
       "    </tr>\n",
       "    <tr>\n",
       "      <th>47</th>\n",
       "      <td>0.205871</td>\n",
       "      <td>0.699873</td>\n",
       "      <td>0.310238</td>\n",
       "      <td>0.405327</td>\n",
       "      <td>0</td>\n",
       "      <td>1</td>\n",
       "    </tr>\n",
       "    <tr>\n",
       "      <th>48</th>\n",
       "      <td>0.140615</td>\n",
       "      <td>0.011972</td>\n",
       "      <td>0.410829</td>\n",
       "      <td>0.187805</td>\n",
       "      <td>0</td>\n",
       "      <td>1</td>\n",
       "    </tr>\n",
       "    <tr>\n",
       "      <th>49</th>\n",
       "      <td>0.179222</td>\n",
       "      <td>0.275993</td>\n",
       "      <td>0.365875</td>\n",
       "      <td>0.273697</td>\n",
       "      <td>0</td>\n",
       "      <td>1</td>\n",
       "    </tr>\n",
       "    <tr>\n",
       "      <th>51</th>\n",
       "      <td>0.175940</td>\n",
       "      <td>0.155916</td>\n",
       "      <td>0.308284</td>\n",
       "      <td>0.213380</td>\n",
       "      <td>0</td>\n",
       "      <td>1</td>\n",
       "    </tr>\n",
       "    <tr>\n",
       "      <th>52</th>\n",
       "      <td>0.142279</td>\n",
       "      <td>0.020172</td>\n",
       "      <td>0.731066</td>\n",
       "      <td>0.297839</td>\n",
       "      <td>0</td>\n",
       "      <td>1</td>\n",
       "    </tr>\n",
       "    <tr>\n",
       "      <th>53</th>\n",
       "      <td>0.194690</td>\n",
       "      <td>0.051324</td>\n",
       "      <td>0.059683</td>\n",
       "      <td>0.101899</td>\n",
       "      <td>0</td>\n",
       "      <td>1</td>\n",
       "    </tr>\n",
       "    <tr>\n",
       "      <th>54</th>\n",
       "      <td>0.279240</td>\n",
       "      <td>0.551189</td>\n",
       "      <td>0.394868</td>\n",
       "      <td>0.408432</td>\n",
       "      <td>0</td>\n",
       "      <td>1</td>\n",
       "    </tr>\n",
       "    <tr>\n",
       "      <th>55</th>\n",
       "      <td>0.166482</td>\n",
       "      <td>0.691445</td>\n",
       "      <td>0.600564</td>\n",
       "      <td>0.486164</td>\n",
       "      <td>0</td>\n",
       "      <td>1</td>\n",
       "    </tr>\n",
       "    <tr>\n",
       "      <th>56</th>\n",
       "      <td>0.182602</td>\n",
       "      <td>0.094576</td>\n",
       "      <td>0.187027</td>\n",
       "      <td>0.154735</td>\n",
       "      <td>0</td>\n",
       "      <td>1</td>\n",
       "    </tr>\n",
       "    <tr>\n",
       "      <th>57</th>\n",
       "      <td>0.282364</td>\n",
       "      <td>0.031866</td>\n",
       "      <td>0.054346</td>\n",
       "      <td>0.122859</td>\n",
       "      <td>0</td>\n",
       "      <td>1</td>\n",
       "    </tr>\n",
       "    <tr>\n",
       "      <th>60</th>\n",
       "      <td>0.150884</td>\n",
       "      <td>0.651839</td>\n",
       "      <td>0.623405</td>\n",
       "      <td>0.475376</td>\n",
       "      <td>0</td>\n",
       "      <td>1</td>\n",
       "    </tr>\n",
       "    <tr>\n",
       "      <th>61</th>\n",
       "      <td>0.192094</td>\n",
       "      <td>0.503055</td>\n",
       "      <td>0.547664</td>\n",
       "      <td>0.414271</td>\n",
       "      <td>0</td>\n",
       "      <td>1</td>\n",
       "    </tr>\n",
       "    <tr>\n",
       "      <th>62</th>\n",
       "      <td>0.188747</td>\n",
       "      <td>0.298167</td>\n",
       "      <td>0.190760</td>\n",
       "      <td>0.225892</td>\n",
       "      <td>0</td>\n",
       "      <td>1</td>\n",
       "    </tr>\n",
       "    <tr>\n",
       "      <th>63</th>\n",
       "      <td>0.249694</td>\n",
       "      <td>0.148871</td>\n",
       "      <td>0.338185</td>\n",
       "      <td>0.245583</td>\n",
       "      <td>0</td>\n",
       "      <td>1</td>\n",
       "    </tr>\n",
       "    <tr>\n",
       "      <th>64</th>\n",
       "      <td>0.157046</td>\n",
       "      <td>0.093721</td>\n",
       "      <td>0.174296</td>\n",
       "      <td>0.141688</td>\n",
       "      <td>0</td>\n",
       "      <td>1</td>\n",
       "    </tr>\n",
       "    <tr>\n",
       "      <th>65</th>\n",
       "      <td>0.208817</td>\n",
       "      <td>0.012958</td>\n",
       "      <td>0.270353</td>\n",
       "      <td>0.164043</td>\n",
       "      <td>0</td>\n",
       "      <td>1</td>\n",
       "    </tr>\n",
       "    <tr>\n",
       "      <th>66</th>\n",
       "      <td>0.238602</td>\n",
       "      <td>0.479250</td>\n",
       "      <td>0.440939</td>\n",
       "      <td>0.386264</td>\n",
       "      <td>0</td>\n",
       "      <td>1</td>\n",
       "    </tr>\n",
       "    <tr>\n",
       "      <th>67</th>\n",
       "      <td>0.198868</td>\n",
       "      <td>0.051241</td>\n",
       "      <td>0.295922</td>\n",
       "      <td>0.182010</td>\n",
       "      <td>0</td>\n",
       "      <td>1</td>\n",
       "    </tr>\n",
       "    <tr>\n",
       "      <th>68</th>\n",
       "      <td>0.249017</td>\n",
       "      <td>0.915547</td>\n",
       "      <td>0.214795</td>\n",
       "      <td>0.459786</td>\n",
       "      <td>0</td>\n",
       "      <td>1</td>\n",
       "    </tr>\n",
       "    <tr>\n",
       "      <th>69</th>\n",
       "      <td>0.176033</td>\n",
       "      <td>0.197911</td>\n",
       "      <td>0.565740</td>\n",
       "      <td>0.313228</td>\n",
       "      <td>0</td>\n",
       "      <td>1</td>\n",
       "    </tr>\n",
       "    <tr>\n",
       "      <th>70</th>\n",
       "      <td>0.112589</td>\n",
       "      <td>0.545083</td>\n",
       "      <td>0.293627</td>\n",
       "      <td>0.317099</td>\n",
       "      <td>0</td>\n",
       "      <td>1</td>\n",
       "    </tr>\n",
       "    <tr>\n",
       "      <th>71</th>\n",
       "      <td>0.201887</td>\n",
       "      <td>0.178596</td>\n",
       "      <td>0.252881</td>\n",
       "      <td>0.211121</td>\n",
       "      <td>0</td>\n",
       "      <td>1</td>\n",
       "    </tr>\n",
       "    <tr>\n",
       "      <th>72</th>\n",
       "      <td>0.295936</td>\n",
       "      <td>0.589941</td>\n",
       "      <td>0.546029</td>\n",
       "      <td>0.477302</td>\n",
       "      <td>0</td>\n",
       "      <td>1</td>\n",
       "    </tr>\n",
       "    <tr>\n",
       "      <th>73</th>\n",
       "      <td>0.197423</td>\n",
       "      <td>0.610390</td>\n",
       "      <td>0.530600</td>\n",
       "      <td>0.446138</td>\n",
       "      <td>0</td>\n",
       "      <td>1</td>\n",
       "    </tr>\n",
       "    <tr>\n",
       "      <th>74</th>\n",
       "      <td>0.237576</td>\n",
       "      <td>0.665782</td>\n",
       "      <td>0.489195</td>\n",
       "      <td>0.464184</td>\n",
       "      <td>0</td>\n",
       "      <td>1</td>\n",
       "    </tr>\n",
       "    <tr>\n",
       "      <th>75</th>\n",
       "      <td>0.149316</td>\n",
       "      <td>0.468060</td>\n",
       "      <td>0.227966</td>\n",
       "      <td>0.281781</td>\n",
       "      <td>0</td>\n",
       "      <td>1</td>\n",
       "    </tr>\n",
       "    <tr>\n",
       "      <th>76</th>\n",
       "      <td>0.160692</td>\n",
       "      <td>0.595174</td>\n",
       "      <td>0.340193</td>\n",
       "      <td>0.365353</td>\n",
       "      <td>0</td>\n",
       "      <td>1</td>\n",
       "    </tr>\n",
       "    <tr>\n",
       "      <th>78</th>\n",
       "      <td>0.251397</td>\n",
       "      <td>0.371706</td>\n",
       "      <td>0.436793</td>\n",
       "      <td>0.353299</td>\n",
       "      <td>0</td>\n",
       "      <td>1</td>\n",
       "    </tr>\n",
       "    <tr>\n",
       "      <th>80</th>\n",
       "      <td>0.219477</td>\n",
       "      <td>0.090339</td>\n",
       "      <td>0.620984</td>\n",
       "      <td>0.310267</td>\n",
       "      <td>0</td>\n",
       "      <td>1</td>\n",
       "    </tr>\n",
       "    <tr>\n",
       "      <th>81</th>\n",
       "      <td>0.194192</td>\n",
       "      <td>0.326574</td>\n",
       "      <td>0.325272</td>\n",
       "      <td>0.282012</td>\n",
       "      <td>0</td>\n",
       "      <td>1</td>\n",
       "    </tr>\n",
       "    <tr>\n",
       "      <th>82</th>\n",
       "      <td>0.152601</td>\n",
       "      <td>0.266384</td>\n",
       "      <td>0.269571</td>\n",
       "      <td>0.229519</td>\n",
       "      <td>0</td>\n",
       "      <td>1</td>\n",
       "    </tr>\n",
       "    <tr>\n",
       "      <th>83</th>\n",
       "      <td>0.314898</td>\n",
       "      <td>0.511773</td>\n",
       "      <td>0.435560</td>\n",
       "      <td>0.420744</td>\n",
       "      <td>0</td>\n",
       "      <td>1</td>\n",
       "    </tr>\n",
       "    <tr>\n",
       "      <th>84</th>\n",
       "      <td>0.212414</td>\n",
       "      <td>0.141548</td>\n",
       "      <td>0.164825</td>\n",
       "      <td>0.172929</td>\n",
       "      <td>0</td>\n",
       "      <td>1</td>\n",
       "    </tr>\n",
       "    <tr>\n",
       "      <th>85</th>\n",
       "      <td>0.177981</td>\n",
       "      <td>0.512792</td>\n",
       "      <td>0.448103</td>\n",
       "      <td>0.379625</td>\n",
       "      <td>0</td>\n",
       "      <td>1</td>\n",
       "    </tr>\n",
       "    <tr>\n",
       "      <th>86</th>\n",
       "      <td>0.194996</td>\n",
       "      <td>0.079688</td>\n",
       "      <td>0.216849</td>\n",
       "      <td>0.163844</td>\n",
       "      <td>0</td>\n",
       "      <td>1</td>\n",
       "    </tr>\n",
       "    <tr>\n",
       "      <th>88</th>\n",
       "      <td>0.101403</td>\n",
       "      <td>0.035630</td>\n",
       "      <td>0.053663</td>\n",
       "      <td>0.063565</td>\n",
       "      <td>0</td>\n",
       "      <td>1</td>\n",
       "    </tr>\n",
       "    <tr>\n",
       "      <th>89</th>\n",
       "      <td>0.187597</td>\n",
       "      <td>0.116239</td>\n",
       "      <td>0.089342</td>\n",
       "      <td>0.131059</td>\n",
       "      <td>0</td>\n",
       "      <td>1</td>\n",
       "    </tr>\n",
       "    <tr>\n",
       "      <th>90</th>\n",
       "      <td>0.109010</td>\n",
       "      <td>0.550994</td>\n",
       "      <td>0.712481</td>\n",
       "      <td>0.457495</td>\n",
       "      <td>0</td>\n",
       "      <td>1</td>\n",
       "    </tr>\n",
       "    <tr>\n",
       "      <th>94</th>\n",
       "      <td>0.108084</td>\n",
       "      <td>0.254061</td>\n",
       "      <td>0.391869</td>\n",
       "      <td>0.251338</td>\n",
       "      <td>0</td>\n",
       "      <td>1</td>\n",
       "    </tr>\n",
       "    <tr>\n",
       "      <th>95</th>\n",
       "      <td>0.168900</td>\n",
       "      <td>0.236586</td>\n",
       "      <td>0.074967</td>\n",
       "      <td>0.160151</td>\n",
       "      <td>0</td>\n",
       "      <td>1</td>\n",
       "    </tr>\n",
       "    <tr>\n",
       "      <th>98</th>\n",
       "      <td>0.176271</td>\n",
       "      <td>0.080769</td>\n",
       "      <td>0.316049</td>\n",
       "      <td>0.191030</td>\n",
       "      <td>0</td>\n",
       "      <td>1</td>\n",
       "    </tr>\n",
       "    <tr>\n",
       "      <th>99</th>\n",
       "      <td>0.149006</td>\n",
       "      <td>0.504205</td>\n",
       "      <td>0.216614</td>\n",
       "      <td>0.289942</td>\n",
       "      <td>0</td>\n",
       "      <td>1</td>\n",
       "    </tr>\n",
       "    <tr>\n",
       "      <th>107</th>\n",
       "      <td>0.101568</td>\n",
       "      <td>0.017207</td>\n",
       "      <td>0.105914</td>\n",
       "      <td>0.074896</td>\n",
       "      <td>0</td>\n",
       "      <td>1</td>\n",
       "    </tr>\n",
       "    <tr>\n",
       "      <th>115</th>\n",
       "      <td>0.280479</td>\n",
       "      <td>0.176055</td>\n",
       "      <td>0.163108</td>\n",
       "      <td>0.206547</td>\n",
       "      <td>0</td>\n",
       "      <td>1</td>\n",
       "    </tr>\n",
       "    <tr>\n",
       "      <th>116</th>\n",
       "      <td>0.242702</td>\n",
       "      <td>0.068837</td>\n",
       "      <td>0.197942</td>\n",
       "      <td>0.169827</td>\n",
       "      <td>0</td>\n",
       "      <td>1</td>\n",
       "    </tr>\n",
       "    <tr>\n",
       "      <th>118</th>\n",
       "      <td>0.163309</td>\n",
       "      <td>0.113875</td>\n",
       "      <td>0.403722</td>\n",
       "      <td>0.226969</td>\n",
       "      <td>0</td>\n",
       "      <td>1</td>\n",
       "    </tr>\n",
       "  </tbody>\n",
       "</table>\n",
       "</div>"
      ],
      "text/plain": [
       "     cor_pred  axl_pred  sag_pred      mean  predict  true\n",
       "42   0.158840  0.097079  0.246321  0.167413        0     1\n",
       "43   0.173407  0.153545  0.117432  0.148128        0     1\n",
       "44   0.185602  0.471395  0.516063  0.391020        0     1\n",
       "45   0.088944  0.220149  0.634968  0.314687        0     1\n",
       "46   0.142490  0.104702  0.501313  0.249501        0     1\n",
       "47   0.205871  0.699873  0.310238  0.405327        0     1\n",
       "48   0.140615  0.011972  0.410829  0.187805        0     1\n",
       "49   0.179222  0.275993  0.365875  0.273697        0     1\n",
       "51   0.175940  0.155916  0.308284  0.213380        0     1\n",
       "52   0.142279  0.020172  0.731066  0.297839        0     1\n",
       "53   0.194690  0.051324  0.059683  0.101899        0     1\n",
       "54   0.279240  0.551189  0.394868  0.408432        0     1\n",
       "55   0.166482  0.691445  0.600564  0.486164        0     1\n",
       "56   0.182602  0.094576  0.187027  0.154735        0     1\n",
       "57   0.282364  0.031866  0.054346  0.122859        0     1\n",
       "60   0.150884  0.651839  0.623405  0.475376        0     1\n",
       "61   0.192094  0.503055  0.547664  0.414271        0     1\n",
       "62   0.188747  0.298167  0.190760  0.225892        0     1\n",
       "63   0.249694  0.148871  0.338185  0.245583        0     1\n",
       "64   0.157046  0.093721  0.174296  0.141688        0     1\n",
       "65   0.208817  0.012958  0.270353  0.164043        0     1\n",
       "66   0.238602  0.479250  0.440939  0.386264        0     1\n",
       "67   0.198868  0.051241  0.295922  0.182010        0     1\n",
       "68   0.249017  0.915547  0.214795  0.459786        0     1\n",
       "69   0.176033  0.197911  0.565740  0.313228        0     1\n",
       "70   0.112589  0.545083  0.293627  0.317099        0     1\n",
       "71   0.201887  0.178596  0.252881  0.211121        0     1\n",
       "72   0.295936  0.589941  0.546029  0.477302        0     1\n",
       "73   0.197423  0.610390  0.530600  0.446138        0     1\n",
       "74   0.237576  0.665782  0.489195  0.464184        0     1\n",
       "75   0.149316  0.468060  0.227966  0.281781        0     1\n",
       "76   0.160692  0.595174  0.340193  0.365353        0     1\n",
       "78   0.251397  0.371706  0.436793  0.353299        0     1\n",
       "80   0.219477  0.090339  0.620984  0.310267        0     1\n",
       "81   0.194192  0.326574  0.325272  0.282012        0     1\n",
       "82   0.152601  0.266384  0.269571  0.229519        0     1\n",
       "83   0.314898  0.511773  0.435560  0.420744        0     1\n",
       "84   0.212414  0.141548  0.164825  0.172929        0     1\n",
       "85   0.177981  0.512792  0.448103  0.379625        0     1\n",
       "86   0.194996  0.079688  0.216849  0.163844        0     1\n",
       "88   0.101403  0.035630  0.053663  0.063565        0     1\n",
       "89   0.187597  0.116239  0.089342  0.131059        0     1\n",
       "90   0.109010  0.550994  0.712481  0.457495        0     1\n",
       "94   0.108084  0.254061  0.391869  0.251338        0     1\n",
       "95   0.168900  0.236586  0.074967  0.160151        0     1\n",
       "98   0.176271  0.080769  0.316049  0.191030        0     1\n",
       "99   0.149006  0.504205  0.216614  0.289942        0     1\n",
       "107  0.101568  0.017207  0.105914  0.074896        0     1\n",
       "115  0.280479  0.176055  0.163108  0.206547        0     1\n",
       "116  0.242702  0.068837  0.197942  0.169827        0     1\n",
       "118  0.163309  0.113875  0.403722  0.226969        0     1"
      ]
     },
     "execution_count": 62,
     "metadata": {},
     "output_type": "execute_result"
    }
   ],
   "source": [
    "pred_acl[pred_acl['true'] != pred_acl['predict']]"
   ]
  },
  {
   "cell_type": "markdown",
   "id": "0ddc2aa8",
   "metadata": {},
   "source": [
    "**export results to csv**"
   ]
  },
  {
   "cell_type": "code",
   "execution_count": 63,
   "id": "21ea5f3c",
   "metadata": {},
   "outputs": [],
   "source": [
    "pred_ab.to_csv('../data/own_pred_ab_results.csv')\n",
    "pred_acl.to_csv('../data/own_pred_acl_results.csv')\n",
    "pred_men.to_csv('../data/own_pred_men_results.csv')"
   ]
  },
  {
   "cell_type": "code",
   "execution_count": null,
   "id": "f4eaea7e",
   "metadata": {},
   "outputs": [],
   "source": []
  }
 ],
 "metadata": {
  "kernelspec": {
   "display_name": "Python 3",
   "language": "python",
   "name": "python3"
  },
  "language_info": {
   "codemirror_mode": {
    "name": "ipython",
    "version": 3
   },
   "file_extension": ".py",
   "mimetype": "text/x-python",
   "name": "python",
   "nbconvert_exporter": "python",
   "pygments_lexer": "ipython3",
   "version": "3.8.8"
  },
  "toc": {
   "base_numbering": 1,
   "nav_menu": {},
   "number_sections": true,
   "sideBar": true,
   "skip_h1_title": false,
   "title_cell": "Table of Contents",
   "title_sidebar": "Contents",
   "toc_cell": false,
   "toc_position": {
    "height": "747px",
    "left": "279px",
    "top": "323.133px",
    "width": "384px"
   },
   "toc_section_display": true,
   "toc_window_display": true
  }
 },
 "nbformat": 4,
 "nbformat_minor": 5
}
