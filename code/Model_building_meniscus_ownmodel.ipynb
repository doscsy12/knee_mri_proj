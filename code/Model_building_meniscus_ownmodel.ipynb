{
 "cells": [
  {
   "cell_type": "markdown",
   "id": "4c2b325d",
   "metadata": {},
   "source": [
    "# Capstone: Development of an algorithm for automatic detection of meniscus tears in radiographic images of the knee."
   ]
  },
  {
   "cell_type": "markdown",
   "id": "dbc740b2",
   "metadata": {},
   "source": [
    "### Contents:\n",
    "- [Background](#Background)\n",
    "- [Data](#Data)\n",
    "- [Building own models](#Building-own-models)\n",
    "- [Evaluate results](#Evaluate-results)\n",
    "\n"
   ]
  },
  {
   "cell_type": "code",
   "execution_count": 45,
   "id": "68e9dab3",
   "metadata": {},
   "outputs": [],
   "source": [
    "# Import libraries here\n",
    "import os\n",
    "import tempfile\n",
    "import numpy as np\n",
    "import pandas as pd\n",
    "import matplotlib.pyplot as plt\n",
    "import seaborn as sns\n",
    "from glob import glob\n",
    "\n",
    "import random as random\n",
    "import imageio\n",
    "import imgaug as ia\n",
    "import tensorflow as tf\n",
    "from tensorflow import keras\n",
    "from tensorflow.keras.preprocessing.image import save_img, load_img, img_to_array\n",
    "from tensorflow.keras.models import Sequential,  Model, load_model\n",
    "from tensorflow.keras.layers import Dense, Dropout, Flatten, Conv2D, MaxPooling2D, Average, Input, Activation, Reshape, TimeDistributed\n",
    "from tensorflow.keras.layers import BatchNormalization\n",
    "from tensorflow.keras import regularizers, optimizers\n",
    "from tensorflow.keras.callbacks import ModelCheckpoint, EarlyStopping, TensorBoard\n",
    "from tensorflow.keras import models\n",
    "from tensorflow.keras import layers\n",
    "from tensorflow.keras.regularizers import l2\n",
    "from tensorflow.keras import utils\n",
    "from tensorflow.keras.utils import plot_model\n",
    "pd.options.mode.chained_assignment = None  # default='warn'\n",
    "\n"
   ]
  },
  {
   "cell_type": "markdown",
   "id": "4d18c603",
   "metadata": {},
   "source": [
    "**Data from [MRNet](https://stanfordmlgroup.github.io/competitions/mrnet/):** \n",
    "* Images of 1370 knee MRI exams performed at Stanford University Medical Center. The dataset contains 1,104 (80.6%) abnormal exams,  with 319 (23.3%) ACL tears and 508 (37.1%) meniscal tears; labels were obtained through manual extraction from clinical reports. \n",
    "* train set: consists of 1130 MRI images from coronal, sagittal and transverse planes\n",
    "* valdation set: consists of 120 MRI images from coronal, sagittal and transverse planes\n"
   ]
  },
  {
   "cell_type": "markdown",
   "id": "a07d701a",
   "metadata": {},
   "source": [
    "## Data import"
   ]
  },
  {
   "cell_type": "markdown",
   "id": "64823312",
   "metadata": {},
   "source": [
    "**import data and get labels**"
   ]
  },
  {
   "cell_type": "code",
   "execution_count": 2,
   "id": "47cfdcef",
   "metadata": {},
   "outputs": [],
   "source": [
    "train_path = '../data/train/'\n",
    "valid_path = '../data/valid/'"
   ]
  },
  {
   "cell_type": "code",
   "execution_count": 3,
   "id": "16c4233d",
   "metadata": {},
   "outputs": [],
   "source": [
    "datasets = {'train': train_path, 'valid': valid_path}\n",
    "planes = ['axial', 'coronal', 'sagittal']\n",
    "# diagnosis = ['abnormal','meniscus','acl']"
   ]
  },
  {
   "cell_type": "code",
   "execution_count": 4,
   "id": "a1693737",
   "metadata": {},
   "outputs": [],
   "source": [
    "def get_data(dataset_type, plane, diagnosis):\n",
    "    # for eg, (train, sagittal, acl)\n",
    "    if dataset_type == 'train':\n",
    "        go = train_path\n",
    "    else:\n",
    "        go = valid_path\n",
    "        \n",
    "#     img_path = glob(f'{go}/{plane}/*.npy')\n",
    "    plane_dir = f'{go}/{plane}'\n",
    "    data = os.listdir(plane_dir)\n",
    "    \n",
    "    label_path = f'../data/{dataset_type}-{diagnosis}.csv'\n",
    "#     label_path = f'data/{dataset_type}-{diagnosis}.csv'\n",
    "    label_df = pd.read_csv(label_path, names=['nr', diagnosis])\n",
    "    label_data = list(label_df[diagnosis])\n",
    "    \n",
    "    return(data, plane_dir, label_data)"
   ]
  },
  {
   "cell_type": "markdown",
   "id": "f4fbb8f0",
   "metadata": {},
   "source": [
    "**meniscus dataset**"
   ]
  },
  {
   "cell_type": "code",
   "execution_count": 5,
   "id": "ab41e366",
   "metadata": {},
   "outputs": [],
   "source": [
    "# training data\n",
    "train_coronal_data, train_coronal_dir, train_men_label = get_data('train', 'coronal', 'meniscus')\n",
    "train_axial_data, train_axial_dir, train_men_label = get_data('train', 'axial', 'meniscus')\n",
    "train_sagittal_data, train_sagittal_dir, train_men_label = get_data('train', 'sagittal', 'meniscus')"
   ]
  },
  {
   "cell_type": "code",
   "execution_count": 6,
   "id": "ceed3ce2",
   "metadata": {},
   "outputs": [],
   "source": [
    "# validation data\n",
    "valid_coronal_data, valid_coronal_dir, valid_men_label = get_data('valid','coronal','meniscus')\n",
    "valid_axial_data, valid_axial_dir, valid_men_label = get_data('valid','axial','meniscus')\n",
    "valid_sagittal_data, valid_sagittal_dir, valid_men_label = get_data('valid','sagittal','meniscus')"
   ]
  },
  {
   "cell_type": "code",
   "execution_count": 7,
   "id": "a3a43187",
   "metadata": {},
   "outputs": [
    {
     "data": {
      "text/plain": [
       "'0000.npy'"
      ]
     },
     "execution_count": 7,
     "metadata": {},
     "output_type": "execute_result"
    }
   ],
   "source": [
    "train_coronal_data[0]"
   ]
  },
  {
   "cell_type": "code",
   "execution_count": 8,
   "id": "d2f5548e",
   "metadata": {},
   "outputs": [
    {
     "data": {
      "text/plain": [
       "'../data/train//coronal'"
      ]
     },
     "execution_count": 8,
     "metadata": {},
     "output_type": "execute_result"
    }
   ],
   "source": [
    "train_coronal_dir"
   ]
  },
  {
   "cell_type": "markdown",
   "id": "5530ba46",
   "metadata": {},
   "source": [
    "The dataset contains *s* x 256 x 256 images. Since middle images are the most useful, only 3 middle slides in the series are retained. \n"
   ]
  },
  {
   "cell_type": "code",
   "execution_count": 9,
   "id": "a03daa62",
   "metadata": {},
   "outputs": [],
   "source": [
    "def image_extraction(data, path, new_path): #3 images\n",
    "    '''this function extracts middle 3 slides of each scan'''\n",
    "    extract=[]\n",
    "    new_data=[]\n",
    "    for i in range(len(data)): \n",
    "        img = np.load(os.path.join(path,data[i]))\n",
    "        middle_idx = int(img.shape[0]/2)\n",
    "#         print(img.shape[0],middle_idx)\n",
    "        img = img[(middle_idx - 1) : (middle_idx + 2)]\n",
    "#         # reshape adapted for model (s x 256 x 256 x 1)\n",
    "#         img_reshape = np.repeat(img[..., np.newaxis], 1, -1)\n",
    "        img = img.reshape(256,256,3)\n",
    "        extract.extend(img)\n",
    "        new_data.append(np.array(extract))        \n",
    "        extract.clear()\n",
    "        \n",
    "#     new_data.shape(1130,256,256,3) for train\n",
    "#     new_data.shape(120,256,256,3) for valid\n",
    "    np.save(new_path, np.array(new_data))\n"
   ]
  },
  {
   "cell_type": "markdown",
   "id": "533f6dba",
   "metadata": {},
   "source": [
    "**image extraction for training data**"
   ]
  },
  {
   "cell_type": "code",
   "execution_count": 10,
   "id": "3e39ffd6",
   "metadata": {},
   "outputs": [],
   "source": [
    "# image extraction for 3 planes\n",
    "new_path = '../data/train_transform/coronal'\n",
    "image_extraction(train_coronal_data, train_coronal_dir, new_path)"
   ]
  },
  {
   "cell_type": "code",
   "execution_count": 11,
   "id": "f3c1a23c",
   "metadata": {},
   "outputs": [],
   "source": [
    "new_path = '../data/train_transform/axial'\n",
    "image_extraction(train_axial_data, train_axial_dir, new_path)"
   ]
  },
  {
   "cell_type": "code",
   "execution_count": 12,
   "id": "0c79ae44",
   "metadata": {},
   "outputs": [],
   "source": [
    "new_path = '../data/train_transform/sagittal'\n",
    "image_extraction(train_sagittal_data, train_sagittal_dir, new_path)"
   ]
  },
  {
   "cell_type": "code",
   "execution_count": 13,
   "id": "719671d5",
   "metadata": {},
   "outputs": [],
   "source": [
    "image = np.load('../data/train_transform/sagittal.npy')"
   ]
  },
  {
   "cell_type": "code",
   "execution_count": 14,
   "id": "f002efc4",
   "metadata": {},
   "outputs": [
    {
     "data": {
      "text/plain": [
       "(256, 256, 3)"
      ]
     },
     "execution_count": 14,
     "metadata": {},
     "output_type": "execute_result"
    }
   ],
   "source": [
    "image[0].shape"
   ]
  },
  {
   "cell_type": "markdown",
   "id": "3b4ac78b",
   "metadata": {},
   "source": [
    "**extraction for validation data**"
   ]
  },
  {
   "cell_type": "code",
   "execution_count": 15,
   "id": "5fa82965",
   "metadata": {},
   "outputs": [],
   "source": [
    "# image extraction for 3 planes\n",
    "new_path = '../data/valid_transform/coronal'\n",
    "image_extraction(valid_coronal_data, valid_coronal_dir, new_path)"
   ]
  },
  {
   "cell_type": "code",
   "execution_count": 16,
   "id": "ee2492fb",
   "metadata": {},
   "outputs": [],
   "source": [
    "new_path = '../data/valid_transform/axial'\n",
    "image_extraction(valid_axial_data, valid_axial_dir, new_path)"
   ]
  },
  {
   "cell_type": "code",
   "execution_count": 17,
   "id": "79ad09fc",
   "metadata": {},
   "outputs": [],
   "source": [
    "new_path = '../data/valid_transform/sagittal'\n",
    "image_extraction(valid_sagittal_data, valid_sagittal_dir, new_path)"
   ]
  },
  {
   "cell_type": "code",
   "execution_count": 18,
   "id": "bc75bb0e",
   "metadata": {},
   "outputs": [
    {
     "data": {
      "text/plain": [
       "(120, 256, 256, 3)"
      ]
     },
     "execution_count": 18,
     "metadata": {},
     "output_type": "execute_result"
    }
   ],
   "source": [
    "image = np.load('../data/valid_transform/sagittal.npy')\n",
    "image.shape"
   ]
  },
  {
   "cell_type": "markdown",
   "id": "caab6116",
   "metadata": {},
   "source": [
    "**data generation for meniscus**"
   ]
  },
  {
   "cell_type": "code",
   "execution_count": 19,
   "id": "eb0bdc7d",
   "metadata": {},
   "outputs": [],
   "source": [
    "def data_gen(dataset_type, plane, diagnosis):\n",
    "    # for eg, (train, sagittal, mensicus)\n",
    "    if dataset_type == 'train':\n",
    "        go = '../data/train_transform/'\n",
    "    else:\n",
    "        go = '../data/valid_transform/'\n",
    "        \n",
    "    plane_dir = f'{go}/{plane}.npy'\n",
    "    \n",
    "    data = np.load(plane_dir)\n",
    "    label_path = f'../data/{dataset_type}-{diagnosis}.csv'\n",
    "#     label_path = f'data/{dataset_type}-{diagnosis}.csv'\n",
    "    label_df = pd.read_csv(label_path, names=['nr', diagnosis])\n",
    "    label_data = list(label_df[diagnosis])\n",
    "    \n",
    "    return(data, label_data)\n",
    "    "
   ]
  },
  {
   "cell_type": "markdown",
   "id": "495cc4fc",
   "metadata": {},
   "source": [
    "Note that training data for all planes are the same. Only labels are different."
   ]
  },
  {
   "cell_type": "code",
   "execution_count": 20,
   "id": "b1550b3f",
   "metadata": {},
   "outputs": [],
   "source": [
    "# generate training input\n",
    "coronal_mensicus, coronal_mensicus_label = data_gen('train', 'coronal', 'meniscus')\n",
    "axial_mensicus, axial_mensicus_label = data_gen('train', 'axial', 'meniscus')\n",
    "sagittal_mensicus, sagittal_mensicus_label = data_gen('train', 'sagittal', 'meniscus')\n",
    "\n",
    "# generate validation\n",
    "coronal_mensicus_val, coronal_mensicus_label_val  = data_gen('valid', 'coronal', 'meniscus')\n",
    "axial_mensicus_val, axial_mensicus_label_val  = data_gen('valid', 'axial', 'meniscus')\n",
    "sagittal_mensicus_val, sagittal_mensicus_label_val  = data_gen('valid', 'sagittal', 'meniscus')"
   ]
  },
  {
   "cell_type": "markdown",
   "id": "925cfeef",
   "metadata": {},
   "source": [
    "## Building own models"
   ]
  },
  {
   "cell_type": "markdown",
   "id": "06b6753f",
   "metadata": {},
   "source": [
    "The code snippet below is the first model, a simple stack of two convolution layers with a ReLU activation and followed by max-pooling layers. This is very similar to the architectures that Yann LeCun built in the 1990s for image classification (with the exception of ReLU) ([LeCun et al., 1998](http://yann.lecun.com/exdb/publis/pdf/lecun-98.pdf)). In addition, three fully-connected layers were added, which ends with a single unit and a sigmoid activation, for a binary classification. \n",
    "<br>\n",
    "<br> Since other pretrained models showed that there is tendency to overfit, one can either improve the data or improve the model. Since I am limited by what I can do with the dataset, a simple way is to make the model smaller. I made LeNet even smaller by reducing the number of neurons in the connected layers.\n",
    "<br>\n",
    "<br> BatchNormalisation layer was added because it would accelerate the training process, while offering similar classification accuracy. I did not see any 'increase' in training. This could be because BatchNormalisation is highly dependent on having a large batch size, so that it can estimate the mean and variance from just one single batch ([Summers and Dinneen 2020](https://arxiv.org/pdf/1906.03548.pdf)). And for a limited dataset like mine, BatchNormalisation with GroupNormalisation was found to have a bigger improvement, or using InstanceNormalisation would be more effective, than just using BatchNormalisation ([Summers and Dinneen 2020](https://arxiv.org/pdf/1906.03548.pdf); [Kolarik et al., 2020](https://arxiv.org/pdf/2011.11559.pdf)). However, GroupNormalisation and InstanceNormalisation were not used here (due to failure to install Tensorflow version, Tensorflow-Addon version and downgrading numpy at the same time).\n",
    "<br>\n",
    "<br> In any case, regularizer should NOT be added if normalisation is being used. This is because the use of both normalisation (whether it be batch normalisation, layer normalisation or weight normalisation) together with regularisation has no effect on regularising the network ([Laarhoven 2017](https://arxiv.org/pdf/1706.05350.pdf)). The effect it has is the effective learning rate (which may or may not be a bad thing). However, in such a case, one does not have control over the learning rate (which is problematic for someone with control issues, like me). BatchNormalisation can be useful since it takes the outputs from one layer and normalise it before passing them to the next layer. Furthermore, the tuning of $\\gamma$ (scaling to a difference variance) has little effect since $\\gamma$ has no functional value in subsequent layers. It is only most effective if used on the last layer of the network. Therefore, BatchNormalisation was used only once in the last convolution layer. \n",
    "<br>\n",
    "<br> To actually control the learning rate of the optimser, sgd with a slow learning rate and momentum was selected based on using AlexNet. "
   ]
  },
  {
   "cell_type": "code",
   "execution_count": 46,
   "id": "218bdd88",
   "metadata": {},
   "outputs": [],
   "source": [
    "def build_model():\n",
    "    model = Sequential()\n",
    "    \n",
    "    model.add(Conv2D(filters=6, \n",
    "                     kernel_size=(5, 5),\n",
    "                     activation='relu',\n",
    "                     padding='same',\n",
    "                     input_shape=(256,256,3)))\n",
    "    model.add(MaxPooling2D(pool_size=(2,2),\n",
    "                              strides=(2,2)))\n",
    "\n",
    "    model.add(Conv2D(filters=16, \n",
    "                     kernel_size=(5, 5), \n",
    "                     activation='relu'))\n",
    "    model.add(BatchNormalization())\n",
    "    model.add(MaxPooling2D(pool_size=(2,2),\n",
    "                              strides=(2,2)))\n",
    "    \n",
    "    model.add(Flatten())\n",
    "    model.add(Dense(64, activation=\"relu\"))\n",
    "    model.add(Dropout(0.5))\n",
    "    \n",
    "    model.add(Dense(32, activation=\"relu\"))\n",
    "    model.add(Dropout(0.5))\n",
    "    model.add(Dense(1, activation=\"sigmoid\"))\n",
    "    \n",
    "    sgd = optimizers.SGD(lr=1e-4, decay=1e-6, momentum=0.9, nesterov=True)\n",
    "    model.compile(optimizer=sgd, loss='binary_crossentropy', metrics=['accuracy'])\n",
    "    \n",
    "    return model"
   ]
  },
  {
   "cell_type": "code",
   "execution_count": 22,
   "id": "487fc35d",
   "metadata": {},
   "outputs": [
    {
     "name": "stdout",
     "output_type": "stream",
     "text": [
      "Model: \"sequential\"\n",
      "_________________________________________________________________\n",
      "Layer (type)                 Output Shape              Param #   \n",
      "=================================================================\n",
      "conv2d (Conv2D)              (None, 256, 256, 6)       456       \n",
      "_________________________________________________________________\n",
      "max_pooling2d (MaxPooling2D) (None, 128, 128, 6)       0         \n",
      "_________________________________________________________________\n",
      "conv2d_1 (Conv2D)            (None, 124, 124, 16)      2416      \n",
      "_________________________________________________________________\n",
      "batch_normalization (BatchNo (None, 124, 124, 16)      64        \n",
      "_________________________________________________________________\n",
      "max_pooling2d_1 (MaxPooling2 (None, 62, 62, 16)        0         \n",
      "_________________________________________________________________\n",
      "flatten (Flatten)            (None, 61504)             0         \n",
      "_________________________________________________________________\n",
      "dense (Dense)                (None, 64)                3936320   \n",
      "_________________________________________________________________\n",
      "dropout (Dropout)            (None, 64)                0         \n",
      "_________________________________________________________________\n",
      "dense_1 (Dense)              (None, 32)                2080      \n",
      "_________________________________________________________________\n",
      "dropout_1 (Dropout)          (None, 32)                0         \n",
      "_________________________________________________________________\n",
      "dense_2 (Dense)              (None, 1)                 33        \n",
      "=================================================================\n",
      "Total params: 3,941,369\n",
      "Trainable params: 3,941,337\n",
      "Non-trainable params: 32\n",
      "_________________________________________________________________\n"
     ]
    }
   ],
   "source": [
    "model = build_model()\n",
    "model.summary()"
   ]
  },
  {
   "cell_type": "code",
   "execution_count": 23,
   "id": "b5c5206a",
   "metadata": {},
   "outputs": [
    {
     "data": {
      "text/html": [
       "<style  type=\"text/css\" >\n",
       "#T_1df81_row0_col1,#T_1df81_row1_col1,#T_1df81_row2_col1,#T_1df81_row3_col1,#T_1df81_row4_col1,#T_1df81_row5_col1,#T_1df81_row6_col1,#T_1df81_row7_col1,#T_1df81_row8_col1,#T_1df81_row9_col1,#T_1df81_row10_col1{\n",
       "            background-color:  yellow;\n",
       "        }</style><table id=\"T_1df81_\" ><thead>    <tr>        <th class=\"blank level0\" ></th>        <th class=\"col_heading level0 col0\" >layer</th>        <th class=\"col_heading level0 col1\" >trainable</th>    </tr></thead><tbody>\n",
       "                <tr>\n",
       "                        <th id=\"T_1df81_level0_row0\" class=\"row_heading level0 row0\" >0</th>\n",
       "                        <td id=\"T_1df81_row0_col0\" class=\"data row0 col0\" >conv2d</td>\n",
       "                        <td id=\"T_1df81_row0_col1\" class=\"data row0 col1\" >True</td>\n",
       "            </tr>\n",
       "            <tr>\n",
       "                        <th id=\"T_1df81_level0_row1\" class=\"row_heading level0 row1\" >1</th>\n",
       "                        <td id=\"T_1df81_row1_col0\" class=\"data row1 col0\" >max_pooling2d</td>\n",
       "                        <td id=\"T_1df81_row1_col1\" class=\"data row1 col1\" >True</td>\n",
       "            </tr>\n",
       "            <tr>\n",
       "                        <th id=\"T_1df81_level0_row2\" class=\"row_heading level0 row2\" >2</th>\n",
       "                        <td id=\"T_1df81_row2_col0\" class=\"data row2 col0\" >conv2d_1</td>\n",
       "                        <td id=\"T_1df81_row2_col1\" class=\"data row2 col1\" >True</td>\n",
       "            </tr>\n",
       "            <tr>\n",
       "                        <th id=\"T_1df81_level0_row3\" class=\"row_heading level0 row3\" >3</th>\n",
       "                        <td id=\"T_1df81_row3_col0\" class=\"data row3 col0\" >batch_normalization</td>\n",
       "                        <td id=\"T_1df81_row3_col1\" class=\"data row3 col1\" >True</td>\n",
       "            </tr>\n",
       "            <tr>\n",
       "                        <th id=\"T_1df81_level0_row4\" class=\"row_heading level0 row4\" >4</th>\n",
       "                        <td id=\"T_1df81_row4_col0\" class=\"data row4 col0\" >max_pooling2d_1</td>\n",
       "                        <td id=\"T_1df81_row4_col1\" class=\"data row4 col1\" >True</td>\n",
       "            </tr>\n",
       "            <tr>\n",
       "                        <th id=\"T_1df81_level0_row5\" class=\"row_heading level0 row5\" >5</th>\n",
       "                        <td id=\"T_1df81_row5_col0\" class=\"data row5 col0\" >flatten</td>\n",
       "                        <td id=\"T_1df81_row5_col1\" class=\"data row5 col1\" >True</td>\n",
       "            </tr>\n",
       "            <tr>\n",
       "                        <th id=\"T_1df81_level0_row6\" class=\"row_heading level0 row6\" >6</th>\n",
       "                        <td id=\"T_1df81_row6_col0\" class=\"data row6 col0\" >dense</td>\n",
       "                        <td id=\"T_1df81_row6_col1\" class=\"data row6 col1\" >True</td>\n",
       "            </tr>\n",
       "            <tr>\n",
       "                        <th id=\"T_1df81_level0_row7\" class=\"row_heading level0 row7\" >7</th>\n",
       "                        <td id=\"T_1df81_row7_col0\" class=\"data row7 col0\" >dropout</td>\n",
       "                        <td id=\"T_1df81_row7_col1\" class=\"data row7 col1\" >True</td>\n",
       "            </tr>\n",
       "            <tr>\n",
       "                        <th id=\"T_1df81_level0_row8\" class=\"row_heading level0 row8\" >8</th>\n",
       "                        <td id=\"T_1df81_row8_col0\" class=\"data row8 col0\" >dense_1</td>\n",
       "                        <td id=\"T_1df81_row8_col1\" class=\"data row8 col1\" >True</td>\n",
       "            </tr>\n",
       "            <tr>\n",
       "                        <th id=\"T_1df81_level0_row9\" class=\"row_heading level0 row9\" >9</th>\n",
       "                        <td id=\"T_1df81_row9_col0\" class=\"data row9 col0\" >dropout_1</td>\n",
       "                        <td id=\"T_1df81_row9_col1\" class=\"data row9 col1\" >True</td>\n",
       "            </tr>\n",
       "            <tr>\n",
       "                        <th id=\"T_1df81_level0_row10\" class=\"row_heading level0 row10\" >10</th>\n",
       "                        <td id=\"T_1df81_row10_col0\" class=\"data row10 col0\" >dense_2</td>\n",
       "                        <td id=\"T_1df81_row10_col1\" class=\"data row10 col1\" >True</td>\n",
       "            </tr>\n",
       "    </tbody></table>"
      ],
      "text/plain": [
       "<pandas.io.formats.style.Styler at 0x2592b8f12e0>"
      ]
     },
     "execution_count": 23,
     "metadata": {},
     "output_type": "execute_result"
    }
   ],
   "source": [
    "for layer in model.layers:\n",
    "    layer.trainable = True\n",
    "df = pd.DataFrame(([layer.name, layer.trainable] for layer in model.layers), columns=['layer', 'trainable'])\n",
    "df.style.applymap(lambda trainable: f'background-color: {\"yellow\" if trainable else \"white\"}', subset=['trainable'])"
   ]
  },
  {
   "cell_type": "code",
   "execution_count": 24,
   "id": "4b95c586",
   "metadata": {},
   "outputs": [],
   "source": [
    "# https://blog.keras.io/building-powerful-image-classification-models-using-very-little-data.html\n",
    "# training model that will be added to VGG16\n",
    "def model_train(model, model_name, num_epochs, train_data, train_labels, validation_data, validation_labels):\n",
    "    path_dir = r'C:\\Users\\USER\\DSI-roughpaper\\capstone\\data' \n",
    "    path = f'{path_dir}\\{model_name}\\weights.h5'\n",
    "    checkpoint_path = f'{path_dir}\\{model_name}\\own_model.h5'\n",
    "\n",
    "    history = model.fit(x=train_data, y=np.array(train_labels), \n",
    "            batch_size=32, \n",
    "            validation_data=(validation_data, np.array(validation_labels)),\n",
    "            epochs=num_epochs, \n",
    "            callbacks = [EarlyStopping(patience=2, monitor = 'val_loss', mode = 'min'),\n",
    "                        ModelCheckpoint(filepath=checkpoint_path, monitor = 'val_loss', save_best_only=True)], \n",
    "            verbose=1)\n",
    "\n",
    "    model.save_weights(path)\n",
    "    \n",
    "    return model, history"
   ]
  },
  {
   "cell_type": "markdown",
   "id": "d88abd8e",
   "metadata": {},
   "source": [
    "Batch_size is small at 32, given that previous large numbers resulted in validation accuracy fluctuating up and down. It seems that a larger batch may result in degradation of the quality of the model, since the model lacks the ability to generalise the dataset. \n",
    "<br>\n",
    "<br> The exact amount of patience will vary between models and problems. There a rule of thumb to make it 10% of number of epoch. Patience was kept at 2, since from previous models, overfitting occur very early during training (val_loss > training_loss). So it was better to stop it early, rather than have a higher value for patience. "
   ]
  },
  {
   "cell_type": "code",
   "execution_count": 25,
   "id": "58b58f64",
   "metadata": {},
   "outputs": [],
   "source": [
    "def plot_results(model):\n",
    "    train_loss = model.history['loss']\n",
    "    test_loss = model.history['val_loss']\n",
    "    acc = model.history['accuracy']\n",
    "    val_acc = model.history['val_accuracy']\n",
    "    epoch_labels = model.epoch\n",
    "\n",
    "    fig, axes = plt.subplots(1, 2, figsize=(20, 6), sharex=True)\n",
    "\n",
    "    axes[0].plot(train_loss, label='Training Loss', color='#185fad')\n",
    "    axes[0].plot(test_loss, label='Testing Loss', color='orange')\n",
    "\n",
    "    axes[1].plot(acc, label='Training accuracy', color='blue')\n",
    "    axes[1].plot(val_acc, label='Testing accuracy', color='red')\n",
    "\n",
    "    # Set title\n",
    "    axes[0].title.set_text('Training and Testing Loss by Epoch')\n",
    "    axes[1].title.set_text('Training and Testing Accuracy by Epoch')\n",
    "    axes[0].set_xlabel('Epoch')\n",
    "    axes[1].set_xlabel('Epoch')\n",
    "    axes[0].set_ylabel('Binary Crossentropy')\n",
    "    axes[1].set_ylabel('Binary Crossentropy')\n",
    "    plt.xticks(epoch_labels, epoch_labels);    \n",
    "    axes[0].legend(fontsize=18);\n",
    "    axes[1].legend(fontsize=18);\n"
   ]
  },
  {
   "cell_type": "markdown",
   "id": "9501527c",
   "metadata": {},
   "source": [
    "**predictions for meniscus dataset**"
   ]
  },
  {
   "cell_type": "code",
   "execution_count": 26,
   "id": "da9009ff",
   "metadata": {},
   "outputs": [
    {
     "name": "stdout",
     "output_type": "stream",
     "text": [
      "Epoch 1/10\n",
      "36/36 [==============================] - 43s 1s/step - loss: 0.8969 - accuracy: 0.5690 - val_loss: 0.6712 - val_accuracy: 0.6083\n",
      "Epoch 2/10\n",
      "36/36 [==============================] - 41s 1s/step - loss: 0.7029 - accuracy: 0.6018 - val_loss: 0.6672 - val_accuracy: 0.6083\n",
      "Epoch 3/10\n",
      "36/36 [==============================] - 42s 1s/step - loss: 0.6531 - accuracy: 0.6540 - val_loss: 0.6690 - val_accuracy: 0.5917\n",
      "Epoch 4/10\n",
      "36/36 [==============================] - 48s 1s/step - loss: 0.6313 - accuracy: 0.6478 - val_loss: 0.6493 - val_accuracy: 0.5750\n",
      "Epoch 5/10\n",
      "36/36 [==============================] - 42s 1s/step - loss: 0.6372 - accuracy: 0.6442 - val_loss: 0.6497 - val_accuracy: 0.5833\n",
      "Epoch 6/10\n",
      "36/36 [==============================] - 42s 1s/step - loss: 0.6096 - accuracy: 0.6504 - val_loss: 0.6631 - val_accuracy: 0.6000\n"
     ]
    },
    {
     "data": {
      "image/png": "[encoded data removed]",
      "text/plain": [
       "<Figure size 1440x432 with 2 Axes>"
      ]
     },
     "metadata": {
      "needs_background": "light"
     },
     "output_type": "display_data"
    }
   ],
   "source": [
    "# coronal plane\n",
    "num_epochs=10\n",
    "\n",
    "cnn_model = build_model()\n",
    "cor_men_model, hst_cmen = model_train(cnn_model, 'hst_cmen', num_epochs, coronal_mensicus, coronal_mensicus_label, coronal_mensicus_val, coronal_mensicus_label_val)\n",
    "\n",
    "# get/plot accuracy\n",
    "hst_cmen_acc=[]\n",
    "hst_cmen_acc.append(np.mean(hst_cmen.history['val_accuracy']))\n",
    "plot_results(hst_cmen)"
   ]
  },
  {
   "cell_type": "code",
   "execution_count": 27,
   "id": "3b3f5ba6",
   "metadata": {},
   "outputs": [
    {
     "name": "stdout",
     "output_type": "stream",
     "text": [
      "Epoch 1/10\n",
      "36/36 [==============================] - 43s 1s/step - loss: 0.9554 - accuracy: 0.5062 - val_loss: 0.7116 - val_accuracy: 0.5500\n",
      "Epoch 2/10\n",
      "36/36 [==============================] - 43s 1s/step - loss: 0.7112 - accuracy: 0.5478 - val_loss: 0.6857 - val_accuracy: 0.5417\n",
      "Epoch 3/10\n",
      "36/36 [==============================] - 45s 1s/step - loss: 0.6847 - accuracy: 0.5982 - val_loss: 0.6739 - val_accuracy: 0.5500\n",
      "Epoch 4/10\n",
      "36/36 [==============================] - 47s 1s/step - loss: 0.6493 - accuracy: 0.6469 - val_loss: 0.6724 - val_accuracy: 0.5750\n",
      "Epoch 5/10\n",
      "36/36 [==============================] - 42s 1s/step - loss: 0.6344 - accuracy: 0.6345 - val_loss: 0.6681 - val_accuracy: 0.5750\n",
      "Epoch 6/10\n",
      "36/36 [==============================] - 42s 1s/step - loss: 0.6422 - accuracy: 0.6531 - val_loss: 0.6752 - val_accuracy: 0.5833\n",
      "Epoch 7/10\n",
      "36/36 [==============================] - 46s 1s/step - loss: 0.6168 - accuracy: 0.6761 - val_loss: 0.6725 - val_accuracy: 0.5583\n"
     ]
    },
    {
     "data": {
      "image/png": "[encoded data removed]",
      "text/plain": [
       "<Figure size 1440x432 with 2 Axes>"
      ]
     },
     "metadata": {
      "needs_background": "light"
     },
     "output_type": "display_data"
    }
   ],
   "source": [
    "# axial plane\n",
    "num_epochs=10\n",
    "\n",
    "cnn_model = build_model()\n",
    "axl_men_model, hst_amen = model_train(cnn_model, 'hst_amen', num_epochs, axial_mensicus, axial_mensicus_label, axial_mensicus_val, axial_mensicus_label_val)\n",
    "\n",
    "# get/plot accuracy\n",
    "hst_amen_acc=[]\n",
    "hst_amen_acc.append(np.mean(hst_amen.history['val_accuracy']))\n",
    "plot_results(hst_amen)"
   ]
  },
  {
   "cell_type": "code",
   "execution_count": 28,
   "id": "730db892",
   "metadata": {},
   "outputs": [
    {
     "name": "stdout",
     "output_type": "stream",
     "text": [
      "Epoch 1/10\n",
      "36/36 [==============================] - 44s 1s/step - loss: 0.9774 - accuracy: 0.5265 - val_loss: 0.6633 - val_accuracy: 0.5750\n",
      "Epoch 2/10\n",
      "36/36 [==============================] - 42s 1s/step - loss: 0.6771 - accuracy: 0.6053 - val_loss: 0.6341 - val_accuracy: 0.5500\n",
      "Epoch 3/10\n",
      "36/36 [==============================] - 41s 1s/step - loss: 0.6503 - accuracy: 0.6080 - val_loss: 0.6248 - val_accuracy: 0.6083\n",
      "Epoch 4/10\n",
      "36/36 [==============================] - 43s 1s/step - loss: 0.6242 - accuracy: 0.6204 - val_loss: 0.6470 - val_accuracy: 0.6083\n",
      "Epoch 5/10\n",
      "36/36 [==============================] - 42s 1s/step - loss: 0.6092 - accuracy: 0.6460 - val_loss: 0.6199 - val_accuracy: 0.6500\n",
      "Epoch 6/10\n",
      "36/36 [==============================] - 42s 1s/step - loss: 0.5790 - accuracy: 0.6743 - val_loss: 0.6238 - val_accuracy: 0.6417\n",
      "Epoch 7/10\n",
      "36/36 [==============================] - 42s 1s/step - loss: 0.5552 - accuracy: 0.6867 - val_loss: 0.6237 - val_accuracy: 0.6417\n"
     ]
    },
    {
     "data": {
      "image/png": "[encoded data removed]",
      "text/plain": [
       "<Figure size 1440x432 with 2 Axes>"
      ]
     },
     "metadata": {
      "needs_background": "light"
     },
     "output_type": "display_data"
    }
   ],
   "source": [
    "# sagittal plane\n",
    "num_epochs=10\n",
    "\n",
    "cnn_model = build_model()\n",
    "sag_men_model, hst_smen = model_train(cnn_model, 'hst_smen', num_epochs, sagittal_mensicus, sagittal_mensicus_label, sagittal_mensicus_val, sagittal_mensicus_label_val)\n",
    "\n",
    "# get/plot accuracy\n",
    "hst_smen_acc=[]\n",
    "hst_smen_acc.append(np.mean(hst_smen.history['val_accuracy']))\n",
    "plot_results(hst_smen)"
   ]
  },
  {
   "cell_type": "markdown",
   "id": "b2cd3059",
   "metadata": {},
   "source": [
    "The graphs so far are far from perfect, but it is a big improvement on the overtraining seen in other models."
   ]
  },
  {
   "cell_type": "markdown",
   "id": "4be9a77d",
   "metadata": {},
   "source": [
    "**calculate average accuracy**"
   ]
  },
  {
   "cell_type": "code",
   "execution_count": 29,
   "id": "a8240d15",
   "metadata": {},
   "outputs": [
    {
     "data": {
      "text/plain": [
       "[[0.5944444437821707], [0.5619047624724252], [0.610714282308306]]"
      ]
     },
     "execution_count": 29,
     "metadata": {},
     "output_type": "execute_result"
    }
   ],
   "source": [
    "[hst_cmen_acc, hst_amen_acc, hst_smen_acc]"
   ]
  },
  {
   "cell_type": "markdown",
   "id": "c0cd4b11",
   "metadata": {},
   "source": [
    "## Evaluate results"
   ]
  },
  {
   "cell_type": "code",
   "execution_count": 30,
   "id": "fe816f64",
   "metadata": {},
   "outputs": [
    {
     "name": "stdout",
     "output_type": "stream",
     "text": [
      "Test loss: 0.6630963087081909\n",
      "Test accuracy: 0.6000000238418579\n"
     ]
    }
   ],
   "source": [
    "cmen_scores = cor_men_model.evaluate(coronal_mensicus_val, np.array(coronal_mensicus_label_val), verbose=0)\n",
    "print('Test loss:', cmen_scores[0]) \n",
    "print('Test accuracy:', cmen_scores[1])"
   ]
  },
  {
   "cell_type": "code",
   "execution_count": 31,
   "id": "9d71ad67",
   "metadata": {},
   "outputs": [
    {
     "name": "stdout",
     "output_type": "stream",
     "text": [
      "Test loss: 0.6724712252616882\n",
      "Test accuracy: 0.5583333373069763\n"
     ]
    }
   ],
   "source": [
    "amen_scores = axl_men_model.evaluate(axial_mensicus_val, np.array(axial_mensicus_label_val), verbose=0)\n",
    "print('Test loss:', amen_scores[0]) \n",
    "print('Test accuracy:', amen_scores[1])"
   ]
  },
  {
   "cell_type": "code",
   "execution_count": 32,
   "id": "1ac08cbc",
   "metadata": {},
   "outputs": [
    {
     "name": "stdout",
     "output_type": "stream",
     "text": [
      "Test loss: 0.6237412095069885\n",
      "Test accuracy: 0.6416666507720947\n"
     ]
    }
   ],
   "source": [
    "smen_scores = sag_men_model.evaluate(sagittal_mensicus_val, np.array(sagittal_mensicus_label_val), verbose=0)\n",
    "print('Test loss:', smen_scores[0]) \n",
    "print('Test accuracy:', smen_scores[1])"
   ]
  },
  {
   "cell_type": "markdown",
   "id": "e93f6cf7",
   "metadata": {},
   "source": [
    "**Evaluate predictions**"
   ]
  },
  {
   "cell_type": "code",
   "execution_count": 33,
   "id": "a2310420",
   "metadata": {},
   "outputs": [],
   "source": [
    "path_dir = r'C:\\Users\\USER\\DSI-roughpaper\\capstone\\data' \n",
    "saved_cor_model = load_model(f'{path_dir}\\hst_cmen\\men_model.h5')\n",
    "cor_pred = saved_cor_model.predict(coronal_mensicus_val) "
   ]
  },
  {
   "cell_type": "code",
   "execution_count": 34,
   "id": "c25fa2d1",
   "metadata": {},
   "outputs": [],
   "source": [
    "saved_axl_model = load_model(f'{path_dir}\\hst_amen\\men_model.h5')\n",
    "axl_pred = saved_axl_model.predict(axial_mensicus_val) "
   ]
  },
  {
   "cell_type": "code",
   "execution_count": 35,
   "id": "ca313005",
   "metadata": {},
   "outputs": [],
   "source": [
    "saved_sag_model = load_model(f'{path_dir}\\hst_smen\\men_model.h5')\n",
    "sag_pred = saved_sag_model.predict(sagittal_mensicus_val) "
   ]
  },
  {
   "cell_type": "code",
   "execution_count": 36,
   "id": "1efdfde1",
   "metadata": {},
   "outputs": [],
   "source": [
    "pred = pd.DataFrame(np.column_stack([cor_pred,axl_pred,sag_pred]),columns=['cor_pred', 'axl_pred', 'sag_pred'])\n",
    "pred['mean'] = pred.mean(axis=1)"
   ]
  },
  {
   "cell_type": "code",
   "execution_count": 37,
   "id": "40b288b4",
   "metadata": {},
   "outputs": [
    {
     "data": {
      "text/plain": [
       "0      0.282040\n",
       "1      0.294948\n",
       "2      0.283195\n",
       "3      0.229338\n",
       "4      0.494167\n",
       "         ...   \n",
       "115    0.501067\n",
       "116    0.517749\n",
       "117    0.459579\n",
       "118    0.498208\n",
       "119    0.393880\n",
       "Name: mean, Length: 120, dtype: float32"
      ]
     },
     "execution_count": 37,
     "metadata": {},
     "output_type": "execute_result"
    }
   ],
   "source": [
    "# since model output is [0,1] using sigmoid activation function\n",
    "# pred is the probability\n",
    "# take average probability from all 3 planes\n",
    "pred['mean']"
   ]
  },
  {
   "cell_type": "code",
   "execution_count": 38,
   "id": "90f480ed",
   "metadata": {},
   "outputs": [],
   "source": [
    "# if prob<0.5, it is 0.\n",
    "pred['predict'] = pred['mean'].map(lambda x: 0 if x<0.5 else 1)"
   ]
  },
  {
   "cell_type": "code",
   "execution_count": 39,
   "id": "8d56412c",
   "metadata": {},
   "outputs": [
    {
     "data": {
      "text/plain": [
       "0    93\n",
       "1    27\n",
       "Name: predict, dtype: int64"
      ]
     },
     "execution_count": 39,
     "metadata": {},
     "output_type": "execute_result"
    }
   ],
   "source": [
    "pred['predict'].value_counts()"
   ]
  },
  {
   "cell_type": "code",
   "execution_count": 40,
   "id": "0ac125e4",
   "metadata": {},
   "outputs": [],
   "source": [
    "pred['true'] = coronal_mensicus_label_val"
   ]
  },
  {
   "cell_type": "code",
   "execution_count": 41,
   "id": "d3df16bb",
   "metadata": {},
   "outputs": [
    {
     "data": {
      "text/plain": [
       "(47, 6)"
      ]
     },
     "execution_count": 41,
     "metadata": {},
     "output_type": "execute_result"
    }
   ],
   "source": [
    "pred[pred['true'] != pred['predict']].shape"
   ]
  },
  {
   "cell_type": "code",
   "execution_count": 42,
   "id": "157e2824",
   "metadata": {},
   "outputs": [
    {
     "data": {
      "text/html": [
       "<div>\n",
       "<style scoped>\n",
       "    .dataframe tbody tr th:only-of-type {\n",
       "        vertical-align: middle;\n",
       "    }\n",
       "\n",
       "    .dataframe tbody tr th {\n",
       "        vertical-align: top;\n",
       "    }\n",
       "\n",
       "    .dataframe thead th {\n",
       "        text-align: right;\n",
       "    }\n",
       "</style>\n",
       "<table border=\"1\" class=\"dataframe\">\n",
       "  <thead>\n",
       "    <tr style=\"text-align: right;\">\n",
       "      <th></th>\n",
       "      <th>cor_pred</th>\n",
       "      <th>axl_pred</th>\n",
       "      <th>sag_pred</th>\n",
       "      <th>mean</th>\n",
       "      <th>predict</th>\n",
       "      <th>true</th>\n",
       "    </tr>\n",
       "  </thead>\n",
       "  <tbody>\n",
       "    <tr>\n",
       "      <th>5</th>\n",
       "      <td>0.584955</td>\n",
       "      <td>0.451003</td>\n",
       "      <td>0.491228</td>\n",
       "      <td>0.509062</td>\n",
       "      <td>1</td>\n",
       "      <td>0</td>\n",
       "    </tr>\n",
       "    <tr>\n",
       "      <th>10</th>\n",
       "      <td>0.501321</td>\n",
       "      <td>0.493044</td>\n",
       "      <td>0.587147</td>\n",
       "      <td>0.527170</td>\n",
       "      <td>1</td>\n",
       "      <td>0</td>\n",
       "    </tr>\n",
       "    <tr>\n",
       "      <th>11</th>\n",
       "      <td>0.506369</td>\n",
       "      <td>0.547019</td>\n",
       "      <td>0.496947</td>\n",
       "      <td>0.516778</td>\n",
       "      <td>1</td>\n",
       "      <td>0</td>\n",
       "    </tr>\n",
       "    <tr>\n",
       "      <th>14</th>\n",
       "      <td>0.579082</td>\n",
       "      <td>0.519504</td>\n",
       "      <td>0.465399</td>\n",
       "      <td>0.521328</td>\n",
       "      <td>1</td>\n",
       "      <td>0</td>\n",
       "    </tr>\n",
       "    <tr>\n",
       "      <th>25</th>\n",
       "      <td>0.561006</td>\n",
       "      <td>0.493044</td>\n",
       "      <td>0.496783</td>\n",
       "      <td>0.516944</td>\n",
       "      <td>1</td>\n",
       "      <td>0</td>\n",
       "    </tr>\n",
       "    <tr>\n",
       "      <th>26</th>\n",
       "      <td>0.498107</td>\n",
       "      <td>0.556667</td>\n",
       "      <td>0.490023</td>\n",
       "      <td>0.514933</td>\n",
       "      <td>1</td>\n",
       "      <td>0</td>\n",
       "    </tr>\n",
       "    <tr>\n",
       "      <th>32</th>\n",
       "      <td>0.556221</td>\n",
       "      <td>0.549035</td>\n",
       "      <td>0.471482</td>\n",
       "      <td>0.525579</td>\n",
       "      <td>1</td>\n",
       "      <td>0</td>\n",
       "    </tr>\n",
       "    <tr>\n",
       "      <th>42</th>\n",
       "      <td>0.510225</td>\n",
       "      <td>0.321511</td>\n",
       "      <td>0.419139</td>\n",
       "      <td>0.416958</td>\n",
       "      <td>0</td>\n",
       "      <td>1</td>\n",
       "    </tr>\n",
       "    <tr>\n",
       "      <th>43</th>\n",
       "      <td>0.515810</td>\n",
       "      <td>0.442143</td>\n",
       "      <td>0.450668</td>\n",
       "      <td>0.469540</td>\n",
       "      <td>0</td>\n",
       "      <td>1</td>\n",
       "    </tr>\n",
       "    <tr>\n",
       "      <th>44</th>\n",
       "      <td>0.431103</td>\n",
       "      <td>0.448910</td>\n",
       "      <td>0.570996</td>\n",
       "      <td>0.483670</td>\n",
       "      <td>0</td>\n",
       "      <td>1</td>\n",
       "    </tr>\n",
       "    <tr>\n",
       "      <th>53</th>\n",
       "      <td>0.619373</td>\n",
       "      <td>0.561804</td>\n",
       "      <td>0.496947</td>\n",
       "      <td>0.559375</td>\n",
       "      <td>1</td>\n",
       "      <td>0</td>\n",
       "    </tr>\n",
       "    <tr>\n",
       "      <th>56</th>\n",
       "      <td>0.457056</td>\n",
       "      <td>0.456027</td>\n",
       "      <td>0.502968</td>\n",
       "      <td>0.472017</td>\n",
       "      <td>0</td>\n",
       "      <td>1</td>\n",
       "    </tr>\n",
       "    <tr>\n",
       "      <th>57</th>\n",
       "      <td>0.498376</td>\n",
       "      <td>0.642502</td>\n",
       "      <td>0.530212</td>\n",
       "      <td>0.557030</td>\n",
       "      <td>1</td>\n",
       "      <td>0</td>\n",
       "    </tr>\n",
       "    <tr>\n",
       "      <th>58</th>\n",
       "      <td>0.498107</td>\n",
       "      <td>0.482797</td>\n",
       "      <td>0.492086</td>\n",
       "      <td>0.490997</td>\n",
       "      <td>0</td>\n",
       "      <td>1</td>\n",
       "    </tr>\n",
       "    <tr>\n",
       "      <th>62</th>\n",
       "      <td>0.543799</td>\n",
       "      <td>0.496855</td>\n",
       "      <td>0.396372</td>\n",
       "      <td>0.479009</td>\n",
       "      <td>0</td>\n",
       "      <td>1</td>\n",
       "    </tr>\n",
       "    <tr>\n",
       "      <th>64</th>\n",
       "      <td>0.519654</td>\n",
       "      <td>0.452665</td>\n",
       "      <td>0.431657</td>\n",
       "      <td>0.467992</td>\n",
       "      <td>0</td>\n",
       "      <td>1</td>\n",
       "    </tr>\n",
       "    <tr>\n",
       "      <th>65</th>\n",
       "      <td>0.499739</td>\n",
       "      <td>0.450361</td>\n",
       "      <td>0.498997</td>\n",
       "      <td>0.483033</td>\n",
       "      <td>0</td>\n",
       "      <td>1</td>\n",
       "    </tr>\n",
       "    <tr>\n",
       "      <th>67</th>\n",
       "      <td>0.381866</td>\n",
       "      <td>0.304423</td>\n",
       "      <td>0.350159</td>\n",
       "      <td>0.345483</td>\n",
       "      <td>0</td>\n",
       "      <td>1</td>\n",
       "    </tr>\n",
       "    <tr>\n",
       "      <th>71</th>\n",
       "      <td>0.476164</td>\n",
       "      <td>0.344807</td>\n",
       "      <td>0.500861</td>\n",
       "      <td>0.440611</td>\n",
       "      <td>0</td>\n",
       "      <td>1</td>\n",
       "    </tr>\n",
       "    <tr>\n",
       "      <th>72</th>\n",
       "      <td>0.459041</td>\n",
       "      <td>0.440273</td>\n",
       "      <td>0.469414</td>\n",
       "      <td>0.456243</td>\n",
       "      <td>0</td>\n",
       "      <td>1</td>\n",
       "    </tr>\n",
       "    <tr>\n",
       "      <th>73</th>\n",
       "      <td>0.498107</td>\n",
       "      <td>0.493044</td>\n",
       "      <td>0.496947</td>\n",
       "      <td>0.496033</td>\n",
       "      <td>0</td>\n",
       "      <td>1</td>\n",
       "    </tr>\n",
       "    <tr>\n",
       "      <th>77</th>\n",
       "      <td>0.357965</td>\n",
       "      <td>0.455579</td>\n",
       "      <td>0.379410</td>\n",
       "      <td>0.397651</td>\n",
       "      <td>0</td>\n",
       "      <td>1</td>\n",
       "    </tr>\n",
       "    <tr>\n",
       "      <th>79</th>\n",
       "      <td>0.542326</td>\n",
       "      <td>0.588834</td>\n",
       "      <td>0.452206</td>\n",
       "      <td>0.527789</td>\n",
       "      <td>1</td>\n",
       "      <td>0</td>\n",
       "    </tr>\n",
       "    <tr>\n",
       "      <th>80</th>\n",
       "      <td>0.514415</td>\n",
       "      <td>0.517142</td>\n",
       "      <td>0.532929</td>\n",
       "      <td>0.521495</td>\n",
       "      <td>1</td>\n",
       "      <td>0</td>\n",
       "    </tr>\n",
       "    <tr>\n",
       "      <th>81</th>\n",
       "      <td>0.498107</td>\n",
       "      <td>0.487727</td>\n",
       "      <td>0.491089</td>\n",
       "      <td>0.492308</td>\n",
       "      <td>0</td>\n",
       "      <td>1</td>\n",
       "    </tr>\n",
       "    <tr>\n",
       "      <th>86</th>\n",
       "      <td>0.472330</td>\n",
       "      <td>0.403145</td>\n",
       "      <td>0.573687</td>\n",
       "      <td>0.483054</td>\n",
       "      <td>0</td>\n",
       "      <td>1</td>\n",
       "    </tr>\n",
       "    <tr>\n",
       "      <th>90</th>\n",
       "      <td>0.393443</td>\n",
       "      <td>0.525198</td>\n",
       "      <td>0.521963</td>\n",
       "      <td>0.480201</td>\n",
       "      <td>0</td>\n",
       "      <td>1</td>\n",
       "    </tr>\n",
       "    <tr>\n",
       "      <th>91</th>\n",
       "      <td>0.495660</td>\n",
       "      <td>0.486374</td>\n",
       "      <td>0.499495</td>\n",
       "      <td>0.493843</td>\n",
       "      <td>0</td>\n",
       "      <td>1</td>\n",
       "    </tr>\n",
       "    <tr>\n",
       "      <th>92</th>\n",
       "      <td>0.484356</td>\n",
       "      <td>0.488597</td>\n",
       "      <td>0.498478</td>\n",
       "      <td>0.490477</td>\n",
       "      <td>0</td>\n",
       "      <td>1</td>\n",
       "    </tr>\n",
       "    <tr>\n",
       "      <th>93</th>\n",
       "      <td>0.490429</td>\n",
       "      <td>0.492135</td>\n",
       "      <td>0.496947</td>\n",
       "      <td>0.493171</td>\n",
       "      <td>0</td>\n",
       "      <td>1</td>\n",
       "    </tr>\n",
       "    <tr>\n",
       "      <th>95</th>\n",
       "      <td>0.339631</td>\n",
       "      <td>0.491728</td>\n",
       "      <td>0.382878</td>\n",
       "      <td>0.404746</td>\n",
       "      <td>0</td>\n",
       "      <td>1</td>\n",
       "    </tr>\n",
       "    <tr>\n",
       "      <th>97</th>\n",
       "      <td>0.498107</td>\n",
       "      <td>0.504275</td>\n",
       "      <td>0.496947</td>\n",
       "      <td>0.499776</td>\n",
       "      <td>0</td>\n",
       "      <td>1</td>\n",
       "    </tr>\n",
       "    <tr>\n",
       "      <th>98</th>\n",
       "      <td>0.522853</td>\n",
       "      <td>0.417680</td>\n",
       "      <td>0.485434</td>\n",
       "      <td>0.475322</td>\n",
       "      <td>0</td>\n",
       "      <td>1</td>\n",
       "    </tr>\n",
       "    <tr>\n",
       "      <th>100</th>\n",
       "      <td>0.448533</td>\n",
       "      <td>0.642989</td>\n",
       "      <td>0.339644</td>\n",
       "      <td>0.477055</td>\n",
       "      <td>0</td>\n",
       "      <td>1</td>\n",
       "    </tr>\n",
       "    <tr>\n",
       "      <th>102</th>\n",
       "      <td>0.437036</td>\n",
       "      <td>0.542852</td>\n",
       "      <td>0.496947</td>\n",
       "      <td>0.492278</td>\n",
       "      <td>0</td>\n",
       "      <td>1</td>\n",
       "    </tr>\n",
       "    <tr>\n",
       "      <th>103</th>\n",
       "      <td>0.441392</td>\n",
       "      <td>0.513438</td>\n",
       "      <td>0.496947</td>\n",
       "      <td>0.483926</td>\n",
       "      <td>0</td>\n",
       "      <td>1</td>\n",
       "    </tr>\n",
       "    <tr>\n",
       "      <th>104</th>\n",
       "      <td>0.310261</td>\n",
       "      <td>0.377429</td>\n",
       "      <td>0.495819</td>\n",
       "      <td>0.394503</td>\n",
       "      <td>0</td>\n",
       "      <td>1</td>\n",
       "    </tr>\n",
       "    <tr>\n",
       "      <th>106</th>\n",
       "      <td>0.253107</td>\n",
       "      <td>0.460197</td>\n",
       "      <td>0.496947</td>\n",
       "      <td>0.403417</td>\n",
       "      <td>0</td>\n",
       "      <td>1</td>\n",
       "    </tr>\n",
       "    <tr>\n",
       "      <th>107</th>\n",
       "      <td>0.424846</td>\n",
       "      <td>0.411483</td>\n",
       "      <td>0.386688</td>\n",
       "      <td>0.407672</td>\n",
       "      <td>0</td>\n",
       "      <td>1</td>\n",
       "    </tr>\n",
       "    <tr>\n",
       "      <th>108</th>\n",
       "      <td>0.530916</td>\n",
       "      <td>0.350872</td>\n",
       "      <td>0.515540</td>\n",
       "      <td>0.465776</td>\n",
       "      <td>0</td>\n",
       "      <td>1</td>\n",
       "    </tr>\n",
       "    <tr>\n",
       "      <th>110</th>\n",
       "      <td>0.498107</td>\n",
       "      <td>0.484448</td>\n",
       "      <td>0.498408</td>\n",
       "      <td>0.493654</td>\n",
       "      <td>0</td>\n",
       "      <td>1</td>\n",
       "    </tr>\n",
       "    <tr>\n",
       "      <th>111</th>\n",
       "      <td>0.507528</td>\n",
       "      <td>0.347207</td>\n",
       "      <td>0.496947</td>\n",
       "      <td>0.450561</td>\n",
       "      <td>0</td>\n",
       "      <td>1</td>\n",
       "    </tr>\n",
       "    <tr>\n",
       "      <th>112</th>\n",
       "      <td>0.455714</td>\n",
       "      <td>0.469668</td>\n",
       "      <td>0.351729</td>\n",
       "      <td>0.425704</td>\n",
       "      <td>0</td>\n",
       "      <td>1</td>\n",
       "    </tr>\n",
       "    <tr>\n",
       "      <th>114</th>\n",
       "      <td>0.499993</td>\n",
       "      <td>0.493044</td>\n",
       "      <td>0.502745</td>\n",
       "      <td>0.498594</td>\n",
       "      <td>0</td>\n",
       "      <td>1</td>\n",
       "    </tr>\n",
       "    <tr>\n",
       "      <th>117</th>\n",
       "      <td>0.501336</td>\n",
       "      <td>0.380454</td>\n",
       "      <td>0.496947</td>\n",
       "      <td>0.459579</td>\n",
       "      <td>0</td>\n",
       "      <td>1</td>\n",
       "    </tr>\n",
       "    <tr>\n",
       "      <th>118</th>\n",
       "      <td>0.535599</td>\n",
       "      <td>0.451085</td>\n",
       "      <td>0.507939</td>\n",
       "      <td>0.498208</td>\n",
       "      <td>0</td>\n",
       "      <td>1</td>\n",
       "    </tr>\n",
       "    <tr>\n",
       "      <th>119</th>\n",
       "      <td>0.378455</td>\n",
       "      <td>0.417176</td>\n",
       "      <td>0.386008</td>\n",
       "      <td>0.393880</td>\n",
       "      <td>0</td>\n",
       "      <td>1</td>\n",
       "    </tr>\n",
       "  </tbody>\n",
       "</table>\n",
       "</div>"
      ],
      "text/plain": [
       "     cor_pred  axl_pred  sag_pred      mean  predict  true\n",
       "5    0.584955  0.451003  0.491228  0.509062        1     0\n",
       "10   0.501321  0.493044  0.587147  0.527170        1     0\n",
       "11   0.506369  0.547019  0.496947  0.516778        1     0\n",
       "14   0.579082  0.519504  0.465399  0.521328        1     0\n",
       "25   0.561006  0.493044  0.496783  0.516944        1     0\n",
       "26   0.498107  0.556667  0.490023  0.514933        1     0\n",
       "32   0.556221  0.549035  0.471482  0.525579        1     0\n",
       "42   0.510225  0.321511  0.419139  0.416958        0     1\n",
       "43   0.515810  0.442143  0.450668  0.469540        0     1\n",
       "44   0.431103  0.448910  0.570996  0.483670        0     1\n",
       "53   0.619373  0.561804  0.496947  0.559375        1     0\n",
       "56   0.457056  0.456027  0.502968  0.472017        0     1\n",
       "57   0.498376  0.642502  0.530212  0.557030        1     0\n",
       "58   0.498107  0.482797  0.492086  0.490997        0     1\n",
       "62   0.543799  0.496855  0.396372  0.479009        0     1\n",
       "64   0.519654  0.452665  0.431657  0.467992        0     1\n",
       "65   0.499739  0.450361  0.498997  0.483033        0     1\n",
       "67   0.381866  0.304423  0.350159  0.345483        0     1\n",
       "71   0.476164  0.344807  0.500861  0.440611        0     1\n",
       "72   0.459041  0.440273  0.469414  0.456243        0     1\n",
       "73   0.498107  0.493044  0.496947  0.496033        0     1\n",
       "77   0.357965  0.455579  0.379410  0.397651        0     1\n",
       "79   0.542326  0.588834  0.452206  0.527789        1     0\n",
       "80   0.514415  0.517142  0.532929  0.521495        1     0\n",
       "81   0.498107  0.487727  0.491089  0.492308        0     1\n",
       "86   0.472330  0.403145  0.573687  0.483054        0     1\n",
       "90   0.393443  0.525198  0.521963  0.480201        0     1\n",
       "91   0.495660  0.486374  0.499495  0.493843        0     1\n",
       "92   0.484356  0.488597  0.498478  0.490477        0     1\n",
       "93   0.490429  0.492135  0.496947  0.493171        0     1\n",
       "95   0.339631  0.491728  0.382878  0.404746        0     1\n",
       "97   0.498107  0.504275  0.496947  0.499776        0     1\n",
       "98   0.522853  0.417680  0.485434  0.475322        0     1\n",
       "100  0.448533  0.642989  0.339644  0.477055        0     1\n",
       "102  0.437036  0.542852  0.496947  0.492278        0     1\n",
       "103  0.441392  0.513438  0.496947  0.483926        0     1\n",
       "104  0.310261  0.377429  0.495819  0.394503        0     1\n",
       "106  0.253107  0.460197  0.496947  0.403417        0     1\n",
       "107  0.424846  0.411483  0.386688  0.407672        0     1\n",
       "108  0.530916  0.350872  0.515540  0.465776        0     1\n",
       "110  0.498107  0.484448  0.498408  0.493654        0     1\n",
       "111  0.507528  0.347207  0.496947  0.450561        0     1\n",
       "112  0.455714  0.469668  0.351729  0.425704        0     1\n",
       "114  0.499993  0.493044  0.502745  0.498594        0     1\n",
       "117  0.501336  0.380454  0.496947  0.459579        0     1\n",
       "118  0.535599  0.451085  0.507939  0.498208        0     1\n",
       "119  0.378455  0.417176  0.386008  0.393880        0     1"
      ]
     },
     "execution_count": 42,
     "metadata": {},
     "output_type": "execute_result"
    }
   ],
   "source": [
    "pred[pred['true'] != pred['predict']]"
   ]
  },
  {
   "cell_type": "markdown",
   "id": "0f54b863",
   "metadata": {},
   "source": [
    "**export results to csv**"
   ]
  },
  {
   "cell_type": "code",
   "execution_count": 43,
   "id": "b07d6c55",
   "metadata": {},
   "outputs": [],
   "source": [
    "pred.to_csv('../data/pred_men_results.csv')"
   ]
  }
 ],
 "metadata": {
  "kernelspec": {
   "display_name": "Python 3",
   "language": "python",
   "name": "python3"
  },
  "language_info": {
   "codemirror_mode": {
    "name": "ipython",
    "version": 3
   },
   "file_extension": ".py",
   "mimetype": "text/x-python",
   "name": "python",
   "nbconvert_exporter": "python",
   "pygments_lexer": "ipython3",
   "version": "3.8.8"
  },
  "toc": {
   "base_numbering": 1,
   "nav_menu": {},
   "number_sections": true,
   "sideBar": true,
   "skip_h1_title": false,
   "title_cell": "Table of Contents",
   "title_sidebar": "Contents",
   "toc_cell": false,
   "toc_position": {
    "height": "747px",
    "left": "279px",
    "top": "323.133px",
    "width": "384px"
   },
   "toc_section_display": true,
   "toc_window_display": true
  }
 },
 "nbformat": 4,
 "nbformat_minor": 5
}
