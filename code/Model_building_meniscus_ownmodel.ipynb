{
 "cells": [
  {
   "cell_type": "markdown",
   "id": "4c2b325d",
   "metadata": {},
   "source": [
    "# Capstone: Development of an algorithm for automatic detection of meniscus tears in radiographic images of the knee."
   ]
  },
  {
   "cell_type": "markdown",
   "id": "dbc740b2",
   "metadata": {},
   "source": [
    "### Contents:\n",
    "- [Background](#Background)\n",
    "- [Data](#Data)\n",
    "- [Building own models](#Building-own-models)\n",
    "- [Evaluate results](#Evaluate-results)\n",
    "\n"
   ]
  },
  {
   "cell_type": "code",
   "execution_count": 1,
   "id": "63513338",
   "metadata": {},
   "outputs": [],
   "source": [
    "# from google.colab import drive\n",
    "# drive.mount('/content/drive') "
   ]
  },
  {
   "cell_type": "code",
   "execution_count": 2,
   "id": "68e9dab3",
   "metadata": {},
   "outputs": [],
   "source": [
    "# Import libraries here\n",
    "import os\n",
    "import tempfile\n",
    "import numpy as np\n",
    "import pandas as pd\n",
    "import matplotlib.pyplot as plt\n",
    "import seaborn as sns\n",
    "from glob import glob\n",
    "\n",
    "import random as random\n",
    "import imageio\n",
    "import imgaug as ia\n",
    "import tensorflow as tf\n",
    "from tensorflow import keras\n",
    "from tensorflow.keras.preprocessing.image import save_img, load_img, img_to_array\n",
    "from tensorflow.keras.models import Sequential\n",
    "from tensorflow.keras.layers import Dense, Dropout, Flatten, Conv2D, MaxPooling2D, Average, Input, Activation, Reshape, TimeDistributed\n",
    "from tensorflow.keras import regularizers, optimizers\n",
    "from tensorflow.keras.callbacks import ModelCheckpoint, TensorBoard\n",
    "from tensorflow.keras import models\n",
    "from tensorflow.keras import layers\n",
    "from tensorflow.keras import utils\n",
    "from tensorflow.keras.applications.vgg16 import VGG16, preprocess_input, decode_predictions\n",
    "from tensorflow.keras.utils import plot_model\n",
    "pd.options.mode.chained_assignment = None  # default='warn'\n",
    "\n",
    "tmpdir = tempfile.mkdtemp()\n"
   ]
  },
  {
   "cell_type": "markdown",
   "id": "4d18c603",
   "metadata": {},
   "source": [
    "**Data from [MRNet](https://stanfordmlgroup.github.io/competitions/mrnet/):** \n",
    "* Images of 1370 knee MRI exams performed at Stanford University Medical Center. The dataset contains 1,104 (80.6%) abnormal exams,  with 319 (23.3%) ACL tears and 508 (37.1%) meniscal tears; labels were obtained through manual extraction from clinical reports. \n",
    "* train set: consists of 1130 MRI images from coronal, sagittal and transverse planes\n",
    "* valdation set: consists of 120 MRI images from coronal, sagittal and transverse planes\n"
   ]
  },
  {
   "cell_type": "markdown",
   "id": "a07d701a",
   "metadata": {},
   "source": [
    "## Data import"
   ]
  },
  {
   "cell_type": "markdown",
   "id": "64823312",
   "metadata": {},
   "source": [
    "**import data and get labels**"
   ]
  },
  {
   "cell_type": "code",
   "execution_count": 3,
   "id": "7bb23e8a",
   "metadata": {},
   "outputs": [],
   "source": [
    "# !unzip drive/My\\ Drive/data.zip > /dev/null"
   ]
  },
  {
   "cell_type": "code",
   "execution_count": 4,
   "id": "9ba4edc1",
   "metadata": {},
   "outputs": [],
   "source": [
    "# /content/drive/MyDrive/Colab Notebooks/data"
   ]
  },
  {
   "cell_type": "code",
   "execution_count": 5,
   "id": "47cfdcef",
   "metadata": {},
   "outputs": [],
   "source": [
    "train_path = '../data/train/'\n",
    "valid_path = '../data/valid/'"
   ]
  },
  {
   "cell_type": "code",
   "execution_count": 6,
   "id": "293d6d9b",
   "metadata": {},
   "outputs": [],
   "source": [
    "# train_path = 'data/train/'\n",
    "# valid_path = 'data/valid/'"
   ]
  },
  {
   "cell_type": "code",
   "execution_count": 7,
   "id": "16c4233d",
   "metadata": {},
   "outputs": [],
   "source": [
    "datasets = {'train': train_path, 'valid': valid_path}\n",
    "planes = ['axial', 'coronal', 'sagittal']\n",
    "# diagnosis = ['abnormal','meniscus','acl']"
   ]
  },
  {
   "cell_type": "code",
   "execution_count": 8,
   "id": "a1693737",
   "metadata": {},
   "outputs": [],
   "source": [
    "def get_data(dataset_type, plane, diagnosis):\n",
    "    # for eg, (train, sagittal, acl)\n",
    "    if dataset_type == 'train':\n",
    "        go = train_path\n",
    "    else:\n",
    "        go = valid_path\n",
    "        \n",
    "#     img_path = glob(f'{go}/{plane}/*.npy')\n",
    "    plane_dir = f'{go}/{plane}'\n",
    "    data = os.listdir(plane_dir)\n",
    "    \n",
    "    label_path = f'../data/{dataset_type}-{diagnosis}.csv'\n",
    "#     label_path = f'data/{dataset_type}-{diagnosis}.csv'\n",
    "    label_df = pd.read_csv(label_path, names=['nr', diagnosis])\n",
    "    label_data = list(label_df[diagnosis])\n",
    "    \n",
    "    return(data, plane_dir, label_data)"
   ]
  },
  {
   "cell_type": "markdown",
   "id": "65fd590f",
   "metadata": {},
   "source": [
    "**abnormal dataset**"
   ]
  },
  {
   "cell_type": "code",
   "execution_count": 9,
   "id": "2efbef15",
   "metadata": {},
   "outputs": [],
   "source": [
    "# training data\n",
    "train_coronal_data, train_coronal_dir, train_ab_label = get_data('train', 'coronal', 'abnormal')\n",
    "train_axial_data, train_axial_dir, train_ab_label = get_data('train', 'axial', 'abnormal')\n",
    "train_sagittal_data, train_sagittal_dir, train_ab_label = get_data('train', 'sagittal', 'abnormal')"
   ]
  },
  {
   "cell_type": "code",
   "execution_count": 10,
   "id": "3dff0771",
   "metadata": {},
   "outputs": [],
   "source": [
    "# validation data\n",
    "valid_coronal_data, valid_coronal_dir, valid_ab_label = get_data('valid','coronal','abnormal')\n",
    "valid_axial_data, valid_axial_dir, valid_ab_label = get_data('valid','axial','abnormal')\n",
    "valid_sagittal_data, valid_sagittal_dir, valid_ab_label = get_data('valid','sagittal','abnormal')"
   ]
  },
  {
   "cell_type": "markdown",
   "id": "f4fbb8f0",
   "metadata": {},
   "source": [
    "**meniscus dataset**"
   ]
  },
  {
   "cell_type": "code",
   "execution_count": 11,
   "id": "ab41e366",
   "metadata": {},
   "outputs": [],
   "source": [
    "# training data\n",
    "train_coronal_data, train_coronal_dir, train_men_label = get_data('train', 'coronal', 'meniscus')\n",
    "train_axial_data, train_axial_dir, train_men_label = get_data('train', 'axial', 'meniscus')\n",
    "train_sagittal_data, train_sagittal_dir, train_men_label = get_data('train', 'sagittal', 'meniscus')"
   ]
  },
  {
   "cell_type": "code",
   "execution_count": 12,
   "id": "ceed3ce2",
   "metadata": {},
   "outputs": [],
   "source": [
    "# validation data\n",
    "valid_coronal_data, valid_coronal_dir, valid_men_label = get_data('valid','coronal','meniscus')\n",
    "valid_axial_data, valid_axial_dir, valid_men_label = get_data('valid','axial','meniscus')\n",
    "valid_sagittal_data, valid_sagittal_dir, valid_men_label = get_data('valid','sagittal','meniscus')"
   ]
  },
  {
   "cell_type": "code",
   "execution_count": 13,
   "id": "3f7d9cad",
   "metadata": {},
   "outputs": [],
   "source": [
    "# train_coronal_men_data.remove('.DS_Store')\n",
    "# train_axial_men_data.remove('.DS_Store')\n",
    "# train_sagittal_men_data.remove('.DS_Store')"
   ]
  },
  {
   "cell_type": "code",
   "execution_count": 14,
   "id": "a3a43187",
   "metadata": {},
   "outputs": [
    {
     "data": {
      "text/plain": [
       "'0000.npy'"
      ]
     },
     "execution_count": 14,
     "metadata": {},
     "output_type": "execute_result"
    }
   ],
   "source": [
    "train_coronal_data[0]"
   ]
  },
  {
   "cell_type": "code",
   "execution_count": 15,
   "id": "d2f5548e",
   "metadata": {},
   "outputs": [
    {
     "data": {
      "text/plain": [
       "'../data/train//coronal'"
      ]
     },
     "execution_count": 15,
     "metadata": {},
     "output_type": "execute_result"
    }
   ],
   "source": [
    "train_coronal_dir"
   ]
  },
  {
   "cell_type": "markdown",
   "id": "2fd097d6",
   "metadata": {},
   "source": [
    "**acl dataset**"
   ]
  },
  {
   "cell_type": "code",
   "execution_count": 16,
   "id": "bab91c83",
   "metadata": {},
   "outputs": [],
   "source": [
    "# training data\n",
    "train_coronal_data, train_coronal_dir, train_acl_label = get_data('train', 'coronal', 'acl')\n",
    "train_axial_data, train_axial_dir, train_acl_label = get_data('train', 'axial', 'acl')\n",
    "train_sagittal_data, train_sagittal_dir, train_acl_label = get_data('train', 'sagittal', 'acl')"
   ]
  },
  {
   "cell_type": "code",
   "execution_count": 17,
   "id": "28e45039",
   "metadata": {},
   "outputs": [],
   "source": [
    "# validation data\n",
    "valid_coronal_data, valid_coronal_dir, valid_acl_label = get_data('valid','coronal','acl')\n",
    "valid_axial_data, valid_axial_dir, valid_acl_label = get_data('valid','axial','acl')\n",
    "valid_sagittal_data, valid_sagittal_dir, valid_acl_label = get_data('valid','sagittal','acl')"
   ]
  },
  {
   "cell_type": "markdown",
   "id": "5530ba46",
   "metadata": {},
   "source": [
    "The dataset contains *s* x 256 x 256 images. Since middle images are the most useful, only 3 middle slides in the series are retained. \n"
   ]
  },
  {
   "cell_type": "code",
   "execution_count": 18,
   "id": "a03daa62",
   "metadata": {},
   "outputs": [],
   "source": [
    "def image_extraction(data, path, new_path): #3 images\n",
    "    '''this function extracts middle 3 slides of each scan'''\n",
    "    extract=[]\n",
    "    new_data=[]\n",
    "    for i in range(len(data)): \n",
    "        img = np.load(os.path.join(path,data[i]))\n",
    "        middle_idx = int(img.shape[0]/2)\n",
    "#         print(img.shape[0],middle_idx)\n",
    "        img = img[(middle_idx - 1) : (middle_idx + 2)]\n",
    "#         # reshape adapted for model (s x 256 x 256 x 1)\n",
    "#         img_reshape = np.repeat(img[..., np.newaxis], 1, -1)\n",
    "        img = img.reshape(256,256,3)\n",
    "        extract.extend(img)\n",
    "        new_data.append(np.array(extract))        \n",
    "        extract.clear()\n",
    "        \n",
    "#     new_data.shape(1130,256,256,3) for train\n",
    "    np.save(new_path, np.array(new_data))\n"
   ]
  },
  {
   "cell_type": "markdown",
   "id": "533f6dba",
   "metadata": {},
   "source": [
    "**image extraction for training data**"
   ]
  },
  {
   "cell_type": "code",
   "execution_count": 19,
   "id": "3e39ffd6",
   "metadata": {},
   "outputs": [],
   "source": [
    "# image extraction for 3 planes\n",
    "new_path = '../data/train_transform/coronal'\n",
    "image_extraction(train_coronal_data, train_coronal_dir, new_path)"
   ]
  },
  {
   "cell_type": "code",
   "execution_count": 20,
   "id": "f3c1a23c",
   "metadata": {},
   "outputs": [],
   "source": [
    "new_path = '../data/train_transform/axial'\n",
    "image_extraction(train_axial_data, train_axial_dir, new_path)"
   ]
  },
  {
   "cell_type": "code",
   "execution_count": 21,
   "id": "0c79ae44",
   "metadata": {},
   "outputs": [],
   "source": [
    "new_path = '../data/train_transform/sagittal'\n",
    "image_extraction(train_sagittal_data, train_sagittal_dir, new_path)"
   ]
  },
  {
   "cell_type": "code",
   "execution_count": 22,
   "id": "719671d5",
   "metadata": {},
   "outputs": [],
   "source": [
    "image = np.load('../data/train_transform/sagittal.npy')"
   ]
  },
  {
   "cell_type": "code",
   "execution_count": 23,
   "id": "f002efc4",
   "metadata": {},
   "outputs": [
    {
     "data": {
      "text/plain": [
       "(256, 256, 3)"
      ]
     },
     "execution_count": 23,
     "metadata": {},
     "output_type": "execute_result"
    }
   ],
   "source": [
    "image[0].shape"
   ]
  },
  {
   "cell_type": "markdown",
   "id": "3b4ac78b",
   "metadata": {},
   "source": [
    "**extraction for validation data**"
   ]
  },
  {
   "cell_type": "code",
   "execution_count": 24,
   "id": "5fa82965",
   "metadata": {},
   "outputs": [],
   "source": [
    "# image extraction for 3 planes\n",
    "new_path = '../data/valid_transform/coronal'\n",
    "image_extraction(valid_coronal_data, valid_coronal_dir, new_path)"
   ]
  },
  {
   "cell_type": "code",
   "execution_count": 25,
   "id": "ee2492fb",
   "metadata": {},
   "outputs": [],
   "source": [
    "new_path = '../data/valid_transform/axial'\n",
    "image_extraction(valid_axial_data, valid_axial_dir, new_path)"
   ]
  },
  {
   "cell_type": "code",
   "execution_count": 26,
   "id": "79ad09fc",
   "metadata": {},
   "outputs": [],
   "source": [
    "new_path = '../data/valid_transform/sagittal'\n",
    "image_extraction(valid_sagittal_data, valid_sagittal_dir, new_path)"
   ]
  },
  {
   "cell_type": "code",
   "execution_count": 27,
   "id": "bc75bb0e",
   "metadata": {},
   "outputs": [
    {
     "data": {
      "text/plain": [
       "(120, 256, 256, 3)"
      ]
     },
     "execution_count": 27,
     "metadata": {},
     "output_type": "execute_result"
    }
   ],
   "source": [
    "image = np.load('../data/valid_transform/sagittal.npy')\n",
    "image.shape"
   ]
  },
  {
   "cell_type": "markdown",
   "id": "f94a1929",
   "metadata": {},
   "source": [
    "**normalisation intensity**"
   ]
  },
  {
   "cell_type": "code",
   "execution_count": null,
   "id": "1a3d4605",
   "metadata": {},
   "outputs": [],
   "source": []
  },
  {
   "cell_type": "markdown",
   "id": "caab6116",
   "metadata": {},
   "source": [
    "**data generation for meniscus**"
   ]
  },
  {
   "cell_type": "code",
   "execution_count": 28,
   "id": "eb0bdc7d",
   "metadata": {},
   "outputs": [],
   "source": [
    "def data_gen(dataset_type, plane, diagnosis):\n",
    "    # for eg, (train, sagittal, mensicus)\n",
    "    if dataset_type == 'train':\n",
    "        go = '../data/train_transform/'\n",
    "    else:\n",
    "        go = '../data/valid_transform/'\n",
    "        \n",
    "    plane_dir = f'{go}/{plane}.npy'\n",
    "    \n",
    "    data = np.load(plane_dir)\n",
    "    label_path = f'../data/{dataset_type}-{diagnosis}.csv'\n",
    "#     label_path = f'data/{dataset_type}-{diagnosis}.csv'\n",
    "    label_df = pd.read_csv(label_path, names=['nr', diagnosis])\n",
    "    label_data = list(label_df[diagnosis])\n",
    "    \n",
    "    return(data, label_data)\n",
    "    "
   ]
  },
  {
   "cell_type": "markdown",
   "id": "495cc4fc",
   "metadata": {},
   "source": [
    "Note that training data for all planes are the same. Only labels are different."
   ]
  },
  {
   "cell_type": "code",
   "execution_count": 29,
   "id": "b1550b3f",
   "metadata": {},
   "outputs": [],
   "source": [
    "# generate training input\n",
    "coronal_mensicus, coronal_mensicus_label = data_gen('train', 'coronal', 'meniscus')\n",
    "axial_mensicus, axial_mensicus_label = data_gen('train', 'axial', 'meniscus')\n",
    "sagittal_mensicus, sagittal_mensicus_label = data_gen('train', 'sagittal', 'meniscus')\n",
    "\n",
    "# generate validation\n",
    "coronal_mensicus_val, coronal_mensicus_label_val  = data_gen('valid', 'coronal', 'meniscus')\n",
    "axial_mensicus_val, axial_mensicus_label_val  = data_gen('valid', 'axial', 'meniscus')\n",
    "sagittal_mensicus_val, sagittal_mensicus_label_val  = data_gen('valid', 'sagittal', 'meniscus')"
   ]
  },
  {
   "cell_type": "markdown",
   "id": "925cfeef",
   "metadata": {},
   "source": [
    "## Building own models"
   ]
  },
  {
   "cell_type": "markdown",
   "id": "06b6753f",
   "metadata": {},
   "source": [
    "The code snippet below is the first model, a simple stack of 3 convolution layers with a ReLU activation and followed by max-pooling layers. This is very similar to the architectures that Yann LeCun built in the 1990s for image classification (with the exception of ReLU). In addition, two fully-connected layers were added, and end with a single unit and a sigmoid activation, which is perfect for a binary classification. "
   ]
  },
  {
   "cell_type": "code",
   "execution_count": 30,
   "id": "218bdd88",
   "metadata": {},
   "outputs": [],
   "source": [
    "def build_model():\n",
    "    model = Sequential()\n",
    "    \n",
    "    model.add(Conv2D(filters=32, \n",
    "                     kernel_size=(3, 3),\n",
    "                     activation='relu',\n",
    "                     input_shape=(256,256,3)))\n",
    "    model.add(MaxPooling2D(pool_size=(2, 2)))\n",
    "\n",
    "    model.add(Conv2D(filters=32, \n",
    "                     kernel_size=(3, 3), \n",
    "                     activation='relu'))\n",
    "    model.add(MaxPooling2D(pool_size=(2, 2)))\n",
    "\n",
    "    model.add(Conv2D(filters=64, \n",
    "                     kernel_size=(3, 3), \n",
    "                     activation='relu'))\n",
    "    model.add(MaxPooling2D(pool_size=(2, 2)))\n",
    "    \n",
    "    model.add(Flatten())\n",
    "    model.add(Dense(256, activation=\"relu\"))\n",
    "    model.add(Dropout(0.5))\n",
    "    model.add(Dense(1, activation=\"sigmoid\"))\n",
    "    \n",
    "    sgd = optimizers.SGD(lr=1e-4, decay=1e-6, momentum=0.9, nesterov=True)\n",
    "    model.compile(optimizer=sgd, loss='binary_crossentropy', metrics=['accuracy'])\n",
    "    \n",
    "    return model"
   ]
  },
  {
   "cell_type": "code",
   "execution_count": 31,
   "id": "487fc35d",
   "metadata": {},
   "outputs": [
    {
     "name": "stdout",
     "output_type": "stream",
     "text": [
      "Model: \"sequential\"\n",
      "_________________________________________________________________\n",
      "Layer (type)                 Output Shape              Param #   \n",
      "=================================================================\n",
      "conv2d (Conv2D)              (None, 254, 254, 32)      896       \n",
      "_________________________________________________________________\n",
      "max_pooling2d (MaxPooling2D) (None, 127, 127, 32)      0         \n",
      "_________________________________________________________________\n",
      "conv2d_1 (Conv2D)            (None, 125, 125, 32)      9248      \n",
      "_________________________________________________________________\n",
      "max_pooling2d_1 (MaxPooling2 (None, 62, 62, 32)        0         \n",
      "_________________________________________________________________\n",
      "conv2d_2 (Conv2D)            (None, 60, 60, 64)        18496     \n",
      "_________________________________________________________________\n",
      "max_pooling2d_2 (MaxPooling2 (None, 30, 30, 64)        0         \n",
      "_________________________________________________________________\n",
      "flatten (Flatten)            (None, 57600)             0         \n",
      "_________________________________________________________________\n",
      "dense (Dense)                (None, 256)               14745856  \n",
      "_________________________________________________________________\n",
      "dropout (Dropout)            (None, 256)               0         \n",
      "_________________________________________________________________\n",
      "dense_1 (Dense)              (None, 1)                 257       \n",
      "=================================================================\n",
      "Total params: 14,774,753\n",
      "Trainable params: 14,774,753\n",
      "Non-trainable params: 0\n",
      "_________________________________________________________________\n"
     ]
    }
   ],
   "source": [
    "model = build_model()\n",
    "model.summary()"
   ]
  },
  {
   "cell_type": "code",
   "execution_count": 32,
   "id": "4b95c586",
   "metadata": {},
   "outputs": [],
   "source": [
    "# https://blog.keras.io/building-powerful-image-classification-models-using-very-little-data.html\n",
    "# training model that will be added to VGG16\n",
    "def model_train(model, model_name, num_epochs, train_data, train_labels, validation_data, validation_labels):\n",
    "    path_dir = r'C:\\Users\\USER\\DSI-roughpaper\\capstone\\data' \n",
    "    path = f'{path_dir}\\{model_name}\\weights.h5'\n",
    "\n",
    "    history = model.fit(x=train_data, y=np.array(train_labels), \n",
    "            batch_size=32, \n",
    "            validation_data=(validation_data, np.array(validation_labels)),\n",
    "            epochs=num_epochs, \n",
    "#             steps_per_epoch = 1096,  # len/batch_size\n",
    "#             validation_steps = 116,\n",
    "            verbose=1)\n",
    "\n",
    "    model.save_weights(path)\n",
    "    \n",
    "    return model, history"
   ]
  },
  {
   "cell_type": "code",
   "execution_count": 33,
   "id": "58b58f64",
   "metadata": {},
   "outputs": [],
   "source": [
    "def plot_results(model):\n",
    "    train_loss = model.history['loss']\n",
    "    test_loss = model.history['val_loss']\n",
    "    acc = model.history['accuracy']\n",
    "    val_acc = model.history['val_accuracy']\n",
    "    epoch_labels = model.epoch\n",
    "\n",
    "    fig, axes = plt.subplots(1, 2, figsize=(20, 6), sharex=True)\n",
    "\n",
    "    axes[0].plot(train_loss, label='Training Loss', color='#185fad')\n",
    "    axes[0].plot(test_loss, label='Testing Loss', color='orange')\n",
    "\n",
    "    axes[1].plot(acc, label='Training accuracy', color='blue')\n",
    "    axes[1].plot(val_acc, label='Testing accuracy', color='red')\n",
    "\n",
    "    # Set title\n",
    "    axes[0].title.set_text('Training and Testing Loss by Epoch')\n",
    "    axes[1].title.set_text('Training and Testing Accuracy by Epoch')\n",
    "    axes[0].set_xlabel('Epoch')\n",
    "    axes[1].set_xlabel('Epoch')\n",
    "    axes[0].set_ylabel('Binary Crossentropy')\n",
    "    axes[1].set_ylabel('Binary Crossentropy')\n",
    "    plt.xticks(epoch_labels, epoch_labels);    \n",
    "    axes[0].legend(fontsize=18);\n",
    "    axes[1].legend(fontsize=18);\n"
   ]
  },
  {
   "cell_type": "markdown",
   "id": "9501527c",
   "metadata": {},
   "source": [
    "**predictions for meniscus dataset**"
   ]
  },
  {
   "cell_type": "code",
   "execution_count": 34,
   "id": "da9009ff",
   "metadata": {},
   "outputs": [
    {
     "name": "stdout",
     "output_type": "stream",
     "text": [
      "Epoch 1/10\n",
      "36/36 [==============================] - 65s 2s/step - loss: 6.4532 - accuracy: 0.6062 - val_loss: 0.6816 - val_accuracy: 0.5500\n",
      "Epoch 2/10\n",
      "36/36 [==============================] - 67s 2s/step - loss: 0.6332 - accuracy: 0.6354 - val_loss: 0.6645 - val_accuracy: 0.5833\n",
      "Epoch 3/10\n",
      "36/36 [==============================] - 63s 2s/step - loss: 0.6119 - accuracy: 0.6646 - val_loss: 0.6680 - val_accuracy: 0.5917\n",
      "Epoch 4/10\n",
      "36/36 [==============================] - 66s 2s/step - loss: 0.6040 - accuracy: 0.6761 - val_loss: 0.6747 - val_accuracy: 0.6000\n",
      "Epoch 5/10\n",
      "36/36 [==============================] - 60s 2s/step - loss: 0.5943 - accuracy: 0.6726 - val_loss: 0.6530 - val_accuracy: 0.6167\n",
      "Epoch 6/10\n",
      "36/36 [==============================] - 57s 2s/step - loss: 0.5851 - accuracy: 0.6717 - val_loss: 0.6767 - val_accuracy: 0.5917\n",
      "Epoch 7/10\n",
      "36/36 [==============================] - 56s 2s/step - loss: 0.5809 - accuracy: 0.6885 - val_loss: 0.6652 - val_accuracy: 0.5667\n",
      "Epoch 8/10\n",
      "36/36 [==============================] - 60s 2s/step - loss: 0.5705 - accuracy: 0.6991 - val_loss: 0.6637 - val_accuracy: 0.5667\n",
      "Epoch 9/10\n",
      "36/36 [==============================] - 66s 2s/step - loss: 0.5614 - accuracy: 0.7071 - val_loss: 0.6676 - val_accuracy: 0.5750\n",
      "Epoch 10/10\n",
      "36/36 [==============================] - 61s 2s/step - loss: 0.5513 - accuracy: 0.7018 - val_loss: 0.6612 - val_accuracy: 0.5667\n"
     ]
    },
    {
     "data": {
      "image/png": "[encoded data removed]",
      "text/plain": [
       "<Figure size 1440x432 with 2 Axes>"
      ]
     },
     "metadata": {
      "needs_background": "light"
     },
     "output_type": "display_data"
    }
   ],
   "source": [
    "# coronal plane\n",
    "num_epochs=10\n",
    "\n",
    "cnn_model = build_model()\n",
    "cor_men_model, hst_cmen = model_train(cnn_model, 'hst_cmen', num_epochs, coronal_mensicus, coronal_mensicus_label, coronal_mensicus_val, coronal_mensicus_label_val)\n",
    "\n",
    "# get/plot accuracy\n",
    "hst_cmen_acc=[]\n",
    "hst_cmen_acc.append(np.mean(hst_cmen.history['val_accuracy']))\n",
    "plot_results(hst_cmen)"
   ]
  },
  {
   "cell_type": "code",
   "execution_count": 35,
   "id": "3b3f5ba6",
   "metadata": {},
   "outputs": [
    {
     "name": "stdout",
     "output_type": "stream",
     "text": [
      "Epoch 1/10\n",
      "36/36 [==============================] - 68s 2s/step - loss: 10.2595 - accuracy: 0.5743 - val_loss: 0.7056 - val_accuracy: 0.5667\n",
      "Epoch 2/10\n",
      "36/36 [==============================] - 63s 2s/step - loss: 0.6349 - accuracy: 0.6531 - val_loss: 0.6538 - val_accuracy: 0.6000\n",
      "Epoch 3/10\n",
      "36/36 [==============================] - 61s 2s/step - loss: 0.6113 - accuracy: 0.6664 - val_loss: 0.6392 - val_accuracy: 0.5917\n",
      "Epoch 4/10\n",
      "36/36 [==============================] - 60s 2s/step - loss: 0.5928 - accuracy: 0.6876 - val_loss: 0.6679 - val_accuracy: 0.5667\n",
      "Epoch 5/10\n",
      "36/36 [==============================] - 65s 2s/step - loss: 0.5837 - accuracy: 0.6823 - val_loss: 0.6478 - val_accuracy: 0.5667\n",
      "Epoch 6/10\n",
      "36/36 [==============================] - 68s 2s/step - loss: 0.5728 - accuracy: 0.6973 - val_loss: 0.6328 - val_accuracy: 0.6250\n",
      "Epoch 7/10\n",
      "36/36 [==============================] - 73s 2s/step - loss: 0.5550 - accuracy: 0.7204 - val_loss: 0.6170 - val_accuracy: 0.6417\n",
      "Epoch 8/10\n",
      "36/36 [==============================] - 61s 2s/step - loss: 0.5500 - accuracy: 0.7221 - val_loss: 0.6076 - val_accuracy: 0.7000\n",
      "Epoch 9/10\n",
      "36/36 [==============================] - 66s 2s/step - loss: 0.5436 - accuracy: 0.7150 - val_loss: 0.6255 - val_accuracy: 0.6500\n",
      "Epoch 10/10\n",
      "36/36 [==============================] - 63s 2s/step - loss: 0.5204 - accuracy: 0.7336 - val_loss: 0.6140 - val_accuracy: 0.6833\n"
     ]
    },
    {
     "data": {
      "image/png": "[encoded data removed]",
      "text/plain": [
       "<Figure size 1440x432 with 2 Axes>"
      ]
     },
     "metadata": {
      "needs_background": "light"
     },
     "output_type": "display_data"
    }
   ],
   "source": [
    "# axial plane\n",
    "num_epochs=10\n",
    "\n",
    "cnn_model = build_model()\n",
    "axl_men_model, hst_amen = model_train(cnn_model, 'hst_amen', num_epochs, axial_mensicus, axial_mensicus_label, axial_mensicus_val, axial_mensicus_label_val)\n",
    "\n",
    "# get/plot accuracy\n",
    "hst_amen_acc=[]\n",
    "hst_amen_acc.append(np.mean(hst_amen.history['val_accuracy']))\n",
    "plot_results(hst_cmen)"
   ]
  },
  {
   "cell_type": "code",
   "execution_count": 36,
   "id": "730db892",
   "metadata": {},
   "outputs": [
    {
     "name": "stdout",
     "output_type": "stream",
     "text": [
      "Epoch 1/10\n",
      "36/36 [==============================] - 63s 2s/step - loss: 7.1016 - accuracy: 0.5841 - val_loss: 0.6791 - val_accuracy: 0.5333\n",
      "Epoch 2/10\n",
      "36/36 [==============================] - 58s 2s/step - loss: 0.6280 - accuracy: 0.6522 - val_loss: 0.6716 - val_accuracy: 0.5750\n",
      "Epoch 3/10\n",
      "36/36 [==============================] - 61s 2s/step - loss: 0.6092 - accuracy: 0.6743 - val_loss: 0.6844 - val_accuracy: 0.5917\n",
      "Epoch 4/10\n",
      "36/36 [==============================] - 66s 2s/step - loss: 0.5873 - accuracy: 0.6735 - val_loss: 0.6743 - val_accuracy: 0.5917\n",
      "Epoch 5/10\n",
      "36/36 [==============================] - 58s 2s/step - loss: 0.5825 - accuracy: 0.6912 - val_loss: 0.6862 - val_accuracy: 0.6083\n",
      "Epoch 6/10\n",
      "36/36 [==============================] - 60s 2s/step - loss: 0.5655 - accuracy: 0.6973 - val_loss: 0.6992 - val_accuracy: 0.6083\n",
      "Epoch 7/10\n",
      "36/36 [==============================] - 57s 2s/step - loss: 0.5662 - accuracy: 0.7106 - val_loss: 0.6790 - val_accuracy: 0.5917\n",
      "Epoch 8/10\n",
      "36/36 [==============================] - 62s 2s/step - loss: 0.5526 - accuracy: 0.7133 - val_loss: 0.6824 - val_accuracy: 0.6000\n",
      "Epoch 9/10\n",
      "36/36 [==============================] - 57s 2s/step - loss: 0.5397 - accuracy: 0.7230 - val_loss: 0.6719 - val_accuracy: 0.5917\n",
      "Epoch 10/10\n",
      "36/36 [==============================] - 61s 2s/step - loss: 0.5269 - accuracy: 0.7177 - val_loss: 0.6671 - val_accuracy: 0.5917\n"
     ]
    },
    {
     "data": {
      "image/png": "[encoded data removed]",
      "text/plain": [
       "<Figure size 1440x432 with 2 Axes>"
      ]
     },
     "metadata": {
      "needs_background": "light"
     },
     "output_type": "display_data"
    }
   ],
   "source": [
    "# sagittal plane\n",
    "num_epochs=10\n",
    "\n",
    "cnn_model = build_model()\n",
    "sag_men_model, hst_smen = model_train(cnn_model, 'hst_smen', num_epochs, sagittal_mensicus, sagittal_mensicus_label, sagittal_mensicus_val, sagittal_mensicus_label_val)\n",
    "\n",
    "# get/plot accuracy\n",
    "hst_smen_acc=[]\n",
    "hst_smen_acc.append(np.mean(hst_smen.history['val_accuracy']))\n",
    "plot_results(hst_cmen)"
   ]
  },
  {
   "cell_type": "markdown",
   "id": "4be9a77d",
   "metadata": {},
   "source": [
    "**calculate average accuracy**"
   ]
  },
  {
   "cell_type": "code",
   "execution_count": 37,
   "id": "a8240d15",
   "metadata": {},
   "outputs": [
    {
     "data": {
      "text/plain": [
       "[[0.5808333277702331], [0.6191666603088379], [0.5883333265781403]]"
      ]
     },
     "execution_count": 37,
     "metadata": {},
     "output_type": "execute_result"
    }
   ],
   "source": [
    "[hst_cmen_acc, hst_amen_acc, hst_smen_acc]"
   ]
  },
  {
   "cell_type": "markdown",
   "id": "c0cd4b11",
   "metadata": {},
   "source": [
    "## Evaluate results"
   ]
  },
  {
   "cell_type": "code",
   "execution_count": 38,
   "id": "fe816f64",
   "metadata": {},
   "outputs": [
    {
     "name": "stdout",
     "output_type": "stream",
     "text": [
      "Test loss: 0.6611685156822205\n",
      "Test accuracy: 0.5666666626930237\n"
     ]
    }
   ],
   "source": [
    "cmen_scores = cor_men_model.evaluate(coronal_mensicus_val, np.array(coronal_mensicus_label_val), verbose=0)\n",
    "print('Test loss:', cmen_scores[0]) \n",
    "print('Test accuracy:', cmen_scores[1])"
   ]
  },
  {
   "cell_type": "code",
   "execution_count": 39,
   "id": "9d71ad67",
   "metadata": {},
   "outputs": [
    {
     "name": "stdout",
     "output_type": "stream",
     "text": [
      "Test loss: 0.613969087600708\n",
      "Test accuracy: 0.6833333373069763\n"
     ]
    }
   ],
   "source": [
    "amen_scores = axl_men_model.evaluate(axial_mensicus_val, np.array(axial_mensicus_label_val), verbose=0)\n",
    "print('Test loss:', amen_scores[0]) \n",
    "print('Test accuracy:', amen_scores[1])"
   ]
  },
  {
   "cell_type": "code",
   "execution_count": 40,
   "id": "1ac08cbc",
   "metadata": {},
   "outputs": [
    {
     "name": "stdout",
     "output_type": "stream",
     "text": [
      "Test loss: 0.6670868992805481\n",
      "Test accuracy: 0.5916666388511658\n"
     ]
    }
   ],
   "source": [
    "smen_scores = sag_men_model.evaluate(sagittal_mensicus_val, np.array(sagittal_mensicus_label_val), verbose=0)\n",
    "print('Test loss:', smen_scores[0]) \n",
    "print('Test accuracy:', smen_scores[1])"
   ]
  },
  {
   "cell_type": "markdown",
   "id": "e93f6cf7",
   "metadata": {},
   "source": [
    "**Evaluate predictions**"
   ]
  },
  {
   "cell_type": "code",
   "execution_count": 51,
   "id": "a2310420",
   "metadata": {},
   "outputs": [],
   "source": [
    "cor_pred = cor_men_model.predict(coronal_mensicus_val) \n",
    "axl_pred = axl_men_model.predict(axial_mensicus_val) \n",
    "sag_pred = sag_men_model.predict(sagittal_mensicus_val) \n"
   ]
  },
  {
   "cell_type": "code",
   "execution_count": 52,
   "id": "1efdfde1",
   "metadata": {},
   "outputs": [],
   "source": [
    "pred = pd.DataFrame(np.column_stack([cor_pred,axl_pred,sag_pred]),columns=['cor_pred', 'axl_pred', 'sag_pred'])\n",
    "pred['mean'] = pred.mean(axis=1)"
   ]
  },
  {
   "cell_type": "code",
   "execution_count": 53,
   "id": "40b288b4",
   "metadata": {},
   "outputs": [
    {
     "data": {
      "text/plain": [
       "0      0.119658\n",
       "1      0.212153\n",
       "2      0.209508\n",
       "3      0.119343\n",
       "4      0.499748\n",
       "         ...   \n",
       "115    0.408970\n",
       "116    0.483480\n",
       "117    0.347985\n",
       "118    0.342617\n",
       "119    0.250622\n",
       "Name: mean, Length: 120, dtype: float32"
      ]
     },
     "execution_count": 53,
     "metadata": {},
     "output_type": "execute_result"
    }
   ],
   "source": [
    "# since model output is [0,1] using sigmoid activation function\n",
    "# pred is the probability\n",
    "# take average probability from all 3 planes\n",
    "pred['mean']"
   ]
  },
  {
   "cell_type": "code",
   "execution_count": 54,
   "id": "90f480ed",
   "metadata": {},
   "outputs": [],
   "source": [
    "# if prob<0.5, it is 0.\n",
    "pred['predict'] = pred['mean'].map(lambda x: 0 if x<0.5 else 1)"
   ]
  },
  {
   "cell_type": "code",
   "execution_count": 55,
   "id": "8d56412c",
   "metadata": {},
   "outputs": [
    {
     "data": {
      "text/plain": [
       "0    88\n",
       "1    32\n",
       "Name: predict, dtype: int64"
      ]
     },
     "execution_count": 55,
     "metadata": {},
     "output_type": "execute_result"
    }
   ],
   "source": [
    "pred['predict'].value_counts()"
   ]
  },
  {
   "cell_type": "code",
   "execution_count": 56,
   "id": "0ac125e4",
   "metadata": {},
   "outputs": [],
   "source": [
    "pred['true'] = coronal_mensicus_label_val"
   ]
  },
  {
   "cell_type": "code",
   "execution_count": 59,
   "id": "157e2824",
   "metadata": {},
   "outputs": [
    {
     "data": {
      "text/html": [
       "<div>\n",
       "<style scoped>\n",
       "    .dataframe tbody tr th:only-of-type {\n",
       "        vertical-align: middle;\n",
       "    }\n",
       "\n",
       "    .dataframe tbody tr th {\n",
       "        vertical-align: top;\n",
       "    }\n",
       "\n",
       "    .dataframe thead th {\n",
       "        text-align: right;\n",
       "    }\n",
       "</style>\n",
       "<table border=\"1\" class=\"dataframe\">\n",
       "  <thead>\n",
       "    <tr style=\"text-align: right;\">\n",
       "      <th></th>\n",
       "      <th>cor_pred</th>\n",
       "      <th>axl_pred</th>\n",
       "      <th>sag_pred</th>\n",
       "      <th>mean</th>\n",
       "      <th>predict</th>\n",
       "      <th>true</th>\n",
       "    </tr>\n",
       "  </thead>\n",
       "  <tbody>\n",
       "    <tr>\n",
       "      <th>5</th>\n",
       "      <td>0.546926</td>\n",
       "      <td>0.433424</td>\n",
       "      <td>0.554141</td>\n",
       "      <td>0.511497</td>\n",
       "      <td>1</td>\n",
       "      <td>0</td>\n",
       "    </tr>\n",
       "    <tr>\n",
       "      <th>10</th>\n",
       "      <td>0.534560</td>\n",
       "      <td>0.598759</td>\n",
       "      <td>0.546162</td>\n",
       "      <td>0.559827</td>\n",
       "      <td>1</td>\n",
       "      <td>0</td>\n",
       "    </tr>\n",
       "    <tr>\n",
       "      <th>14</th>\n",
       "      <td>0.523339</td>\n",
       "      <td>0.753120</td>\n",
       "      <td>0.296299</td>\n",
       "      <td>0.524253</td>\n",
       "      <td>1</td>\n",
       "      <td>0</td>\n",
       "    </tr>\n",
       "    <tr>\n",
       "      <th>25</th>\n",
       "      <td>0.462713</td>\n",
       "      <td>0.590111</td>\n",
       "      <td>0.449014</td>\n",
       "      <td>0.500613</td>\n",
       "      <td>1</td>\n",
       "      <td>0</td>\n",
       "    </tr>\n",
       "    <tr>\n",
       "      <th>26</th>\n",
       "      <td>0.555102</td>\n",
       "      <td>0.707988</td>\n",
       "      <td>0.742113</td>\n",
       "      <td>0.668401</td>\n",
       "      <td>1</td>\n",
       "      <td>0</td>\n",
       "    </tr>\n",
       "    <tr>\n",
       "      <th>28</th>\n",
       "      <td>0.577851</td>\n",
       "      <td>0.439174</td>\n",
       "      <td>0.580093</td>\n",
       "      <td>0.532373</td>\n",
       "      <td>1</td>\n",
       "      <td>0</td>\n",
       "    </tr>\n",
       "    <tr>\n",
       "      <th>41</th>\n",
       "      <td>0.362948</td>\n",
       "      <td>0.616462</td>\n",
       "      <td>0.658202</td>\n",
       "      <td>0.545871</td>\n",
       "      <td>1</td>\n",
       "      <td>0</td>\n",
       "    </tr>\n",
       "    <tr>\n",
       "      <th>42</th>\n",
       "      <td>0.350362</td>\n",
       "      <td>0.219843</td>\n",
       "      <td>0.234657</td>\n",
       "      <td>0.268288</td>\n",
       "      <td>0</td>\n",
       "      <td>1</td>\n",
       "    </tr>\n",
       "    <tr>\n",
       "      <th>43</th>\n",
       "      <td>0.332641</td>\n",
       "      <td>0.401776</td>\n",
       "      <td>0.397432</td>\n",
       "      <td>0.377283</td>\n",
       "      <td>0</td>\n",
       "      <td>1</td>\n",
       "    </tr>\n",
       "    <tr>\n",
       "      <th>44</th>\n",
       "      <td>0.400692</td>\n",
       "      <td>0.402991</td>\n",
       "      <td>0.490782</td>\n",
       "      <td>0.431488</td>\n",
       "      <td>0</td>\n",
       "      <td>1</td>\n",
       "    </tr>\n",
       "    <tr>\n",
       "      <th>46</th>\n",
       "      <td>0.293020</td>\n",
       "      <td>0.467418</td>\n",
       "      <td>0.465435</td>\n",
       "      <td>0.408624</td>\n",
       "      <td>0</td>\n",
       "      <td>1</td>\n",
       "    </tr>\n",
       "    <tr>\n",
       "      <th>53</th>\n",
       "      <td>0.539302</td>\n",
       "      <td>0.858606</td>\n",
       "      <td>0.568229</td>\n",
       "      <td>0.655379</td>\n",
       "      <td>1</td>\n",
       "      <td>0</td>\n",
       "    </tr>\n",
       "    <tr>\n",
       "      <th>57</th>\n",
       "      <td>0.497505</td>\n",
       "      <td>0.721191</td>\n",
       "      <td>0.807906</td>\n",
       "      <td>0.675534</td>\n",
       "      <td>1</td>\n",
       "      <td>0</td>\n",
       "    </tr>\n",
       "    <tr>\n",
       "      <th>62</th>\n",
       "      <td>0.387639</td>\n",
       "      <td>0.544859</td>\n",
       "      <td>0.137799</td>\n",
       "      <td>0.356765</td>\n",
       "      <td>0</td>\n",
       "      <td>1</td>\n",
       "    </tr>\n",
       "    <tr>\n",
       "      <th>64</th>\n",
       "      <td>0.445112</td>\n",
       "      <td>0.486366</td>\n",
       "      <td>0.416602</td>\n",
       "      <td>0.449360</td>\n",
       "      <td>0</td>\n",
       "      <td>1</td>\n",
       "    </tr>\n",
       "    <tr>\n",
       "      <th>65</th>\n",
       "      <td>0.412498</td>\n",
       "      <td>0.426996</td>\n",
       "      <td>0.288856</td>\n",
       "      <td>0.376117</td>\n",
       "      <td>0</td>\n",
       "      <td>1</td>\n",
       "    </tr>\n",
       "    <tr>\n",
       "      <th>67</th>\n",
       "      <td>0.227269</td>\n",
       "      <td>0.223378</td>\n",
       "      <td>0.128146</td>\n",
       "      <td>0.192931</td>\n",
       "      <td>0</td>\n",
       "      <td>1</td>\n",
       "    </tr>\n",
       "    <tr>\n",
       "      <th>71</th>\n",
       "      <td>0.448154</td>\n",
       "      <td>0.421363</td>\n",
       "      <td>0.465025</td>\n",
       "      <td>0.444847</td>\n",
       "      <td>0</td>\n",
       "      <td>1</td>\n",
       "    </tr>\n",
       "    <tr>\n",
       "      <th>72</th>\n",
       "      <td>0.244848</td>\n",
       "      <td>0.643659</td>\n",
       "      <td>0.428775</td>\n",
       "      <td>0.439094</td>\n",
       "      <td>0</td>\n",
       "      <td>1</td>\n",
       "    </tr>\n",
       "    <tr>\n",
       "      <th>74</th>\n",
       "      <td>0.503865</td>\n",
       "      <td>0.410920</td>\n",
       "      <td>0.776240</td>\n",
       "      <td>0.563675</td>\n",
       "      <td>1</td>\n",
       "      <td>0</td>\n",
       "    </tr>\n",
       "    <tr>\n",
       "      <th>77</th>\n",
       "      <td>0.152309</td>\n",
       "      <td>0.554734</td>\n",
       "      <td>0.366300</td>\n",
       "      <td>0.357781</td>\n",
       "      <td>0</td>\n",
       "      <td>1</td>\n",
       "    </tr>\n",
       "    <tr>\n",
       "      <th>79</th>\n",
       "      <td>0.470492</td>\n",
       "      <td>0.681840</td>\n",
       "      <td>0.466203</td>\n",
       "      <td>0.539512</td>\n",
       "      <td>1</td>\n",
       "      <td>0</td>\n",
       "    </tr>\n",
       "    <tr>\n",
       "      <th>83</th>\n",
       "      <td>0.468461</td>\n",
       "      <td>0.506957</td>\n",
       "      <td>0.477611</td>\n",
       "      <td>0.484343</td>\n",
       "      <td>0</td>\n",
       "      <td>1</td>\n",
       "    </tr>\n",
       "    <tr>\n",
       "      <th>84</th>\n",
       "      <td>0.329085</td>\n",
       "      <td>0.692874</td>\n",
       "      <td>0.710813</td>\n",
       "      <td>0.577590</td>\n",
       "      <td>1</td>\n",
       "      <td>0</td>\n",
       "    </tr>\n",
       "    <tr>\n",
       "      <th>86</th>\n",
       "      <td>0.356644</td>\n",
       "      <td>0.430259</td>\n",
       "      <td>0.258370</td>\n",
       "      <td>0.348424</td>\n",
       "      <td>0</td>\n",
       "      <td>1</td>\n",
       "    </tr>\n",
       "    <tr>\n",
       "      <th>90</th>\n",
       "      <td>0.134812</td>\n",
       "      <td>0.654553</td>\n",
       "      <td>0.662280</td>\n",
       "      <td>0.483882</td>\n",
       "      <td>0</td>\n",
       "      <td>1</td>\n",
       "    </tr>\n",
       "    <tr>\n",
       "      <th>94</th>\n",
       "      <td>0.403122</td>\n",
       "      <td>0.643638</td>\n",
       "      <td>0.408475</td>\n",
       "      <td>0.485078</td>\n",
       "      <td>0</td>\n",
       "      <td>1</td>\n",
       "    </tr>\n",
       "    <tr>\n",
       "      <th>95</th>\n",
       "      <td>0.337325</td>\n",
       "      <td>0.563073</td>\n",
       "      <td>0.374145</td>\n",
       "      <td>0.424848</td>\n",
       "      <td>0</td>\n",
       "      <td>1</td>\n",
       "    </tr>\n",
       "    <tr>\n",
       "      <th>97</th>\n",
       "      <td>0.497046</td>\n",
       "      <td>0.478409</td>\n",
       "      <td>0.253468</td>\n",
       "      <td>0.409641</td>\n",
       "      <td>0</td>\n",
       "      <td>1</td>\n",
       "    </tr>\n",
       "    <tr>\n",
       "      <th>98</th>\n",
       "      <td>0.370822</td>\n",
       "      <td>0.424810</td>\n",
       "      <td>0.393874</td>\n",
       "      <td>0.396502</td>\n",
       "      <td>0</td>\n",
       "      <td>1</td>\n",
       "    </tr>\n",
       "    <tr>\n",
       "      <th>100</th>\n",
       "      <td>0.534445</td>\n",
       "      <td>0.593116</td>\n",
       "      <td>0.238458</td>\n",
       "      <td>0.455340</td>\n",
       "      <td>0</td>\n",
       "      <td>1</td>\n",
       "    </tr>\n",
       "    <tr>\n",
       "      <th>104</th>\n",
       "      <td>0.309512</td>\n",
       "      <td>0.458773</td>\n",
       "      <td>0.436487</td>\n",
       "      <td>0.401591</td>\n",
       "      <td>0</td>\n",
       "      <td>1</td>\n",
       "    </tr>\n",
       "    <tr>\n",
       "      <th>105</th>\n",
       "      <td>0.374728</td>\n",
       "      <td>0.567217</td>\n",
       "      <td>0.335581</td>\n",
       "      <td>0.425842</td>\n",
       "      <td>0</td>\n",
       "      <td>1</td>\n",
       "    </tr>\n",
       "    <tr>\n",
       "      <th>106</th>\n",
       "      <td>0.144466</td>\n",
       "      <td>0.289658</td>\n",
       "      <td>0.504224</td>\n",
       "      <td>0.312783</td>\n",
       "      <td>0</td>\n",
       "      <td>1</td>\n",
       "    </tr>\n",
       "    <tr>\n",
       "      <th>107</th>\n",
       "      <td>0.318450</td>\n",
       "      <td>0.404094</td>\n",
       "      <td>0.589380</td>\n",
       "      <td>0.437308</td>\n",
       "      <td>0</td>\n",
       "      <td>1</td>\n",
       "    </tr>\n",
       "    <tr>\n",
       "      <th>108</th>\n",
       "      <td>0.379602</td>\n",
       "      <td>0.196205</td>\n",
       "      <td>0.423882</td>\n",
       "      <td>0.333230</td>\n",
       "      <td>0</td>\n",
       "      <td>1</td>\n",
       "    </tr>\n",
       "    <tr>\n",
       "      <th>110</th>\n",
       "      <td>0.394785</td>\n",
       "      <td>0.510921</td>\n",
       "      <td>0.264450</td>\n",
       "      <td>0.390052</td>\n",
       "      <td>0</td>\n",
       "      <td>1</td>\n",
       "    </tr>\n",
       "    <tr>\n",
       "      <th>111</th>\n",
       "      <td>0.382290</td>\n",
       "      <td>0.237535</td>\n",
       "      <td>0.243037</td>\n",
       "      <td>0.287621</td>\n",
       "      <td>0</td>\n",
       "      <td>1</td>\n",
       "    </tr>\n",
       "    <tr>\n",
       "      <th>112</th>\n",
       "      <td>0.414078</td>\n",
       "      <td>0.576211</td>\n",
       "      <td>0.487824</td>\n",
       "      <td>0.492704</td>\n",
       "      <td>0</td>\n",
       "      <td>1</td>\n",
       "    </tr>\n",
       "    <tr>\n",
       "      <th>115</th>\n",
       "      <td>0.573206</td>\n",
       "      <td>0.342344</td>\n",
       "      <td>0.311360</td>\n",
       "      <td>0.408970</td>\n",
       "      <td>0</td>\n",
       "      <td>1</td>\n",
       "    </tr>\n",
       "    <tr>\n",
       "      <th>116</th>\n",
       "      <td>0.590213</td>\n",
       "      <td>0.512449</td>\n",
       "      <td>0.347777</td>\n",
       "      <td>0.483480</td>\n",
       "      <td>0</td>\n",
       "      <td>1</td>\n",
       "    </tr>\n",
       "    <tr>\n",
       "      <th>117</th>\n",
       "      <td>0.407103</td>\n",
       "      <td>0.181076</td>\n",
       "      <td>0.455777</td>\n",
       "      <td>0.347985</td>\n",
       "      <td>0</td>\n",
       "      <td>1</td>\n",
       "    </tr>\n",
       "    <tr>\n",
       "      <th>118</th>\n",
       "      <td>0.338668</td>\n",
       "      <td>0.324534</td>\n",
       "      <td>0.364648</td>\n",
       "      <td>0.342617</td>\n",
       "      <td>0</td>\n",
       "      <td>1</td>\n",
       "    </tr>\n",
       "    <tr>\n",
       "      <th>119</th>\n",
       "      <td>0.253171</td>\n",
       "      <td>0.353539</td>\n",
       "      <td>0.145155</td>\n",
       "      <td>0.250622</td>\n",
       "      <td>0</td>\n",
       "      <td>1</td>\n",
       "    </tr>\n",
       "  </tbody>\n",
       "</table>\n",
       "</div>"
      ],
      "text/plain": [
       "     cor_pred  axl_pred  sag_pred      mean  predict  true\n",
       "5    0.546926  0.433424  0.554141  0.511497        1     0\n",
       "10   0.534560  0.598759  0.546162  0.559827        1     0\n",
       "14   0.523339  0.753120  0.296299  0.524253        1     0\n",
       "25   0.462713  0.590111  0.449014  0.500613        1     0\n",
       "26   0.555102  0.707988  0.742113  0.668401        1     0\n",
       "28   0.577851  0.439174  0.580093  0.532373        1     0\n",
       "41   0.362948  0.616462  0.658202  0.545871        1     0\n",
       "42   0.350362  0.219843  0.234657  0.268288        0     1\n",
       "43   0.332641  0.401776  0.397432  0.377283        0     1\n",
       "44   0.400692  0.402991  0.490782  0.431488        0     1\n",
       "46   0.293020  0.467418  0.465435  0.408624        0     1\n",
       "53   0.539302  0.858606  0.568229  0.655379        1     0\n",
       "57   0.497505  0.721191  0.807906  0.675534        1     0\n",
       "62   0.387639  0.544859  0.137799  0.356765        0     1\n",
       "64   0.445112  0.486366  0.416602  0.449360        0     1\n",
       "65   0.412498  0.426996  0.288856  0.376117        0     1\n",
       "67   0.227269  0.223378  0.128146  0.192931        0     1\n",
       "71   0.448154  0.421363  0.465025  0.444847        0     1\n",
       "72   0.244848  0.643659  0.428775  0.439094        0     1\n",
       "74   0.503865  0.410920  0.776240  0.563675        1     0\n",
       "77   0.152309  0.554734  0.366300  0.357781        0     1\n",
       "79   0.470492  0.681840  0.466203  0.539512        1     0\n",
       "83   0.468461  0.506957  0.477611  0.484343        0     1\n",
       "84   0.329085  0.692874  0.710813  0.577590        1     0\n",
       "86   0.356644  0.430259  0.258370  0.348424        0     1\n",
       "90   0.134812  0.654553  0.662280  0.483882        0     1\n",
       "94   0.403122  0.643638  0.408475  0.485078        0     1\n",
       "95   0.337325  0.563073  0.374145  0.424848        0     1\n",
       "97   0.497046  0.478409  0.253468  0.409641        0     1\n",
       "98   0.370822  0.424810  0.393874  0.396502        0     1\n",
       "100  0.534445  0.593116  0.238458  0.455340        0     1\n",
       "104  0.309512  0.458773  0.436487  0.401591        0     1\n",
       "105  0.374728  0.567217  0.335581  0.425842        0     1\n",
       "106  0.144466  0.289658  0.504224  0.312783        0     1\n",
       "107  0.318450  0.404094  0.589380  0.437308        0     1\n",
       "108  0.379602  0.196205  0.423882  0.333230        0     1\n",
       "110  0.394785  0.510921  0.264450  0.390052        0     1\n",
       "111  0.382290  0.237535  0.243037  0.287621        0     1\n",
       "112  0.414078  0.576211  0.487824  0.492704        0     1\n",
       "115  0.573206  0.342344  0.311360  0.408970        0     1\n",
       "116  0.590213  0.512449  0.347777  0.483480        0     1\n",
       "117  0.407103  0.181076  0.455777  0.347985        0     1\n",
       "118  0.338668  0.324534  0.364648  0.342617        0     1\n",
       "119  0.253171  0.353539  0.145155  0.250622        0     1"
      ]
     },
     "execution_count": 59,
     "metadata": {},
     "output_type": "execute_result"
    }
   ],
   "source": [
    "pred[pred['true'] != pred['predict']]"
   ]
  },
  {
   "cell_type": "code",
   "execution_count": null,
   "id": "9354b8d9",
   "metadata": {},
   "outputs": [],
   "source": []
  }
 ],
 "metadata": {
  "kernelspec": {
   "display_name": "Python 3",
   "language": "python",
   "name": "python3"
  },
  "language_info": {
   "codemirror_mode": {
    "name": "ipython",
    "version": 3
   },
   "file_extension": ".py",
   "mimetype": "text/x-python",
   "name": "python",
   "nbconvert_exporter": "python",
   "pygments_lexer": "ipython3",
   "version": "3.8.8"
  },
  "toc": {
   "base_numbering": 1,
   "nav_menu": {},
   "number_sections": true,
   "sideBar": true,
   "skip_h1_title": false,
   "title_cell": "Table of Contents",
   "title_sidebar": "Contents",
   "toc_cell": false,
   "toc_position": {
    "height": "747px",
    "left": "279px",
    "top": "323.133px",
    "width": "384px"
   },
   "toc_section_display": true,
   "toc_window_display": true
  }
 },
 "nbformat": 4,
 "nbformat_minor": 5
}
