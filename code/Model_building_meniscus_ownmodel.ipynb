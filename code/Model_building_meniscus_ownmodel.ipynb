{
 "cells": [
  {
   "cell_type": "markdown",
   "id": "4c2b325d",
   "metadata": {},
   "source": [
    "# Capstone: Development of an algorithm for automatic detection of meniscus tears in radiographic images of the knee."
   ]
  },
  {
   "cell_type": "markdown",
   "id": "dbc740b2",
   "metadata": {},
   "source": [
    "### Contents:\n",
    "- [Background](#Background)\n",
    "- [Data](#Data)\n",
    "- [Building own models](#Building-own-models)\n",
    "- [Evaluate results](#Evaluate-results)\n",
    "\n"
   ]
  },
  {
   "cell_type": "code",
   "execution_count": 1,
   "id": "68e9dab3",
   "metadata": {},
   "outputs": [],
   "source": [
    "# Import libraries here\n",
    "import os\n",
    "import tempfile\n",
    "import numpy as np\n",
    "import pandas as pd\n",
    "import matplotlib.pyplot as plt\n",
    "import seaborn as sns\n",
    "from glob import glob\n",
    "\n",
    "import nibabel as nib\n",
    "from intensity_normalization.normalize.fcm import FCMNormalize\n",
    "from intensity_normalization.plot.histogram import HistogramPlotter, plot_histogram\n",
    "\n",
    "import random as random\n",
    "import imageio\n",
    "import imgaug as ia\n",
    "import tensorflow as tf\n",
    "from tensorflow import keras\n",
    "from tensorflow.keras.preprocessing.image import save_img, load_img, img_to_array\n",
    "from tensorflow.keras.models import Sequential\n",
    "from tensorflow.keras.layers import Dense, Dropout, Flatten, Conv2D, MaxPooling2D, Average, Input, Activation, Reshape, TimeDistributed\n",
    "from tensorflow.keras import regularizers, optimizers\n",
    "from tensorflow.keras.callbacks import ModelCheckpoint, EarlyStopping, TensorBoard\n",
    "from tensorflow.keras import models\n",
    "from tensorflow.keras import layers\n",
    "from tensorflow.keras import utils\n",
    "from tensorflow.keras.applications.vgg16 import VGG16, preprocess_input, decode_predictions\n",
    "from tensorflow.keras.utils import plot_model\n",
    "pd.options.mode.chained_assignment = None  # default='warn'\n",
    "\n",
    "tmpdir = tempfile.mkdtemp()\n"
   ]
  },
  {
   "cell_type": "markdown",
   "id": "4d18c603",
   "metadata": {},
   "source": [
    "**Data from [MRNet](https://stanfordmlgroup.github.io/competitions/mrnet/):** \n",
    "* Images of 1370 knee MRI exams performed at Stanford University Medical Center. The dataset contains 1,104 (80.6%) abnormal exams,  with 319 (23.3%) ACL tears and 508 (37.1%) meniscal tears; labels were obtained through manual extraction from clinical reports. \n",
    "* train set: consists of 1130 MRI images from coronal, sagittal and transverse planes\n",
    "* valdation set: consists of 120 MRI images from coronal, sagittal and transverse planes\n"
   ]
  },
  {
   "cell_type": "markdown",
   "id": "a07d701a",
   "metadata": {},
   "source": [
    "## Data import"
   ]
  },
  {
   "cell_type": "markdown",
   "id": "64823312",
   "metadata": {},
   "source": [
    "**import data and get labels**"
   ]
  },
  {
   "cell_type": "code",
   "execution_count": 2,
   "id": "47cfdcef",
   "metadata": {},
   "outputs": [],
   "source": [
    "train_path = '../data/train/'\n",
    "valid_path = '../data/valid/'"
   ]
  },
  {
   "cell_type": "code",
   "execution_count": 3,
   "id": "16c4233d",
   "metadata": {},
   "outputs": [],
   "source": [
    "datasets = {'train': train_path, 'valid': valid_path}\n",
    "planes = ['axial', 'coronal', 'sagittal']\n",
    "# diagnosis = ['abnormal','meniscus','acl']"
   ]
  },
  {
   "cell_type": "code",
   "execution_count": 4,
   "id": "a1693737",
   "metadata": {},
   "outputs": [],
   "source": [
    "def get_data(dataset_type, plane, diagnosis):\n",
    "    # for eg, (train, sagittal, acl)\n",
    "    if dataset_type == 'train':\n",
    "        go = train_path\n",
    "    else:\n",
    "        go = valid_path\n",
    "        \n",
    "#     img_path = glob(f'{go}/{plane}/*.npy')\n",
    "    plane_dir = f'{go}/{plane}'\n",
    "    data = os.listdir(plane_dir)\n",
    "    \n",
    "    label_path = f'../data/{dataset_type}-{diagnosis}.csv'\n",
    "#     label_path = f'data/{dataset_type}-{diagnosis}.csv'\n",
    "    label_df = pd.read_csv(label_path, names=['nr', diagnosis])\n",
    "    label_data = list(label_df[diagnosis])\n",
    "    \n",
    "    return(data, plane_dir, label_data)"
   ]
  },
  {
   "cell_type": "markdown",
   "id": "f4fbb8f0",
   "metadata": {},
   "source": [
    "**meniscus dataset**"
   ]
  },
  {
   "cell_type": "code",
   "execution_count": 5,
   "id": "ab41e366",
   "metadata": {},
   "outputs": [],
   "source": [
    "# training data\n",
    "train_coronal_data, train_coronal_dir, train_men_label = get_data('train', 'coronal', 'meniscus')\n",
    "train_axial_data, train_axial_dir, train_men_label = get_data('train', 'axial', 'meniscus')\n",
    "train_sagittal_data, train_sagittal_dir, train_men_label = get_data('train', 'sagittal', 'meniscus')"
   ]
  },
  {
   "cell_type": "code",
   "execution_count": 6,
   "id": "ceed3ce2",
   "metadata": {},
   "outputs": [],
   "source": [
    "# validation data\n",
    "valid_coronal_data, valid_coronal_dir, valid_men_label = get_data('valid','coronal','meniscus')\n",
    "valid_axial_data, valid_axial_dir, valid_men_label = get_data('valid','axial','meniscus')\n",
    "valid_sagittal_data, valid_sagittal_dir, valid_men_label = get_data('valid','sagittal','meniscus')"
   ]
  },
  {
   "cell_type": "code",
   "execution_count": 7,
   "id": "a3a43187",
   "metadata": {},
   "outputs": [
    {
     "data": {
      "text/plain": [
       "'0000.npy'"
      ]
     },
     "execution_count": 7,
     "metadata": {},
     "output_type": "execute_result"
    }
   ],
   "source": [
    "train_coronal_data[0]"
   ]
  },
  {
   "cell_type": "code",
   "execution_count": 8,
   "id": "d2f5548e",
   "metadata": {},
   "outputs": [
    {
     "data": {
      "text/plain": [
       "'../data/train//coronal'"
      ]
     },
     "execution_count": 8,
     "metadata": {},
     "output_type": "execute_result"
    }
   ],
   "source": [
    "train_coronal_dir"
   ]
  },
  {
   "cell_type": "markdown",
   "id": "5530ba46",
   "metadata": {},
   "source": [
    "The dataset contains *s* x 256 x 256 images. Since middle images are the most useful, only 3 middle slides in the series are retained. \n"
   ]
  },
  {
   "cell_type": "code",
   "execution_count": 9,
   "id": "a03daa62",
   "metadata": {},
   "outputs": [],
   "source": [
    "def image_extraction(data, path, new_path): #3 images\n",
    "    '''this function extracts middle 3 slides of each scan'''\n",
    "    extract=[]\n",
    "    new_data=[]\n",
    "    for i in range(len(data)): \n",
    "        img = np.load(os.path.join(path,data[i]))\n",
    "        middle_idx = int(img.shape[0]/2)\n",
    "#         print(img.shape[0],middle_idx)\n",
    "        img = img[(middle_idx - 1) : (middle_idx + 2)]\n",
    "#         # reshape adapted for model (s x 256 x 256 x 1)\n",
    "#         img_reshape = np.repeat(img[..., np.newaxis], 1, -1)\n",
    "        img = img.reshape(256,256,3)\n",
    "        extract.extend(img)\n",
    "        new_data.append(np.array(extract))        \n",
    "        extract.clear()\n",
    "        \n",
    "#     new_data.shape(1130,256,256,3) for train\n",
    "#     new_data.shape(120,256,256,3) for valid\n",
    "    np.save(new_path, np.array(new_data))\n"
   ]
  },
  {
   "cell_type": "markdown",
   "id": "533f6dba",
   "metadata": {},
   "source": [
    "**image extraction for training data**"
   ]
  },
  {
   "cell_type": "code",
   "execution_count": 10,
   "id": "3e39ffd6",
   "metadata": {},
   "outputs": [],
   "source": [
    "# image extraction for 3 planes\n",
    "new_path = '../data/train_transform/coronal'\n",
    "image_extraction(train_coronal_data, train_coronal_dir, new_path)"
   ]
  },
  {
   "cell_type": "code",
   "execution_count": 11,
   "id": "f3c1a23c",
   "metadata": {},
   "outputs": [],
   "source": [
    "new_path = '../data/train_transform/axial'\n",
    "image_extraction(train_axial_data, train_axial_dir, new_path)"
   ]
  },
  {
   "cell_type": "code",
   "execution_count": 12,
   "id": "0c79ae44",
   "metadata": {},
   "outputs": [],
   "source": [
    "new_path = '../data/train_transform/sagittal'\n",
    "image_extraction(train_sagittal_data, train_sagittal_dir, new_path)"
   ]
  },
  {
   "cell_type": "code",
   "execution_count": 13,
   "id": "719671d5",
   "metadata": {},
   "outputs": [],
   "source": [
    "image = np.load('../data/train_transform/sagittal.npy')"
   ]
  },
  {
   "cell_type": "code",
   "execution_count": 14,
   "id": "f002efc4",
   "metadata": {},
   "outputs": [
    {
     "data": {
      "text/plain": [
       "(256, 256, 3)"
      ]
     },
     "execution_count": 14,
     "metadata": {},
     "output_type": "execute_result"
    }
   ],
   "source": [
    "image[0].shape"
   ]
  },
  {
   "cell_type": "markdown",
   "id": "3b4ac78b",
   "metadata": {},
   "source": [
    "**extraction for validation data**"
   ]
  },
  {
   "cell_type": "code",
   "execution_count": 15,
   "id": "5fa82965",
   "metadata": {},
   "outputs": [],
   "source": [
    "# image extraction for 3 planes\n",
    "new_path = '../data/valid_transform/coronal'\n",
    "image_extraction(valid_coronal_data, valid_coronal_dir, new_path)"
   ]
  },
  {
   "cell_type": "code",
   "execution_count": 16,
   "id": "ee2492fb",
   "metadata": {},
   "outputs": [],
   "source": [
    "new_path = '../data/valid_transform/axial'\n",
    "image_extraction(valid_axial_data, valid_axial_dir, new_path)"
   ]
  },
  {
   "cell_type": "code",
   "execution_count": 17,
   "id": "79ad09fc",
   "metadata": {},
   "outputs": [],
   "source": [
    "new_path = '../data/valid_transform/sagittal'\n",
    "image_extraction(valid_sagittal_data, valid_sagittal_dir, new_path)"
   ]
  },
  {
   "cell_type": "code",
   "execution_count": 18,
   "id": "bc75bb0e",
   "metadata": {},
   "outputs": [
    {
     "data": {
      "text/plain": [
       "(120, 256, 256, 3)"
      ]
     },
     "execution_count": 18,
     "metadata": {},
     "output_type": "execute_result"
    }
   ],
   "source": [
    "image = np.load('../data/valid_transform/sagittal.npy')\n",
    "image.shape"
   ]
  },
  {
   "cell_type": "markdown",
   "id": "caab6116",
   "metadata": {},
   "source": [
    "**data generation for meniscus**"
   ]
  },
  {
   "cell_type": "code",
   "execution_count": 19,
   "id": "eb0bdc7d",
   "metadata": {},
   "outputs": [],
   "source": [
    "def data_gen(dataset_type, plane, diagnosis):\n",
    "    # for eg, (train, sagittal, mensicus)\n",
    "    if dataset_type == 'train':\n",
    "        go = '../data/train_transform/'\n",
    "    else:\n",
    "        go = '../data/valid_transform/'\n",
    "        \n",
    "    plane_dir = f'{go}/{plane}.npy'\n",
    "    \n",
    "    data = np.load(plane_dir)\n",
    "    label_path = f'../data/{dataset_type}-{diagnosis}.csv'\n",
    "#     label_path = f'data/{dataset_type}-{diagnosis}.csv'\n",
    "    label_df = pd.read_csv(label_path, names=['nr', diagnosis])\n",
    "    label_data = list(label_df[diagnosis])\n",
    "    \n",
    "    return(data, label_data)\n",
    "    "
   ]
  },
  {
   "cell_type": "markdown",
   "id": "495cc4fc",
   "metadata": {},
   "source": [
    "Note that training data for all planes are the same. Only labels are different."
   ]
  },
  {
   "cell_type": "code",
   "execution_count": 20,
   "id": "b1550b3f",
   "metadata": {},
   "outputs": [],
   "source": [
    "# generate training input\n",
    "coronal_mensicus, coronal_mensicus_label = data_gen('train', 'coronal', 'meniscus')\n",
    "axial_mensicus, axial_mensicus_label = data_gen('train', 'axial', 'meniscus')\n",
    "sagittal_mensicus, sagittal_mensicus_label = data_gen('train', 'sagittal', 'meniscus')\n",
    "\n",
    "# generate validation\n",
    "coronal_mensicus_val, coronal_mensicus_label_val  = data_gen('valid', 'coronal', 'meniscus')\n",
    "axial_mensicus_val, axial_mensicus_label_val  = data_gen('valid', 'axial', 'meniscus')\n",
    "sagittal_mensicus_val, sagittal_mensicus_label_val  = data_gen('valid', 'sagittal', 'meniscus')"
   ]
  },
  {
   "cell_type": "markdown",
   "id": "925cfeef",
   "metadata": {},
   "source": [
    "## Building own models"
   ]
  },
  {
   "cell_type": "markdown",
   "id": "06b6753f",
   "metadata": {},
   "source": [
    "The code snippet below is the first model, a simple stack of 3 convolution layers with a ReLU activation and followed by max-pooling layers. This is very similar to the architectures that Yann LeCun built in the 1990s for image classification (with the exception of ReLU). In addition, two fully-connected layers were added, and end with a single unit and a sigmoid activation, which is perfect for a binary classification. "
   ]
  },
  {
   "cell_type": "code",
   "execution_count": 21,
   "id": "218bdd88",
   "metadata": {},
   "outputs": [],
   "source": [
    "def build_model():\n",
    "    model = Sequential()\n",
    "    \n",
    "    model.add(Conv2D(filters=32, \n",
    "                     kernel_size=(3, 3),\n",
    "                     activation='relu',\n",
    "                     input_shape=(256,256,3)))\n",
    "    model.add(MaxPooling2D(pool_size=(2, 2)))\n",
    "\n",
    "    model.add(Conv2D(filters=32, \n",
    "                     kernel_size=(3, 3), \n",
    "                     activation='relu'))\n",
    "    model.add(MaxPooling2D(pool_size=(2, 2)))\n",
    "\n",
    "    model.add(Conv2D(filters=64, \n",
    "                     kernel_size=(3, 3), \n",
    "                     activation='relu'))\n",
    "    model.add(MaxPooling2D(pool_size=(2, 2)))\n",
    "    \n",
    "    model.add(Flatten())\n",
    "    model.add(Dense(256, activation=\"relu\"))\n",
    "    model.add(Dropout(0.5))\n",
    "    model.add(Dense(1, activation=\"sigmoid\"))\n",
    "    \n",
    "    sgd = optimizers.SGD(lr=1e-4, decay=1e-6, momentum=0.9, nesterov=True)\n",
    "    model.compile(optimizer=sgd, loss='binary_crossentropy', metrics=['accuracy'])\n",
    "    \n",
    "    return model"
   ]
  },
  {
   "cell_type": "code",
   "execution_count": 22,
   "id": "487fc35d",
   "metadata": {},
   "outputs": [
    {
     "name": "stdout",
     "output_type": "stream",
     "text": [
      "Model: \"sequential\"\n",
      "_________________________________________________________________\n",
      "Layer (type)                 Output Shape              Param #   \n",
      "=================================================================\n",
      "conv2d (Conv2D)              (None, 254, 254, 32)      896       \n",
      "_________________________________________________________________\n",
      "max_pooling2d (MaxPooling2D) (None, 127, 127, 32)      0         \n",
      "_________________________________________________________________\n",
      "conv2d_1 (Conv2D)            (None, 125, 125, 32)      9248      \n",
      "_________________________________________________________________\n",
      "max_pooling2d_1 (MaxPooling2 (None, 62, 62, 32)        0         \n",
      "_________________________________________________________________\n",
      "conv2d_2 (Conv2D)            (None, 60, 60, 64)        18496     \n",
      "_________________________________________________________________\n",
      "max_pooling2d_2 (MaxPooling2 (None, 30, 30, 64)        0         \n",
      "_________________________________________________________________\n",
      "flatten (Flatten)            (None, 57600)             0         \n",
      "_________________________________________________________________\n",
      "dense (Dense)                (None, 256)               14745856  \n",
      "_________________________________________________________________\n",
      "dropout (Dropout)            (None, 256)               0         \n",
      "_________________________________________________________________\n",
      "dense_1 (Dense)              (None, 1)                 257       \n",
      "=================================================================\n",
      "Total params: 14,774,753\n",
      "Trainable params: 14,774,753\n",
      "Non-trainable params: 0\n",
      "_________________________________________________________________\n"
     ]
    }
   ],
   "source": [
    "model = build_model()\n",
    "model.summary()"
   ]
  },
  {
   "cell_type": "code",
   "execution_count": 23,
   "id": "4b95c586",
   "metadata": {},
   "outputs": [],
   "source": [
    "# https://blog.keras.io/building-powerful-image-classification-models-using-very-little-data.html\n",
    "# training model that will be added to VGG16\n",
    "def model_train(model, model_name, num_epochs, train_data, train_labels, validation_data, validation_labels):\n",
    "    path_dir = r'C:\\Users\\USER\\DSI-roughpaper\\capstone\\data' \n",
    "    path = f'{path_dir}\\{model_name}\\weights.h5'\n",
    "\n",
    "    history = model.fit(x=train_data, y=np.array(train_labels), \n",
    "            batch_size=32, \n",
    "            validation_data=(validation_data, np.array(validation_labels)),\n",
    "            epochs=num_epochs, \n",
    "            callbacks = [EarlyStopping(patience=3, monitor = 'val_loss', mode = 'min')], \n",
    "            verbose=1)\n",
    "\n",
    "    model.save_weights(path)\n",
    "    \n",
    "    return model, history"
   ]
  },
  {
   "cell_type": "code",
   "execution_count": 24,
   "id": "58b58f64",
   "metadata": {},
   "outputs": [],
   "source": [
    "def plot_results(model):\n",
    "    train_loss = model.history['loss']\n",
    "    test_loss = model.history['val_loss']\n",
    "    acc = model.history['accuracy']\n",
    "    val_acc = model.history['val_accuracy']\n",
    "    epoch_labels = model.epoch\n",
    "\n",
    "    fig, axes = plt.subplots(1, 2, figsize=(20, 6), sharex=True)\n",
    "\n",
    "    axes[0].plot(train_loss, label='Training Loss', color='#185fad')\n",
    "    axes[0].plot(test_loss, label='Testing Loss', color='orange')\n",
    "\n",
    "    axes[1].plot(acc, label='Training accuracy', color='blue')\n",
    "    axes[1].plot(val_acc, label='Testing accuracy', color='red')\n",
    "\n",
    "    # Set title\n",
    "    axes[0].title.set_text('Training and Testing Loss by Epoch')\n",
    "    axes[1].title.set_text('Training and Testing Accuracy by Epoch')\n",
    "    axes[0].set_xlabel('Epoch')\n",
    "    axes[1].set_xlabel('Epoch')\n",
    "    axes[0].set_ylabel('Binary Crossentropy')\n",
    "    axes[1].set_ylabel('Binary Crossentropy')\n",
    "    plt.xticks(epoch_labels, epoch_labels);    \n",
    "    axes[0].legend(fontsize=18);\n",
    "    axes[1].legend(fontsize=18);\n"
   ]
  },
  {
   "cell_type": "markdown",
   "id": "9501527c",
   "metadata": {},
   "source": [
    "**predictions for meniscus dataset**"
   ]
  },
  {
   "cell_type": "code",
   "execution_count": 25,
   "id": "da9009ff",
   "metadata": {},
   "outputs": [
    {
     "name": "stdout",
     "output_type": "stream",
     "text": [
      "Epoch 1/30\n",
      "36/36 [==============================] - 64s 2s/step - loss: 5.6730 - accuracy: 0.6044 - val_loss: 0.6852 - val_accuracy: 0.5833\n",
      "Epoch 2/30\n",
      "36/36 [==============================] - 56s 2s/step - loss: 0.6195 - accuracy: 0.6549 - val_loss: 0.7100 - val_accuracy: 0.5917\n",
      "Epoch 3/30\n",
      "36/36 [==============================] - 56s 2s/step - loss: 0.6086 - accuracy: 0.6690 - val_loss: 0.6747 - val_accuracy: 0.5833\n",
      "Epoch 4/30\n",
      "36/36 [==============================] - 57s 2s/step - loss: 0.5940 - accuracy: 0.6717 - val_loss: 0.7104 - val_accuracy: 0.5833\n",
      "Epoch 5/30\n",
      "36/36 [==============================] - 57s 2s/step - loss: 0.5863 - accuracy: 0.6726 - val_loss: 0.6884 - val_accuracy: 0.5833\n",
      "Epoch 6/30\n",
      "36/36 [==============================] - 56s 2s/step - loss: 0.5853 - accuracy: 0.6681 - val_loss: 0.6997 - val_accuracy: 0.5833\n"
     ]
    },
    {
     "data": {
      "image/png": "[encoded data removed]",
      "text/plain": [
       "<Figure size 1440x432 with 2 Axes>"
      ]
     },
     "metadata": {},
     "output_type": "display_data"
    }
   ],
   "source": [
    "# coronal plane\n",
    "num_epochs=30\n",
    "\n",
    "cnn_model = build_model()\n",
    "cor_men_model, hst_cmen = model_train(cnn_model, 'hst_cmen', num_epochs, coronal_mensicus, coronal_mensicus_label, coronal_mensicus_val, coronal_mensicus_label_val)\n",
    "\n",
    "# get/plot accuracy\n",
    "hst_cmen_acc=[]\n",
    "hst_cmen_acc.append(np.mean(hst_cmen.history['val_accuracy']))\n",
    "plot_results(hst_cmen)"
   ]
  },
  {
   "cell_type": "code",
   "execution_count": 26,
   "id": "3b3f5ba6",
   "metadata": {},
   "outputs": [
    {
     "name": "stdout",
     "output_type": "stream",
     "text": [
      "Epoch 1/30\n",
      "36/36 [==============================] - 58s 2s/step - loss: 7.5372 - accuracy: 0.5956 - val_loss: 0.6629 - val_accuracy: 0.5917\n",
      "Epoch 2/30\n",
      "36/36 [==============================] - 56s 2s/step - loss: 0.6705 - accuracy: 0.6062 - val_loss: 0.6675 - val_accuracy: 0.5833\n",
      "Epoch 3/30\n",
      "36/36 [==============================] - 56s 2s/step - loss: 0.6340 - accuracy: 0.6637 - val_loss: 0.6689 - val_accuracy: 0.5750\n",
      "Epoch 4/30\n",
      "36/36 [==============================] - 56s 2s/step - loss: 0.6214 - accuracy: 0.6832 - val_loss: 0.6695 - val_accuracy: 0.6083\n"
     ]
    },
    {
     "data": {
      "image/png": "[encoded data removed]",
      "text/plain": [
       "<Figure size 1440x432 with 2 Axes>"
      ]
     },
     "metadata": {},
     "output_type": "display_data"
    }
   ],
   "source": [
    "# axial plane\n",
    "num_epochs=30\n",
    "\n",
    "cnn_model = build_model()\n",
    "axl_men_model, hst_amen = model_train(cnn_model, 'hst_amen', num_epochs, axial_mensicus, axial_mensicus_label, axial_mensicus_val, axial_mensicus_label_val)\n",
    "\n",
    "# get/plot accuracy\n",
    "hst_amen_acc=[]\n",
    "hst_amen_acc.append(np.mean(hst_amen.history['val_accuracy']))\n",
    "plot_results(hst_amen)"
   ]
  },
  {
   "cell_type": "code",
   "execution_count": 27,
   "id": "730db892",
   "metadata": {},
   "outputs": [
    {
     "name": "stdout",
     "output_type": "stream",
     "text": [
      "Epoch 1/30\n",
      "36/36 [==============================] - 58s 2s/step - loss: 19.9298 - accuracy: 0.5726 - val_loss: 0.6673 - val_accuracy: 0.5833\n",
      "Epoch 2/30\n",
      "36/36 [==============================] - 62s 2s/step - loss: 0.6119 - accuracy: 0.6619 - val_loss: 0.6319 - val_accuracy: 0.6083\n",
      "Epoch 3/30\n",
      "36/36 [==============================] - 59s 2s/step - loss: 0.5833 - accuracy: 0.6788 - val_loss: 0.6430 - val_accuracy: 0.5917\n",
      "Epoch 4/30\n",
      "36/36 [==============================] - 56s 2s/step - loss: 0.5627 - accuracy: 0.7027 - val_loss: 0.6378 - val_accuracy: 0.6333\n",
      "Epoch 5/30\n",
      "36/36 [==============================] - 56s 2s/step - loss: 0.5438 - accuracy: 0.7000 - val_loss: 0.6318 - val_accuracy: 0.6250\n",
      "Epoch 6/30\n",
      "36/36 [==============================] - 55s 2s/step - loss: 0.5203 - accuracy: 0.7451 - val_loss: 0.6294 - val_accuracy: 0.6583\n",
      "Epoch 7/30\n",
      "36/36 [==============================] - 56s 2s/step - loss: 0.4982 - accuracy: 0.7655 - val_loss: 0.6186 - val_accuracy: 0.6750\n",
      "Epoch 8/30\n",
      "36/36 [==============================] - 55s 2s/step - loss: 0.4658 - accuracy: 0.7743 - val_loss: 0.6278 - val_accuracy: 0.6917\n",
      "Epoch 9/30\n",
      "36/36 [==============================] - 56s 2s/step - loss: 0.4590 - accuracy: 0.7796 - val_loss: 0.6166 - val_accuracy: 0.6417\n",
      "Epoch 10/30\n",
      "36/36 [==============================] - 56s 2s/step - loss: 0.4591 - accuracy: 0.7779 - val_loss: 0.6133 - val_accuracy: 0.6417\n",
      "Epoch 11/30\n",
      "36/36 [==============================] - 57s 2s/step - loss: 0.4274 - accuracy: 0.8071 - val_loss: 0.6255 - val_accuracy: 0.6833\n",
      "Epoch 12/30\n",
      "36/36 [==============================] - 55s 2s/step - loss: 0.3979 - accuracy: 0.8204 - val_loss: 0.6185 - val_accuracy: 0.6667\n",
      "Epoch 13/30\n",
      "36/36 [==============================] - 54s 1s/step - loss: 0.3774 - accuracy: 0.8336 - val_loss: 0.6406 - val_accuracy: 0.6417\n"
     ]
    },
    {
     "data": {
      "image/png": "[encoded data removed]",
      "text/plain": [
       "<Figure size 1440x432 with 2 Axes>"
      ]
     },
     "metadata": {},
     "output_type": "display_data"
    }
   ],
   "source": [
    "# sagittal plane\n",
    "num_epochs=30\n",
    "\n",
    "cnn_model = build_model()\n",
    "sag_men_model, hst_smen = model_train(cnn_model, 'hst_smen', num_epochs, sagittal_mensicus, sagittal_mensicus_label, sagittal_mensicus_val, sagittal_mensicus_label_val)\n",
    "\n",
    "# get/plot accuracy\n",
    "hst_smen_acc=[]\n",
    "hst_smen_acc.append(np.mean(hst_smen.history['val_accuracy']))\n",
    "plot_results(hst_smen)"
   ]
  },
  {
   "cell_type": "markdown",
   "id": "4be9a77d",
   "metadata": {},
   "source": [
    "**calculate average accuracy**"
   ]
  },
  {
   "cell_type": "code",
   "execution_count": 28,
   "id": "a8240d15",
   "metadata": {},
   "outputs": [
    {
     "data": {
      "text/plain": [
       "[[0.5847222010294596], [0.5895833224058151], [0.6416666645270127]]"
      ]
     },
     "execution_count": 28,
     "metadata": {},
     "output_type": "execute_result"
    }
   ],
   "source": [
    "[hst_cmen_acc, hst_amen_acc, hst_smen_acc]"
   ]
  },
  {
   "cell_type": "markdown",
   "id": "c0cd4b11",
   "metadata": {},
   "source": [
    "## Evaluate results"
   ]
  },
  {
   "cell_type": "code",
   "execution_count": 29,
   "id": "fe816f64",
   "metadata": {},
   "outputs": [
    {
     "name": "stdout",
     "output_type": "stream",
     "text": [
      "Test loss: 0.6997183561325073\n",
      "Test accuracy: 0.5833333134651184\n"
     ]
    }
   ],
   "source": [
    "cmen_scores = cor_men_model.evaluate(coronal_mensicus_val, np.array(coronal_mensicus_label_val), verbose=0)\n",
    "print('Test loss:', cmen_scores[0]) \n",
    "print('Test accuracy:', cmen_scores[1])"
   ]
  },
  {
   "cell_type": "code",
   "execution_count": 30,
   "id": "9d71ad67",
   "metadata": {},
   "outputs": [
    {
     "name": "stdout",
     "output_type": "stream",
     "text": [
      "Test loss: 0.6694735884666443\n",
      "Test accuracy: 0.6083333492279053\n"
     ]
    }
   ],
   "source": [
    "amen_scores = axl_men_model.evaluate(axial_mensicus_val, np.array(axial_mensicus_label_val), verbose=0)\n",
    "print('Test loss:', amen_scores[0]) \n",
    "print('Test accuracy:', amen_scores[1])"
   ]
  },
  {
   "cell_type": "code",
   "execution_count": 31,
   "id": "1ac08cbc",
   "metadata": {},
   "outputs": [
    {
     "name": "stdout",
     "output_type": "stream",
     "text": [
      "Test loss: 0.6406071782112122\n",
      "Test accuracy: 0.6416666507720947\n"
     ]
    }
   ],
   "source": [
    "smen_scores = sag_men_model.evaluate(sagittal_mensicus_val, np.array(sagittal_mensicus_label_val), verbose=0)\n",
    "print('Test loss:', smen_scores[0]) \n",
    "print('Test accuracy:', smen_scores[1])"
   ]
  },
  {
   "cell_type": "markdown",
   "id": "e93f6cf7",
   "metadata": {},
   "source": [
    "**Evaluate predictions**"
   ]
  },
  {
   "cell_type": "code",
   "execution_count": 32,
   "id": "a2310420",
   "metadata": {},
   "outputs": [],
   "source": [
    "cor_pred = cor_men_model.predict(coronal_mensicus_val) \n",
    "axl_pred = axl_men_model.predict(axial_mensicus_val) \n",
    "sag_pred = sag_men_model.predict(sagittal_mensicus_val) \n"
   ]
  },
  {
   "cell_type": "code",
   "execution_count": 33,
   "id": "1efdfde1",
   "metadata": {},
   "outputs": [],
   "source": [
    "pred = pd.DataFrame(np.column_stack([cor_pred,axl_pred,sag_pred]),columns=['cor_pred', 'axl_pred', 'sag_pred'])\n",
    "pred['mean'] = pred.mean(axis=1)"
   ]
  },
  {
   "cell_type": "code",
   "execution_count": 34,
   "id": "40b288b4",
   "metadata": {},
   "outputs": [
    {
     "data": {
      "text/plain": [
       "0      0.168691\n",
       "1      0.182779\n",
       "2      0.200930\n",
       "3      0.145470\n",
       "4      0.469323\n",
       "         ...   \n",
       "115    0.308367\n",
       "116    0.369919\n",
       "117    0.276794\n",
       "118    0.365275\n",
       "119    0.178955\n",
       "Name: mean, Length: 120, dtype: float32"
      ]
     },
     "execution_count": 34,
     "metadata": {},
     "output_type": "execute_result"
    }
   ],
   "source": [
    "# since model output is [0,1] using sigmoid activation function\n",
    "# pred is the probability\n",
    "# take average probability from all 3 planes\n",
    "pred['mean']"
   ]
  },
  {
   "cell_type": "code",
   "execution_count": 35,
   "id": "90f480ed",
   "metadata": {},
   "outputs": [],
   "source": [
    "# if prob<0.5, it is 0.\n",
    "pred['predict'] = pred['mean'].map(lambda x: 0 if x<0.5 else 1)"
   ]
  },
  {
   "cell_type": "code",
   "execution_count": 36,
   "id": "8d56412c",
   "metadata": {},
   "outputs": [
    {
     "data": {
      "text/plain": [
       "0    102\n",
       "1     18\n",
       "Name: predict, dtype: int64"
      ]
     },
     "execution_count": 36,
     "metadata": {},
     "output_type": "execute_result"
    }
   ],
   "source": [
    "pred['predict'].value_counts()"
   ]
  },
  {
   "cell_type": "code",
   "execution_count": 37,
   "id": "0ac125e4",
   "metadata": {},
   "outputs": [],
   "source": [
    "pred['true'] = coronal_mensicus_label_val"
   ]
  },
  {
   "cell_type": "code",
   "execution_count": 38,
   "id": "d3df16bb",
   "metadata": {},
   "outputs": [
    {
     "data": {
      "text/plain": [
       "(46, 6)"
      ]
     },
     "execution_count": 38,
     "metadata": {},
     "output_type": "execute_result"
    }
   ],
   "source": [
    "pred[pred['true'] != pred['predict']].shape"
   ]
  },
  {
   "cell_type": "code",
   "execution_count": 39,
   "id": "157e2824",
   "metadata": {},
   "outputs": [
    {
     "data": {
      "text/html": [
       "<div>\n",
       "<style scoped>\n",
       "    .dataframe tbody tr th:only-of-type {\n",
       "        vertical-align: middle;\n",
       "    }\n",
       "\n",
       "    .dataframe tbody tr th {\n",
       "        vertical-align: top;\n",
       "    }\n",
       "\n",
       "    .dataframe thead th {\n",
       "        text-align: right;\n",
       "    }\n",
       "</style>\n",
       "<table border=\"1\" class=\"dataframe\">\n",
       "  <thead>\n",
       "    <tr style=\"text-align: right;\">\n",
       "      <th></th>\n",
       "      <th>cor_pred</th>\n",
       "      <th>axl_pred</th>\n",
       "      <th>sag_pred</th>\n",
       "      <th>mean</th>\n",
       "      <th>predict</th>\n",
       "      <th>true</th>\n",
       "    </tr>\n",
       "  </thead>\n",
       "  <tbody>\n",
       "    <tr>\n",
       "      <th>5</th>\n",
       "      <td>0.492036</td>\n",
       "      <td>0.649747</td>\n",
       "      <td>0.575552</td>\n",
       "      <td>0.572445</td>\n",
       "      <td>1</td>\n",
       "      <td>0</td>\n",
       "    </tr>\n",
       "    <tr>\n",
       "      <th>42</th>\n",
       "      <td>0.310065</td>\n",
       "      <td>0.368962</td>\n",
       "      <td>0.076817</td>\n",
       "      <td>0.251948</td>\n",
       "      <td>0</td>\n",
       "      <td>1</td>\n",
       "    </tr>\n",
       "    <tr>\n",
       "      <th>43</th>\n",
       "      <td>0.292898</td>\n",
       "      <td>0.339959</td>\n",
       "      <td>0.528897</td>\n",
       "      <td>0.387251</td>\n",
       "      <td>0</td>\n",
       "      <td>1</td>\n",
       "    </tr>\n",
       "    <tr>\n",
       "      <th>44</th>\n",
       "      <td>0.343943</td>\n",
       "      <td>0.392569</td>\n",
       "      <td>0.447636</td>\n",
       "      <td>0.394716</td>\n",
       "      <td>0</td>\n",
       "      <td>1</td>\n",
       "    </tr>\n",
       "    <tr>\n",
       "      <th>46</th>\n",
       "      <td>0.212257</td>\n",
       "      <td>0.347506</td>\n",
       "      <td>0.557880</td>\n",
       "      <td>0.372548</td>\n",
       "      <td>0</td>\n",
       "      <td>1</td>\n",
       "    </tr>\n",
       "    <tr>\n",
       "      <th>47</th>\n",
       "      <td>0.433285</td>\n",
       "      <td>0.377407</td>\n",
       "      <td>0.819018</td>\n",
       "      <td>0.543237</td>\n",
       "      <td>1</td>\n",
       "      <td>0</td>\n",
       "    </tr>\n",
       "    <tr>\n",
       "      <th>53</th>\n",
       "      <td>0.491411</td>\n",
       "      <td>0.750903</td>\n",
       "      <td>0.390348</td>\n",
       "      <td>0.544221</td>\n",
       "      <td>1</td>\n",
       "      <td>0</td>\n",
       "    </tr>\n",
       "    <tr>\n",
       "      <th>56</th>\n",
       "      <td>0.278539</td>\n",
       "      <td>0.377082</td>\n",
       "      <td>0.837904</td>\n",
       "      <td>0.497842</td>\n",
       "      <td>0</td>\n",
       "      <td>1</td>\n",
       "    </tr>\n",
       "    <tr>\n",
       "      <th>57</th>\n",
       "      <td>0.472573</td>\n",
       "      <td>0.483126</td>\n",
       "      <td>0.711082</td>\n",
       "      <td>0.555594</td>\n",
       "      <td>1</td>\n",
       "      <td>0</td>\n",
       "    </tr>\n",
       "    <tr>\n",
       "      <th>58</th>\n",
       "      <td>0.256544</td>\n",
       "      <td>0.308784</td>\n",
       "      <td>0.678647</td>\n",
       "      <td>0.414658</td>\n",
       "      <td>0</td>\n",
       "      <td>1</td>\n",
       "    </tr>\n",
       "    <tr>\n",
       "      <th>61</th>\n",
       "      <td>0.327965</td>\n",
       "      <td>0.337918</td>\n",
       "      <td>0.530640</td>\n",
       "      <td>0.398841</td>\n",
       "      <td>0</td>\n",
       "      <td>1</td>\n",
       "    </tr>\n",
       "    <tr>\n",
       "      <th>62</th>\n",
       "      <td>0.440673</td>\n",
       "      <td>0.608727</td>\n",
       "      <td>0.248757</td>\n",
       "      <td>0.432719</td>\n",
       "      <td>0</td>\n",
       "      <td>1</td>\n",
       "    </tr>\n",
       "    <tr>\n",
       "      <th>64</th>\n",
       "      <td>0.406694</td>\n",
       "      <td>0.482005</td>\n",
       "      <td>0.499109</td>\n",
       "      <td>0.462603</td>\n",
       "      <td>0</td>\n",
       "      <td>1</td>\n",
       "    </tr>\n",
       "    <tr>\n",
       "      <th>65</th>\n",
       "      <td>0.262811</td>\n",
       "      <td>0.410473</td>\n",
       "      <td>0.332524</td>\n",
       "      <td>0.335269</td>\n",
       "      <td>0</td>\n",
       "      <td>1</td>\n",
       "    </tr>\n",
       "    <tr>\n",
       "      <th>67</th>\n",
       "      <td>0.107164</td>\n",
       "      <td>0.223340</td>\n",
       "      <td>0.075663</td>\n",
       "      <td>0.135389</td>\n",
       "      <td>0</td>\n",
       "      <td>1</td>\n",
       "    </tr>\n",
       "    <tr>\n",
       "      <th>69</th>\n",
       "      <td>0.216882</td>\n",
       "      <td>0.398191</td>\n",
       "      <td>0.488236</td>\n",
       "      <td>0.367769</td>\n",
       "      <td>0</td>\n",
       "      <td>1</td>\n",
       "    </tr>\n",
       "    <tr>\n",
       "      <th>71</th>\n",
       "      <td>0.323257</td>\n",
       "      <td>0.385306</td>\n",
       "      <td>0.624076</td>\n",
       "      <td>0.444213</td>\n",
       "      <td>0</td>\n",
       "      <td>1</td>\n",
       "    </tr>\n",
       "    <tr>\n",
       "      <th>72</th>\n",
       "      <td>0.315524</td>\n",
       "      <td>0.406839</td>\n",
       "      <td>0.265071</td>\n",
       "      <td>0.329145</td>\n",
       "      <td>0</td>\n",
       "      <td>1</td>\n",
       "    </tr>\n",
       "    <tr>\n",
       "      <th>74</th>\n",
       "      <td>0.468434</td>\n",
       "      <td>0.391143</td>\n",
       "      <td>0.643721</td>\n",
       "      <td>0.501099</td>\n",
       "      <td>1</td>\n",
       "      <td>0</td>\n",
       "    </tr>\n",
       "    <tr>\n",
       "      <th>75</th>\n",
       "      <td>0.308222</td>\n",
       "      <td>0.531866</td>\n",
       "      <td>0.219871</td>\n",
       "      <td>0.353319</td>\n",
       "      <td>0</td>\n",
       "      <td>1</td>\n",
       "    </tr>\n",
       "    <tr>\n",
       "      <th>77</th>\n",
       "      <td>0.188708</td>\n",
       "      <td>0.222734</td>\n",
       "      <td>0.101619</td>\n",
       "      <td>0.171020</td>\n",
       "      <td>0</td>\n",
       "      <td>1</td>\n",
       "    </tr>\n",
       "    <tr>\n",
       "      <th>79</th>\n",
       "      <td>0.594358</td>\n",
       "      <td>0.400424</td>\n",
       "      <td>0.507853</td>\n",
       "      <td>0.500878</td>\n",
       "      <td>1</td>\n",
       "      <td>0</td>\n",
       "    </tr>\n",
       "    <tr>\n",
       "      <th>86</th>\n",
       "      <td>0.265456</td>\n",
       "      <td>0.489893</td>\n",
       "      <td>0.711717</td>\n",
       "      <td>0.489022</td>\n",
       "      <td>0</td>\n",
       "      <td>1</td>\n",
       "    </tr>\n",
       "    <tr>\n",
       "      <th>90</th>\n",
       "      <td>0.155665</td>\n",
       "      <td>0.417458</td>\n",
       "      <td>0.375108</td>\n",
       "      <td>0.316077</td>\n",
       "      <td>0</td>\n",
       "      <td>1</td>\n",
       "    </tr>\n",
       "    <tr>\n",
       "      <th>91</th>\n",
       "      <td>0.467205</td>\n",
       "      <td>0.557003</td>\n",
       "      <td>0.313929</td>\n",
       "      <td>0.446046</td>\n",
       "      <td>0</td>\n",
       "      <td>1</td>\n",
       "    </tr>\n",
       "    <tr>\n",
       "      <th>92</th>\n",
       "      <td>0.397467</td>\n",
       "      <td>0.539167</td>\n",
       "      <td>0.327462</td>\n",
       "      <td>0.421365</td>\n",
       "      <td>0</td>\n",
       "      <td>1</td>\n",
       "    </tr>\n",
       "    <tr>\n",
       "      <th>93</th>\n",
       "      <td>0.459312</td>\n",
       "      <td>0.358096</td>\n",
       "      <td>0.637683</td>\n",
       "      <td>0.485031</td>\n",
       "      <td>0</td>\n",
       "      <td>1</td>\n",
       "    </tr>\n",
       "    <tr>\n",
       "      <th>95</th>\n",
       "      <td>0.278618</td>\n",
       "      <td>0.173740</td>\n",
       "      <td>0.260903</td>\n",
       "      <td>0.237753</td>\n",
       "      <td>0</td>\n",
       "      <td>1</td>\n",
       "    </tr>\n",
       "    <tr>\n",
       "      <th>97</th>\n",
       "      <td>0.479991</td>\n",
       "      <td>0.377954</td>\n",
       "      <td>0.197223</td>\n",
       "      <td>0.351723</td>\n",
       "      <td>0</td>\n",
       "      <td>1</td>\n",
       "    </tr>\n",
       "    <tr>\n",
       "      <th>98</th>\n",
       "      <td>0.362312</td>\n",
       "      <td>0.279158</td>\n",
       "      <td>0.394382</td>\n",
       "      <td>0.345284</td>\n",
       "      <td>0</td>\n",
       "      <td>1</td>\n",
       "    </tr>\n",
       "    <tr>\n",
       "      <th>100</th>\n",
       "      <td>0.605578</td>\n",
       "      <td>0.582161</td>\n",
       "      <td>0.105680</td>\n",
       "      <td>0.431139</td>\n",
       "      <td>0</td>\n",
       "      <td>1</td>\n",
       "    </tr>\n",
       "    <tr>\n",
       "      <th>104</th>\n",
       "      <td>0.171591</td>\n",
       "      <td>0.264003</td>\n",
       "      <td>0.567515</td>\n",
       "      <td>0.334370</td>\n",
       "      <td>0</td>\n",
       "      <td>1</td>\n",
       "    </tr>\n",
       "    <tr>\n",
       "      <th>105</th>\n",
       "      <td>0.488118</td>\n",
       "      <td>0.444428</td>\n",
       "      <td>0.493237</td>\n",
       "      <td>0.475261</td>\n",
       "      <td>0</td>\n",
       "      <td>1</td>\n",
       "    </tr>\n",
       "    <tr>\n",
       "      <th>106</th>\n",
       "      <td>0.215351</td>\n",
       "      <td>0.340384</td>\n",
       "      <td>0.418072</td>\n",
       "      <td>0.324602</td>\n",
       "      <td>0</td>\n",
       "      <td>1</td>\n",
       "    </tr>\n",
       "    <tr>\n",
       "      <th>107</th>\n",
       "      <td>0.333516</td>\n",
       "      <td>0.322536</td>\n",
       "      <td>0.647006</td>\n",
       "      <td>0.434353</td>\n",
       "      <td>0</td>\n",
       "      <td>1</td>\n",
       "    </tr>\n",
       "    <tr>\n",
       "      <th>108</th>\n",
       "      <td>0.315315</td>\n",
       "      <td>0.298341</td>\n",
       "      <td>0.398558</td>\n",
       "      <td>0.337405</td>\n",
       "      <td>0</td>\n",
       "      <td>1</td>\n",
       "    </tr>\n",
       "    <tr>\n",
       "      <th>110</th>\n",
       "      <td>0.391614</td>\n",
       "      <td>0.473940</td>\n",
       "      <td>0.317998</td>\n",
       "      <td>0.394517</td>\n",
       "      <td>0</td>\n",
       "      <td>1</td>\n",
       "    </tr>\n",
       "    <tr>\n",
       "      <th>111</th>\n",
       "      <td>0.332735</td>\n",
       "      <td>0.294893</td>\n",
       "      <td>0.152835</td>\n",
       "      <td>0.260154</td>\n",
       "      <td>0</td>\n",
       "      <td>1</td>\n",
       "    </tr>\n",
       "    <tr>\n",
       "      <th>112</th>\n",
       "      <td>0.379733</td>\n",
       "      <td>0.471892</td>\n",
       "      <td>0.372755</td>\n",
       "      <td>0.408126</td>\n",
       "      <td>0</td>\n",
       "      <td>1</td>\n",
       "    </tr>\n",
       "    <tr>\n",
       "      <th>113</th>\n",
       "      <td>0.414680</td>\n",
       "      <td>0.435252</td>\n",
       "      <td>0.546072</td>\n",
       "      <td>0.465335</td>\n",
       "      <td>0</td>\n",
       "      <td>1</td>\n",
       "    </tr>\n",
       "    <tr>\n",
       "      <th>114</th>\n",
       "      <td>0.432965</td>\n",
       "      <td>0.345740</td>\n",
       "      <td>0.337533</td>\n",
       "      <td>0.372079</td>\n",
       "      <td>0</td>\n",
       "      <td>1</td>\n",
       "    </tr>\n",
       "    <tr>\n",
       "      <th>115</th>\n",
       "      <td>0.459244</td>\n",
       "      <td>0.335710</td>\n",
       "      <td>0.130147</td>\n",
       "      <td>0.308367</td>\n",
       "      <td>0</td>\n",
       "      <td>1</td>\n",
       "    </tr>\n",
       "    <tr>\n",
       "      <th>116</th>\n",
       "      <td>0.423782</td>\n",
       "      <td>0.304039</td>\n",
       "      <td>0.381936</td>\n",
       "      <td>0.369919</td>\n",
       "      <td>0</td>\n",
       "      <td>1</td>\n",
       "    </tr>\n",
       "    <tr>\n",
       "      <th>117</th>\n",
       "      <td>0.325762</td>\n",
       "      <td>0.417210</td>\n",
       "      <td>0.087409</td>\n",
       "      <td>0.276794</td>\n",
       "      <td>0</td>\n",
       "      <td>1</td>\n",
       "    </tr>\n",
       "    <tr>\n",
       "      <th>118</th>\n",
       "      <td>0.330118</td>\n",
       "      <td>0.368576</td>\n",
       "      <td>0.397131</td>\n",
       "      <td>0.365275</td>\n",
       "      <td>0</td>\n",
       "      <td>1</td>\n",
       "    </tr>\n",
       "    <tr>\n",
       "      <th>119</th>\n",
       "      <td>0.253275</td>\n",
       "      <td>0.220377</td>\n",
       "      <td>0.063213</td>\n",
       "      <td>0.178955</td>\n",
       "      <td>0</td>\n",
       "      <td>1</td>\n",
       "    </tr>\n",
       "  </tbody>\n",
       "</table>\n",
       "</div>"
      ],
      "text/plain": [
       "     cor_pred  axl_pred  sag_pred      mean  predict  true\n",
       "5    0.492036  0.649747  0.575552  0.572445        1     0\n",
       "42   0.310065  0.368962  0.076817  0.251948        0     1\n",
       "43   0.292898  0.339959  0.528897  0.387251        0     1\n",
       "44   0.343943  0.392569  0.447636  0.394716        0     1\n",
       "46   0.212257  0.347506  0.557880  0.372548        0     1\n",
       "47   0.433285  0.377407  0.819018  0.543237        1     0\n",
       "53   0.491411  0.750903  0.390348  0.544221        1     0\n",
       "56   0.278539  0.377082  0.837904  0.497842        0     1\n",
       "57   0.472573  0.483126  0.711082  0.555594        1     0\n",
       "58   0.256544  0.308784  0.678647  0.414658        0     1\n",
       "61   0.327965  0.337918  0.530640  0.398841        0     1\n",
       "62   0.440673  0.608727  0.248757  0.432719        0     1\n",
       "64   0.406694  0.482005  0.499109  0.462603        0     1\n",
       "65   0.262811  0.410473  0.332524  0.335269        0     1\n",
       "67   0.107164  0.223340  0.075663  0.135389        0     1\n",
       "69   0.216882  0.398191  0.488236  0.367769        0     1\n",
       "71   0.323257  0.385306  0.624076  0.444213        0     1\n",
       "72   0.315524  0.406839  0.265071  0.329145        0     1\n",
       "74   0.468434  0.391143  0.643721  0.501099        1     0\n",
       "75   0.308222  0.531866  0.219871  0.353319        0     1\n",
       "77   0.188708  0.222734  0.101619  0.171020        0     1\n",
       "79   0.594358  0.400424  0.507853  0.500878        1     0\n",
       "86   0.265456  0.489893  0.711717  0.489022        0     1\n",
       "90   0.155665  0.417458  0.375108  0.316077        0     1\n",
       "91   0.467205  0.557003  0.313929  0.446046        0     1\n",
       "92   0.397467  0.539167  0.327462  0.421365        0     1\n",
       "93   0.459312  0.358096  0.637683  0.485031        0     1\n",
       "95   0.278618  0.173740  0.260903  0.237753        0     1\n",
       "97   0.479991  0.377954  0.197223  0.351723        0     1\n",
       "98   0.362312  0.279158  0.394382  0.345284        0     1\n",
       "100  0.605578  0.582161  0.105680  0.431139        0     1\n",
       "104  0.171591  0.264003  0.567515  0.334370        0     1\n",
       "105  0.488118  0.444428  0.493237  0.475261        0     1\n",
       "106  0.215351  0.340384  0.418072  0.324602        0     1\n",
       "107  0.333516  0.322536  0.647006  0.434353        0     1\n",
       "108  0.315315  0.298341  0.398558  0.337405        0     1\n",
       "110  0.391614  0.473940  0.317998  0.394517        0     1\n",
       "111  0.332735  0.294893  0.152835  0.260154        0     1\n",
       "112  0.379733  0.471892  0.372755  0.408126        0     1\n",
       "113  0.414680  0.435252  0.546072  0.465335        0     1\n",
       "114  0.432965  0.345740  0.337533  0.372079        0     1\n",
       "115  0.459244  0.335710  0.130147  0.308367        0     1\n",
       "116  0.423782  0.304039  0.381936  0.369919        0     1\n",
       "117  0.325762  0.417210  0.087409  0.276794        0     1\n",
       "118  0.330118  0.368576  0.397131  0.365275        0     1\n",
       "119  0.253275  0.220377  0.063213  0.178955        0     1"
      ]
     },
     "execution_count": 39,
     "metadata": {},
     "output_type": "execute_result"
    }
   ],
   "source": [
    "pred[pred['true'] != pred['predict']]"
   ]
  },
  {
   "cell_type": "markdown",
   "id": "0f54b863",
   "metadata": {},
   "source": [
    "**export results to csv**"
   ]
  },
  {
   "cell_type": "code",
   "execution_count": 40,
   "id": "b07d6c55",
   "metadata": {},
   "outputs": [],
   "source": [
    "pred.to_csv('../data/pred_men_results.csv')"
   ]
  },
  {
   "cell_type": "code",
   "execution_count": null,
   "id": "d44efe11",
   "metadata": {},
   "outputs": [],
   "source": []
  }
 ],
 "metadata": {
  "kernelspec": {
   "display_name": "Python 3",
   "language": "python",
   "name": "python3"
  },
  "language_info": {
   "codemirror_mode": {
    "name": "ipython",
    "version": 3
   },
   "file_extension": ".py",
   "mimetype": "text/x-python",
   "name": "python",
   "nbconvert_exporter": "python",
   "pygments_lexer": "ipython3",
   "version": "3.8.8"
  },
  "toc": {
   "base_numbering": 1,
   "nav_menu": {},
   "number_sections": true,
   "sideBar": true,
   "skip_h1_title": false,
   "title_cell": "Table of Contents",
   "title_sidebar": "Contents",
   "toc_cell": false,
   "toc_position": {
    "height": "747px",
    "left": "279px",
    "top": "323.133px",
    "width": "384px"
   },
   "toc_section_display": true,
   "toc_window_display": true
  }
 },
 "nbformat": 4,
 "nbformat_minor": 5
}
